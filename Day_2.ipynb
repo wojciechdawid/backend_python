{
 "cells": [
  {
   "cell_type": "code",
   "execution_count": 1,
   "id": "d17c8a73-b906-41a8-98a5-ab6cffb49071",
   "metadata": {},
   "outputs": [],
   "source": [
    "a = True\n",
    "b = 1 == 1"
   ]
  },
  {
   "cell_type": "code",
   "execution_count": 2,
   "id": "2c5835b0-a618-4be7-99ec-4c470d97d593",
   "metadata": {},
   "outputs": [
    {
     "data": {
      "text/plain": [
       "True"
      ]
     },
     "execution_count": 2,
     "metadata": {},
     "output_type": "execute_result"
    }
   ],
   "source": [
    "a == b"
   ]
  },
  {
   "cell_type": "code",
   "execution_count": 3,
   "id": "7da2a690-7934-48f6-bfae-83857f047416",
   "metadata": {},
   "outputs": [
    {
     "data": {
      "text/plain": [
       "True"
      ]
     },
     "execution_count": 3,
     "metadata": {},
     "output_type": "execute_result"
    }
   ],
   "source": [
    "a is b"
   ]
  },
  {
   "cell_type": "code",
   "execution_count": 4,
   "id": "939ce88d-a88a-4012-83b0-ab6fde79951e",
   "metadata": {},
   "outputs": [
    {
     "data": {
      "text/plain": [
       "140703418747456"
      ]
     },
     "execution_count": 4,
     "metadata": {},
     "output_type": "execute_result"
    }
   ],
   "source": [
    "id(True)"
   ]
  },
  {
   "cell_type": "code",
   "execution_count": 5,
   "id": "da378721-efd4-4ce8-854b-8d5dc32d6eff",
   "metadata": {},
   "outputs": [],
   "source": [
    "c = 1\n",
    "d = 0"
   ]
  },
  {
   "cell_type": "code",
   "execution_count": 6,
   "id": "2504784f-840c-4dbc-943b-515c98065407",
   "metadata": {},
   "outputs": [
    {
     "data": {
      "text/plain": [
       "True"
      ]
     },
     "execution_count": 6,
     "metadata": {},
     "output_type": "execute_result"
    }
   ],
   "source": [
    "c == True"
   ]
  },
  {
   "cell_type": "code",
   "execution_count": 7,
   "id": "3ff11e75-0e5b-42bf-b2b0-de3831360514",
   "metadata": {},
   "outputs": [
    {
     "data": {
      "text/plain": [
       "False"
      ]
     },
     "execution_count": 7,
     "metadata": {},
     "output_type": "execute_result"
    }
   ],
   "source": [
    "c is True"
   ]
  },
  {
   "cell_type": "code",
   "execution_count": 8,
   "id": "ff24899f-ba80-44df-a24c-accd27d5971c",
   "metadata": {},
   "outputs": [
    {
     "data": {
      "text/plain": [
       "True"
      ]
     },
     "execution_count": 8,
     "metadata": {},
     "output_type": "execute_result"
    }
   ],
   "source": [
    "d == False"
   ]
  },
  {
   "cell_type": "code",
   "execution_count": 9,
   "id": "7f4f60df-6d8e-4528-b5ab-030d15012cc6",
   "metadata": {},
   "outputs": [
    {
     "data": {
      "text/plain": [
       "False"
      ]
     },
     "execution_count": 9,
     "metadata": {},
     "output_type": "execute_result"
    }
   ],
   "source": [
    "d is False"
   ]
  },
  {
   "cell_type": "markdown",
   "id": "4babbe56-0d30-4bc6-84ac-dfa81e62c217",
   "metadata": {},
   "source": [
    "### Ćw. 2.1.6.9"
   ]
  },
  {
   "cell_type": "code",
   "execution_count": 13,
   "id": "76cca95e-b144-4520-99f7-b5fa633dd8d9",
   "metadata": {},
   "outputs": [],
   "source": [
    "def filtr(text: str) -> bool:\n",
    "    return not (\"PROMOCJA\" in text.upper() or len(text) < 5 or text.count(\"!\") > 3)        "
   ]
  },
  {
   "cell_type": "code",
   "execution_count": 19,
   "id": "fe5380b6-39b8-4d39-b31b-5ed93528d6aa",
   "metadata": {},
   "outputs": [
    {
     "data": {
      "text/plain": [
       "True"
      ]
     },
     "execution_count": 19,
     "metadata": {},
     "output_type": "execute_result"
    }
   ],
   "source": [
    "text = 'Promocj jest największa spośród wszystkich!!!'\n",
    "filtr(text)"
   ]
  },
  {
   "cell_type": "code",
   "execution_count": 20,
   "id": "66452435-bb0b-4cb8-940b-6cbad4b74cda",
   "metadata": {},
   "outputs": [
    {
     "data": {
      "text/plain": [
       "{'text': str, 'return': bool}"
      ]
     },
     "execution_count": 20,
     "metadata": {},
     "output_type": "execute_result"
    }
   ],
   "source": [
    "filtr.__annotations__"
   ]
  },
  {
   "cell_type": "markdown",
   "id": "df2431d1-827c-4d94-927b-65e8a6d3f455",
   "metadata": {},
   "source": [
    "######"
   ]
  },
  {
   "cell_type": "code",
   "execution_count": 28,
   "id": "fd8c16fa-73ce-4788-b8a7-883f4feb77a6",
   "metadata": {},
   "outputs": [
    {
     "data": {
      "text/plain": [
       "'coffee'"
      ]
     },
     "execution_count": 28,
     "metadata": {},
     "output_type": "execute_result"
    }
   ],
   "source": [
    "hex(12648430)[2:].replace('0', 'o')"
   ]
  },
  {
   "cell_type": "code",
   "execution_count": 23,
   "id": "aa522a98-67f9-46c0-9df5-b2da76a6fa9f",
   "metadata": {},
   "outputs": [
    {
     "data": {
      "text/plain": [
       "12648430"
      ]
     },
     "execution_count": 23,
     "metadata": {},
     "output_type": "execute_result"
    }
   ],
   "source": [
    "int('c0ffee', 16)"
   ]
  },
  {
   "cell_type": "markdown",
   "id": "f657088e-f240-4b41-a2d2-54be3c9ad98a",
   "metadata": {},
   "source": [
    "#### Ćw. 2.1.7.6"
   ]
  },
  {
   "cell_type": "code",
   "execution_count": 30,
   "id": "b28792b6-fefb-4ef0-8d31-4056dc4bfc96",
   "metadata": {},
   "outputs": [
    {
     "data": {
      "text/plain": [
       "341"
      ]
     },
     "execution_count": 30,
     "metadata": {},
     "output_type": "execute_result"
    }
   ],
   "source": [
    "int('101010101', 2)"
   ]
  },
  {
   "cell_type": "code",
   "execution_count": 31,
   "id": "139860f0-d73a-4f04-9b2d-aa6414a09495",
   "metadata": {},
   "outputs": [
    {
     "data": {
      "text/plain": [
       "74565"
      ]
     },
     "execution_count": 31,
     "metadata": {},
     "output_type": "execute_result"
    }
   ],
   "source": [
    "int('12345', 16)"
   ]
  },
  {
   "cell_type": "code",
   "execution_count": 32,
   "id": "35ff9627-98be-4985-9c65-2e2da257fa75",
   "metadata": {},
   "outputs": [
    {
     "data": {
      "text/plain": [
       "'0b1111101'"
      ]
     },
     "execution_count": 32,
     "metadata": {},
     "output_type": "execute_result"
    }
   ],
   "source": [
    "bin(125)"
   ]
  },
  {
   "cell_type": "code",
   "execution_count": 33,
   "id": "944733cb-af6a-48df-b980-c0fa2f45d56b",
   "metadata": {},
   "outputs": [
    {
     "data": {
      "text/plain": [
       "16777215"
      ]
     },
     "execution_count": 33,
     "metadata": {},
     "output_type": "execute_result"
    }
   ],
   "source": [
    "int('ffffff', 16)"
   ]
  },
  {
   "cell_type": "code",
   "execution_count": 35,
   "id": "5e0cf379-7115-4bf7-8d28-94858f58a11c",
   "metadata": {},
   "outputs": [
    {
     "data": {
      "text/plain": [
       "Decimal('0.1000000000000000055511151231257827021181583404541015625')"
      ]
     },
     "execution_count": 35,
     "metadata": {},
     "output_type": "execute_result"
    }
   ],
   "source": [
    "from decimal import Decimal\n",
    "Decimal(0.1)"
   ]
  },
  {
   "cell_type": "markdown",
   "id": "a4ed75d5-f8e3-496a-837c-725e82c04f0c",
   "metadata": {},
   "source": [
    "### Ćw. 2.1.10.7"
   ]
  },
  {
   "cell_type": "code",
   "execution_count": 39,
   "id": "e9d6a59c-3b49-46b5-823d-915ef5300202",
   "metadata": {},
   "outputs": [],
   "source": [
    "napis = 'piesek'"
   ]
  },
  {
   "cell_type": "code",
   "execution_count": 46,
   "id": "2c328691-4d44-4a60-8522-56cade6a688e",
   "metadata": {},
   "outputs": [],
   "source": [
    "b = napis.encode('utf-8')\n",
    "a = napis.encode('ascii')\n",
    "u = napis.encode('utf-16')"
   ]
  },
  {
   "cell_type": "code",
   "execution_count": 47,
   "id": "e8344d5c-1987-46ba-a6a2-7565f98d98ca",
   "metadata": {},
   "outputs": [
    {
     "data": {
      "text/plain": [
       "(b'piesek', b'piesek', b'\\xff\\xfep\\x00i\\x00e\\x00s\\x00e\\x00k\\x00')"
      ]
     },
     "execution_count": 47,
     "metadata": {},
     "output_type": "execute_result"
    }
   ],
   "source": [
    "b, a, u"
   ]
  },
  {
   "cell_type": "code",
   "execution_count": 50,
   "id": "12dcd0b7-1ac4-432e-9280-3c3ebc66dcbb",
   "metadata": {},
   "outputs": [],
   "source": [
    "s1 = b.decode('utf-8')\n",
    "s2 = a.decode('ascii')\n",
    "s3 = u.decode('utf-16')"
   ]
  },
  {
   "cell_type": "code",
   "execution_count": 51,
   "id": "984fc61f-4416-460f-85c0-608366ea478e",
   "metadata": {},
   "outputs": [
    {
     "data": {
      "text/plain": [
       "('piesek', 'piesek', 'piesek')"
      ]
     },
     "execution_count": 51,
     "metadata": {},
     "output_type": "execute_result"
    }
   ],
   "source": [
    "s1, s2, s3"
   ]
  },
  {
   "cell_type": "markdown",
   "id": "e9d98217-2db9-402c-92e8-c189d400d017",
   "metadata": {},
   "source": [
    "### Ćw. 2.1.11.1"
   ]
  },
  {
   "cell_type": "code",
   "execution_count": 63,
   "id": "ef0608db-ca6d-4f0e-8cd6-150a7a69faa0",
   "metadata": {},
   "outputs": [],
   "source": [
    "def check_neg(lista: list):\n",
    "    for i in lista:\n",
    "        if i < 0:\n",
    "            return i"
   ]
  },
  {
   "cell_type": "code",
   "execution_count": 66,
   "id": "2fc4552b-ea18-428b-a5b3-942ef3197bdf",
   "metadata": {},
   "outputs": [
    {
     "name": "stdout",
     "output_type": "stream",
     "text": [
      "None\n"
     ]
    }
   ],
   "source": [
    "lista = [1, 4, 6, 3]\n",
    "print(check_neg(lista))"
   ]
  },
  {
   "cell_type": "markdown",
   "id": "2e099dcf-2629-4b5d-92d7-bde3ad76b418",
   "metadata": {},
   "source": [
    "### Ćw. 2.1.11.2"
   ]
  },
  {
   "cell_type": "code",
   "execution_count": 1,
   "id": "f3786acf-ed63-4d8b-a529-b71ab4195d96",
   "metadata": {},
   "outputs": [],
   "source": [
    "def get_id(lista):\n",
    "    id_min = lista.index(min(lista))\n",
    "    id_max = lista.index(max(lista))\n",
    "    return id_min, id_max"
   ]
  },
  {
   "cell_type": "code",
   "execution_count": 6,
   "id": "2b976206-9ded-4a1b-9f75-bac72be6f240",
   "metadata": {},
   "outputs": [],
   "source": [
    "def get_id_foot(lista):\n",
    "    n_max = lista[0]\n",
    "    n_min = lista[0]\n",
    "    for i in lista[1:]:\n",
    "        if i > n_max:\n",
    "            n_max = i\n",
    "        if i < n_min:\n",
    "            n_min = i\n",
    "    return lista.index(n_min), lista.index(n_max)\n",
    "        "
   ]
  },
  {
   "cell_type": "code",
   "execution_count": 7,
   "id": "6c8ee7a8-8d8c-4452-be19-3db6a2620721",
   "metadata": {},
   "outputs": [
    {
     "data": {
      "text/plain": [
       "(0, 2)"
      ]
     },
     "execution_count": 7,
     "metadata": {},
     "output_type": "execute_result"
    }
   ],
   "source": [
    "lista = [-86, 4, 7, 3]\n",
    "get_id_foot(lista)"
   ]
  },
  {
   "cell_type": "markdown",
   "id": "a2388e22-3a9b-48e4-83e5-d9324a2d8d56",
   "metadata": {},
   "source": [
    "### Ćwiczenie_next"
   ]
  },
  {
   "cell_type": "code",
   "execution_count": 73,
   "id": "6fa782c3-dccb-4518-926d-51b4131df7c9",
   "metadata": {},
   "outputs": [],
   "source": [
    "def change_id(lista):\n",
    "    id_min = lista.index(min(lista))\n",
    "    id_max = lista.index(max(lista))\n",
    "    lista[id_max], lista[id_min] = lista[id_min], lista[id_max]\n",
    "    return lista"
   ]
  },
  {
   "cell_type": "code",
   "execution_count": 75,
   "id": "118ac8ef-08b1-4bf8-9b42-76d12aadbc00",
   "metadata": {},
   "outputs": [
    {
     "data": {
      "text/plain": [
       "[3, 4, 7, 16]"
      ]
     },
     "execution_count": 75,
     "metadata": {},
     "output_type": "execute_result"
    }
   ],
   "source": [
    "lista = [16, 4, 7, 3]\n",
    "change_id(lista)"
   ]
  },
  {
   "cell_type": "markdown",
   "id": "dac9ef00",
   "metadata": {},
   "source": [
    "#### Ćwiczenie tuple"
   ]
  },
  {
   "cell_type": "code",
   "execution_count": 9,
   "id": "ac935483",
   "metadata": {},
   "outputs": [
    {
     "data": {
      "text/plain": [
       "2"
      ]
     },
     "execution_count": 9,
     "metadata": {},
     "output_type": "execute_result"
    }
   ],
   "source": [
    "lista = [2, 3, 1, 25, 6, 1, 232 ,34, 1, 232]\n",
    "lista.index(1, 2)"
   ]
  },
  {
   "cell_type": "code",
   "execution_count": 15,
   "id": "edabd0b4",
   "metadata": {},
   "outputs": [],
   "source": [
    "lista = [2, 3, 1, 25, 6, 1, 232 ,34, 1, 232]\n",
    "\n",
    "def find_idx(l, v):\n",
    "    out = []\n",
    "    idx = 0\n",
    "    while True:\n",
    "        try:\n",
    "            idx = lista.index(v, idx)\n",
    "            out.append(idx)\n",
    "            idx += 1\n",
    "        except:\n",
    "            break\n",
    "    return tuple(out)\n"
   ]
  },
  {
   "cell_type": "code",
   "execution_count": 16,
   "id": "a84704c6",
   "metadata": {},
   "outputs": [],
   "source": [
    "assert find_idx(lista, 1) == (2, 5, 8)"
   ]
  },
  {
   "cell_type": "code",
   "execution_count": 20,
   "id": "40d2925e",
   "metadata": {},
   "outputs": [
    {
     "data": {
      "text/plain": [
       "()"
      ]
     },
     "execution_count": 20,
     "metadata": {},
     "output_type": "execute_result"
    }
   ],
   "source": [
    "find_idx(lista, -232)"
   ]
  },
  {
   "cell_type": "markdown",
   "id": "7d36707a",
   "metadata": {},
   "source": [
    "#### Ćwiczenie usun parzyste"
   ]
  },
  {
   "cell_type": "code",
   "execution_count": 38,
   "id": "74a164a8",
   "metadata": {},
   "outputs": [],
   "source": [
    "def usun_parzyste(l: list) -> None:\n",
    "    idx = []\n",
    "    for i, v in enumerate(l):\n",
    "        if v % 2 == 0:\n",
    "            idx.append(i)\n",
    "    for i in sorted(idx, reverse=True):\n",
    "        del l[i]"
   ]
  },
  {
   "cell_type": "code",
   "execution_count": 39,
   "id": "06bf508b",
   "metadata": {},
   "outputs": [
    {
     "data": {
      "text/plain": [
       "[1, 3, 5, 7]"
      ]
     },
     "execution_count": 39,
     "metadata": {},
     "output_type": "execute_result"
    }
   ],
   "source": [
    "lista = [1, 2, 6, 3, 4, 5, 6, 7]\n",
    "usun_parzyste(lista)\n",
    "lista"
   ]
  },
  {
   "cell_type": "code",
   "execution_count": 40,
   "id": "700231b6",
   "metadata": {},
   "outputs": [],
   "source": [
    "assert usun_parzyste(lista) is None\n",
    "assert lista == [1, 3, 5, 7]"
   ]
  },
  {
   "cell_type": "markdown",
   "id": "92866cb6",
   "metadata": {},
   "source": [
    "#### Ćwiczenie 3.7.6"
   ]
  },
  {
   "cell_type": "code",
   "execution_count": 62,
   "id": "a4564448",
   "metadata": {},
   "outputs": [],
   "source": [
    "osoby = [\n",
    "    {'imie': 'Anna', 'wiek': 28, 'zawod': 'inżynier'},\n",
    "    {'imie': 'Tomasz', 'wiek': 35, 'zawod': 'lekarz'},\n",
    "    {'imie': 'Karolina', 'wiek': 40, 'zawod': 'nauczyciel'},\n",
    "    {'imie': 'Karolina', 'wiek': 40, 'zawod': 'nauczyciel'},\n",
    "    {'imie': 'Karolina', 'wiek': 40, 'zawod': 'nauczyciel'},\n",
    "    {'imie': 'Piotr', 'wiek': 32, 'zawod': 'programista'}\n",
    "]"
   ]
  },
  {
   "cell_type": "code",
   "execution_count": 63,
   "id": "6e9f44e4",
   "metadata": {},
   "outputs": [],
   "source": [
    "def create_dict_from_list(l: list) -> dict:\n",
    "    slownik_osoby = dict()\n",
    "    zawody = set([i['zawod'] for i in osoby])\n",
    "    for z in zawody:\n",
    "        osoby_zawod = [o['imie'] for o in osoby if o['zawod'] == z]\n",
    "        slownik_osoby.update({z:osoby_zawod})\n",
    "    return slownik_osoby"
   ]
  },
  {
   "cell_type": "code",
   "execution_count": 64,
   "id": "d0ac8014",
   "metadata": {},
   "outputs": [
    {
     "data": {
      "text/plain": [
       "{'inżynier': ['Anna'],\n",
       " 'nauczyciel': ['Karolina', 'Karolina', 'Karolina'],\n",
       " 'lekarz': ['Tomasz'],\n",
       " 'programista': ['Piotr']}"
      ]
     },
     "execution_count": 64,
     "metadata": {},
     "output_type": "execute_result"
    }
   ],
   "source": [
    "create_dict_from_list(osoby)"
   ]
  },
  {
   "cell_type": "markdown",
   "id": "a155d140",
   "metadata": {},
   "source": [
    "#### Ćwiczenie 3.7.7"
   ]
  },
  {
   "cell_type": "code",
   "execution_count": 65,
   "id": "044015e3",
   "metadata": {},
   "outputs": [],
   "source": [
    "zakupy = [\"jajka\", \"mleko\", \"masło\", \"jajka\", \"chleb\", \"masło\", \"ser\", \"jajka\"]"
   ]
  },
  {
   "cell_type": "code",
   "execution_count": 67,
   "id": "03f56a44",
   "metadata": {},
   "outputs": [
    {
     "data": {
      "text/plain": [
       "{'chleb', 'jajka', 'masło', 'mleko', 'ser'}"
      ]
     },
     "execution_count": 67,
     "metadata": {},
     "output_type": "execute_result"
    }
   ],
   "source": [
    "zbior = set(zakupy)\n",
    "zbior"
   ]
  },
  {
   "cell_type": "code",
   "execution_count": 69,
   "id": "fa2914d9",
   "metadata": {},
   "outputs": [
    {
     "data": {
      "text/plain": [
       "{'jajka': 3, 'mleko': 1, 'masło': 2, 'chleb': 1, 'ser': 1}"
      ]
     },
     "execution_count": 69,
     "metadata": {},
     "output_type": "execute_result"
    }
   ],
   "source": [
    "from collections import Counter\n",
    "dict(Counter(zakupy))"
   ]
  },
  {
   "cell_type": "markdown",
   "id": "f83f4fe8",
   "metadata": {},
   "source": [
    "#### Ćwiczenie 3.7.8\n",
    "\n",
    "Masz dane:\n",
    "\n",
    "dane = \"Anna 25, Tomasz 30, Ewa 28, Jan 35\"\n",
    "Napisz funkcję, która przekształci ten tekst w słownik, gdzie kluczem będzie imię, a wartością wiek. Następnie, na podstawie tego słownika, utwórz listę tylko tych osób, które mają więcej niż 30 lat."
   ]
  },
  {
   "cell_type": "code",
   "execution_count": 70,
   "id": "eff92685",
   "metadata": {},
   "outputs": [],
   "source": [
    "dane = \"Anna 25, Tomasz 30, Ewa 28, Jan 35\""
   ]
  },
  {
   "cell_type": "code",
   "execution_count": 78,
   "id": "3ef40489",
   "metadata": {},
   "outputs": [],
   "source": [
    "def convert_dane(d: str) -> dict[str:int]:\n",
    "    slownik = {}\n",
    "    dane = d.split(',')\n",
    "    for i in dane:\n",
    "        row = i.split()\n",
    "        slownik.update({row[0]:row[1]})\n",
    "    return slownik"
   ]
  },
  {
   "cell_type": "code",
   "execution_count": 87,
   "id": "f1cf911c",
   "metadata": {},
   "outputs": [
    {
     "data": {
      "text/plain": [
       "{'Anna': '25', 'Tomasz': '30', 'Ewa': '28', 'Jan': '35'}"
      ]
     },
     "execution_count": 87,
     "metadata": {},
     "output_type": "execute_result"
    }
   ],
   "source": [
    "dane_dict = convert_dane(dane)\n",
    "dane_dict"
   ]
  },
  {
   "cell_type": "code",
   "execution_count": 90,
   "id": "7ec8e868",
   "metadata": {},
   "outputs": [
    {
     "data": {
      "text/plain": [
       "['Jan']"
      ]
     },
     "execution_count": 90,
     "metadata": {},
     "output_type": "execute_result"
    }
   ],
   "source": [
    "lista_osob = [k for k, v in dane_dict.items() if int(v) > 30]\n",
    "lista_osob"
   ]
  },
  {
   "cell_type": "markdown",
   "id": "7ec50c91",
   "metadata": {},
   "source": [
    "#### Generator"
   ]
  },
  {
   "cell_type": "code",
   "execution_count": 92,
   "id": "fcfc16de",
   "metadata": {},
   "outputs": [],
   "source": [
    "def inf_gen():\n",
    "    while True:\n",
    "        yield 1\n",
    "        yield 2\n",
    "        yield 3\n",
    "inf_gen = inf_gen()"
   ]
  },
  {
   "cell_type": "code",
   "execution_count": 101,
   "id": "ae104990",
   "metadata": {},
   "outputs": [
    {
     "data": {
      "text/plain": [
       "3"
      ]
     },
     "execution_count": 101,
     "metadata": {},
     "output_type": "execute_result"
    }
   ],
   "source": [
    "next(inf_gen)"
   ]
  },
  {
   "cell_type": "markdown",
   "id": "22ede134",
   "metadata": {},
   "source": [
    "#### Ćwiczenie 4.4.5"
   ]
  },
  {
   "cell_type": "code",
   "execution_count": 2,
   "id": "37692822",
   "metadata": {},
   "outputs": [],
   "source": [
    "p = 'C:\\\\Users\\\\wdawid\\\\OneDrive - Wojskowa Akademia Techniczna\\\\Programowanie_all\\\\Python\\\\Python_ALX_backend\\\\Materials\\\\products.csv'"
   ]
  },
  {
   "cell_type": "code",
   "execution_count": 3,
   "id": "72b20b23",
   "metadata": {},
   "outputs": [
    {
     "data": {
      "text/plain": [
       "{'Pieczywo': ['Chleb'], 'Nabiał': ['Mleko', 'Jajka'], 'Owoce': ['Pomarańcze']}"
      ]
     },
     "execution_count": 3,
     "metadata": {},
     "output_type": "execute_result"
    }
   ],
   "source": [
    "from collections import defaultdict\n",
    "rows = []\n",
    "with open(p, 'r') as plik:\n",
    "    for row in plik:\n",
    "        rows.append(row.split(','))\n",
    "del rows[0]\n",
    "dd = defaultdict(list)\n",
    "for r in rows:\n",
    "    dd[r[1]].append(r[0]) \n",
    "final = dict(dd)\n",
    "final"
   ]
  },
  {
   "cell_type": "code",
   "execution_count": 15,
   "id": "4ea8cf17",
   "metadata": {},
   "outputs": [],
   "source": [
    "import csv\n",
    "def filter_prods_by_price(csv_file, threshold):\n",
    "    with open(csv_file, newline='') as plik:\n",
    "        reader = csv.DictReader(plik)\n",
    "        for i in reader:\n",
    "            price = float(i['Cena'])\n",
    "            prod = i['Produkt']\n",
    "            if price > threshold:\n",
    "                yield f'Produkt powyżej {threshold} to {prod}'\n"
   ]
  },
  {
   "cell_type": "code",
   "execution_count": 16,
   "id": "1b23fc02",
   "metadata": {},
   "outputs": [
    {
     "name": "stdout",
     "output_type": "stream",
     "text": [
      "Produkt powyżej 2 to Chleb\n"
     ]
    }
   ],
   "source": [
    "generator = filter_prods_by_price(p, 2)\n",
    "for i in generator:\n",
    "    print(i)"
   ]
  },
  {
   "cell_type": "code",
   "execution_count": null,
   "id": "6ad8b6ba",
   "metadata": {},
   "outputs": [],
   "source": []
  }
 ],
 "metadata": {
  "kernelspec": {
   "display_name": "Python 3 (ipykernel)",
   "language": "python",
   "name": "python3"
  },
  "language_info": {
   "codemirror_mode": {
    "name": "ipython",
    "version": 3
   },
   "file_extension": ".py",
   "mimetype": "text/x-python",
   "name": "python",
   "nbconvert_exporter": "python",
   "pygments_lexer": "ipython3",
   "version": "3.9.16"
  }
 },
 "nbformat": 4,
 "nbformat_minor": 5
}
