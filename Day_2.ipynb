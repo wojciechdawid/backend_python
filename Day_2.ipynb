{
 "cells": [
  {
   "cell_type": "code",
   "execution_count": 1,
   "id": "d17c8a73-b906-41a8-98a5-ab6cffb49071",
   "metadata": {},
   "outputs": [],
   "source": [
    "a = True\n",
    "b = 1 == 1"
   ]
  },
  {
   "cell_type": "code",
   "execution_count": 2,
   "id": "2c5835b0-a618-4be7-99ec-4c470d97d593",
   "metadata": {},
   "outputs": [
    {
     "data": {
      "text/plain": [
       "True"
      ]
     },
     "execution_count": 2,
     "metadata": {},
     "output_type": "execute_result"
    }
   ],
   "source": [
    "a == b"
   ]
  },
  {
   "cell_type": "code",
   "execution_count": 3,
   "id": "7da2a690-7934-48f6-bfae-83857f047416",
   "metadata": {},
   "outputs": [
    {
     "data": {
      "text/plain": [
       "True"
      ]
     },
     "execution_count": 3,
     "metadata": {},
     "output_type": "execute_result"
    }
   ],
   "source": [
    "a is b"
   ]
  },
  {
   "cell_type": "code",
   "execution_count": 4,
   "id": "939ce88d-a88a-4012-83b0-ab6fde79951e",
   "metadata": {},
   "outputs": [
    {
     "data": {
      "text/plain": [
       "140703418747456"
      ]
     },
     "execution_count": 4,
     "metadata": {},
     "output_type": "execute_result"
    }
   ],
   "source": [
    "id(True)"
   ]
  },
  {
   "cell_type": "code",
   "execution_count": 5,
   "id": "da378721-efd4-4ce8-854b-8d5dc32d6eff",
   "metadata": {},
   "outputs": [],
   "source": [
    "c = 1\n",
    "d = 0"
   ]
  },
  {
   "cell_type": "code",
   "execution_count": 6,
   "id": "2504784f-840c-4dbc-943b-515c98065407",
   "metadata": {},
   "outputs": [
    {
     "data": {
      "text/plain": [
       "True"
      ]
     },
     "execution_count": 6,
     "metadata": {},
     "output_type": "execute_result"
    }
   ],
   "source": [
    "c == True"
   ]
  },
  {
   "cell_type": "code",
   "execution_count": 7,
   "id": "3ff11e75-0e5b-42bf-b2b0-de3831360514",
   "metadata": {},
   "outputs": [
    {
     "data": {
      "text/plain": [
       "False"
      ]
     },
     "execution_count": 7,
     "metadata": {},
     "output_type": "execute_result"
    }
   ],
   "source": [
    "c is True"
   ]
  },
  {
   "cell_type": "code",
   "execution_count": 8,
   "id": "ff24899f-ba80-44df-a24c-accd27d5971c",
   "metadata": {},
   "outputs": [
    {
     "data": {
      "text/plain": [
       "True"
      ]
     },
     "execution_count": 8,
     "metadata": {},
     "output_type": "execute_result"
    }
   ],
   "source": [
    "d == False"
   ]
  },
  {
   "cell_type": "code",
   "execution_count": 9,
   "id": "7f4f60df-6d8e-4528-b5ab-030d15012cc6",
   "metadata": {},
   "outputs": [
    {
     "data": {
      "text/plain": [
       "False"
      ]
     },
     "execution_count": 9,
     "metadata": {},
     "output_type": "execute_result"
    }
   ],
   "source": [
    "d is False"
   ]
  },
  {
   "cell_type": "markdown",
   "id": "4babbe56-0d30-4bc6-84ac-dfa81e62c217",
   "metadata": {},
   "source": [
    "### Ćw. 2.1.6.9"
   ]
  },
  {
   "cell_type": "code",
   "execution_count": 13,
   "id": "76cca95e-b144-4520-99f7-b5fa633dd8d9",
   "metadata": {},
   "outputs": [],
   "source": [
    "def filtr(text: str) -> bool:\n",
    "    return not (\"PROMOCJA\" in text.upper() or len(text) < 5 or text.count(\"!\") > 3)        "
   ]
  },
  {
   "cell_type": "code",
   "execution_count": 19,
   "id": "fe5380b6-39b8-4d39-b31b-5ed93528d6aa",
   "metadata": {},
   "outputs": [
    {
     "data": {
      "text/plain": [
       "True"
      ]
     },
     "execution_count": 19,
     "metadata": {},
     "output_type": "execute_result"
    }
   ],
   "source": [
    "text = 'Promocj jest największa spośród wszystkich!!!'\n",
    "filtr(text)"
   ]
  },
  {
   "cell_type": "code",
   "execution_count": 20,
   "id": "66452435-bb0b-4cb8-940b-6cbad4b74cda",
   "metadata": {},
   "outputs": [
    {
     "data": {
      "text/plain": [
       "{'text': str, 'return': bool}"
      ]
     },
     "execution_count": 20,
     "metadata": {},
     "output_type": "execute_result"
    }
   ],
   "source": [
    "filtr.__annotations__"
   ]
  },
  {
   "cell_type": "code",
   "execution_count": null,
   "id": "d53348de-310d-42b3-9ea8-3d9aecb2f12a",
   "metadata": {},
   "outputs": [],
   "source": []
  }
 ],
 "metadata": {
  "kernelspec": {
   "display_name": "Python 3 (ipykernel)",
   "language": "python",
   "name": "python3"
  },
  "language_info": {
   "codemirror_mode": {
    "name": "ipython",
    "version": 3
   },
   "file_extension": ".py",
   "mimetype": "text/x-python",
   "name": "python",
   "nbconvert_exporter": "python",
   "pygments_lexer": "ipython3",
   "version": "3.11.6"
  }
 },
 "nbformat": 4,
 "nbformat_minor": 5
}
