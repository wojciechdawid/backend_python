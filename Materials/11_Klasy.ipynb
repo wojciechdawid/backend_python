{
 "cells": [
  {
   "cell_type": "markdown",
   "id": "ddfbb06a-3168-4534-bbde-218fe6c9b9ae",
   "metadata": {},
   "source": [
    "# Klasy w Pythonie\n",
    "\n",
    "## Typy, Instancje, i Atrybuty\n",
    "\n",
    "Python, jako język programowania wieloparadygmatycznego, oferuje wsparcie dla programowania zorientowanego obiektowo (OOP). Kluczowym konceptem OOP w Pythonie są klasy, które umożliwiają organizację kodu w sposób modularny i intuicyjny. W tym artykule przyjrzymy się bliżej klasom, typom, instancjom oraz atrybutom klasy i instancji.\n",
    "\n",
    "### 1. Czym jest Klasa?\n",
    "Klasa w Pythonie to nic innego jak blueprint, czyli szablon definiujący przyszłe obiekty (instancje). Klasy zawierają zmienne (atrybuty) i funkcje (metody), które opisują stan i zachowanie obiektów klasy.\n",
    "\n",
    "Przykład definicji prostej klasy:"
   ]
  },
  {
   "cell_type": "code",
   "execution_count": 5,
   "id": "e32a84f6-42b6-48ab-8126-1b5efe63d418",
   "metadata": {},
   "outputs": [
    {
     "ename": "KeyError",
     "evalue": "'marka'",
     "output_type": "error",
     "traceback": [
      "\u001b[1;31m---------------------------------------------------------------------------\u001b[0m",
      "\u001b[1;31mKeyError\u001b[0m                                  Traceback (most recent call last)",
      "Cell \u001b[1;32mIn[5], line 12\u001b[0m\n\u001b[0;32m      7\u001b[0m opis(samochod)\n\u001b[0;32m     10\u001b[0m samochod2 \u001b[38;5;241m=\u001b[39m \u001b[38;5;28mdict\u001b[39m(mark\u001b[38;5;241m=\u001b[39m\u001b[38;5;124m\"\u001b[39m\u001b[38;5;124mMercedes\u001b[39m\u001b[38;5;124m\"\u001b[39m, model\u001b[38;5;241m=\u001b[39m\u001b[38;5;124m\"\u001b[39m\u001b[38;5;124mW124\u001b[39m\u001b[38;5;124m\"\u001b[39m)\n\u001b[1;32m---> 12\u001b[0m \u001b[43mopis\u001b[49m\u001b[43m(\u001b[49m\u001b[43msamochod2\u001b[49m\u001b[43m)\u001b[49m\n",
      "Cell \u001b[1;32mIn[5], line 5\u001b[0m, in \u001b[0;36mopis\u001b[1;34m(samochod)\u001b[0m\n\u001b[0;32m      4\u001b[0m \u001b[38;5;28;01mdef\u001b[39;00m \u001b[38;5;21mopis\u001b[39m(samochod: \u001b[38;5;28mdict\u001b[39m):\n\u001b[1;32m----> 5\u001b[0m     \u001b[38;5;28;01mreturn\u001b[39;00m  \u001b[38;5;124mf\u001b[39m\u001b[38;5;124m\"\u001b[39m\u001b[38;5;124mSamochód marki \u001b[39m\u001b[38;5;132;01m{\u001b[39;00m\u001b[43msamochod\u001b[49m\u001b[43m[\u001b[49m\u001b[38;5;124;43m'\u001b[39;49m\u001b[38;5;124;43mmarka\u001b[39;49m\u001b[38;5;124;43m'\u001b[39;49m\u001b[43m]\u001b[49m\u001b[38;5;132;01m}\u001b[39;00m\u001b[38;5;124m model \u001b[39m\u001b[38;5;132;01m{\u001b[39;00msamochod[\u001b[38;5;124m'\u001b[39m\u001b[38;5;124mmodel\u001b[39m\u001b[38;5;124m'\u001b[39m]\u001b[38;5;132;01m}\u001b[39;00m\u001b[38;5;124m\"\u001b[39m\n",
      "\u001b[1;31mKeyError\u001b[0m: 'marka'"
     ]
    }
   ],
   "source": [
    "samochod = dict(marka=\"Audi\", model=\"Q8\")\n",
    "samochod\n",
    "\n",
    "def opis(samochod: dict):\n",
    "    return  f\"Samochód marki {samochod['marka']} model {samochod['model']}\"\n",
    "\n",
    "opis(samochod)\n",
    "\n",
    "\n",
    "samochod2 = dict(mark=\"Mercedes\", model=\"W124\")\n",
    "\n",
    "opis(samochod2)\n"
   ]
  },
  {
   "cell_type": "code",
   "execution_count": 12,
   "id": "5f240c8f-b905-4890-8078-d87fbcab6424",
   "metadata": {},
   "outputs": [
    {
     "data": {
      "text/plain": [
       "__main__.Samochod"
      ]
     },
     "execution_count": 12,
     "metadata": {},
     "output_type": "execute_result"
    }
   ],
   "source": [
    "class Samochod:\n",
    "    pass\n",
    "\n",
    "\n",
    "def opis(samochod: Samochod):\n",
    "    return  f\"Samochód marki {samochod.marka} model {samochod.model}\"\n",
    "\n",
    "\n",
    "samochod = Samochod()\n",
    "samochod.marka = \"Audi\"\n",
    "samochod.model = \"Q3\"\n",
    "\n",
    "type(samochod)"
   ]
  },
  {
   "cell_type": "code",
   "execution_count": 13,
   "id": "1c17e4ec-c675-4d52-8454-f5b481f93f19",
   "metadata": {},
   "outputs": [
    {
     "data": {
      "text/plain": [
       "'Samochód marki Audi model Q3'"
      ]
     },
     "execution_count": 13,
     "metadata": {},
     "output_type": "execute_result"
    }
   ],
   "source": [
    "opis(samochod)"
   ]
  },
  {
   "cell_type": "code",
   "execution_count": 17,
   "id": "0d3342ff-0eb4-480d-8ddb-9b4ddaa74c39",
   "metadata": {},
   "outputs": [
    {
     "ename": "AttributeError",
     "evalue": "'Samochod' object has no attribute 'marka'",
     "output_type": "error",
     "traceback": [
      "\u001b[1;31m---------------------------------------------------------------------------\u001b[0m",
      "\u001b[1;31mAttributeError\u001b[0m                            Traceback (most recent call last)",
      "Cell \u001b[1;32mIn[17], line 4\u001b[0m\n\u001b[0;32m      2\u001b[0m samochod2\u001b[38;5;241m.\u001b[39mmark \u001b[38;5;241m=\u001b[39m \u001b[38;5;124m\"\u001b[39m\u001b[38;5;124mAudi\u001b[39m\u001b[38;5;124m\"\u001b[39m\n\u001b[0;32m      3\u001b[0m samochod2\u001b[38;5;241m.\u001b[39mmodel \u001b[38;5;241m=\u001b[39m \u001b[38;5;124m\"\u001b[39m\u001b[38;5;124mQ3\u001b[39m\u001b[38;5;124m\"\u001b[39m\n\u001b[1;32m----> 4\u001b[0m \u001b[43mopis\u001b[49m\u001b[43m(\u001b[49m\u001b[43msamochod2\u001b[49m\u001b[43m)\u001b[49m\n",
      "Cell \u001b[1;32mIn[12], line 6\u001b[0m, in \u001b[0;36mopis\u001b[1;34m(samochod)\u001b[0m\n\u001b[0;32m      5\u001b[0m \u001b[38;5;28;01mdef\u001b[39;00m \u001b[38;5;21mopis\u001b[39m(samochod: Samochod):\n\u001b[1;32m----> 6\u001b[0m     \u001b[38;5;28;01mreturn\u001b[39;00m  \u001b[38;5;124mf\u001b[39m\u001b[38;5;124m\"\u001b[39m\u001b[38;5;124mSamochód marki \u001b[39m\u001b[38;5;132;01m{\u001b[39;00m\u001b[43msamochod\u001b[49m\u001b[38;5;241;43m.\u001b[39;49m\u001b[43mmarka\u001b[49m\u001b[38;5;132;01m}\u001b[39;00m\u001b[38;5;124m model \u001b[39m\u001b[38;5;132;01m{\u001b[39;00msamochod\u001b[38;5;241m.\u001b[39mmodel\u001b[38;5;132;01m}\u001b[39;00m\u001b[38;5;124m\"\u001b[39m\n",
      "\u001b[1;31mAttributeError\u001b[0m: 'Samochod' object has no attribute 'marka'"
     ]
    }
   ],
   "source": [
    "samochod2 = Samochod()\n",
    "samochod2.marka = \"Audi\"\n",
    "samochod2.model = \"Q3\"\n",
    "opis(samochod2)"
   ]
  },
  {
   "cell_type": "code",
   "execution_count": 45,
   "id": "c8da396b-f8b1-406e-a942-e165b0dc41cb",
   "metadata": {},
   "outputs": [],
   "source": [
    "class Samochod:\n",
    "    \n",
    "    ilosc_kol = 4  # atrybut klasy\n",
    "    \n",
    "    def __init__(self, marka, model):\n",
    "        self.marka = marka\n",
    "        self.model = model\n",
    "\n",
    "    def pokaz_opis(self): # metoda instancji\n",
    "        return f\"Samochód marki {self.marka} model {self.model}\""
   ]
  },
  {
   "cell_type": "code",
   "execution_count": 46,
   "id": "f29bc3b0-1f7d-4d66-b408-8c7b7bf91a1d",
   "metadata": {},
   "outputs": [
    {
     "data": {
      "text/plain": [
       "'Samochód marki Mercedes model W211'"
      ]
     },
     "execution_count": 46,
     "metadata": {},
     "output_type": "execute_result"
    }
   ],
   "source": [
    "s = Samochod(\"Mercedes\", \"W211\")\n",
    "\n",
    "opis(s)\n",
    "\n",
    "s.pokaz_opis()\n",
    "\n",
    "Samochod.pokaz_opis(s)"
   ]
  },
  {
   "cell_type": "code",
   "execution_count": 47,
   "id": "51be24d3-1d23-443c-9721-098fb5a5a470",
   "metadata": {},
   "outputs": [
    {
     "data": {
      "text/plain": [
       "4"
      ]
     },
     "execution_count": 47,
     "metadata": {},
     "output_type": "execute_result"
    }
   ],
   "source": [
    "Samochod.ilosc_kol"
   ]
  },
  {
   "cell_type": "code",
   "execution_count": 48,
   "id": "d1267b25-7ddf-4cac-8ff6-fcd03194aa80",
   "metadata": {},
   "outputs": [
    {
     "data": {
      "text/plain": [
       "4"
      ]
     },
     "execution_count": 48,
     "metadata": {},
     "output_type": "execute_result"
    }
   ],
   "source": [
    "s.ilosc_kol"
   ]
  },
  {
   "cell_type": "code",
   "execution_count": 49,
   "id": "4c1bf4b6-c2a6-4480-9eb2-beaa63a83a84",
   "metadata": {},
   "outputs": [],
   "source": [
    "Samochod.ilosc_kol = 8\n"
   ]
  },
  {
   "cell_type": "code",
   "execution_count": 50,
   "id": "9b39ba73-778a-4ccf-a36f-d8192e40e521",
   "metadata": {},
   "outputs": [
    {
     "data": {
      "text/plain": [
       "8"
      ]
     },
     "execution_count": 50,
     "metadata": {},
     "output_type": "execute_result"
    }
   ],
   "source": [
    "s.ilosc_kol"
   ]
  },
  {
   "cell_type": "code",
   "execution_count": 51,
   "id": "cfd24ec6-7aa0-45d9-b8aa-9fb48c554262",
   "metadata": {},
   "outputs": [
    {
     "data": {
      "text/plain": [
       "8"
      ]
     },
     "execution_count": 51,
     "metadata": {},
     "output_type": "execute_result"
    }
   ],
   "source": [
    "s2 = Samochod(\"Kia\", \"Sportage\")\n",
    "s2.ilosc_kol"
   ]
  },
  {
   "cell_type": "code",
   "execution_count": 52,
   "id": "274e021f-6ae2-4443-9923-d3923402c3ab",
   "metadata": {},
   "outputs": [],
   "source": [
    "s2.ilosc_kol = 4"
   ]
  },
  {
   "cell_type": "code",
   "execution_count": 53,
   "id": "1c6d69da-d135-4a36-8f28-c72fa99ef507",
   "metadata": {},
   "outputs": [
    {
     "data": {
      "text/plain": [
       "4"
      ]
     },
     "execution_count": 53,
     "metadata": {},
     "output_type": "execute_result"
    }
   ],
   "source": [
    "s2.ilosc_kol"
   ]
  },
  {
   "cell_type": "code",
   "execution_count": 54,
   "id": "d440f7f9-2407-4529-91c3-6d19927e30e3",
   "metadata": {},
   "outputs": [
    {
     "data": {
      "text/plain": [
       "8"
      ]
     },
     "execution_count": 54,
     "metadata": {},
     "output_type": "execute_result"
    }
   ],
   "source": [
    "s.ilosc_kol"
   ]
  },
  {
   "cell_type": "code",
   "execution_count": 55,
   "id": "e768d589-9ec3-4495-b313-4722c4494f58",
   "metadata": {},
   "outputs": [
    {
     "data": {
      "text/plain": [
       "8"
      ]
     },
     "execution_count": 55,
     "metadata": {},
     "output_type": "execute_result"
    }
   ],
   "source": [
    "Samochod.ilosc_kol"
   ]
  },
  {
   "cell_type": "code",
   "execution_count": 56,
   "id": "6294b879-c157-40f8-8bc8-8f502ad8eca0",
   "metadata": {},
   "outputs": [
    {
     "data": {
      "text/plain": [
       "mappingproxy({'__module__': '__main__',\n",
       "              'ilosc_kol': 8,\n",
       "              '__init__': <function __main__.Samochod.__init__(self, marka, model)>,\n",
       "              'pokaz_opis': <function __main__.Samochod.pokaz_opis(self)>,\n",
       "              '__dict__': <attribute '__dict__' of 'Samochod' objects>,\n",
       "              '__weakref__': <attribute '__weakref__' of 'Samochod' objects>,\n",
       "              '__doc__': None})"
      ]
     },
     "execution_count": 56,
     "metadata": {},
     "output_type": "execute_result"
    }
   ],
   "source": [
    "vars(Samochod)"
   ]
  },
  {
   "cell_type": "code",
   "execution_count": 58,
   "id": "b10227a7-055c-4aae-aadc-d065ae4103f6",
   "metadata": {},
   "outputs": [
    {
     "data": {
      "text/plain": [
       "{'marka': 'Kia', 'model': 'Sportage', 'ilosc_kol': 4}"
      ]
     },
     "execution_count": 58,
     "metadata": {},
     "output_type": "execute_result"
    }
   ],
   "source": [
    "vars(s2)"
   ]
  },
  {
   "cell_type": "code",
   "execution_count": 63,
   "id": "b2e1ccf4-60bb-4d80-b370-033c501dfb58",
   "metadata": {},
   "outputs": [
    {
     "data": {
      "text/plain": [
       "function"
      ]
     },
     "execution_count": 63,
     "metadata": {},
     "output_type": "execute_result"
    }
   ],
   "source": []
  },
  {
   "cell_type": "markdown",
   "id": "666d5020-09f3-422a-b760-94a6cc0d67c6",
   "metadata": {},
   "source": [
    "### Typy vs Instancje\n",
    "\n",
    "- *Typ*: W kontekście OOP i Pythona, klasa jest typem obiektu. To ogólna kategoria rzeczy.\n",
    "Zdefiniowana klasa jest typu `type`"
   ]
  },
  {
   "cell_type": "code",
   "execution_count": 2,
   "id": "cde5b441-445d-42d2-9ff1-57f332fc93e9",
   "metadata": {},
   "outputs": [
    {
     "data": {
      "text/plain": [
       "type"
      ]
     },
     "execution_count": 2,
     "metadata": {},
     "output_type": "execute_result"
    }
   ],
   "source": [
    "type(Samochod)"
   ]
  },
  {
   "cell_type": "markdown",
   "id": "79f45258-a74f-405a-a591-5af50eb1bfaf",
   "metadata": {},
   "source": [
    "- *Instancja*: Obiekt będący konkretnym egzemplarzem danej klasy nazywamy instancją.\n",
    "Każda instancja ma te same atrybuty i metody, które są zdefiniowane w klasie, ale przechowuje unikalne dane."
   ]
  },
  {
   "cell_type": "code",
   "execution_count": 5,
   "id": "5a955d35-c667-45d3-b2cb-cbdcc9871d39",
   "metadata": {},
   "outputs": [
    {
     "data": {
      "text/plain": [
       "<__main__.Samochod at 0x10bbdb520>"
      ]
     },
     "execution_count": 5,
     "metadata": {},
     "output_type": "execute_result"
    }
   ],
   "source": [
    "# Tworzenie instancji klasy Samochod\n",
    "moj_samochod = Samochod(\"Toyota\", \"Corolla\")\n",
    "\n",
    "# moj_samochod jest instancją typu Samochod\n",
    "moj_samochod"
   ]
  },
  {
   "cell_type": "markdown",
   "id": "548f7a14-45c6-45f1-a367-aa51d6a951c3",
   "metadata": {},
   "source": [
    "instancja, czyli obiekt danej klasy ma typ będący właśnie tą klasą:"
   ]
  },
  {
   "cell_type": "code",
   "execution_count": 6,
   "id": "b0818321-d01b-4a2f-a73f-6219b0a8e981",
   "metadata": {},
   "outputs": [
    {
     "data": {
      "text/plain": [
       "__main__.Samochod"
      ]
     },
     "execution_count": 6,
     "metadata": {},
     "output_type": "execute_result"
    }
   ],
   "source": [
    "type(moj_samochod)"
   ]
  },
  {
   "cell_type": "markdown",
   "id": "5ae068b1-5fa7-411e-8bfc-fbbbeab5d665",
   "metadata": {},
   "source": [
    "`__main__` oznacza tu, że typ Samochód zdefiniowany jest w aktualnie wykonywanym module. Jeśli klasę zaimportujemy z innego modułu, to zamiast `__main__` będzie nazwa modułu"
   ]
  },
  {
   "cell_type": "code",
   "execution_count": 7,
   "id": "369cb277-175b-46d3-885f-6a88ed2b413a",
   "metadata": {},
   "outputs": [
    {
     "name": "stdout",
     "output_type": "stream",
     "text": [
      "Writing moje_klasy.py\n"
     ]
    }
   ],
   "source": [
    "%%writefile moje_klasy.py\n",
    "\n",
    "class Foo:\n",
    "    pass"
   ]
  },
  {
   "cell_type": "code",
   "execution_count": 8,
   "id": "742b5220-cf92-436e-bd89-c80a4aa1c3e1",
   "metadata": {},
   "outputs": [
    {
     "data": {
      "text/plain": [
       "moje_klasy.Foo"
      ]
     },
     "execution_count": 8,
     "metadata": {},
     "output_type": "execute_result"
    }
   ],
   "source": [
    "from moje_klasy import Foo\n",
    "\n",
    "foo = Foo()\n",
    "\n",
    "type(foo)"
   ]
  },
  {
   "cell_type": "markdown",
   "id": "4033a246-9711-4e51-a4eb-263f5257ea19",
   "metadata": {},
   "source": [
    "**3. Atrybuty Klasy vs Atrybuty Instancji**\n",
    "- *Atrybuty Klasy*: Są wspólne dla wszystkich instancji danej klasy. Zmiana wartości atrybutu klasy wpływa na wszystkie jej instancje.\n",
    "- *Atrybuty Instancji*: Są specyficzne dla każdej instancji. Każdy obiekt (instancja) ma własny zestaw tych atrybutów, niezależnych od innych instancji.\n",
    "- Atrybut instancji ma pierszeństwo przed atrybutem klasy w przypadku, gdy atrybuty mają tę samą nazwę\n",
    "\n",
    "Przykład:"
   ]
  },
  {
   "cell_type": "code",
   "execution_count": 65,
   "id": "daa70c14-87fd-44e1-97e7-affc4295d186",
   "metadata": {},
   "outputs": [
    {
     "name": "stdout",
     "output_type": "stream",
     "text": [
      "4\n",
      "Corolla\n",
      "Civic\n",
      "4\n",
      "4\n",
      "Po zmianie dla instancji\n",
      "3\n",
      "4\n",
      "Po zmianie dla klasy\n",
      "3\n",
      "5\n"
     ]
    },
    {
     "data": {
      "text/plain": [
       "True"
      ]
     },
     "execution_count": 65,
     "metadata": {},
     "output_type": "execute_result"
    }
   ],
   "source": [
    "class Samochod:\n",
    "    # Atrybut klasy\n",
    "    kola = 4\n",
    "\n",
    "    def __init__(self, marka, model):\n",
    "        # Atrybuty instancji\n",
    "        self.marka = marka\n",
    "        self.model = model\n",
    "        self.sprawny = True\n",
    "\n",
    "# Atrybut klasy jest taki sam dla wszystkich instancji\n",
    "print(Samochod.kola)  # 4\n",
    "\n",
    "# Atrybuty instancji są unikalne dla każdej instancji\n",
    "samochod1 = Samochod(\"Toyota\", \"Corolla\")\n",
    "samochod2 = Samochod(\"Honda\", \"Civic\")\n",
    "\n",
    "print(samochod1.model)  # Corolla\n",
    "print(samochod2.model)  # Civic\n",
    "\n",
    "print(samochod1.kola)  # Corolla\n",
    "print(samochod2.kola)  # Civic\n",
    "\n",
    "samochod1.kola = 3\n",
    "print(\"Po zmianie dla instancji\")\n",
    "print(samochod1.kola)  # Corolla\n",
    "print(samochod2.kola)  # Civic\n",
    "\n",
    "Samochod.kola = 5\n",
    "print(\"Po zmianie dla klasy\")\n",
    "print(samochod1.kola)  # Corolla\n",
    "print(samochod2.kola)  # Civic\n",
    "samochod2.sprawny"
   ]
  },
  {
   "cell_type": "markdown",
   "id": "41d66722-c7cd-4c0c-8c3c-095995bb78c6",
   "metadata": {},
   "source": [
    "\n",
    "Klasy są fundamentem programowania zorientowanego obiektowo. Umożliwiają one tworzenie złożonych programów, gdzie różne części kodu mogą współdziałać ze sobą w przejrzysty sposób. Klasy pomagają także w organizacji kodu, co ułatwia testowanie, konserwację i rozszerzanie aplikacji.\n",
    "\n",
    "Podsumowując, klasy w Pythonie to potężne narzędzia, które, gdy są odpowiednio wykorzystywane, mogą znacząco przyczynić się do efektywności i modularności Twojego kodu. Dają one programiście moc tworzenia szerokiej gamy struktur danych, które odzwierciedlają rzeczywistość, z którą ma do czynienia program, czyniąc kod bardziej zrozumiałym i zarządzalnym."
   ]
  },
  {
   "cell_type": "markdown",
   "id": "78519604-e234-4945-a76f-1c0af745e849",
   "metadata": {},
   "source": [
    "### Ćwiczenie: klasa, atrybuty klasowe i instancji\n",
    "\n",
    "Twoim zadaniem jest zaprojektowanie prostej klasy reprezentującej książkę w bibliotece.\n",
    "\n",
    "\n",
    "* Stwórz klasę o nazwie `Ksiazka`.\n",
    "* Dodaj atrybuty klasowy: `liczba_ksiazek` - będzie on przechowywać informację o ogólnej liczbie książek (wszystkich instancji klasy `Ksiazka`). Ustaw wartość początkową na 0.\n",
    "\n",
    "\n",
    "W konstruktorze `__init__`, klasy `Ksiazka` dodaj następujące atrybuty:\n",
    "* `tytul` (przechowuje tytuł książki),*\n",
    "* `autor` (przechowuje nazwisko autora),\n",
    "* `rok_wydania` (przechowuje rok wydania książki),\n",
    "* `czy_wypozyczona` (przechowuje informację, czy książka jest aktualnie wypożyczona; domyślnie powinno być `False`).\n",
    "\n",
    "Pamiętaj, aby zaktualizować `liczba_ksiazek` o 1 za każdym razem, gdy tworzona jest nowa instancja książki.\n",
    "\n",
    "Przykład użycia:\n",
    "\n",
    "```python\n",
    "ksiazka1 = Ksiazka(\"Wiedźmin\", \"Andrzej Sapkowski\", 1990)\n",
    "ksiazka2 = Ksiazka(\"Hobbit\", \"J.R.R. Tolkien\", 1937)\n",
    "\n",
    "print(Ksiazka.liczba_ksiazek) # 2\n",
    "```\n",
    "\n"
   ]
  },
  {
   "cell_type": "code",
   "execution_count": 6,
   "id": "eb6dcb28-56d3-4644-bdd7-13b2a12a5ac2",
   "metadata": {},
   "outputs": [],
   "source": [
    "class Ksiazka:\n",
    "    _liczba_ksiazek = 0  # atrybu klasowy\n",
    "    lista_ksiazek = []\n",
    "   \n",
    "    def __init__(self, tytul, autor, rok_wydania):\n",
    "        self.tytul = tytul\n",
    "        self.autor = autor\n",
    "        self.rok_wydania = rok_wydania\n",
    "        self._czy_wypozyczona = False\n",
    "\n",
    "        # Ksiazka.liczba_ksiazek += 1\n",
    "        # self.__class__.liczba_ksiazek += 1\n",
    "        self.incr_counter()\n",
    "        self.__class__.lista_ksiazek.append(self)\n",
    "\n",
    "    def wypozycz(self):\n",
    "        if self._czy_wypozyczona:\n",
    "            print(\"Książka już wypożyczona\")\n",
    "            return \n",
    "        self._czy_wypozyczona = True\n",
    "\n",
    "    def zwroc(self):\n",
    "        self._czy_wypozyczona = False\n",
    "\n",
    "    def czy_dostepna(self):\n",
    "        return self._czy_wypozyczona\n",
    "    \n",
    "    @classmethod\n",
    "    def incr_counter(cls):\n",
    "        cls._liczba_ksiazek += 1\n",
    "\n",
    "    @classmethod\n",
    "    def check_counter(cls):\n",
    "        return cls._liczba_ksiazek\n",
    "\n",
    "    def __del__(self):\n",
    "        print(\"jestem tutaj\")\n",
    "        i = self.lista_ksiazek.index(self)\n",
    "        # del self.lista_ksiazek[i]\n",
    "        del self.lista_ksiazek[self]\n",
    "        \n",
    "\n",
    "ksiazka1 = Ksiazka(\"Wiedźmin\", \"Andrzej Sapkowski\", 1990)\n",
    "ksiazka2 = Ksiazka(\"Hobbit\", \"J.R.R. Tolkien\", 1937)\n",
    "\n",
    "\n",
    "del ksiazka1\n",
    "\n"
   ]
  },
  {
   "cell_type": "code",
   "execution_count": 102,
   "id": "5090e0c7-1e7e-4890-b7d5-754ce7874e26",
   "metadata": {},
   "outputs": [
    {
     "data": {
      "text/plain": [
       "[<__main__.Ksiazka at 0x1d54c1d36d0>, <__main__.Ksiazka at 0x1d54c17c050>]"
      ]
     },
     "execution_count": 102,
     "metadata": {},
     "output_type": "execute_result"
    }
   ],
   "source": [
    "Ksiazka.lista_ksiazek"
   ]
  },
  {
   "cell_type": "code",
   "execution_count": 98,
   "id": "0c97dcea-66ae-49fc-ba6b-de75af2314eb",
   "metadata": {},
   "outputs": [
    {
     "data": {
      "text/plain": [
       "2"
      ]
     },
     "execution_count": 98,
     "metadata": {},
     "output_type": "execute_result"
    }
   ],
   "source": [
    "Ksiazka.check_counter()"
   ]
  },
  {
   "cell_type": "markdown",
   "id": "4e9aaac4-0024-46c6-b5c7-42a5599fcd75",
   "metadata": {},
   "source": [
    "\n",
    "## Metody\n",
    "\n",
    "Klasy w Pythonie, jak w większości języków obiektowych, składają się z metod i atrybutów.\n",
    "Widzieliśmy wcześniej, że atrybut może być klasowy bądź należeć do instancji\n",
    "\n",
    "W tej cześci koncentrujemy się na metodach klasy, wyjaśniając ich rolę i odróżniając je od atrybutów.\n",
    "\n",
    "### Co to jest Metoda?**\n",
    "\n",
    "Metoda klasy to funkcja zdefiniowana wewnątrz klasy. Jest ona częścią definicji klasy i zazwyczaj operuje na instancjach klasy, manipulując ich stanem lub wykonując operacje, które są istotne z perspektywy obiektów tej klasy.\n",
    "\n",
    "Przykład metody w klasie:"
   ]
  },
  {
   "cell_type": "code",
   "execution_count": 10,
   "id": "68d5be60-9045-4653-986c-e113036523a2",
   "metadata": {},
   "outputs": [],
   "source": [
    "\n",
    "class Pracownik:\n",
    "    def __init__(self, imie, nazwisko):\n",
    "        self.imie = imie\n",
    "        self.nazwisko = nazwisko\n",
    "\n",
    "    def pelne_imie(self):\n",
    "        return f\"{self.imie} {self.nazwisko}\"\n"
   ]
  },
  {
   "cell_type": "markdown",
   "id": "94c178f1-028e-47d8-8d9a-a1bb59dde7be",
   "metadata": {},
   "source": [
    "W powyższym przykładzie, `pelne_imie` to metoda, która operuje na danych instancji (imie i nazwisko).\n",
    "\n",
    "### Atrybuty a Metody\n",
    "Atrybuty i metody są zasadniczymi składowymi klasy, ale pełnią różne role.\n",
    "\n",
    "- *Atrybuty* to zmienne związane z klasą lub jej instancjami. Atrybuty instancji przechowują dane unikatowe dla poszczególnych obiektów, podczas gdy atrybuty klasy są wspólne dla wszystkich instancji.\n",
    "  \n",
    "  Na przykład, w klasie `Pracownik`, `imie` i `nazwisko` to atrybuty, które przechowują stan poszczególnych obiektów tej klasy.\n",
    "\n",
    "- *Metody* to funkcje zdefiniowane w klasie, które mogą wykonywać operacje, często korzystając lub modyfikując atrybuty obiektów. Metody różnią się od zwykłych funkcji tym, że zawsze operują na jakimś obiekcie klasy (np. na instancji)."
   ]
  },
  {
   "cell_type": "markdown",
   "id": "42560279-44de-4628-897b-9ef05ff25dff",
   "metadata": {},
   "source": [
    "## Metoda klasowa\n",
    "\n",
    "Nie każda metoda działa na rzecz instancji. Niektóre z nich mogą działać na rzecz klasy. \n",
    "Metoda instancji zawsze jako pierwszy argument ma `self` który jest referencją do samej instancji.\n",
    "W metodzie klasowej pierwszym argumentem jest zawsze `cls` który jest referencją\n",
    "`cls` i `self` to tylko nazwy, liczy sie kolejność. By je od siebie odróżnić musimy użyć dekoratora @classmethod\n"
   ]
  },
  {
   "cell_type": "code",
   "execution_count": 70,
   "id": "b26252d2-12d9-4bb8-8673-88896a90181e",
   "metadata": {},
   "outputs": [],
   "source": [
    "class Pracownik:\n",
    "    def __init__(self, imie, nazwisko):\n",
    "        self.imie = imie\n",
    "        self.nazwisko = nazwisko\n",
    "\n",
    "    def pelne_imie(self):\n",
    "        return f\"{self.imie} {self.nazwisko}\"\n",
    "\n",
    "    @classmethod\n",
    "    def tworz_pracownikow_z_listy_osob(cls, lista):\n",
    "        pracownicy = []\n",
    "        for p in lista:\n",
    "            pracownicy.append(Pracownik(*p.split()))\n",
    "        return pracownicy\n"
   ]
  },
  {
   "cell_type": "code",
   "execution_count": 72,
   "id": "627d7c58-7096-467f-b31c-10fb43c6b300",
   "metadata": {},
   "outputs": [],
   "source": [
    "lista = [\"Adam Słodowy\", \"Pan Kleks\"]\n",
    "p = Pracownik.tworz_pracownikow_z_listy_osob(lista)"
   ]
  },
  {
   "cell_type": "code",
   "execution_count": 74,
   "id": "da6fee8c-00ae-4f91-8d68-684c732fe681",
   "metadata": {},
   "outputs": [
    {
     "data": {
      "text/plain": [
       "'Adam'"
      ]
     },
     "execution_count": 74,
     "metadata": {},
     "output_type": "execute_result"
    }
   ],
   "source": [
    "p[0].imie"
   ]
  },
  {
   "cell_type": "markdown",
   "id": "2677b510-c417-4060-b778-9a6524de2a41",
   "metadata": {},
   "source": [
    "### Jak używać metod w Pythonie?\n",
    "Metody wywołuje się za pomocą notacji kropkowej, podobnie jak odnosząc się do atrybutu, ale z klamrami na końcu, które mogą zawierać argumenty, jeśli metoda je przyjmuje.\n",
    "\n",
    "Przykład:"
   ]
  },
  {
   "cell_type": "code",
   "execution_count": 77,
   "id": "62ba0e90-4df4-4ed3-ad49-2ec3c9add96f",
   "metadata": {},
   "outputs": [
    {
     "name": "stdout",
     "output_type": "stream",
     "text": [
      "Jan Kowalski\n"
     ]
    }
   ],
   "source": [
    "jan = Pracownik(\"Jan\", \"Kowalski\")\n",
    "print(jan.pelne_imie())  # \"Jan Kowalski\""
   ]
  },
  {
   "cell_type": "markdown",
   "id": "419686b9-5a8f-4685-aedb-5914f2eae144",
   "metadata": {},
   "source": [
    "W powyższym przykładzie, wywołanie metody `pelne_imie` na instancji `jan` spowodowało wykonanie operacji zdefiniowanej w metodzie, czyli połączenie imienia i nazwiska w jeden ciąg."
   ]
  },
  {
   "cell_type": "code",
   "execution_count": 18,
   "id": "7d8b29b8-58e5-4171-9a92-e82a0112a195",
   "metadata": {},
   "outputs": [
    {
     "data": {
      "text/plain": [
       "[<__main__.Pracownik at 0x10b877280>, <__main__.Pracownik at 0x10b877490>]"
      ]
     },
     "execution_count": 18,
     "metadata": {},
     "output_type": "execute_result"
    }
   ],
   "source": [
    "Pracownik.tworz_pracownikow_z_listy_osob([\"Adam Słodowy\", \"Jan Nepomucen\"])"
   ]
  },
  {
   "cell_type": "markdown",
   "id": "b6506a13-b2ce-4e0d-9334-350ad79123a8",
   "metadata": {},
   "source": [
    "### Podsumowanie:\n",
    "\n",
    "Metody klasy w Pythonie to kluczowy aspekt programowania obiektowego, umożliwiający obiektom interakcje i operacje na własnym stanie. Odróżniają się od atrybutów, które przechowują stan, ale same w sobie nie wykonują działań. Rozumienie, jak i kiedy używać metod, jest fundamentem skutecznego wykorzystania pełnego potencjału paradygmatu obiektowego w Pythonie"
   ]
  },
  {
   "cell_type": "markdown",
   "id": "b3d88fa8-afc5-4231-9039-301afe3964e9",
   "metadata": {},
   "source": [
    "### Ćwiczenie\n",
    "\n",
    "Rozwiń klasę `Ksiazka` dodając\n",
    "\n",
    "* Metody instancji:\n",
    "\n",
    "- Dodaj metodę `wypozycz()`, która zmienia status `czy_wypozyczona` na `True`, jeśli książka nie była wypożyczona. Jeśli książka jest już wypożyczona, metoda powinna wyświetlić stosowny komunikat.\n",
    "- Dodaj metodę `zwroc()`, która zmienia status `czy_wypozyczona` na `False`, jeśli książka była wypożyczona. Jeśli książka jest już w bibliotece, metoda powinna wyświetlić stosowny komunikat.\n",
    "- Dodaj metodę `info()`, która wyświetla informacje o książce (tytuł, autora, rok wydania, oraz czy jest wypożyczona).\n",
    "\n",
    "Metody klasowe:\n",
    "\n",
    "- Dodaj metodę klasową `ile_ksiazek()`, która wyświetla bieżącą liczbę książek (instancji) stworzonych w systemie.\n",
    "\n",
    "```\n",
    "    W systemie mamy <x> książek\n",
    "```\n",
    "- Dodaj metodę klasową `tworz_ksiazki(plik)`, która utworzy książki na podstawie danych z pliku"
   ]
  },
  {
   "cell_type": "code",
   "execution_count": 19,
   "id": "2910397f-5e59-4d40-98c4-2cf0945865a0",
   "metadata": {},
   "outputs": [
    {
     "name": "stdout",
     "output_type": "stream",
     "text": [
      "Writing ksiazki.csv\n"
     ]
    }
   ],
   "source": [
    "%%writefile ksiazki.csv\n",
    "tytul,autor,rok_wydania\n",
    "Pan Tadeusz,Adam Mickiewicz,1834\n",
    "Krzyżacy,Henryk Sienkiewicz,1900\n"
   ]
  },
  {
   "cell_type": "markdown",
   "id": "0e2861fb-86fb-443f-8bc4-f4531ecd1ab2",
   "metadata": {},
   "source": [
    "### Dodatek - co z usuwaniem ksiażki?\n",
    "\n",
    "```python\n",
    "print(Ksiazka.liczba_ksiazek) # 0\n",
    "ksiazka = Ksiazka(\"XXX\", \"YYY\", 1999, False)\n",
    "print(Ksiazka.liczba_ksiazek) # 1\n",
    "del ksiazka\n",
    "print(Ksiazka.liczba_ksiazek) # 1\n",
    "```\n",
    "\n"
   ]
  },
  {
   "cell_type": "code",
   "execution_count": 5,
   "id": "91b2b162-6658-4741-bf96-ed917bc8defc",
   "metadata": {},
   "outputs": [
    {
     "name": "stdout",
     "output_type": "stream",
     "text": [
      "1\n",
      "0\n"
     ]
    }
   ],
   "source": [
    "class X:\n",
    "    ile = 0\n",
    "\n",
    "    def __init__(self):\n",
    "        X.ile += 1\n",
    "\n",
    "    def __del__(self):\n",
    "        X.ile -= 1\n",
    "\n",
    "x = X()\n",
    "print(X.ile)\n",
    "del x\n",
    "\n",
    "print(X.ile)\n"
   ]
  },
  {
   "cell_type": "code",
   "execution_count": null,
   "id": "3aa776a5-4a90-42ea-ae3b-8b72d064a75c",
   "metadata": {},
   "outputs": [],
   "source": []
  },
  {
   "cell_type": "markdown",
   "id": "45f93b42-1ac9-4442-b535-8339698b73c1",
   "metadata": {},
   "source": [
    "## Atrybuty dynamiczne - @property \n",
    "\n",
    "W Pythonie istnieje funkcjonalność o nazwie \"property\", która pozwala programistom na dostęp do metod klasy tak, jakby były to atrybuty. Jest to szczególnie użyteczne, gdy chcesz mieć kontrolę nad tym, co dzieje się z danymi członkowskimi twojej klasy. W tym artykule rozszerzymy poprzedni przykład, używając dekoratora `@property`, aby zmienić metodę `pelne_imie` na atrybut.\n",
    "\n",
    "### Co to jest `@property`?**\n",
    "Dekorator `@property` w Pythonie umożliwia nam definiowanie właściwości bez potrzeby tworzenia metod do pobierania i ustawiania wartości. Dzięki temu możemy używać składni dotyczącej atrybutów zamiast składni metod.\n",
    "\n",
    "### Przekształcanie metody w atrybut z użyciem `@property`\n",
    "Weźmy wcześniejszą klasę `Pracownik` i zmodyfikujmy ją, używając `@property`."
   ]
  },
  {
   "cell_type": "code",
   "execution_count": 38,
   "id": "6cacab06-7194-42a9-bdb2-d5b68bf7c437",
   "metadata": {},
   "outputs": [],
   "source": [
    "import datetime\n",
    "\n",
    "class Pracownik:\n",
    "    def __init__(self, imie, nazwisko, rok_ur):\n",
    "        self.imie = imie\n",
    "        self.nazwisko = nazwisko\n",
    "        self.rok_ur = rok_ur\n",
    "\n",
    "    @property\n",
    "    def pelne_imie(self):\n",
    "        return f\"{self.imie} {self.nazwisko}\"\n",
    "\n",
    "    @property\n",
    "    def wiek(self):\n",
    "        return datetime.datetime.now().year - self.rok_ur\n",
    "\n",
    "    @wiek.setter\n",
    "    def wiek(self, wiek):\n",
    "        self.rok_ur = datetime.datetime.now().year - wiek\n"
   ]
  },
  {
   "cell_type": "code",
   "execution_count": 39,
   "id": "f575e589-a38a-4a7b-854b-dd8046ec68a9",
   "metadata": {},
   "outputs": [],
   "source": [
    "p = Pracownik(\"A\", \"B\", 1980)"
   ]
  },
  {
   "cell_type": "code",
   "execution_count": 40,
   "id": "42ab8f19-9cd6-4814-9b1a-983da4c49916",
   "metadata": {},
   "outputs": [
    {
     "data": {
      "text/plain": [
       "'A B'"
      ]
     },
     "execution_count": 40,
     "metadata": {},
     "output_type": "execute_result"
    }
   ],
   "source": [
    "p.pelne_imie"
   ]
  },
  {
   "cell_type": "code",
   "execution_count": 41,
   "id": "c5c3b154-1cbc-457f-b201-345802a83e12",
   "metadata": {},
   "outputs": [
    {
     "data": {
      "text/plain": [
       "43"
      ]
     },
     "execution_count": 41,
     "metadata": {},
     "output_type": "execute_result"
    }
   ],
   "source": [
    "p.wiek"
   ]
  },
  {
   "cell_type": "code",
   "execution_count": 42,
   "id": "0049aa7e-4fe6-495e-8623-21f228c719c2",
   "metadata": {},
   "outputs": [],
   "source": [
    "p.imie = \"Adam\""
   ]
  },
  {
   "cell_type": "code",
   "execution_count": 43,
   "id": "4bab434c-4d4b-4dd3-923d-81ebc58979b9",
   "metadata": {},
   "outputs": [],
   "source": [
    "p.wiek = 50"
   ]
  },
  {
   "cell_type": "code",
   "execution_count": 44,
   "id": "18b2516a-5b5a-4452-9611-7e5ce7cb8004",
   "metadata": {},
   "outputs": [
    {
     "data": {
      "text/plain": [
       "50"
      ]
     },
     "execution_count": 44,
     "metadata": {},
     "output_type": "execute_result"
    }
   ],
   "source": [
    "p.wiek"
   ]
  },
  {
   "cell_type": "code",
   "execution_count": 45,
   "id": "1e40eff6-387a-473b-bb7b-04a3afbbe510",
   "metadata": {},
   "outputs": [
    {
     "data": {
      "text/plain": [
       "1973"
      ]
     },
     "execution_count": 45,
     "metadata": {},
     "output_type": "execute_result"
    }
   ],
   "source": [
    "p.rok_ur"
   ]
  },
  {
   "cell_type": "code",
   "execution_count": 37,
   "id": "5bd66a40-34e8-498c-b242-8d31fa731e51",
   "metadata": {},
   "outputs": [
    {
     "data": {
      "text/plain": [
       "50"
      ]
     },
     "execution_count": 37,
     "metadata": {},
     "output_type": "execute_result"
    }
   ],
   "source": [
    "class Pracownik:\n",
    "    def __init__(self, imie, nazwisko, rok_ur):\n",
    "        self.imie = imie\n",
    "        self.nazwisko = nazwisko\n",
    "        self.rok_ur = rok_ur\n",
    "\n",
    "    def pelne_imie(self):\n",
    "        return f\"{self.imie} {self.nazwisko}\"\n",
    "\n",
    "    def wiek(self):\n",
    "        return 2023 - self.rok_ur\n",
    "\n",
    "    def ustaw_wiek(self, wiek):\n",
    "        self.rok_ur = 2023 - wiek\n",
    "\n",
    "p = Pracownik(\"A\", \"B\", 1980)\n",
    "p.wiek()\n",
    "# p.wiek = 50\n",
    "p.ustaw_wiek(50)\n",
    "p.wiek()\n"
   ]
  },
  {
   "cell_type": "markdown",
   "id": "bd94369b-bdb1-414b-a5f9-156216e4c382",
   "metadata": {},
   "source": [
    "W tej wersji klasy, `pelne_imie` stało się właściwością dzięki dekoratorowi `@property`. Teraz można uzyskać dostęp do pełnego imienia i nazwiska, jak gdyby były to atrybuty."
   ]
  },
  {
   "cell_type": "markdown",
   "id": "cd02103d-c209-44ff-b4e8-cf2861f64f32",
   "metadata": {},
   "source": [
    "### Jak to działa?\n",
    "\n",
    "Przykład użycia:"
   ]
  },
  {
   "cell_type": "code",
   "execution_count": 15,
   "id": "dffe4627-f413-48a1-8a99-0f3142a670e3",
   "metadata": {},
   "outputs": [
    {
     "name": "stdout",
     "output_type": "stream",
     "text": [
      "Jan Kowalski\n"
     ]
    }
   ],
   "source": [
    "jan = Pracownik(\"Jan\", \"Kowalski\")\n",
    "print(jan.pelne_imie)  # Zauważ brak nawiasów. Wynik: \"Jan Kowalski\"\n"
   ]
  },
  {
   "cell_type": "markdown",
   "id": "e7831911-befe-4938-9ced-4264ec23d8a6",
   "metadata": {},
   "source": [
    "Gdy teraz odwołujemy się do `pelne_imie`, nie używamy nawiasów, ponieważ nie wywołujemy metody, ale odwołujemy się do atrybutu. Mimo to, pod spodem, to nadal funkcja jest wywoływana - dekorator `@property` po prostu ukrywa ten fakt."
   ]
  },
  {
   "cell_type": "markdown",
   "id": "6da81cd7-bf09-475b-b4ad-5f460924df3e",
   "metadata": {},
   "source": [
    "**4. Dlaczego warto używać `@property`?**\n",
    "Używanie `@property` ma kilka zalet:\n",
    "- Pozwala na kontrolę nad tym, jak atrybuty są ustawiane i pobierane.\n",
    "- Ułatwia zmianę wewnętrznej implementacji bez zmiany sposobu, w jaki klasa jest używana.\n",
    "- Poprawia czytelność kodu i ułatwia zrozumienie, które operacje są prostym dostępem do atrybutów, a które wykonują jakieś przetwarzanie."
   ]
  },
  {
   "cell_type": "markdown",
   "id": "6038cd01-3b6e-4909-93a5-c8700824f1f7",
   "metadata": {},
   "source": [
    "**Podsumowanie:**\n",
    "Dekorator `@property` to potężne narzędzie w Pythonie, umożliwiające programistom eleganckie zarządzanie dostępem do atrybutów instancji. Ułatwia to nie tylko czytelność i utrzymanie kodu, ale także pozwala zachować logikę i zasady integralności danych wewnątrz klas, jednocześnie zapewniając wygodny interfejs dostępu do tych danych."
   ]
  },
  {
   "cell_type": "markdown",
   "id": "619f2785-9590-410d-85cb-5325ae035595",
   "metadata": {},
   "source": [
    "### `setter`\n",
    "Użycie metody `setter` w połączeniu z dekoratorem `property` umożliwia kontrolowanie sposobu modyfikacji atrybutów klasy. Poniżej znajduje się przykład implementacji, która pozwala upewnić się, że długość boku kwadratu nigdy nie będzie ujemna."
   ]
  },
  {
   "cell_type": "code",
   "execution_count": 69,
   "id": "5aa5dd88-261d-4cf1-ad0a-6e3ca149e4b4",
   "metadata": {},
   "outputs": [],
   "source": [
    "class Square:\n",
    "    def __init__(self, side_length):\n",
    "        self.side_length = side_length  # Zmienna \"prywatna\", zaleca się takie oznaczanie wewnętrznych atrybutów\n",
    "        self.x = 10\n",
    "        pass\n",
    "    @property\n",
    "    def side_length(self):\n",
    "        return self._side_length\n",
    "\n",
    "    @side_length.setter\n",
    "    def side_length(self, value):\n",
    "        if value < 0:\n",
    "            raise ValueError(\"Długość boku kwadratu nie może być ujemna\")\n",
    "        self._side_length = value\n",
    "\n",
    "    def calculate_area(self):\n",
    "        return self.side_length ** 2\n",
    "\n",
    "    @property\n",
    "    def area(self):\n",
    "        return self.side_length ** 2"
   ]
  },
  {
   "cell_type": "code",
   "execution_count": 70,
   "id": "c25c0152-7db9-41cc-909c-047a3077d7e9",
   "metadata": {},
   "outputs": [],
   "source": [
    "s = Square(10)"
   ]
  },
  {
   "cell_type": "code",
   "execution_count": 71,
   "id": "a024863c-6041-42e5-9752-3dfbff0ff887",
   "metadata": {},
   "outputs": [
    {
     "data": {
      "text/plain": [
       "100"
      ]
     },
     "execution_count": 71,
     "metadata": {},
     "output_type": "execute_result"
    }
   ],
   "source": [
    "s.calculate_area()"
   ]
  },
  {
   "cell_type": "code",
   "execution_count": 72,
   "id": "0641bfd9-438a-49d1-a779-8bd228ce6cdf",
   "metadata": {},
   "outputs": [
    {
     "data": {
      "text/plain": [
       "100"
      ]
     },
     "execution_count": 72,
     "metadata": {},
     "output_type": "execute_result"
    }
   ],
   "source": [
    "s.area"
   ]
  },
  {
   "cell_type": "markdown",
   "id": "69595591-d145-4928-8138-2add6ee9dac4",
   "metadata": {},
   "source": [
    "Jak to działa:\n",
    "\n",
    "1. Inicjalizujemy kwadrat z pewną długością boku.\n",
    "2. Dekorator `@property` jest używany do oznaczenia metody, która ma być dostępna jako atrybut tylko do odczytu (w tym przypadku, `side_length`).\n",
    "3. `@side_length.setter` jest używany do zdefiniowania metody, która będzie wywoływana, gdy następuje próba ustawienia wartości atrybutu. Pozwala to na walidację lub przetwarzanie wartości przed jej przypisaniem.\n",
    "\n",
    "Oto jak możemy użyć powyższej klasy:"
   ]
  },
  {
   "cell_type": "code",
   "execution_count": 17,
   "id": "e00a110e-7dd8-44b6-ad92-646f1694958d",
   "metadata": {},
   "outputs": [
    {
     "name": "stdout",
     "output_type": "stream",
     "text": [
      "10\n",
      "100\n",
      "15\n",
      "Długość boku kwadratu nie może być ujemna\n",
      "15\n",
      "225\n"
     ]
    }
   ],
   "source": [
    "\n",
    "# Utworzenie instancji klasy Square\n",
    "my_square = Square(10)\n",
    "print(my_square.side_length)  # Wypisze: 10\n",
    "\n",
    "# Obliczenie pola powierzchni\n",
    "print(my_square.calculate_area())  # Wypisze: 100 (czyli 10*10)\n",
    "\n",
    "# Zmiana długości boku na dodatnią wartość\n",
    "my_square.side_length = 15\n",
    "print(my_square.side_length)  # Wypisze: 15\n",
    "\n",
    "# Próba ustawienia ujemnej wartości długości boku\n",
    "try:\n",
    "    my_square.side_length = -5\n",
    "except ValueError as e:\n",
    "    print(e)  # Wypisze: \"Długość boku kwadratu nie może być ujemna\"\n",
    "\n",
    "# Ponowne sprawdzenie długości boku i pola po nieudanej próbie zmiany wartości\n",
    "print(my_square.side_length)  # Wypisze: 15\n",
    "print(my_square.calculate_area())  # Wypisze: 225 (czyli 15*15)\n"
   ]
  },
  {
   "cell_type": "markdown",
   "id": "16257c6f-5f47-4a1b-afe1-4262c0e0c081",
   "metadata": {},
   "source": [
    "Ten przykład demonstruje, jak kontrolować modyfikację atrybutów w instancjach obiektów za pomocą metod `setter`, utrzymując integralność i zasady biznesowe związane z danymi obiektu."
   ]
  },
  {
   "cell_type": "markdown",
   "id": "90318265-654a-4b0c-939c-c909b559242f",
   "metadata": {},
   "source": [
    "## deletter i getter\n",
    "\n",
    "Dekoratory `@property`, `setter` i `deleter` w Pythonie są wykorzystywane do kontroli dostępu do atrybutów obiektów. Poniżej przedstawię przykłady ich zastosowania, wykorzystując klasę `Square` jako bazę do demonstracji."
   ]
  },
  {
   "cell_type": "code",
   "execution_count": 19,
   "id": "ef729eaa-331e-442b-b06c-84b724e1bfcc",
   "metadata": {},
   "outputs": [
    {
     "name": "stdout",
     "output_type": "stream",
     "text": [
      "Pobieranie długości boku\n",
      "10\n",
      "Ustawianie długości boku\n",
      "Pobieranie długości boku\n",
      "20\n",
      "Usuwanie długości boku\n",
      "Pobieranie długości boku\n",
      "Wystąpił wyjątek: 'Square' object has no attribute '_side_length'\n"
     ]
    }
   ],
   "source": [
    "class Square:\n",
    "    def __init__(self, side_length):\n",
    "        self._side_length = side_length\n",
    "\n",
    "    @property\n",
    "    def side_length(self):\n",
    "        \"\"\"Getter: służy do pobierania wartości atrybutu.\"\"\"\n",
    "        print(\"Pobieranie długości boku\")\n",
    "        return self._side_length\n",
    "\n",
    "    @side_length.setter\n",
    "    def side_length(self, value):\n",
    "        \"\"\"Setter: umożliwia ustawienie wartości atrybutu, z możliwością wstępnej jej walidacji.\"\"\"\n",
    "        if value < 0:\n",
    "            raise ValueError(\"Długość boku kwadratu nie może być ujemna\")\n",
    "        print(\"Ustawianie długości boku\")\n",
    "        self._side_length = value\n",
    "\n",
    "    @side_length.deleter\n",
    "    def side_length(self):\n",
    "        \"\"\"Deleter: pozwala na usunięcie atrybutu lub wykonanie akcji przy jego usuwaniu.\"\"\"\n",
    "        print(\"Usuwanie długości boku\")\n",
    "        del self._side_length  # Faktycznie usuwamy atrybut, co może być użyteczne, na przykład, do resetowania stanu\n",
    "\n",
    "    def calculate_area(self):\n",
    "        return self._side_length ** 2\n",
    "\n",
    "# Użycie klasy z getterem, setterem i deleterem\n",
    "my_square = Square(10)\n",
    "\n",
    "# Getter jest wywoływany, gdy pobieramy wartość atrybutu\n",
    "print(my_square.side_length)  # Wyświetli informacje z print wewnątrz gettera oraz wartość\n",
    "\n",
    "# Setter jest wywoływany, gdy ustawiamy wartość atrybutu\n",
    "my_square.side_length = 20  # Wyświetli informacje z print wewnątrz settera\n",
    "\n",
    "# Sprawdzenie, czy setter zadziałał\n",
    "print(my_square.side_length)  # Teraz powinno wyświetlić nową wartość, czyli 20\n",
    "\n",
    "# Deleter jest wywoływany, gdy usuwamy atrybut\n",
    "del my_square.side_length  # Wyświetli informacje z print wewnątrz deletera\n",
    "\n",
    "# Po usunięciu atrybutu, próba dostępu do niego lub użycia go spowoduje wyjątek AttributeError\n",
    "try:\n",
    "    print(my_square.side_length)\n",
    "except AttributeError as e:\n",
    "    print(\"Wystąpił wyjątek:\", e)  # Informacja o braku atrybutu po jego usunięciu"
   ]
  },
  {
   "cell_type": "markdown",
   "id": "679ca88e-755c-4b48-a7bb-05ce76341fb4",
   "metadata": {},
   "source": [
    "W tym przykładzie:\n",
    "- **Getter** pozwala na odczyt wartości atrybutu oraz wykonanie dodatkowej logiki (tutaj wydruk w konsoli).\n",
    "- **Setter** kontroluje, jak wartości są przypisywane do atrybutu, umożliwiając walidację danych wejściowych lub wykonanie innych operacji przed zapisaniem wartości.\n",
    "- **Deleter** umożliwia kontrolę nad tym, co dzieje się, gdy atrybut jest usuwany, na przykład może to być resetowanie wartości do stanu domyślnego, informowanie innych części kodu o usunięciu, czy faktyczne usunięcie atrybutu.\n",
    "\n",
    "Dzięki tym metodom klasa zachowuje pełną kontrolę nad tym, jak jej wewnętrzne dane są odczytywane, modyfikowane i usuwane, zapewniając, że wszystkie operacje na atrybutach są wykonywane w sposób bezpieczny i spójny.m"
   ]
  },
  {
   "cell_type": "markdown",
   "id": "aa225826-7ddd-4b85-a34e-153e87e14312",
   "metadata": {},
   "source": [
    "## Deskryptor\n",
    "\n",
    "Deskryptory to potężna funkcjonalność w Pythonie, która pozwala na definiowanie zachowań atrybutów obiektów poprzez implementację specjalnych metod. Używane są do zarządzania dostępem do atrybutów, często zapewniając dodatkową logikę lub walidację, która ma miejsce za kulisami. Deskryptory są podstawą wielu funkcji w Pythonie, w tym właściwości (`@property`), metod klasowych i statycznych.\n",
    "\n",
    "## Co to są deskryptory?\n",
    "\n",
    "Deskryptory to obiekty, które implementują metody deskryptorowe zdefiniowane protokołem deskryptora. Do metod tych należą `__get__`, `__set__` i `__delete__`. Kiedy atrybut jest opisany przez deskryptor, dostęp do niego przekierowywany jest do tych metod.\n",
    "\n",
    "## Jak używać deskryptorów?\n",
    "\n",
    "Poniżej przedstawiamy prosty przykład użycia deskryptora, tworząc klasę `NonNegative`, która będzie gwarantować, że atrybut nie przyjmie wartości ujemnej. Będzie to analogiczne do przykładu używania `@property`, który widzieliśmy wcześniej.\n",
    "\n",
    "```python\n",
    "class NonNegativeNumber:\n",
    "    def __get__(self, instance, owner):\n",
    "        return instance.__dict__[self.name]\n",
    "\n",
    "    def __set__(self, instance, value):\n",
    "        if value < 0:\n",
    "            raise ValueError(\"Liczba nie może być mniejsza niż zero.\")\n",
    "        instance.__dict__[self.name] = value\n",
    "\n",
    "    def __set_name__(self, owner, name):\n",
    "        self.name = name\n",
    "\n",
    "class Produkt:\n",
    "    cena = NonNegativeNumber()\n",
    "\n",
    "    def __init__(self, nazwa, cena):\n",
    "        self.nazwa = nazwa\n",
    "        self.cena = cena\n",
    "\n",
    "    def __str__(self):\n",
    "        return f\"{self.nazwa}: {self.cena}\"\n",
    "\n",
    "# Przykład użycia:\n",
    "produkt = Produkt(\"Książka\", 25)\n",
    "print(produkt)  # Wyświetli: Książka: 25\n",
    "\n",
    "# Próba zapisu liczby mniejszej niż zero\n",
    "produkt.cena = -10  # Wywoła ValueError: Liczba nie może być mniejsza niż zero.\n",
    "\n",
    "```\n",
    "\n",
    "W tym przykładzie klasa `NonNegative` jest deskryptorem. Kiedy atrybut `side_length` w klasie `Square` jest modyfikowany, metody `__get__`, `__set__`, i `__delete__` z `NonNegative` są wywoływane, zapewniając, że wartości są nieujemne.\n",
    "\n",
    "## Dlaczego używać deskryptorów?\n",
    "\n",
    "Deskryptory zapewniają większą kontrolę i elastyczność niż tradycyjne metody dostępu (takie jak bezpośredni dostęp do atrybutów lub używanie `@property`). Są one szczególnie przydatne, gdy logika stojąca za ustawianiem lub pobieraniem wartości jest bardziej złożona. Dzięki nim można uniknąć powtarzania kodu, ponieważ ta sama logika walidacji lub przetwarzania może być stosowana do wielu różnych atrybutów w różnych klasach.\n",
    "\n",
    "## Podsumowanie\n",
    "\n",
    "Deskryptory są potężnym narzędziem w zaawansowanym programowaniu Python, pozwalającym na precyzyjne zarządzanie tym, jak atrybuty są dostępne w naszych klasach. Umożliwiają one tworzenie czystszego, bardziej kontrolowanego i modularnego kodu, zwłaszcza w większych systemach, gdzie te cechy są kluczowe."
   ]
  },
  {
   "cell_type": "code",
   "execution_count": 75,
   "id": "478f2ad8-d02a-486b-993e-783441d216bc",
   "metadata": {},
   "outputs": [
    {
     "name": "stdout",
     "output_type": "stream",
     "text": [
      "Książka: 25\n"
     ]
    },
    {
     "ename": "ValueError",
     "evalue": "Liczba nie może być mniejsza niż zero.",
     "output_type": "error",
     "traceback": [
      "\u001b[1;31m---------------------------------------------------------------------------\u001b[0m",
      "\u001b[1;31mValueError\u001b[0m                                Traceback (most recent call last)",
      "Cell \u001b[1;32mIn[75], line 28\u001b[0m\n\u001b[0;32m     25\u001b[0m \u001b[38;5;28mprint\u001b[39m(produkt)  \u001b[38;5;66;03m# Wyświetli: Książka: 25\u001b[39;00m\n\u001b[0;32m     27\u001b[0m \u001b[38;5;66;03m# Próba zapisu liczby mniejszej niż zero\u001b[39;00m\n\u001b[1;32m---> 28\u001b[0m \u001b[43mprodukt\u001b[49m\u001b[38;5;241;43m.\u001b[39;49m\u001b[43mcena\u001b[49m \u001b[38;5;241m=\u001b[39m \u001b[38;5;241m-\u001b[39m\u001b[38;5;241m10\u001b[39m  \u001b[38;5;66;03m# Wywoła ValueError: Liczba nie może być mniejsza niż zero.\u001b[39;00m\n",
      "Cell \u001b[1;32mIn[75], line 7\u001b[0m, in \u001b[0;36mNonNegativeNumber.__set__\u001b[1;34m(self, instance, value)\u001b[0m\n\u001b[0;32m      5\u001b[0m \u001b[38;5;28;01mdef\u001b[39;00m \u001b[38;5;21m__set__\u001b[39m(\u001b[38;5;28mself\u001b[39m, instance, value):\n\u001b[0;32m      6\u001b[0m     \u001b[38;5;28;01mif\u001b[39;00m value \u001b[38;5;241m<\u001b[39m \u001b[38;5;241m0\u001b[39m:\n\u001b[1;32m----> 7\u001b[0m         \u001b[38;5;28;01mraise\u001b[39;00m \u001b[38;5;167;01mValueError\u001b[39;00m(\u001b[38;5;124m\"\u001b[39m\u001b[38;5;124mLiczba nie może być mniejsza niż zero.\u001b[39m\u001b[38;5;124m\"\u001b[39m)\n\u001b[0;32m      8\u001b[0m     instance\u001b[38;5;241m.\u001b[39m\u001b[38;5;18m__dict__\u001b[39m[\u001b[38;5;28mself\u001b[39m\u001b[38;5;241m.\u001b[39mname] \u001b[38;5;241m=\u001b[39m value\n",
      "\u001b[1;31mValueError\u001b[0m: Liczba nie może być mniejsza niż zero."
     ]
    }
   ],
   "source": [
    "class NonNegativeNumber:\n",
    "    def __get__(self, instance, owner):\n",
    "        return instance.__dict__[self.name]\n",
    "\n",
    "    def __set__(self, instance, value):\n",
    "        if value < 0:\n",
    "            raise ValueError(\"Liczba nie może być mniejsza niż zero.\")\n",
    "        instance.__dict__[self.name] = value\n",
    "\n",
    "    def __set_name__(self, owner, name):\n",
    "        self.name = name\n",
    "\n",
    "class Produkt:\n",
    "    cena = NonNegativeNumber()\n",
    "\n",
    "    def __init__(self, nazwa, cena):\n",
    "        self.nazwa = nazwa\n",
    "        self.cena = cena\n",
    "\n",
    "    def __str__(self):\n",
    "        return f\"{self.nazwa}: {self.cena}\"\n",
    "\n",
    "# Przykład użycia:\n",
    "produkt = Produkt(\"Książka\", 25)\n",
    "print(produkt)  # Wyświetli: Książka: 25\n",
    "\n",
    "# Próba zapisu liczby mniejszej niż zero\n",
    "produkt.cena = -10  # Wywoła ValueError: Liczba nie może być mniejsza niż zero.\n"
   ]
  },
  {
   "cell_type": "markdown",
   "id": "c090da35-40d2-4680-b8ce-1d21d6402d16",
   "metadata": {},
   "source": [
    "### Ćwiczenie Implementacja klasy Circle z deskryptorem i właściwościami (atrybutami dynamicznymi)\n",
    "\n",
    "W tym zadaniu zostaniesz poproszony o stworzenie klasy `Circle` w Pythonie, która wykorzystuje deskryptory i właściwości (property) do zarządzania swoimi atrybutami. Klasa `Circle` będzie miała następujące cechy:\n",
    "\n",
    "1. **Deskryptor dla promienia (radius):** Twoim pierwszym zadaniem będzie utworzenie deskryptora, który będzie zarządzać atrybutem promienia. Deskryptor powinien upewnić się, że promień kręgu jest zawsze wartością dodatnią oraz rzucić wyjątek, jeśli ktoś spróbuje ustawić promień na wartość ujemną.\n",
    "\n",
    "2. **Właściwości dla pola powierzchni i obwodu:** Następnie zaimplementujesz dwie właściwości (property) w klasie `Circle`:\n",
    "    - `area`: która będzie obliczać i zwracać pole powierzchni koła na podstawie jego promienia.\n",
    "    - `circumference`: która będzie obliczać i zwracać obwód koła.\n",
    "\n",
    "\n",
    "Jako rozwinięcie zadania dodaj możliwość ustawiania pola i obwodu - tak by to wpływało na promień"
   ]
  },
  {
   "cell_type": "code",
   "execution_count": 74,
   "id": "1319b7fd-db0e-474f-9301-b4e454c6218c",
   "metadata": {},
   "outputs": [
    {
     "ename": "NameError",
     "evalue": "name 'Circle' is not defined",
     "output_type": "error",
     "traceback": [
      "\u001b[1;31m---------------------------------------------------------------------------\u001b[0m",
      "\u001b[1;31mNameError\u001b[0m                                 Traceback (most recent call last)",
      "Cell \u001b[1;32mIn[74], line 1\u001b[0m\n\u001b[1;32m----> 1\u001b[0m c \u001b[38;5;241m=\u001b[39m \u001b[43mCircle\u001b[49m(\u001b[38;5;241m10\u001b[39m)\n\u001b[0;32m      3\u001b[0m \u001b[38;5;28;01massert\u001b[39;00m c\u001b[38;5;241m.\u001b[39marea \u001b[38;5;241m==\u001b[39m \u001b[38;5;241m3.14\u001b[39m \u001b[38;5;241m*\u001b[39m \u001b[38;5;241m10\u001b[39m \u001b[38;5;241m*\u001b[39m\u001b[38;5;241m*\u001b[39m \u001b[38;5;241m2\u001b[39m\n\u001b[0;32m      4\u001b[0m \u001b[38;5;28;01massert\u001b[39;00m c\u001b[38;5;241m.\u001b[39mcircumference \u001b[38;5;241m==\u001b[39m \u001b[38;5;241m2\u001b[39m \u001b[38;5;241m*\u001b[39m \u001b[38;5;241m3.14\u001b[39m \u001b[38;5;241m*\u001b[39m \u001b[38;5;241m10\u001b[39m\n",
      "\u001b[1;31mNameError\u001b[0m: name 'Circle' is not defined"
     ]
    }
   ],
   "source": [
    "c = Circle(10)\n",
    "\n",
    "assert c.area == 3.14 * 10 ** 2\n",
    "assert c.circumference == 2 * 3.14 * 10\n",
    "\n",
    "# c1 = Circle(-10) to daje błąd\n",
    "\n",
    "c.area = 3.14\n",
    "assert c.radius == 1"
   ]
  },
  {
   "cell_type": "markdown",
   "id": "1c524b33-f401-4476-a042-ab8cae178e77",
   "metadata": {},
   "source": [
    "## Iterator w Pythonie: Wprowadzenie i Praktyczne Przykłady\n",
    "\n",
    "**Wprowadzenie**\n",
    "\n",
    "W Pythonie iteratory odgrywają kluczową rolę, pozwalając na przechodzenie przez elementy kolekcji (takie jak listy, krotki, słowniki) w sposób zarówno wydajny, jak i stylowo elegancki. Zasada działania iteratorów opiera się na dwóch fundamentalnych metodach, które implementują: `__iter__()` i `__next__()`.\n",
    "\n",
    "**Co to jest iterator?**\n",
    "\n",
    "Iterator to obiekt, który pozwala na przeglądanie wszystkich elementów kolekcji, jeden po drugim. Główną zaletą iteratora jest to, że nie wymaga on ładowania całej kolekcji do pamięci jednocześnie, co jest szczególnie użyteczne w przypadku dużych zbiorów danych.\n",
    "\n",
    "**Jak działa iterator?**\n",
    "\n",
    "Iterator w Pythonie musi implementować dwie metody, aby umożliwić iterację:\n",
    "\n",
    "1. `__iter__()` - zwraca sam iterator. Jest to wymóg, aby obiekt był rozpoznawany jako iterator.\n",
    "2. `__next__()` - zwraca kolejny element kolekcji. Gdy elementy się skończą, powinna zgłosić wyjątek `StopIteration`, informując, że dalsza iteracja jest niemożliwa.\n",
    "\n",
    "**Przykład tworzenia iteratora za pomocą klasy:**\n",
    "\n",
    "```python\n",
    "class LiczbyParzyste:\n",
    "    \"\"\"Klasa będąca iteratorem generującym liczby parzyste do podanego limitu\"\"\"\n",
    "\n",
    "    def __init__(self, maks):\n",
    "        self.maks = maks\n",
    "        self.liczba = 0\n",
    "\n",
    "    def __iter__(self):\n",
    "        return self\n",
    "\n",
    "    def __next__(self):\n",
    "        if self.liczba < self.maks:\n",
    "            aktualna = self.liczba\n",
    "            self.liczba += 2\n",
    "            return aktualna\n",
    "        else:\n",
    "            raise StopIteration\n",
    "\n",
    "# Użycie iteratora\n",
    "parzyste = LiczbyParzyste(10)\n",
    "for liczba in parzyste:\n",
    "    print(liczba)\n",
    "```\n",
    "\n",
    "W tym przykładzie klasa `LiczbyParzyste` generuje liczby parzyste, zaczynając od zera, a kończąc na określonym limicie.\n",
    "\n",
    "**Zadanie: Stwórz swój własny iterator**\n",
    "\n",
    "Twoim zadaniem jest stworzenie klasy iteratora `Zakres`, która działa podobnie do wbudowanej funkcji `range()` w Pythonie. Iterator powinien przyjmować dwa argumenty: `start` i `koniec`, a następnie umożliwiać iterację przez wszystkie liczby całkowite (integers) w tym zakresie.\n",
    "\n",
    "Uwagi:\n",
    "- Pamiętaj o prawidłowej implementacji metod `__iter__()` i `__next__()`.\n",
    "- Iterator powinien zgłaszać wyjątek `StopIteration`, kiedy osiągnie koniec zakresu.\n",
    "- Przetestuj swój iterator, próbując iterować od różnych liczb początkowych do różnych liczb końcowych i sprawdź, czy wyniki są zgodne z oczekiwaniami.\n",
    "\n",
    "To zadanie pomoże Ci lepiej zrozumieć, jak działają iteratory w Pythonie, poprzez praktyczne zastosowanie i implementację własnej klasy iteratora."
   ]
  },
  {
   "cell_type": "markdown",
   "id": "d086a187-fc6a-4d69-9cbd-e1c916bc9d4b",
   "metadata": {},
   "source": [
    "## Context manager\n",
    "\n",
    "**Zarządzanie Kontekstem w Pythonie: Tworzenie i Wykorzystanie Context Managerów**\n",
    "\n",
    "**Wprowadzenie**\n",
    "\n",
    "Zarządzanie zasobami, takimi jak pliki, połączenia sieciowe czy blokady, może być kłopotliwe i podatne na błędy, szczególnie gdy występują wyjątki i błędy. Język Python wprowadza abstrakcję zwaną \"context managers\", która upraszcza te zadania, automatyzując standardowe procedury wejścia i wyjścia. W tym artykule omówimy, jak tworzyć własne context managers za pomocą klas.\n",
    "\n",
    "**Co to jest Context Manager?**\n",
    "\n",
    "Context manager to typ obiektu, który ustanawia kontekst w swojej metodzie `__enter__` i zazwyczaj kończy go w metodzie `__exit__`. Najpopularniejszym przykładem użycia jest instrukcja `with`, która zapewnia, że zasoby są prawidłowo zarządzane i zwalniane.\n",
    "\n",
    "**Jak działa?**\n",
    "\n",
    "Kiedy blok `with` jest wykonywany, następujące kroki są podejmowane:\n",
    "\n",
    "1. Metoda `__enter__` jest wywoływana.\n",
    "2. Ciało bloku `with` jest wykonywane.\n",
    "3. Metoda `__exit__` jest wywoływana, nawet jeśli w ciele bloku `with` doszło do wyjątku.\n",
    "\n",
    "**Tworzenie Context Managera za pomocą klasy**\n",
    "\n",
    "Można tworzyć własne context managers, implementując metody `__enter__` i `__exit__`. Poniżej znajduje się przykład:"
   ]
  },
  {
   "cell_type": "code",
   "execution_count": 80,
   "id": "6863b141-1943-4f3a-a1c0-ada2ce39297a",
   "metadata": {},
   "outputs": [
    {
     "name": "stdout",
     "output_type": "stream",
     "text": [
      "['_CHUNK_SIZE', '__class__', '__del__', '__delattr__', '__dict__', '__dir__', '__doc__', '__enter__', '__eq__', '__exit__', '__format__', '__ge__', '__getattribute__', '__getstate__', '__gt__', '__hash__', '__init__', '__init_subclass__', '__iter__', '__le__', '__lt__', '__ne__', '__new__', '__next__', '__reduce__', '__reduce_ex__', '__repr__', '__setattr__', '__sizeof__', '__str__', '__subclasshook__', '_checkClosed', '_checkReadable', '_checkSeekable', '_checkWritable', '_finalizing', 'buffer', 'close', 'closed', 'detach', 'encoding', 'errors', 'fileno', 'flush', 'isatty', 'line_buffering', 'mode', 'name', 'newlines', 'read', 'readable', 'readline', 'readlines', 'reconfigure', 'seek', 'seekable', 'tell', 'truncate', 'writable', 'write', 'write_through', 'writelines']\n",
      "False\n",
      "True\n"
     ]
    }
   ],
   "source": [
    "with open(\"plik.txt\", \"w\") as f:\n",
    "    print(dir(f))\n",
    "    print(f.closed)\n",
    "    \n",
    "print(f.closed)\n",
    "    "
   ]
  },
  {
   "cell_type": "code",
   "execution_count": 82,
   "id": "f664da16-12cb-464f-b99d-ca01f80f7da0",
   "metadata": {},
   "outputs": [
    {
     "data": {
      "text/plain": [
       "\u001b[1;31mSignature:\u001b[0m\n",
       "\u001b[0mopen\u001b[0m\u001b[1;33m(\u001b[0m\u001b[1;33m\n",
       "\u001b[0m    \u001b[0mfile\u001b[0m\u001b[1;33m,\u001b[0m\u001b[1;33m\n",
       "\u001b[0m    \u001b[0mmode\u001b[0m\u001b[1;33m=\u001b[0m\u001b[1;34m'r'\u001b[0m\u001b[1;33m,\u001b[0m\u001b[1;33m\n",
       "\u001b[0m    \u001b[0mbuffering\u001b[0m\u001b[1;33m=\u001b[0m\u001b[1;33m-\u001b[0m\u001b[1;36m1\u001b[0m\u001b[1;33m,\u001b[0m\u001b[1;33m\n",
       "\u001b[0m    \u001b[0mencoding\u001b[0m\u001b[1;33m=\u001b[0m\u001b[1;32mNone\u001b[0m\u001b[1;33m,\u001b[0m\u001b[1;33m\n",
       "\u001b[0m    \u001b[0merrors\u001b[0m\u001b[1;33m=\u001b[0m\u001b[1;32mNone\u001b[0m\u001b[1;33m,\u001b[0m\u001b[1;33m\n",
       "\u001b[0m    \u001b[0mnewline\u001b[0m\u001b[1;33m=\u001b[0m\u001b[1;32mNone\u001b[0m\u001b[1;33m,\u001b[0m\u001b[1;33m\n",
       "\u001b[0m    \u001b[0mclosefd\u001b[0m\u001b[1;33m=\u001b[0m\u001b[1;32mTrue\u001b[0m\u001b[1;33m,\u001b[0m\u001b[1;33m\n",
       "\u001b[0m    \u001b[0mopener\u001b[0m\u001b[1;33m=\u001b[0m\u001b[1;32mNone\u001b[0m\u001b[1;33m,\u001b[0m\u001b[1;33m\n",
       "\u001b[0m\u001b[1;33m)\u001b[0m\u001b[1;33m\u001b[0m\u001b[1;33m\u001b[0m\u001b[0m\n",
       "\u001b[1;31mDocstring:\u001b[0m\n",
       "Open file and return a stream.  Raise OSError upon failure.\n",
       "\n",
       "file is either a text or byte string giving the name (and the path\n",
       "if the file isn't in the current working directory) of the file to\n",
       "be opened or an integer file descriptor of the file to be\n",
       "wrapped. (If a file descriptor is given, it is closed when the\n",
       "returned I/O object is closed, unless closefd is set to False.)\n",
       "\n",
       "mode is an optional string that specifies the mode in which the file\n",
       "is opened. It defaults to 'r' which means open for reading in text\n",
       "mode.  Other common values are 'w' for writing (truncating the file if\n",
       "it already exists), 'x' for creating and writing to a new file, and\n",
       "'a' for appending (which on some Unix systems, means that all writes\n",
       "append to the end of the file regardless of the current seek position).\n",
       "In text mode, if encoding is not specified the encoding used is platform\n",
       "dependent: locale.getencoding() is called to get the current locale encoding.\n",
       "(For reading and writing raw bytes use binary mode and leave encoding\n",
       "unspecified.) The available modes are:\n",
       "\n",
       "========= ===============================================================\n",
       "Character Meaning\n",
       "--------- ---------------------------------------------------------------\n",
       "'r'       open for reading (default)\n",
       "'w'       open for writing, truncating the file first\n",
       "'x'       create a new file and open it for writing\n",
       "'a'       open for writing, appending to the end of the file if it exists\n",
       "'b'       binary mode\n",
       "'t'       text mode (default)\n",
       "'+'       open a disk file for updating (reading and writing)\n",
       "========= ===============================================================\n",
       "\n",
       "The default mode is 'rt' (open for reading text). For binary random\n",
       "access, the mode 'w+b' opens and truncates the file to 0 bytes, while\n",
       "'r+b' opens the file without truncation. The 'x' mode implies 'w' and\n",
       "raises an `FileExistsError` if the file already exists.\n",
       "\n",
       "Python distinguishes between files opened in binary and text modes,\n",
       "even when the underlying operating system doesn't. Files opened in\n",
       "binary mode (appending 'b' to the mode argument) return contents as\n",
       "bytes objects without any decoding. In text mode (the default, or when\n",
       "'t' is appended to the mode argument), the contents of the file are\n",
       "returned as strings, the bytes having been first decoded using a\n",
       "platform-dependent encoding or using the specified encoding if given.\n",
       "\n",
       "buffering is an optional integer used to set the buffering policy.\n",
       "Pass 0 to switch buffering off (only allowed in binary mode), 1 to select\n",
       "line buffering (only usable in text mode), and an integer > 1 to indicate\n",
       "the size of a fixed-size chunk buffer.  When no buffering argument is\n",
       "given, the default buffering policy works as follows:\n",
       "\n",
       "* Binary files are buffered in fixed-size chunks; the size of the buffer\n",
       "  is chosen using a heuristic trying to determine the underlying device's\n",
       "  \"block size\" and falling back on `io.DEFAULT_BUFFER_SIZE`.\n",
       "  On many systems, the buffer will typically be 4096 or 8192 bytes long.\n",
       "\n",
       "* \"Interactive\" text files (files for which isatty() returns True)\n",
       "  use line buffering.  Other text files use the policy described above\n",
       "  for binary files.\n",
       "\n",
       "encoding is the name of the encoding used to decode or encode the\n",
       "file. This should only be used in text mode. The default encoding is\n",
       "platform dependent, but any encoding supported by Python can be\n",
       "passed.  See the codecs module for the list of supported encodings.\n",
       "\n",
       "errors is an optional string that specifies how encoding errors are to\n",
       "be handled---this argument should not be used in binary mode. Pass\n",
       "'strict' to raise a ValueError exception if there is an encoding error\n",
       "(the default of None has the same effect), or pass 'ignore' to ignore\n",
       "errors. (Note that ignoring encoding errors can lead to data loss.)\n",
       "See the documentation for codecs.register or run 'help(codecs.Codec)'\n",
       "for a list of the permitted encoding error strings.\n",
       "\n",
       "newline controls how universal newlines works (it only applies to text\n",
       "mode). It can be None, '', '\\n', '\\r', and '\\r\\n'.  It works as\n",
       "follows:\n",
       "\n",
       "* On input, if newline is None, universal newlines mode is\n",
       "  enabled. Lines in the input can end in '\\n', '\\r', or '\\r\\n', and\n",
       "  these are translated into '\\n' before being returned to the\n",
       "  caller. If it is '', universal newline mode is enabled, but line\n",
       "  endings are returned to the caller untranslated. If it has any of\n",
       "  the other legal values, input lines are only terminated by the given\n",
       "  string, and the line ending is returned to the caller untranslated.\n",
       "\n",
       "* On output, if newline is None, any '\\n' characters written are\n",
       "  translated to the system default line separator, os.linesep. If\n",
       "  newline is '' or '\\n', no translation takes place. If newline is any\n",
       "  of the other legal values, any '\\n' characters written are translated\n",
       "  to the given string.\n",
       "\n",
       "If closefd is False, the underlying file descriptor will be kept open\n",
       "when the file is closed. This does not work when a file name is given\n",
       "and must be True in that case.\n",
       "\n",
       "A custom opener can be used by passing a callable as *opener*. The\n",
       "underlying file descriptor for the file object is then obtained by\n",
       "calling *opener* with (*file*, *flags*). *opener* must return an open\n",
       "file descriptor (passing os.open as *opener* results in functionality\n",
       "similar to passing None).\n",
       "\n",
       "open() returns a file object whose type depends on the mode, and\n",
       "through which the standard file operations such as reading and writing\n",
       "are performed. When open() is used to open a file in a text mode ('w',\n",
       "'r', 'wt', 'rt', etc.), it returns a TextIOWrapper. When used to open\n",
       "a file in a binary mode, the returned class varies: in read binary\n",
       "mode, it returns a BufferedReader; in write binary and append binary\n",
       "modes, it returns a BufferedWriter, and in read/write mode, it returns\n",
       "a BufferedRandom.\n",
       "\n",
       "It is also possible to use a string or bytearray as a file for both\n",
       "reading and writing. For strings StringIO can be used like a file\n",
       "opened in a text mode, and for bytes a BytesIO can be used like a file\n",
       "opened in a binary mode.\n",
       "\u001b[1;31mType:\u001b[0m      function"
      ]
     },
     "metadata": {},
     "output_type": "display_data"
    }
   ],
   "source": [
    "open?"
   ]
  },
  {
   "cell_type": "code",
   "execution_count": 21,
   "id": "12ee4a48-51d9-42c9-af74-b72eb1ce7739",
   "metadata": {},
   "outputs": [],
   "source": [
    "# try:\n",
    "#     f = open()\n",
    "# except:\n",
    "#     ...\n",
    "# finally:\n",
    "#     f.close()\n",
    "\n",
    "class ZarzadcaPlikow:\n",
    "    def __init__(self, nazwa_pliku, tryb):\n",
    "        self.nazwa_pliku = nazwa_pliku\n",
    "        self.tryb = tryb\n",
    "        self.plik = None\n",
    "\n",
    "    def __enter__(self):\n",
    "        self.plik = open(self.nazwa_pliku, self.tryb)\n",
    "        return self.plik\n",
    "\n",
    "    def __exit__(self, exc_type, exc_value, traceback):\n",
    "        self.plik.close()\n",
    "\n",
    "# Użycie ZarzadcaPlikow\n",
    "with ZarzadcaPlikow('plik.txt', 'w') as plik:\n",
    "        plik.write('Witaj, świecie context managerów!')\n"
   ]
  },
  {
   "cell_type": "code",
   "execution_count": 22,
   "id": "0c73c0cc-4bb0-431f-aaf1-4e9c8c36c326",
   "metadata": {},
   "outputs": [
    {
     "name": "stdout",
     "output_type": "stream",
     "text": [
      "Witaj, świecie context managerów!"
     ]
    }
   ],
   "source": [
    "cat plik.txt"
   ]
  },
  {
   "cell_type": "markdown",
   "id": "d0042ecf-d059-44fc-a460-163826314db1",
   "metadata": {},
   "source": [
    "W tym przykładzie, `ZarzadcaPlikow` otwiera plik, umożliwiając bezpieczne wykonanie operacji na nim, a następnie gwarantuje, że plik zostanie zamknięty, niezależnie od tego, co się wydarzy w ciele bloku `with`."
   ]
  },
  {
   "cell_type": "markdown",
   "id": "4e51e0e5-8857-4a05-a7ac-7246cf10e16f",
   "metadata": {},
   "source": [
    "**Zadanie: Stwórz swój własny Context Manager**\n",
    "\n",
    "Twoim zadaniem jest stworzenie context managera `ZarzadcaPolaczeniaSieciowego`, który symuluje nawiązywanie połączenia sieciowego. Powinien on:\n",
    "\n",
    "1. Nawiązywać \"połączenie\" w metodzie `__enter__` (może to być wydruk na konsoli, np. \"Nawiązano połączenie\").\n",
    "2. Zamykać \"połączenie\" w metodzie `__exit__`, nawet jeśli wystąpią wyjątki (np. wydruk \"Połączenie zostało zamknięte\").\n",
    "3. Symulować rzeczywiste warunki, generując czasami wyjątek przy próbie \"nawiązania połączenia\", aby sprawdzić, czy metoda `__exit__` jest właściwie wywoływana.\n",
    "\n",
    "Poprzez to zadanie zrozumiesz, jak context managers zapewniają zarządzanie zasobami i jak można je stosować do symulowania złożonych operacji I/O lub zarządzania zasobami w aplikacjach Pythona."
   ]
  },
  {
   "cell_type": "markdown",
   "id": "d57166fe-a989-45af-ae4b-65bce55a12e3",
   "metadata": {},
   "source": [
    "## Interfejsy w Pythonie: Wykorzystanie Modułu ABC (Abstract Base Classes)\n",
    "\n",
    "**Wprowadzenie**\n",
    "\n",
    "Python, jako język programowania o dynamicznym typowaniu, tradycyjnie opiera się na \"kaczych typach\" (jeśli coś wygląda jak kaczka i kwacze jak kaczka, to jest kaczką). Mimo to, istnieje potrzeba określenia jasnych interfejsów, zwłaszcza w większych systemach. Moduł `abc` (Abstract Base Classes) wprowadza mechanizmy do tworzenia klas abstrakcyjnych i wymuszania implementacji określonych metod w klasach pochodnych.\n",
    "\n",
    "**Co to jest klasa abstrakcyjna?**\n",
    "\n",
    "Klasa abstrakcyjna to klasa, która definiuje określone metody, które muszą być zaimplementowane w jej klasach pochodnych. Nie można utworzyć instancji klasy abstrakcyjnej, służy ona jako szablon do tworzenia klas pochodnych.\n",
    "\n",
    "**Jak używać modułu ABC?**\n",
    "\n",
    "Moduł `abc` w Pythonie dostarcza środki do definiowania klas bazowych abstrakcyjnych. Oto przykład, jak można go użyć:"
   ]
  },
  {
   "cell_type": "code",
   "execution_count": 86,
   "id": "f1441944-15b6-41ea-829d-9c22c7a97023",
   "metadata": {},
   "outputs": [],
   "source": [
    "from abc import ABC, abstractmethod\n",
    "\n",
    "# interfejs\n",
    "class Instrument(ABC):\n",
    "\n",
    "    @abstractmethod\n",
    "    def zagraj(self):\n",
    "        pass\n",
    "\n",
    "# ta klasa spełnia ten interfejs\n",
    "class Gitara(Instrument):\n",
    "    \n",
    "    def zagraj(self):\n",
    "        return \"Brzdęk!\"\n",
    "\n",
    "\n",
    "class Perkusja(Instrument):\n",
    "    \n",
    "    def zagraj(self):\n",
    "        return \"łubudu\"\n",
    "\n",
    "# ta klasa nie spełnia tego interfejsu, bo  nie ma implementacji metody zagraj\n",
    "class BezdzwiecznyInstrument(Instrument):\n",
    "    pass  # Brak implementacji metody 'zagraj'"
   ]
  },
  {
   "cell_type": "code",
   "execution_count": 91,
   "id": "5e280870-bce5-4d05-b31a-d0b67428e07c",
   "metadata": {},
   "outputs": [],
   "source": [
    "def granie(instrument: Instrument):\n",
    "    print(instrument.)\n",
    "\n",
    "p = Perkusja()\n",
    "g = Gitara()\n",
    "\n",
    "instrumenty = [p,g, p, g, g, g, p]\n",
    "\n",
    "for i in instrumenty:\n",
    "    print(granie(i))"
   ]
  },
  {
   "cell_type": "code",
   "execution_count": 89,
   "id": "7a8f750b-11b2-4856-9b88-8882ecc3278f",
   "metadata": {},
   "outputs": [
    {
     "ename": "TypeError",
     "evalue": "Can't instantiate abstract class Instrument with abstract method zagraj",
     "output_type": "error",
     "traceback": [
      "\u001b[1;31m---------------------------------------------------------------------------\u001b[0m",
      "\u001b[1;31mTypeError\u001b[0m                                 Traceback (most recent call last)",
      "Cell \u001b[1;32mIn[89], line 1\u001b[0m\n\u001b[1;32m----> 1\u001b[0m \u001b[43mInstrument\u001b[49m\u001b[43m(\u001b[49m\u001b[43m)\u001b[49m\n",
      "\u001b[1;31mTypeError\u001b[0m: Can't instantiate abstract class Instrument with abstract method zagraj"
     ]
    }
   ],
   "source": [
    "Instrument()"
   ]
  },
  {
   "cell_type": "code",
   "execution_count": 87,
   "id": "ed4dbeab-93ad-49ae-a846-1a8d84e7b4d9",
   "metadata": {},
   "outputs": [
    {
     "name": "stdout",
     "output_type": "stream",
     "text": [
      "Brzdęk!\n"
     ]
    }
   ],
   "source": [
    "# Tworzenie instancji\n",
    "gitara = Gitara()\n",
    "print(gitara.zagraj())  # Wyświetli: Brzdęk!"
   ]
  },
  {
   "cell_type": "code",
   "execution_count": 88,
   "id": "dd9ed803-0fb8-4078-8928-197278d7a613",
   "metadata": {},
   "outputs": [],
   "source": [
    "# Proba utworzenia instancji klasy BezdzwiecznyInstrument spowoduje błąd\n",
    "# bo nie zaimplementowano metody abstrakcyjnej 'zagraj'\n",
    "niby_instrument = BezdzwiecznyInstrument()"
   ]
  },
  {
   "cell_type": "markdown",
   "id": "958d17d7-3e29-4e5b-9f52-64ce3c576593",
   "metadata": {},
   "source": [
    "W tym przykładzie, `Instrument` to klasa abstrakcyjna z metodą abstrakcyjną `zagraj`. Klasa `Gitara` implementuje tę metodę, natomiast `BezdzwiecznyInstrument` nie, co powoduje błąd podczas próby utworzenia jego instancji.\n",
    "\n",
    "**Zadanie: Zdefiniuj Swój Własny Interfejs**\n",
    "\n",
    "1. Stwórz klasę abstrakcyjną `Pojazd` z metodami abstrakcyjnymi: `jedz` i `zatrzymaj_sie`.\n",
    "2. Zaimplementuj dwie klasy pochodne: `Samochod` i `Rower`, które definiują szczegóły tych metod.\n",
    "3. Spróbuj utworzyć instancje obu klas i użyć ich metod. Sprawdź, co się stanie, gdybyś próbował zainicjować obiekt bezpośrednio z klasy `Pojazd`.\n",
    "\n",
    "To zadanie pomoże Ci zrozumieć, jak moduł `abc` umożliwia tworzenie jasno zdefiniowanych interfejsów w Pythonie, wymuszając przy tym konsekwencję i strukturę w klasach pochodnych. Przez zastosowanie abstrakcyjnych klas bazowych, programiści mogą pisać bardziej czytelny, bezpieczny i łatwy do zarządzania kod, szczególnie w dużych projektach."
   ]
  },
  {
   "cell_type": "markdown",
   "id": "655ab9b2-ed2a-44c5-af1b-b186e5a45d92",
   "metadata": {},
   "source": [
    "## Interfejsy w Pythonie: Wykorzystanie Protokołów z Modułu Typing\n",
    "\n",
    "**Wprowadzenie**\n",
    "\n",
    "Python, znany ze swojego elastycznego systemu typów, oferuje różne podejścia do definiowania interfejsów. Oprócz klas abstrakcyjnych, które wymagają ścisłej struktury, Python wprowadza koncepcję \"protokołów\" z modułu \"typing\", umożliwiając bardziej elastyczną formę typowania strukturalnego, znanej także jako \"kacze typowanie\". \n",
    "\n",
    "**Co to jest Protokół?**\n",
    "\n",
    "Protokół to klasa, która definiuje zestaw metod i atrybutów, które powinna zawierać instancja, aby pasowała do tego protokołu. Jest to elastyczniejsza forma klas abstrakcyjnych, ponieważ pozwala instancjom posiadającym odpowiednie metody i atrybuty pasować do protokołu, niezależnie od ich rzeczywistej struktury klasy.\n",
    "\n",
    "**Jak używać Protokołów?**\n",
    "\n",
    "Oto przykład użycia protokołów z modułu \"typing\":\n",
    "\n",
    "```python\n",
    "from typing import Protocol\n",
    "\n",
    "class Grajacy(Protocol):\n",
    "    \n",
    "    def zagraj(self) -> str:\n",
    "        ...\n",
    "\n",
    "class Gitara:\n",
    "    \n",
    "    def zagraj(self) -> str:\n",
    "        return \"Brzdęk!\"\n",
    "\n",
    "class BezdzwiecznyInstrument:\n",
    "    pass  # Brak metody 'zagraj'\n",
    "\n",
    "def rozpocznij_koncert(instrument: Grajacy):\n",
    "    print(instrument.zagraj())\n",
    "\n",
    "gitara = Gitara()\n",
    "rozpocznij_koncert(gitara)  # Bez problemu, ponieważ Gitara pasuje do protokołu Grajacy\n",
    "\n",
    "niby_instrument = BezdzwiecznyInstrument()\n",
    "rozpocznij_koncert(niby_instrument)  # Błąd! Nie spełnia wymagań protokołu\n",
    "```\n",
    "\n",
    "W tym przykładzie, `Grajacy` to protokół, który oczekuje, że instancje będą miały metodę `zagraj`. Klasa `Gitara` spełnia te wymagania, ponieważ zawiera metodę `zagraj`, podczas gdy `BezdzwiecznyInstrument` nie.\n",
    "\n",
    "**Różnice między Protokołami a Klasami Abstrakcyjnymi**\n",
    "\n",
    "1. **Strukturalne vs Nominalne Typowanie**: Klasy abstrakcyjne stosują nominalne typowanie, gdzie klasa musi wyraźnie dziedziczyć po klasie abstrakcyjnej. Protokoły stosują typowanie strukturalne, gdzie obiekt jest uważany za zgodny, jeśli posiada odpowiednie metody/cechy, niezależnie od dziedziczenia.\n",
    "\n",
    "2. **Elastyczność**: Protokoły są bardziej elastyczne, pozwalając na sprawdzanie typu w czasie wykonania lub statycznie (jeśli używane są narzędzia do sprawdzania typów jak mypy). \n",
    "\n",
    "3. **Wykorzystanie w Typowaniu**: Protokoły mogą być wykorzystywane w podpowiedziach typów, aby wskazać, jakie operacje można wykonywać na danym obiekcie, zwiększając czytelność i bezpieczeństwo kodu.\n",
    "\n",
    "**Zadanie: Stwórz Swój Własny Protokół**\n",
    "\n",
    "1. Zdefiniuj protokół `Pojazd`, który wymaga metody `jedz`.\n",
    "2. Stwórz klasy `Samochod` i `Rower`, zaimplementuj w nich metodę `jedz`.\n",
    "3. Napisz funkcję `rozpocznij_podroz`, która akceptuje obiekt typu `Pojazd` i wywołuje jego metodę `jedz`.\n",
    "4. Sprawdź, co się stanie, gdybyś przekazał instancję klasy, która nie implementuje wymaganej metody.\n",
    "\n",
    "To zadanie pozwoli Ci zrozumieć, jak protokoły w Pythonie ułatwiają tworzenie czytelnych i bezpiecznych interfejsów, zachowując elastyczność \"kaczych typów\" i zwiększając możliwości sprawdzania typów."
   ]
  },
  {
   "cell_type": "code",
   "execution_count": 92,
   "id": "9e3842cc-f930-45bd-88da-7d7331b546b0",
   "metadata": {},
   "outputs": [
    {
     "name": "stdout",
     "output_type": "stream",
     "text": [
      "Samochód jedzie!\n",
      "Rower jedzie!\n"
     ]
    },
    {
     "ename": "AttributeError",
     "evalue": "'Kamien' object has no attribute 'jedz'",
     "output_type": "error",
     "traceback": [
      "\u001b[1;31m---------------------------------------------------------------------------\u001b[0m",
      "\u001b[1;31mAttributeError\u001b[0m                            Traceback (most recent call last)",
      "Cell \u001b[1;32mIn[92], line 37\u001b[0m\n\u001b[0;32m     33\u001b[0m rozpocznij_podroz(rower)     \u001b[38;5;66;03m# Wydrukuje: \"Rower jedzie!\"\u001b[39;00m\n\u001b[0;32m     35\u001b[0m \u001b[38;5;66;03m# Próba przekazania instancji, która nie spełnia protokołu, prowadzi do błędu w narzędziach sprawdzających typy (np. mypy),\u001b[39;00m\n\u001b[0;32m     36\u001b[0m \u001b[38;5;66;03m# ale nie spowoduje błędu w czasie wykonania, do momentu próby wywołania brakującej metody.\u001b[39;00m\n\u001b[1;32m---> 37\u001b[0m \u001b[43mrozpocznij_podroz\u001b[49m\u001b[43m(\u001b[49m\u001b[43mkamien\u001b[49m\u001b[43m)\u001b[49m    \u001b[38;5;66;03m# Błąd jeśli używamy narzędzi sprawdzających typy; w trakcie wykonania błąd pojawia się podczas wywołania metody 'jedz'\u001b[39;00m\n",
      "Cell \u001b[1;32mIn[92], line 24\u001b[0m, in \u001b[0;36mrozpocznij_podroz\u001b[1;34m(pojazd)\u001b[0m\n\u001b[0;32m     23\u001b[0m \u001b[38;5;28;01mdef\u001b[39;00m \u001b[38;5;21mrozpocznij_podroz\u001b[39m(pojazd: Pojazd) \u001b[38;5;241m-\u001b[39m\u001b[38;5;241m>\u001b[39m \u001b[38;5;28;01mNone\u001b[39;00m:\n\u001b[1;32m---> 24\u001b[0m     \u001b[38;5;28mprint\u001b[39m(\u001b[43mpojazd\u001b[49m\u001b[38;5;241;43m.\u001b[39;49m\u001b[43mjedz\u001b[49m())\n",
      "\u001b[1;31mAttributeError\u001b[0m: 'Kamien' object has no attribute 'jedz'"
     ]
    }
   ],
   "source": [
    "from typing import Protocol\n",
    "\n",
    "# Krok 1: Definiowanie protokołu\n",
    "class Pojazd(Protocol):\n",
    "    def jedz(self) -> str:\n",
    "        ...\n",
    "\n",
    "# Krok 2: Implementacja klas, które spełniają wymagania protokołu\n",
    "class Samochod:\n",
    "    def jedz(self) -> str:\n",
    "        return \"Samochód jedzie!\"\n",
    "\n",
    "class Rower:\n",
    "    def jedz(self) -> str:\n",
    "        return \"Rower jedzie!\"\n",
    "\n",
    "# Klasa, która nie spełnia wymagań protokołu\n",
    "class Kamien:\n",
    "    def siedz(self) -> str:  # Ta metoda nie spełnia wymagań protokołu \"Pojazd\"\n",
    "        return \"Kamień siedzi!\"\n",
    "\n",
    "# Krok 3: Funkcja akceptująca obiekt typu 'Pojazd'\n",
    "def rozpocznij_podroz(pojazd: Pojazd) -> None:\n",
    "    print(pojazd.jedz())  # Wywołanie metody, która powinna istnieć zgodnie z protokołem\n",
    "\n",
    "# Testowanie kodu\n",
    "samochod = Samochod()\n",
    "rower = Rower()\n",
    "kamien = Kamien()\n",
    "\n",
    "# Krok 4: Sprawdzenie, co się stanie\n",
    "rozpocznij_podroz(samochod)  # Wydrukuje: \"Samochód jedzie!\"\n",
    "rozpocznij_podroz(rower)     # Wydrukuje: \"Rower jedzie!\"\n",
    "\n",
    "# Próba przekazania instancji, która nie spełnia protokołu, prowadzi do błędu w narzędziach sprawdzających typy (np. mypy),\n",
    "# ale nie spowoduje błędu w czasie wykonania, do momentu próby wywołania brakującej metody.\n",
    "rozpocznij_podroz(kamien)    # Błąd jeśli używamy narzędzi sprawdzających typy; w trakcie wykonania błąd pojawia się podczas wywołania metody 'jedz'\n"
   ]
  },
  {
   "cell_type": "markdown",
   "id": "7c3afe80-aec6-44ca-aa42-2cab25b87433",
   "metadata": {},
   "source": [
    "W powyższym przykładzie widać, jak protokoły umożliwiają określenie \"umowy\", jaką klasa musi spełnić, nie wymagając od niej formalnego dziedziczenia. Kiedy rozpocznij_podroz jest wywoływane z instancją klasy, która nie spełnia protokołu Pojazd (np. Kamien), narzędzia do sprawdzania typów sygnalizują problem. Jednak Python sam w sobie nie zatrzyma wykonywania kodu do momentu, gdy faktycznie zostanie wywołana metoda, której brakuje (demonstrując \"kacze typowanie\").\n",
    "\n",
    "Ten przykład pokazuje, jak protokoły mogą być używane do tworzenia elastycznych, ale dobrze zdefiniowanych interfejsów w Pythonie."
   ]
  },
  {
   "cell_type": "markdown",
   "id": "a74cfe7e-eae7-44db-a3ba-8927e1dc437d",
   "metadata": {},
   "source": [
    "## Wzorzec Adaptera w Pythonie: Harmonizacja Interfejsów\n",
    "\n",
    "Wstęp:\n",
    "W programowaniu, konieczność integracji komponentów z różnymi interfejsami jest powszechnym wyzwaniem. Wzorzec projektowy znanym jako \"Adapter\" pozwala obiektom o niekompatybilnych interfejsach współpracować ze sobą. W tym artykule zbadamy, jak implementować wzorzec adaptera w Pythonie, wykorzystując interfejsy, i stworzymy przykłady adapterów do przechowywania danych.\n",
    "\n",
    "Część 1: Zrozumienie Adaptera\n",
    "Adapter to strukturalny wzorzec projektowy, który działa jako most między dwoma niekompatybilnymi interfejsami. W praktyce adapter \"opakowuje\" jeden z obiektów, aby jego funkcje były dostępne w oczekiwanej formie dla drugiego obiektu. Główną zaletą jest to, że klient (kod używający tych obiektów) nie musi znać szczegółów implementacji, ponieważ adapter zapewnia spójny interfejs.\n",
    "\n",
    "Część 2: Implementacja Interfejsu\n",
    "W Pythonie interfejsy można tworzyć przy użyciu klas abstrakcyjnych lub protokołów. Definiują one metody, które muszą być zaimplementowane w klasach pochodnych. Poniżej prezentujemy przykład interfejsu dla systemu przechowywania danych:"
   ]
  },
  {
   "cell_type": "code",
   "execution_count": 24,
   "id": "033d48f4-8a76-4e85-a427-31ab2a188ea4",
   "metadata": {},
   "outputs": [],
   "source": [
    "from abc import ABC, abstractmethod\n",
    "\n",
    "class StorageInterface(ABC):\n",
    "\n",
    "    @abstractmethod\n",
    "    def save(self, data):\n",
    "        pass\n",
    "\n",
    "    @abstractmethod\n",
    "    def load(self):\n",
    "        pass"
   ]
  },
  {
   "cell_type": "markdown",
   "id": "07471a0d-dbab-4164-80ae-204bf883ea3a",
   "metadata": {},
   "source": [
    "### Przykłady Adaptera\n",
    "\n",
    "Adapter przechowywania w pamięci:\n",
    "\n",
    "Ten adapter używa pamięci (np. struktury danych) do przechowywania informacji. Jest to użyteczne, gdy szybki dostęp jest ważniejszy niż trwałość danych."
   ]
  },
  {
   "cell_type": "code",
   "execution_count": 26,
   "id": "3de67a6f-34cb-49a7-b861-c0baa07676fc",
   "metadata": {},
   "outputs": [],
   "source": [
    "class MemoryStorageAdapter(StorageInterface):\n",
    "    def __init__(self):\n",
    "        self._storage = []\n",
    "\n",
    "    def save(self, data):\n",
    "        self._storage.append(data)\n",
    "\n",
    "    def load(self):\n",
    "        return self._storage"
   ]
  },
  {
   "cell_type": "markdown",
   "id": "c4e821ba-e3b3-4dbd-baa8-09d7364ea15b",
   "metadata": {},
   "source": [
    "### Adapter przechowywania w pliku:\n",
    "Ten adapter zapisuje dane na dysku. Jest odpowiedni, gdy dane muszą pozostać trwałe i dostępne po zamknięciu programu."
   ]
  },
  {
   "cell_type": "code",
   "execution_count": 28,
   "id": "d413bbcb-97a2-49ef-b166-1a80e2f8b89f",
   "metadata": {},
   "outputs": [],
   "source": [
    "import os\n",
    "\n",
    "class FileStorageAdapter(StorageInterface):\n",
    "    def __init__(self, filename):\n",
    "        self._filename = filename\n",
    "\n",
    "    def save(self, data):\n",
    "        with open(self._filename, 'a') as file:\n",
    "            file.write(data + os.linesep)\n",
    "\n",
    "    def load(self):\n",
    "        with open(self._filename, 'r') as file:\n",
    "            return file.readlines()"
   ]
  },
  {
   "cell_type": "markdown",
   "id": "72039b1d-74e8-484e-8bbd-6e82f4a432ae",
   "metadata": {},
   "source": [
    "Część 4: Korzystanie z Adapterów\n",
    "Kluczową zaletą wzorca adaptera jest możliwość zmiany systemu przechowywania bez ingerencji w główny kod aplikacji. Oto przykład:"
   ]
  },
  {
   "cell_type": "code",
   "execution_count": 29,
   "id": "4cc5482e-098c-4275-81fa-729b1e4e6431",
   "metadata": {},
   "outputs": [
    {
     "name": "stdout",
     "output_type": "stream",
     "text": [
      "['Dane w pamięci']\n",
      "['Dane w pliku\\n']\n"
     ]
    }
   ],
   "source": [
    "def store_data(storage: StorageInterface, data):\n",
    "    storage.save(data)\n",
    "\n",
    "def retrieve_data(storage: StorageInterface):\n",
    "    return storage.load()\n",
    "\n",
    "# Użycie różnych metod przechowywania bez zmiany interfejsu\n",
    "memory_storage = MemoryStorageAdapter()\n",
    "file_storage = FileStorageAdapter('data.txt')\n",
    "\n",
    "store_data(memory_storage, 'Dane w pamięci')\n",
    "print(retrieve_data(memory_storage))\n",
    "\n",
    "store_data(file_storage, 'Dane w pliku')\n",
    "print(retrieve_data(file_storage))"
   ]
  },
  {
   "cell_type": "markdown",
   "id": "d81a6d4b-e6e3-49bf-8f71-7df6217faac5",
   "metadata": {},
   "source": [
    "### Podsumowanie:\n",
    "Wzorzec adaptera zapewnia elastyczność, pozwalając różnym systemom współpracować za pośrednictwem wspólnego interfejsu. Dzięki temu, bez względu na to, gdzie i jak chcemy przechowywać dane, nasz główny kod aplikacji pozostaje spójny i czysty. Wartość tego wzorca wzrasta wraz z rosnącą złożonością systemów i jest kluczowa dla utrzymania czystego i skalowalnego kodu.\n",
    "\n",
    "https://refactoring.guru/pl/design-patterns/adapter/python/example#lang-features"
   ]
  },
  {
   "cell_type": "markdown",
   "id": "37a0b453-3704-4c77-88b3-731b1c86d67a",
   "metadata": {},
   "source": [
    "### Ćwiczenie\n",
    "\n",
    "Tytuł zadania: \"Implementacja Systemu Zarządzania Pracownikami z Użyciem Wzorca Adaptera\"\n",
    "\n",
    "Cel:\n",
    "Celem tego zadania jest stworzenie elastycznego systemu zarządzania informacjami o pracownikach, który może łatwo przełączać się między różnymi metodami przechowywania danych. Studenci będą musieli zaimplementować nowy adapter, który pozwoli na zapis danych o pracownikach w formacie JSON.\n",
    "\n",
    "Opis:\n",
    "Jako programista w firmie XYZ, otrzymałeś zadanie stworzenia systemu do zarządzania profilami pracowników. Twoim zadaniem jest stworzenie systemu, który będzie mógł łatwo przełączać się między przechowywaniem danych w pamięci, na dysku lub przy użyciu innych metod. Każdy profil pracownika powinien zawierać co najmniej następujące informacje: imię, nazwisko, stanowisko, stawka godzinowa.\n",
    "\n",
    "W ramach tego zadania, należy:\n",
    "1. Zdefiniować klasę `Pracownik`, która zawiera informacje o pracowniku.\n",
    "2. Zaimplementować interfejs `StorageInterface` z poprzednich przykładów.\n",
    "3. Stworzyć nowy adapter `JsonStorageAdapter`, który zapisuje i odczytuje dane do/z pliku w formacie JSON.\n",
    "4. Przetestować działanie systemu z użyciem różnych metod przechowywania."
   ]
  },
  {
   "cell_type": "markdown",
   "id": "30e1dac3-f710-4a33-bbd9-7591dd6802e9",
   "metadata": {},
   "source": [
    "## **Przeciążanie operatorów w Pythonie: Ulepszanie interakcji między obiektami**\n",
    "\n",
    "Przeciążanie operatorów, znane również jako operator overloading, to jedna z kluczowych funkcji języków programowania obiektowego, takich jak Python. Pozwala to na zdefiniowanie lub modyfikację zachowań operatorów w kontekście naszych klas. Dzięki temu instancje naszych klas mogą reagować na standardowe operatory, takie jak '+', '-', '==', czy '!=' w sposób dostosowany do ich specyficznych potrzeb."
   ]
  },
  {
   "cell_type": "code",
   "execution_count": 132,
   "id": "d77a1d39-a4f1-4dac-80e4-762b4cedf39b",
   "metadata": {},
   "outputs": [],
   "source": [
    "class Vector:\n",
    "    def __init__(self, x, y):\n",
    "        self.x = x\n",
    "        self.y = y\n",
    "\n",
    "    def __add__(self, other):\n",
    "        if isinstance(other, int):\n",
    "            return self.__class__(self.x + other, self.y + other)\n",
    "        return self.__class__(self.x + other.x, self.y + other.y)\n",
    "\n",
    "    def __radd__(self, other):\n",
    "        return self.__add__(other)\n",
    "    \n",
    "    @property\n",
    "    def length(self):\n",
    "        return pow(self.x** 2+self.y**2, 0.5)\n",
    "    \n",
    "    def __gt__(self, other):\n",
    "        return self.length > other.length\n",
    "\n",
    "        \n",
    "    def __ge__(self, other):\n",
    "        return self.length >= other.length\n",
    "        \n",
    "    \n",
    "    def __repr__(self):\n",
    "        return f\"<Vector x={self.x}, y={self.y}>\""
   ]
  },
  {
   "cell_type": "code",
   "execution_count": 133,
   "id": "f49426a9-f1f7-4104-843a-49c79c993036",
   "metadata": {},
   "outputs": [],
   "source": [
    "v1 = Vector(1, 2)\n",
    "v2 = Vector(1, 2)\n"
   ]
  },
  {
   "cell_type": "code",
   "execution_count": 134,
   "id": "c3669a9a-9d98-4156-8969-69e69187c522",
   "metadata": {},
   "outputs": [
    {
     "name": "stdout",
     "output_type": "stream",
     "text": [
      "<Vector x=2, y=4>\n"
     ]
    }
   ],
   "source": [
    "print(v1 + v2)"
   ]
  },
  {
   "cell_type": "code",
   "execution_count": 135,
   "id": "a6f6b748-498c-425c-9757-9924feab55f4",
   "metadata": {},
   "outputs": [
    {
     "data": {
      "text/plain": [
       "<Vector x=2, y=4>"
      ]
     },
     "execution_count": 135,
     "metadata": {},
     "output_type": "execute_result"
    }
   ],
   "source": [
    "v1 + v2"
   ]
  },
  {
   "cell_type": "code",
   "execution_count": 136,
   "id": "756c508a-f314-4331-bc1b-ce98e1a7fc10",
   "metadata": {},
   "outputs": [
    {
     "data": {
      "text/plain": [
       "<Vector x=3, y=4>"
      ]
     },
     "execution_count": 136,
     "metadata": {},
     "output_type": "execute_result"
    }
   ],
   "source": [
    "v1 + 2"
   ]
  },
  {
   "cell_type": "code",
   "execution_count": 137,
   "id": "383f3e40-d094-4d69-b13e-480778061252",
   "metadata": {},
   "outputs": [
    {
     "data": {
      "text/plain": [
       "True"
      ]
     },
     "execution_count": 137,
     "metadata": {},
     "output_type": "execute_result"
    }
   ],
   "source": [
    "v1 >= v2"
   ]
  },
  {
   "cell_type": "code",
   "execution_count": 138,
   "id": "4cf56bbb-4afe-414c-a0c0-f6f32ccdb3bf",
   "metadata": {},
   "outputs": [
    {
     "data": {
      "text/plain": [
       "<Vector x=3, y=4>"
      ]
     },
     "execution_count": 138,
     "metadata": {},
     "output_type": "execute_result"
    }
   ],
   "source": [
    "2 + v1"
   ]
  },
  {
   "cell_type": "markdown",
   "id": "aa3f0135-7e68-48fd-b94b-2450a4702220",
   "metadata": {},
   "source": [
    "Na przykład, jeśli mamy klasę `Vector` reprezentującą wektor matematyczny, możemy chcieć użyć operatora '+' do dodawania dwóch instancji wektorów. Przeciążanie operatorów pozwala na tę interakcję, czyniąc kod bardziej intuicyjnym i czytelnym.\n",
    "\n",
    "**Jak to działa?**\n",
    "\n",
    "Przeciążanie operatorów w Pythonie jest realizowane poprzez definicję specjalnych metod w definicji klasy. Te metody zaczynają się i kończą podwójnymi podkreślnikami (np. `__add__`, `__sub__`, `__eq__`), są one często nazywane \"dunder\" metodami (od \"double underscore\").\n",
    "\n",
    "**Przykład: Klasa Vector**\n",
    "\n",
    "Rozważmy klasę `Vector`, która reprezentuje wektor w przestrzeni dwuwymiarowej. Chcielibyśmy móc wykonywać operacje matematyczne na jej instancjach.\n",
    "\n",
    "```python\n",
    "class Vector:\n",
    "    def __init__(self, x, y):\n",
    "        self.x = x\n",
    "        self.y = y\n",
    "\n",
    "    def __add__(self, other):\n",
    "        if isinstance(other, Vector):\n",
    "            return Vector(self.x + other.x, self.y + other.y)\n",
    "        raise ValueError(\"Obiekt 'other' musi być typu Vector\")\n",
    "\n",
    "    def __sub__(self, other):\n",
    "        if isinstance(other, Vector):\n",
    "            return Vector(self.x - other.x, self.y - other.y)\n",
    "        raise ValueError(\"Obiekt 'other' musi być typu Vector\")\n",
    "\n",
    "    def __mul__(self, scalar):\n",
    "        return Vector(self.x * scalar, self.y * scalar)\n",
    "\n",
    "    def __str__(self):\n",
    "        return f\"Vector({self.x}, {self.y})\"\n",
    "```\n",
    "\n",
    "W powyższym przykładzie, metody `__add__`, `__sub__` i `__mul__` są przeciążonymi operatorami dla dodawania, odejmowania i mnożenia wektorów. Dzięki temu możemy wykonywać takie operacje na instancjach klasy `Vector` w naturalny, intuicyjny sposób:\n",
    "\n",
    "```python\n",
    "v1 = Vector(2, 3)\n",
    "v2 = Vector(1, 1)\n",
    "\n",
    "# Dzięki przeciążeniu operatorów, możemy używać notacji matematycznej\n",
    "v3 = v1 + v2\n",
    "print(v3)  # Wyświetla: Vector(3, 4)\n",
    "\n",
    "v4 = v1 - v2\n",
    "print(v4)  # Wyświetla: Vector(1, 2)\n",
    "\n",
    "v5 = v1 * 3  # Skalowanie wektora przez mnożenie\n",
    "print(v5)  # Wyświetla: Vector(6, 9)\n",
    "```\n",
    "\n",
    "**Zadanie: Rozszerzenie funkcjonalności klasy Vector**\n",
    "\n",
    "Twoim zadaniem jest rozbudowanie klasy `Vector` o dodatkowe operacje i funkcjonalności. Możesz rozważyć dodanie:\n",
    "\n",
    "1. **Dalsze przeciążanie operatorów**: Na przykład przeciążenie operatora `__eq__` do porównywania wektorów, `__abs__` do obliczania długości wektora (normy), lub `__neg__` do definiowania, co oznacza negacja wektora (zmiana kierunku).\n",
    "\n",
    "2. **Operacje wektorowe**: Implementacja metod takich jak `dot` do obliczania iloczynu skalarnego dwóch wektorów, czy `distance` do obliczenia odległości między dwoma wektorami.\n",
    "\n",
    "3. **Walidacja danych**: Upewnienie się, że operacje na wektorach są wykonywane poprawnie, np. przez sprawdzanie typów danych lub obsługę błędów i nieprawidłowych stanów.\n",
    "\n",
    "4. **Reprezentacja i Debugowanie**: Przeciążenie metod `__repr__` i `__str__` dla bardziej informatywnych i przyjaznych użytkownikowi reprezentacji instancji klasy `Vector`.\n",
    "\n",
    "Pamiętaj, że kluczową zaletą przeciążania operatorów jest czytelność i zwięzłość kodu, więc dbaj o to, by Twoje rozwiązania były zgodne z tymi zasadami,"
   ]
  },
  {
   "cell_type": "markdown",
   "id": "407725f2-3a11-4d7f-85af-8f13223537ab",
   "metadata": {},
   "source": [
    "## Wzorzec projektowy Fasada w Pythonie\n",
    "\n",
    "W świecie programowania, szczególnie w dużych systemach, istnieje potrzeba uproszczenia złożonych operacji poprzez wprowadzenie wyższego poziomu interfejsu. Wzorzec Fasada adresuje właśnie tę potrzebę, oferując prosty interfejs do złożonego systemu klas, biblioteki lub frameworka.\n",
    "\n",
    "### 1. Czym jest Fasada?\n",
    "\n",
    "Wzorzec Fasada (ang. \"Facade\") należy do kategorii wzorców strukturalnych i jest wykorzystywany do zapewnienia jednolitego interfejsu dla zestawu interfejsów w podsystemie. Fasada definiuje interfejs wyższego poziomu, który sprawia, że podsystem jest łatwiejszy w użyciu.\n",
    "\n",
    "### 2. Główne zalety\n",
    "\n",
    "- Izoluje klienta od złożonego podsystemu, umożliwiając łatwiejszą interakcję.\n",
    "- Promuje zasadę \"najmniejszej wiedzy\", ograniczając bezpośrednie komunikacje pomiędzy podsystemami.\n",
    "- Ułatwia zarządzanie kodem, ponieważ wprowadza wyższą warstwę abstrakcji.\n",
    "\n",
    "### 3. Przykład użycia\n",
    "\n",
    "Załóżmy, że mamy złożony system do zarządzania środowiskiem w inteligentnym domu. System ten składa się z wielu elementów, takich jak system ogrzewania, klimatyzacji, rolet okiennych itp. Użyjemy wzorca fasady, aby uprościć interakcję z całym systemem.\n",
    "\n",
    "```python\n",
    "class Ogrzewanie:\n",
    "    def wlacz(self):\n",
    "        print(\"Ogrzewanie włączone\")\n",
    "\n",
    "    def wylacz(self):\n",
    "        print(\"Ogrzewanie wyłączone\")\n",
    "\n",
    "class Klimatyzacja:\n",
    "    def wlacz(self):\n",
    "        print(\"Klimatyzacja włączona\")\n",
    "\n",
    "    def wylacz(self):\n",
    "        print(\"Klimatyzacja wyłączona\")\n",
    "\n",
    "class Rolety:\n",
    "    def podnies(self):\n",
    "        print(\"Rolety podniesione\")\n",
    "\n",
    "    def opusc(self):\n",
    "        print(\"Rolety opuszczone\")\n",
    "\n",
    "# Tutaj implementujemy Fasadę\n",
    "class InteligentnyDom:\n",
    "    def __init__(self):\n",
    "        self.ogrzewanie = Ogrzewanie()\n",
    "        self.klimatyzacja = Klimatyzacja()\n",
    "        self.rolety = Rolety()\n",
    "\n",
    "    def tryb_zimowy(self):\n",
    "        self.klimatyzacja.wylacz()\n",
    "        self.ogrzewanie.wlacz()\n",
    "        self.rolety.opusc()\n",
    "\n",
    "    def tryb_letni(self):\n",
    "        self.ogrzewanie.wylacz()\n",
    "        self.klimatyzacja.wlacz()\n",
    "        self.rolety.podnies()\n",
    "\n",
    "# Użycie fasady\n",
    "dom = InteligentnyDom()\n",
    "dom.tryb_zimowy()  # Wszystko załatwione jednym poleceniem\n",
    "dom.tryb_letni()   # Zamiast wielu różnych poleceń do poszczególnych systemów\n",
    "```\n",
    "\n",
    "### 4. Fasada a Adapter\n",
    "\n",
    "Choć zarówno Fasada, jak i Adapter są wzorcami strukturalnymi, służą różnym celom:\n",
    "\n",
    "- **Fasada** ma na celu uproszczenie interfejsu i klient komunikuje się z podsystemem wyłącznie przez fasadę. Nie zmienia ona istniejących interfejsów, ale dostarcza jednolity sposób ich wykorzystania.\n",
    "- **Adapter** natomiast zmienia interfejs jednego lub więcej klas na interfejs, który klient oczekuje lub potrafi wykorzystać. Głównym celem adaptera jest umożliwienie współpracy klas, które bez tego nie mogłyby razem działać, z powodu niekompatybilnych interfejsów.\n",
    "\n",
    "### 5. Podsumowanie\n",
    "\n",
    "Wzorzec Fasada jest wyjątkowo użyteczny w dużych systemach złożonych z wielu podsystemów. Umożliwia on konsumentom kodu interakcję z systemem na wyższym poziomie abstrakcji, co prz"
   ]
  },
  {
   "cell_type": "markdown",
   "id": "fc9fa357-dfaf-4a7e-a97e-79a3a5a5662e",
   "metadata": {},
   "source": [
    "## Serwis\n",
    "\n",
    "\n",
    "\n",
    "W dzisiejszym świecie programowania i rozwoju aplikacji, termin \"serwis\" stał się jednym z kluczowych elementów architektury oprogramowania. Pomimo swojej wszechstronności, dla wielu może wydawać się niejasny. W tym artykule wyjaśnimy, czym są serwisy w kontekście programowania, i przeanalizujemy proste przykłady ich stosowania.\n",
    "\n",
    "### Czym jest Serwis?\n",
    "\n",
    "Serwis, w kontekście inżynierii oprogramowania, odnosi się do oddzielnie zarządzanej funkcjonalności w ramach większego systemu lub aplikacji. Jest to moduł, który wykonuje określone zadania, często komunikując się z innymi częściami systemu, pozostając przy tym niezależnym komponentem.\n",
    "\n",
    "#### Kluczowe Cechy Serwisów:\n",
    "\n",
    "1. **Autonomiczność:** Serwisy są projektowane tak, aby działać niezależnie. Oznacza to, że zmiany w jednym serwisie nie wpływają bezpośrednio na inne.\n",
    "\n",
    "2. **Specjalizacja:** Każdy serwis jest stworzony do wykonania konkretnej funkcji lub zestawu zadań. Może to obejmować różne aspekty, takie jak przetwarzanie danych, interakcję z bazą danych, czy obsługę określonych żądań.\n",
    "\n",
    "3. **Modularność i Zamienność:** Serwisy można łatwo wymieniać lub modyfikować bez zakłócania pracy całego systemu. Dzięki swojej modułowej naturze ułatwiają one aktualizacje i skalowanie.\n",
    "\n",
    "4. **Komunikacja:** Serwisy komunikują się między sobą za pomocą dobrze zdefiniowanych interfejsów, takich jak API (Application Programming Interface). Umożliwia to bezpieczną i skuteczną interakcję między różnymi częściami systemu.\n",
    "\n",
    "### Proste Przykłady Serwisów\n",
    "\n",
    "#### 1. Serwis Autentykacji\n",
    "Jest to dedykowany moduł odpowiedzialny za zarządzanie logowaniem użytkownika, weryfikacją tożsamości i utrzymaniem bezpieczeństwa sesji. Wszystkie aspekty związane z autentykacją są izolowane w tym serwisie, co zapewnia bezpieczeństwo i prostotę aktualizacji zasad bezpieczeństwa.\n",
    "\n",
    "```python\n",
    "class SerwisAutentykacji:\n",
    "    def zaloguj(self, nazwa_uzytkownika, haslo):\n",
    "        # logika weryfikacji danych użytkownika\n",
    "        pass\n",
    "\n",
    "    def wyloguj(self, uzytkownik_id):\n",
    "        # logika wylogowania użytkownika\n",
    "        pass\n",
    "```\n",
    "\n",
    "#### 2. Serwis Powiadomień\n",
    "Serwis ten zarządza wysyłaniem powiadomień do użytkowników, może to być na przykład wysyłanie e-maili, wiadomości SMS lub powiadomień w aplikacji.\n",
    "\n",
    "```python\n",
    "class SerwisPowiadomien:\n",
    "    def wyslij_email(self, adres_email, temat, tresc):\n",
    "        # logika wysyłania e-maila\n",
    "        pass\n",
    "\n",
    "    def wyslij_sms(self, numer_telefonu, wiadomosc):\n",
    "        # logika wysyłania SMS\n",
    "        pass\n",
    "```\n",
    "\n",
    "#### 3. Serwis Zarządzania Danymi\n",
    "Taki serwis zajmuje się operacjami CRUD (Create, Read, Update, Delete) na danych przechowywanych w bazie danych. Umożliwia to centralizację logiki dostępu do danych.\n",
    "\n",
    "```python\n",
    "class SerwisZarzadzaniaDanymi:\n",
    "    def pobierz_uzytkownika(self, uzytkownik_id):\n",
    "        # logika pobierania danych użytkownika\n",
    "        pass\n",
    "\n",
    "    def aktualizuj_uzytkownika(self, uzytkownik_id, dane):\n",
    "        # logika aktualizacji danych użytkownika\n",
    "        pass\n",
    "```\n",
    "\n",
    "### Podsumowanie\n",
    "Serwisy odgrywają kluczową rolę w nowoczesnej architekturze aplikacji, umożliwiając modu\n",
    "\n",
    "Stworzenie serwisu, który wykonuje działania arytmetyczne i zapisuje ich wyniki, wymaga sprytnego połączenia kilku wzorców projektowych. W tym przykładzie pokażemy, jak można wykorzystać wzorce Fasada, Adapter oraz ewentualnie inne do zbudowania elastycznego i dobrze zorganizowanego serwisu.\n",
    "\n",
    "### Ćwiczenie: Koncepcja Serwisu Arytmetycznego\n",
    "\n",
    "**1. Definiowanie Podstawowych Operacji:**\n",
    "Najpierw potrzebujemy zestawu podstawowych operacji arytmetycznych. To będą nasze 'podsystemy'.\n",
    "\n",
    "```python\n",
    "class DzialaniaArytmetyczne:\n",
    "    def dodaj(self, a, b):\n",
    "        return a + b\n",
    "\n",
    "    def odejmij(self, a, b):\n",
    "        return a - b\n",
    "\n",
    "    def pomnoz(self, a, b):\n",
    "        return a * b\n",
    "\n",
    "    def podziel(self, a, b):\n",
    "        if b != 0:\n",
    "            return a / b\n",
    "        else:\n",
    "            return None\n",
    "```\n",
    "\n",
    "**2. Fasada:**\n",
    "Następnie wprowadzimy Fasadę, aby uprościć interfejs użytkownika i zabezpieczyć nasze podsystemy.\n",
    "\n",
    "```python\n",
    "class FasadaArytmetyczna:\n",
    "    def __init__(self):\n",
    "        self.dzialania = DzialaniaArytmetyczne()\n",
    "\n",
    "    def wykonaj_operacje(self, operacja, a, b):\n",
    "        if operacja == 'dodaj':\n",
    "            return self.dzialania.dodaj(a, b)\n",
    "        elif operacja == 'odejmij':\n",
    "            return self.dzialania.odejmij(a, b)\n",
    "        elif operacja == 'pomnoz':\n",
    "            return self.dzialania.pomnoz(a, b)\n",
    "        elif operacja == 'podziel':\n",
    "            return self.dzialania.podziel(a, b)\n",
    "        else:\n",
    "            return None\n",
    "```\n",
    "\n",
    "**3. Adapter Bazy Danych:**\n",
    "Teraz, zgodnie z wzorcem Adaptera, stworzymy mechanizm, który pozwoli nam zapisywać wyniki operacji w różnych typach baz danych. \n",
    "\n",
    "```python\n",
    "class AdapterBazyDanych:\n",
    "    def __init__(self, system_bazodanowy):\n",
    "        self.system = system_bazodanowy\n",
    "\n",
    "    def zapisz(self, dane):\n",
    "        # Tutaj następuje adaptacja interfejsu:\n",
    "        self.system.zapisz_dane(dane)\n",
    "\n",
    "# Możliwe różne implementacje systemów bazodanowych\n",
    "class SystemPlikow:\n",
    "    def zapisz_dane(self, dane):\n",
    "        # Zapisz do pliku\n",
    "        pass\n",
    "\n",
    "class SystemBazyDanychSQL:\n",
    "    def zapisz_dane(self, dane):\n",
    "        # Zapisz do bazy SQL\n",
    "        pass\n",
    "\n",
    "# itd.\n",
    "```\n",
    "\n",
    "**4. Zintegrowanie wszystkiego w Serwisie:**\n",
    "Ostatecznie, stworzymy serwis, który używa naszej fasady i adaptera.\n",
    "\n",
    "```python\n",
    "class SerwisArytmetyczny:\n",
    "    def __init__(self, adapter_bazy):\n",
    "        self.fasada = FasadaArytmetyczna()\n",
    "        self.adapter_bazy = adapter_bazy\n",
    "\n",
    "    def wykonaj_i_zapisz(self, operacja, a, b):\n",
    "        wynik = self.fasada.wykonaj_operacje(operacja, a, b)\n",
    "        if wynik is not None:\n",
    "            self.adapter_bazy.zapisz({'operacja': operacja, 'a': a, 'b': b, 'wynik': wynik})\n",
    "        else:\n",
    "            print(\"Nie można wykonać operacji.\")\n",
    "\n",
    "# Użycie serwisu z różnymi systemami bazodanowymi\n",
    "system_plikow = SystemPlikow()\n",
    "adapter_plikow = AdapterBazyDanych(system_plikow)\n",
    "serwis = SerwisArytmetyczny(adapter_plikow)\n",
    "\n",
    "serwis.wykonaj_i_zapisz('dodaj', 5, 3)\n",
    "```\n",
    "\n",
    "### Podsumowanie\n",
    "W tym przykładzie zastosowano Fasadę do uproszczenia interfejsów, a Adaptera do umożliwienia zapisu w różnych systemach baz danych bez zmieniania kodu głównego serwisu. Taka architektura sprawia, że kod jest łatwiejszy do zarządzania, rozszerzania i testowania, co jest kluczowe w utrzymaniu efektywnego i skalowalnego projektu."
   ]
  },
  {
   "cell_type": "markdown",
   "id": "d4655e4c-204e-4cfd-9333-3ee9867132e3",
   "metadata": {},
   "source": [
    "## DTO (Data Transfer Object) w Pythonie: Przenoszenie Danych w Elegancki Sposób\n",
    "\n",
    "### Wprowadzenie\n",
    "\n",
    "W świecie programowania aplikacji, zwłaszcza tych opartych na architekturze wielowarstwowej, często zachodzi potrzeba przenoszenia danych między warstwami lub różnymi częściami systemu. W Pythonie, podobnie jak w innych językach programowania, koncept ten jest realizowany za pomocą DTO, czyli Data Transfer Object. W tym artykule przyjrzymy się, jak Python pozwala na implementację DTO za pomocą różnych podejść, takich jak słowniki, namedtuple oraz klasy, i jakie są zalety każdego z tych rozwiązań.\n",
    "\n",
    "### Czym jest DTO?\n",
    "\n",
    "DTO, czyli Data Transfer Object, to wzorzec projektowy, który jest używany do przekazywania danych między podsystemami aplikacji. DTO ma na celu zmniejszenie liczby wywołań metod, pakując powiązane informacje w jedną klasę, a następnie przekazując ten obiekt zamiast pojedynczych wartości. Jest to szczególnie przydatne w komunikacji sieciowej i przy przenoszeniu danych między różnymi warstwami aplikacji.\n",
    "\n",
    "### Słownik jako DTO\n",
    "\n",
    "W Pythonie najbardziej podstawową formą DTO jest słownik. Jest to proste i nie wymaga dodatkowego kodowania.\n",
    "\n",
    "```python\n",
    "uzytkownik_dto = {\n",
    "    'imie': 'Anna',\n",
    "    'nazwisko': 'Kowalska',\n",
    "    'email': 'anna.k@example.com'\n",
    "}\n",
    "```\n",
    "\n",
    "#### Zalety:\n",
    "1. **Prostota:** Słowniki są wbudowane w Pythona i nie wymagają dodatkowych bibliotek ani kodu klas.\n",
    "2. **Elastyczność:** Można łatwo dodawać, usuwać i zmieniać wartości w słowniku na bieżąco.\n",
    "\n",
    "#### Wady:\n",
    "1. **Brak kontroli typów:** Słowniki nie gwarantują bezpieczeństwa typów, co może prowadzić do błędów w czasie wykonania.\n",
    "2. **Brak struktury:** Słowniki nie wymuszają żadnej konkretnej struktury, co oznacza, że dwie instancje DTO mogą się różnić.\n",
    "\n",
    "### Namedtuple jako DTO\n",
    "\n",
    "Moduł `collections` w Pythonie oferuje namedtuple, które są niemutowalnymi kontenerami, dającymi możliwość dostępu do wartości za pomocą atrybutów. Działa to podobnie do słowników, ale zapewnia niezmienność i możliwość dostępu za pomocą notacji kropkowej.\n",
    "\n",
    "```python\n",
    "from collections import namedtuple\n",
    "\n",
    "UzytkownikDTO = namedtuple('UzytkownikDTO', ['imie', 'nazwisko', 'email'])\n",
    "uzytkownik_dto = UzytkownikDTO('Anna', 'Kowalska', 'anna.k@example.com')\n",
    "```\n",
    "\n",
    "#### Zalety:\n",
    "1. **Niezmienność:** Instancje namedtuple są niemodyfikowalne, co może pomóc zapobiegać błędom.\n",
    "2. **Notacja kropkowa:** Umożliwia czytelniejszy i bardziej intuicyjny dostęp do wartości.\n",
    "\n",
    "#### Wady:\n",
    "1. **Brak elastyczności:** Namedtuple są niemutowalne, co oznacza, że nie można ich zmodyfikować po utworzeniu.\n",
    "\n",
    "### Klasy jako DTO\n",
    "\n",
    "Dla większej kontroli i formalizacji struktury, DTO można również implementować jako klasy, zwykłe lub specjalne (np. data classes).\n",
    "\n",
    "```python\n",
    "class UzytkownikDTO:\n",
    "    def __init__(self, imie, nazwisko, email):\n",
    "        self.imie = imie\n",
    "        self.nazwisko = nazwisko\n",
    "        self.email = email\n",
    "```\n",
    "\n",
    "#### Zalety:\n",
    "1. **Kontrola typów:** Klasy mogą używać adnotacji typów, zapewniając lepsze wsparcie dla bezpieczeństwa typów.\n",
    "2. **Metody:** Klasy pozwalają na dodawanie metod, co może być przydatne do manipulacji danymi lub walidacji.\n",
    "\n",
    "#### Wady:\n",
    "1.\n",
    "\n",
    " **Więcej kodu:** Wymaga zdefiniowania klasy, co może doprowadzić do dodatkowego boilerplate'u, zwłaszcza w większych systemach.\n",
    "\n",
    "### Podsumowanie\n",
    "\n",
    "Wybór między różnymi formami DTO w Pythonie zależy od potrzeb projektu. Słowniki oferują dużą elastyczność ale niską formalność, namedtuple są świetnym kompromisem dla prostych DTO, a klasy oferują najwięcej kontroli i formalności. Ważne jest, aby wybrać podejście, które najlepiej pasuje do wymagań i ograniczeń Twojej aplikacji, zarówno pod względem struktury, jak i elastyczności."
   ]
  },
  {
   "cell_type": "markdown",
   "id": "ccbd75fb-b478-4a2c-a965-7c425c9b862a",
   "metadata": {},
   "source": [
    "## Data Classes w Pythonie: \n",
    "\n",
    "### Wprowadzenie\n",
    "\n",
    "Python, język znany ze swojej czytelności i skrótowości, często wymaga tworzenia klas tylko dla przechowywania danych. W standardowym podejściu, nawet prosta klasa przechowująca kilka atrybutów wymaga znaczącej ilości boilerplate'u - powtarzalnego kodu potrzebnego do poprawnego działania klasy, ale nie przyczyniającego się do jej rzeczywistej funkcjonalności. Wprowadzenie w Pythonie 3.7 tzw. \"data classes\" zmienia ten scenariusz, dostarczając dekorator i funkcje do automatycznego dodawania specjalnych metod.\n",
    "\n",
    "### Co to jest Data Class?\n",
    "\n",
    "Data Class w Pythonie jest klasą, która głównie służy do przechowywania danych i zautomatyzowania pewnych standardowych funkcji klasy, takich jak `__init__()` czy `__repr__()`. Dekorator `@dataclass` z modułu `dataclasses` automatyzuje generowanie tych metod, oszczędzając czas programisty i sprawiając, że kod jest czytelniejszy.\n",
    "\n",
    "```python\n",
    "from dataclasses import dataclass\n",
    "\n",
    "@dataclass\n",
    "class Produkt:\n",
    "    nazwa: str\n",
    "    cena: float\n",
    "    waga: float\n",
    "```\n",
    "\n",
    "W powyższym przykładzie, klasa `Produkt` ma trzy atrybuty: `nazwa`, `cena`, i `waga`. Dekorator `@dataclass` automatycznie tworzy metodę `__init__` przyjmującą te argumenty, jak również metody takie jak `__repr__`, `__eq__`, i inne.\n",
    "\n",
    "### Dlaczego używać Data Class?\n",
    "\n",
    "1. **Mniejszy Boilerplate:** Nie musisz pisać rutynowych metod, takich jak `__init__()` czy `__repr__()`, co sprawia, że klasa jest bardziej zwięzła i czytelna.\n",
    "\n",
    "2. **Porównania i Sortowanie:** Data classes automatycznie implementują metodę `__eq__`, umożliwiając porównywanie instancji na podstawie ich atrybutów. Dodając dodatkowe parametry, takie jak `order`, można również z łatwością sortować instancje.\n",
    "\n",
    "3. **Niemożliwość Zmiany i Bezpieczeństwo:** Używając parametru `frozen`, możesz stworzyć niemodyfikowalną klasę, co jest przydatne, gdy chcesz mieć pewność, że instancje pozostaną niezmienione.\n",
    "\n",
    "4. **Łatwa Konwersja do Typów wbudowanych:** Dzięki wbudowanym metodą, takim jak `asdict()` i `astuple()`, możesz szybko konwertować instancje na słowniki lub krotki, co ułatwia serializację i debugowanie.\n",
    "\n",
    "### Wady i Ograniczenia\n",
    "\n",
    "1. **Szybkość Wykonania:** Automatycznie generowane metody mogą być wolniejsze niż ręcznie napisane odpowiedniki, co może być problematyczne w sytuacjach wymagających wysokiej wydajności.\n",
    "\n",
    "2. **Nadmierna Automatyzacja:** Pewne aspekty klas danych, takie jak automatyczne generowanie metod porównujących, mogą nie zawsze działać w oczekiwany sposób, szczególnie w przypadku bardziej złożonych atrybutów klas.\n",
    "\n",
    "### Podsumowanie\n",
    "\n",
    "Data classes w Pythonie oferują praktyczne narzędzie do uproszczenia tworzenia klas służących do przechowywania danych. Redukują one redundantny kod, zwiększają czytelność i ułatwiają manipulację danymi. Jednak ważne jest, aby być świadomym ich ograniczeń i rozważyć, czy ich wykorzystanie jest właściwe w kontekście specyficznych wymagań projektu."
   ]
  },
  {
   "cell_type": "markdown",
   "id": "d2d7e7ed-b7e2-4ab0-8ffd-6f2d0a0bdf50",
   "metadata": {},
   "source": [
    "## __slots__\n",
    "\n",
    "W Pythonie, kiedy tworzymy instancje klas, wszystkie atrybuty tych instancji są przechowywane w słowniku `__dict__`. Choć słowniki są niezwykle potężne i elastyczne, mogą również być kosztowne pod względem pamięci. Aby zoptymalizować zarządzanie pamięcią, Python wprowadza koncepcję `__slots__`, która pozwala na statyczne zdefiniowanie zestawu atrybutów, jakie instancja klasy może posiadać, pomijając konieczność używania słownika `__dict__`.\n",
    "\n",
    "Poniżej przedstawiam, jak można użyć `__slots__` w zwykłych klasach oraz w dataclassach.\n",
    "\n",
    "### __slots__ w Standardowej Klasie\n",
    "\n",
    "Użycie `__slots__` w standardowej klasie polega na zdefiniowaniu krotki z nazwami atrybutów, które będą dostępne w instancjach klasy. To pozwala na uniknięcie tworzenia słownika `__dict__` dla każdej instancji i oszczędność pamięci.\n",
    "\n",
    "```python\n",
    "class Osoba:\n",
    "    __slots__ = ('imie', 'nazwisko', 'wiek')  # Definiowanie dostępnych atrybutów\n",
    "\n",
    "    def __init__(self, imie, nazwisko, wiek):\n",
    "        self.imie = imie\n",
    "        self.nazwisko = nazwisko\n",
    "        self.wiek = wiek\n",
    "```\n",
    "\n",
    "### __slots__ w Dataclass\n",
    "\n",
    "Dataclassy w Pythonie automatycznie generują wiele użytecznych metod, co sprawia, że są wygodne w użyciu, zwłaszcza przy definiowaniu klas używanych głównie do przechowywania danych. Podobnie jak w przypadku zwykłych klas, również tutaj możemy wykorzystać `__slots__` do oszczędzania pamięci."
   ]
  },
  {
   "cell_type": "code",
   "execution_count": 50,
   "id": "1b342b71-5663-49a1-9afc-cd2bef58f48f",
   "metadata": {},
   "outputs": [
    {
     "ename": "AttributeError",
     "evalue": "'Osoba' object has no attribute 'x'",
     "output_type": "error",
     "traceback": [
      "\u001b[0;31m---------------------------------------------------------------------------\u001b[0m",
      "\u001b[0;31mAttributeError\u001b[0m                            Traceback (most recent call last)",
      "Cell \u001b[0;32mIn[50], line 11\u001b[0m\n\u001b[1;32m      9\u001b[0m o \u001b[38;5;241m=\u001b[39m Osoba(\u001b[38;5;124m\"\u001b[39m\u001b[38;5;124mA\u001b[39m\u001b[38;5;124m\"\u001b[39m, \u001b[38;5;124m\"\u001b[39m\u001b[38;5;124mB\u001b[39m\u001b[38;5;124m\"\u001b[39m, \u001b[38;5;241m10\u001b[39m)\n\u001b[1;32m     10\u001b[0m o\u001b[38;5;241m.\u001b[39mwiek\n\u001b[0;32m---> 11\u001b[0m \u001b[43mo\u001b[49m\u001b[38;5;241;43m.\u001b[39;49m\u001b[43mx\u001b[49m \u001b[38;5;241m=\u001b[39m \u001b[38;5;241m1\u001b[39m\n",
      "\u001b[0;31mAttributeError\u001b[0m: 'Osoba' object has no attribute 'x'"
     ]
    }
   ],
   "source": [
    "\n",
    "from dataclasses import dataclass\n",
    "\n",
    "@dataclass(slots=True)\n",
    "class Osoba:\n",
    "    imie: str\n",
    "    nazwisko: str\n",
    "    wiek: int\n",
    "\n",
    "o = Osoba(\"A\", \"B\", 10)\n",
    "o.wiek\n",
    "o.x = 1"
   ]
  },
  {
   "cell_type": "markdown",
   "id": "3692d2af-7fef-4439-a5d3-d1deea10733a",
   "metadata": {},
   "source": [
    "W przypadku dataclassy, `__slots__` również pomaga ograniczyć zużycie pamięci przez instancje, zapewniając, że jedynie zadeklarowane atrybuty są przechowywane w pamięci, bez tworzenia dodatkowego słownika `__dict__`.\n",
    "\n",
    "### Wnioski\n",
    "\n",
    "Użycie `__slots__` ma sens, gdy tworzymy wiele instancji klasy i chcemy zoptymalizować zużycie pamięci. Jest to szczególnie przydatne w aplikacjach o dużym obciążeniu lub działających na urządzeniach z ograniczoną pamięcią, jak np. w IoT lub aplikacjach mobilnych. Należy jednak pamiętać, że `__slots__` ogranicza dynamikę obiektów, ponieważ nie można dodawać do nich nowych atrybutów w trakcie działania programu, co jest jedną z fundamentalnych elastyczności Pythona."
   ]
  },
  {
   "cell_type": "markdown",
   "id": "3955032f-d1e2-4a98-9fd0-a24551fcdcdd",
   "metadata": {},
   "source": [
    "# Stos i Kolejka: Podstawowe Struktury Danych\n",
    "\n",
    "W dziedzinie informatyki, stos i kolejka to dwie fundamentalne struktury danych, które znajdują zastosowanie w różnych scenariuszach algorytmicznych i obszarach programowania. Oba koncepty są kluczowe do zrozumienia, ponieważ formują podstawę operacji przetwarzania danych w wielu systemach.\n",
    "\n",
    "## Stos (Stack)\n",
    "\n",
    "### Opis\n",
    "Stos to uporządkowana kolekcja elementów, gdzie dodawanie i usuwanie elementów odbywa się zawsze na jednym końcu, zwanym \"szczytem stosu\". Działa on według zasady LIFO (Last In, First Out), co oznacza, że ostatni element dodany do stosu jest pierwszym, który zostanie usunięty.\n",
    "\n",
    "### Implementacja\n",
    "W Pythonie stos można łatwo zaimplementować przy użyciu listy, gdzie metody `.append()` i `.pop()` symulują zachowanie stosu.\n",
    "\n",
    "```python\n",
    "stos = []\n",
    "stos.append('A')  # dodaje 'A'\n",
    "stos.append('B')  # dodaje 'B'\n",
    "ostatni = stos.pop()  # usuwa 'B'\n",
    "```\n",
    "\n",
    "## Kolejka (Queue)\n",
    "\n",
    "### Opis\n",
    "Kolejka to również uporządkowana kolekcja elementów, ale operacje dodawania i usuwania odbywają się na przeciwnych końcach. Zasada działania to FIFO (First In, First Out), czyli pierwszy element, który został dodany, jest pierwszym elementem, który zostanie usunięty.\n",
    "\n",
    "### Implementacja\n",
    "Implementacja kolejki w Pythonie może nastąpić poprzez użycie modułu `collections` i klasy `deque`, która jest preferowanym podejściem ze względu na wydajność.\n",
    "\n",
    "```python\n",
    "from collections import deque\n",
    "\n",
    "kolejka = deque()\n",
    "kolejka.append('A')  # dodaje 'A'\n",
    "kolejka.append('B')  # dodaje 'B'\n",
    "pierwszy = kolejka.popleft()  # usuwa 'A'\n",
    "```\n",
    "\n",
    "## Ćwiczenie: Symulacja Działania Stosu i Kolejki\n",
    "\n",
    "### Cel:\n",
    "Napisz program, który symuluje działanie zarówno stosu, jak i kolejki. Program powinien pozwolić użytkownikowi wybrać typ struktury (stos lub kolejka), wykonywać operacje dodawania elementów i usuwania ich, a także wyświetlać aktualny stan struktury.\n",
    "\n",
    "### Krok po kroku:\n",
    "1. Zdefiniuj funkcje `dodaj_element`, `usun_element`, i `pokaz_elementy` dla obu struktur.\n",
    "2. Pozwól użytkownikowi wybrać, czy chce pracować ze stosem czy z kolejką.\n",
    "3. Na podstawie wyboru użytkownika, aplikacja powinna pozwolić na dodawanie elementów do struktury, usuwanie ich oraz wyświetlanie obecnego stanu.\n",
    "4. Upewnij się, że program obsługuje błędy, na przykład próbę usunięcia elementu z pustej struktury.\n",
    "\n",
    "### Dodatkowe Wytyczne:\n",
    "- Użyj listy w Pythonie do symulacji stosu i `deque` do symulacji kolejki.\n",
    "- Aplikacja powinna działać w pętli, aby umożliwić użytkownikowi wielokrotne interakcje, aż do momentu, gdy zdecyduje się zakończyć program.\n",
    "\n",
    "### Rozszerzenie:\n",
    "To ćwiczenie można rozbudować, dodając funkcjonalność obsługi priorytetów w kolejce (kolejka priorytetowa) lub ograniczając pojemność stosu/kolejki i obsługując sytuacje przepełnienia.\n",
    "\n",
    "---\n",
    "\n",
    "Ten artykuł ma na celu wprowadzenie do konceptów stosu i kolejki, ukazanie ich podstawowych różnic i podobieństw oraz praktyczne zastosowanie poprzez ćwiczenie kodowania. Zrozumienie tych struktur danych jest kluczowe dla efektywnego rozwiązywania problemów i programowania algorytmicznego."
   ]
  },
  {
   "cell_type": "code",
   "execution_count": 1,
   "id": "a25cce3f-b525-4131-99e5-52696b900a88",
   "metadata": {},
   "outputs": [
    {
     "name": "stdin",
     "output_type": "stream",
     "text": [
      "Czy chcesz utworzyć stos czy kolejkę? (wpisz 'stos' lub 'kolejka'):  stos\n"
     ]
    },
    {
     "name": "stdout",
     "output_type": "stream",
     "text": [
      "\n",
      "Co chcesz zrobić?\n",
      "1. Dodaj element\n",
      "2. Usuń element\n",
      "3. Pokaż elementy\n",
      "4. Zakończ\n"
     ]
    },
    {
     "name": "stdin",
     "output_type": "stream",
     "text": [
      "Wybierz opcję (1/2/3/4):  1\n",
      "Wprowadź element, który chcesz dodać:  2\n"
     ]
    },
    {
     "name": "stdout",
     "output_type": "stream",
     "text": [
      "\n",
      "Co chcesz zrobić?\n",
      "1. Dodaj element\n",
      "2. Usuń element\n",
      "3. Pokaż elementy\n",
      "4. Zakończ\n"
     ]
    },
    {
     "name": "stdin",
     "output_type": "stream",
     "text": [
      "Wybierz opcję (1/2/3/4):  4\n"
     ]
    },
    {
     "name": "stdout",
     "output_type": "stream",
     "text": [
      "Zakończono program.\n"
     ]
    }
   ],
   "source": [
    "import sys\n",
    "from collections import deque\n",
    "\n",
    "def dodaj_element(struktura):\n",
    "    element = input(\"Wprowadź element, który chcesz dodać: \")\n",
    "    struktura.append(element)\n",
    "\n",
    "def usun_element(struktura):\n",
    "    if not struktura:\n",
    "        print(\"Struktura jest pusta, nie można usunąć elementu!\")\n",
    "        return None  # Można tutaj zwrócić wartość, która sygnalizuje, że struktura była pusta\n",
    "\n",
    "    if isinstance(struktura, deque):\n",
    "        # Usuwamy z początku, jeśli to kolejka\n",
    "        return struktura.popleft()\n",
    "    else:\n",
    "        # Usuwamy z końca, jeśli to stos\n",
    "        return struktura.pop()\n",
    "\n",
    "def pokaz_elementy(struktura):\n",
    "    if not struktura:\n",
    "        print(\"Struktura jest pusta!\")\n",
    "    else:\n",
    "        print(\"Elementy w strukturze: \" + \" \".join(struktura))\n",
    "\n",
    "def main():\n",
    "    typ_struktury = input(\"Czy chcesz utworzyć stos czy kolejkę? (wpisz 'stos' lub 'kolejka'): \").strip().lower()\n",
    "\n",
    "    if typ_struktury == \"stos\":\n",
    "        struktura = []\n",
    "    elif typ_struktury == \"kolejka\":\n",
    "        struktura = deque()\n",
    "    else:\n",
    "        print(\"Nieprawidłowy wybór struktury danych.\")\n",
    "        sys.exit(1)\n",
    "\n",
    "    while True:\n",
    "        print(\"\\nCo chcesz zrobić?\")\n",
    "        print(\"1. Dodaj element\")\n",
    "        print(\"2. Usuń element\")\n",
    "        print(\"3. Pokaż elementy\")\n",
    "        print(\"4. Zakończ\")\n",
    "        wybor = input(\"Wybierz opcję (1/2/3/4): \")\n",
    "\n",
    "        if wybor == \"1\":\n",
    "            dodaj_element(struktura)\n",
    "        elif wybor == \"2\":\n",
    "            usuniety_element = usun_element(struktura)\n",
    "            if usuniety_element is not None:\n",
    "                print(f\"Usunięto element: {usuniety_element}\")\n",
    "        elif wybor == \"3\":\n",
    "            pokaz_elementy(struktura)\n",
    "        elif wybor == \"4\":\n",
    "            print(\"Zakończono program.\")\n",
    "            break\n",
    "        else:\n",
    "            print(\"Nieznana opcja, spróbuj ponownie.\")\n",
    "\n",
    "if __name__ == \"__main__\":\n",
    "    main()\n"
   ]
  },
  {
   "cell_type": "code",
   "execution_count": null,
   "id": "316ef196-800a-4625-8008-1e194fde49cf",
   "metadata": {},
   "outputs": [],
   "source": []
  }
 ],
 "metadata": {
  "kernelspec": {
   "display_name": "Python 3 (ipykernel)",
   "language": "python",
   "name": "python3"
  },
  "language_info": {
   "codemirror_mode": {
    "name": "ipython",
    "version": 3
   },
   "file_extension": ".py",
   "mimetype": "text/x-python",
   "name": "python",
   "nbconvert_exporter": "python",
   "pygments_lexer": "ipython3",
   "version": "3.11.5"
  }
 },
 "nbformat": 4,
 "nbformat_minor": 5
}
