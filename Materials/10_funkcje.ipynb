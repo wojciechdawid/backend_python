{
 "cells": [
  {
   "cell_type": "markdown",
   "id": "43e9e5c0-210a-48fd-9d67-be9acbf9c73d",
   "metadata": {},
   "source": [
    "# Funkcje\n",
    "\n",
    "\n",
    "Python, jako jeden z najbardziej wszechstronnych języków programowania, oferuje różnorodne sposoby definiowania i wykorzystywania funkcji. W tym artykule przejdziemy od podstaw tworzenia funkcji po bardziej zaawansowane koncepcje, które pozwolą Ci pisać bardziej elastyczne i mocne aplikacje.\n",
    "\n",
    "## Podstawy\n",
    "\n",
    "Funkcje w Pythonie definiuje się za pomocą słowa kluczowego `def`, po którym następuje nazwa funkcji oraz nawiasy zawierające ewentualne argumenty.\n",
    "\n",
    "Przykład:"
   ]
  },
  {
   "cell_type": "code",
   "execution_count": 2,
   "id": "31b704eb-8d04-46fe-853f-95b90f35c4aa",
   "metadata": {},
   "outputs": [
    {
     "name": "stdout",
     "output_type": "stream",
     "text": [
      "Witaj w świecie Pythona!\n"
     ]
    }
   ],
   "source": [
    "\n",
    "def powitanie():\n",
    "    print(\"Witaj w świecie Pythona!\")\n",
    "\n",
    "powitanie()  # Wywołanie funkcji\n"
   ]
  },
  {
   "cell_type": "code",
   "execution_count": 3,
   "id": "c388acf8-837d-41fd-b5ff-d2d59828061e",
   "metadata": {},
   "outputs": [
    {
     "name": "stdout",
     "output_type": "stream",
     "text": [
      "Witaj w świecie Pythona!\n"
     ]
    }
   ],
   "source": [
    "x = powitanie\n",
    "x()"
   ]
  },
  {
   "cell_type": "markdown",
   "id": "4b6f3fa1-1d08-4245-8db7-d8a43e1d544f",
   "metadata": {},
   "source": [
    "### Funkcje z argumentami\n",
    "\n",
    "Argumenty funkcji pozwalają na przekazywanie informacji do wnętrza funkcji."
   ]
  },
  {
   "cell_type": "markdown",
   "id": "74854476-3485-4afe-b057-b7bae52c7311",
   "metadata": {},
   "source": [
    "Przykład:"
   ]
  },
  {
   "cell_type": "code",
   "execution_count": 2,
   "id": "a79b928e-6719-48ad-b89d-94bdb050a787",
   "metadata": {},
   "outputs": [
    {
     "name": "stdout",
     "output_type": "stream",
     "text": [
      "Witaj, Ania!\n"
     ]
    }
   ],
   "source": [
    "\n",
    "def powitanie(imie):\n",
    "    print(f\"Witaj, {imie}!\")\n",
    "\n",
    "powitanie(\"Ania\")  # Wywołanie funkcji z argumentem\n"
   ]
  },
  {
   "cell_type": "markdown",
   "id": "ad3b13f2-7d5f-460d-9eb5-b2b09b096ce8",
   "metadata": {},
   "source": [
    "### Wartości domyślne argumentów\n",
    "\n",
    "Możemy zdefiniować wartości domyślne dla argumentów, co czyni je opcjonalnymi podczas wywoływania funkcji.\n",
    "\n",
    "Przykład:"
   ]
  },
  {
   "cell_type": "code",
   "execution_count": 3,
   "id": "ae6057b3-57dc-46f3-a91c-dbb68f61ed28",
   "metadata": {},
   "outputs": [
    {
     "name": "stdout",
     "output_type": "stream",
     "text": [
      "Witaj, Przyjacielu!\n",
      "Witaj, Kasia!\n"
     ]
    }
   ],
   "source": [
    "\n",
    "def powitanie(imie=\"Przyjacielu\"):\n",
    "    print(f\"Witaj, {imie}!\")\n",
    "\n",
    "powitanie()  # Użyje wartości domyślnej\n",
    "powitanie(\"Kasia\")  # Podana wartość nadpisze wartość domyślną\n"
   ]
  },
  {
   "cell_type": "code",
   "execution_count": 8,
   "id": "e2eabf47-9ad9-4483-a4a7-516ddcf8a5fa",
   "metadata": {},
   "outputs": [
    {
     "name": "stdout",
     "output_type": "stream",
     "text": [
      "a= 2 b= 1 c= 10 d= 20\n"
     ]
    }
   ],
   "source": [
    "def dzialanie(a, b, c=10, d=20):\n",
    "    print(\"a=\",a, \"b=\",b, \"c=\",c, \"d=\",d)\n",
    "\n",
    "dzialanie(b=1, a=2)"
   ]
  },
  {
   "cell_type": "code",
   "execution_count": 9,
   "id": "1e5660a0-14df-4178-a232-ba259a24173f",
   "metadata": {},
   "outputs": [
    {
     "name": "stdout",
     "output_type": "stream",
     "text": [
      "a= 2 b= 1 c= 12 d= 24\n"
     ]
    }
   ],
   "source": [
    "dzialanie(d=24, c=12, b=1, a=2)"
   ]
  },
  {
   "cell_type": "code",
   "execution_count": 12,
   "id": "045db20b-e24c-4267-9134-a90360bc3d35",
   "metadata": {},
   "outputs": [
    {
     "name": "stdout",
     "output_type": "stream",
     "text": [
      "a= 1 b= 20 c= 2 d= 20\n"
     ]
    }
   ],
   "source": [
    "dzialanie(1,  c=2, b=20)"
   ]
  },
  {
   "cell_type": "markdown",
   "id": "54a4f32b-43e4-4e9e-8f9c-7674059573c7",
   "metadata": {},
   "source": [
    "### *args i **kwargs\n",
    "\n",
    "Python pozwala na przyjęcie zmiennej liczby argumentów za pomocą specjalnych symboli: *args dla argumentów pozycyjnych i **kwargs dla nazwanych argumentów.\n",
    "\n",
    "Przykład:"
   ]
  },
  {
   "cell_type": "code",
   "execution_count": 14,
   "id": "df63cfc3-0b33-49b0-837c-a618c33699d2",
   "metadata": {},
   "outputs": [
    {
     "name": "stdout",
     "output_type": "stream",
     "text": [
      "Arg: 1\n",
      "Arg: 2\n",
      "Arg: 3\n",
      "Key: a, Value: 4\n",
      "Key: b, Value: 5\n",
      "Arg: 1\n",
      "Arg: 2\n",
      "Arg: 3\n",
      "Arg: 4\n",
      "Arg: 5\n",
      "Arg: 6\n",
      "Arg: 6\n",
      "Key: a, Value: 4\n",
      "Key: b, Value: 5\n",
      "Key: r, Value: 1\n"
     ]
    }
   ],
   "source": [
    "\n",
    "def funkcja(*args, **kwargs):\n",
    "    for arg in args:\n",
    "        print(f\"Arg: {arg}\")\n",
    "    for key, value in kwargs.items():\n",
    "        print(f\"Key: {key}, Value: {value}\")\n",
    "\n",
    "funkcja(1, 2, 3, a=4, b=5)\n",
    "\n",
    "funkcja()\n",
    "\n",
    "funkcja(1, 2, 3, 4, 5, 6, 6, a=4, b=5, r=1)\n"
   ]
  },
  {
   "cell_type": "markdown",
   "id": "38171921-5230-46ca-9f93-bb8987f0baa5",
   "metadata": {},
   "source": [
    "### Wymuszanie nazw argumentów\n",
    "Python 3.8 wprowadził funkcję, która wymusza używanie nazw argumentów w wywołaniach funkcji, uniemożliwiając wywołanie oparte wyłącznie na pozycji. Używa się do tego operatora `*`."
   ]
  },
  {
   "cell_type": "markdown",
   "id": "5a739f89-904c-46a0-a90f-16acdf63927c",
   "metadata": {},
   "source": [
    "Przykład:"
   ]
  },
  {
   "cell_type": "code",
   "execution_count": 16,
   "id": "e03ec4e2-ebab-4403-88df-70bf6f15a8bf",
   "metadata": {},
   "outputs": [
    {
     "name": "stdout",
     "output_type": "stream",
     "text": [
      "1 2 3\n"
     ]
    },
    {
     "ename": "TypeError",
     "evalue": "funkcja() takes 2 positional arguments but 3 were given",
     "output_type": "error",
     "traceback": [
      "\u001b[1;31m---------------------------------------------------------------------------\u001b[0m",
      "\u001b[1;31mTypeError\u001b[0m                                 Traceback (most recent call last)",
      "Cell \u001b[1;32mIn[16], line 5\u001b[0m\n\u001b[0;32m      2\u001b[0m     \u001b[38;5;28mprint\u001b[39m(a, b, c)\n\u001b[0;32m      4\u001b[0m funkcja(\u001b[38;5;241m1\u001b[39m, \u001b[38;5;241m2\u001b[39m, c\u001b[38;5;241m=\u001b[39m\u001b[38;5;241m3\u001b[39m)  \u001b[38;5;66;03m# Poprawne wywołanie\u001b[39;00m\n\u001b[1;32m----> 5\u001b[0m \u001b[43mfunkcja\u001b[49m\u001b[43m(\u001b[49m\u001b[38;5;241;43m1\u001b[39;49m\u001b[43m,\u001b[49m\u001b[43m \u001b[49m\u001b[38;5;241;43m2\u001b[39;49m\u001b[43m,\u001b[49m\u001b[43m \u001b[49m\u001b[38;5;241;43m3\u001b[39;49m\u001b[43m)\u001b[49m  \u001b[38;5;66;03m# Niepoprawne wywołanie\u001b[39;00m\n",
      "\u001b[1;31mTypeError\u001b[0m: funkcja() takes 2 positional arguments but 3 were given"
     ]
    }
   ],
   "source": [
    "def funkcja(a, b, *, c):\n",
    "    print(a, b, c)\n",
    "\n",
    "funkcja(1, 2, c=3)  # Poprawne wywołanie\n",
    "funkcja(1, 2, 3)  # Niepoprawne wywołanie"
   ]
  },
  {
   "cell_type": "code",
   "execution_count": 27,
   "id": "c1449fc6-f112-4a23-b4b3-d5e55feacf77",
   "metadata": {},
   "outputs": [],
   "source": [
    "def sumator(a, b, *, to_float: bool = False):\n",
    "    result = a+ b\n",
    "    if to_float is True:\n",
    "        result = float(result)\n",
    "    return result"
   ]
  },
  {
   "cell_type": "code",
   "execution_count": 28,
   "id": "c50b78dd-78e9-4a84-af72-7389104a0f8e",
   "metadata": {},
   "outputs": [
    {
     "data": {
      "text/plain": [
       "3.0"
      ]
     },
     "execution_count": 28,
     "metadata": {},
     "output_type": "execute_result"
    }
   ],
   "source": [
    "sumator(1, 2, to_float=True)"
   ]
  },
  {
   "cell_type": "code",
   "execution_count": 29,
   "id": "cd79e815-9b6e-4797-b3cf-9b34e7a7bc47",
   "metadata": {},
   "outputs": [
    {
     "ename": "TypeError",
     "evalue": "sumator() takes 2 positional arguments but 3 were given",
     "output_type": "error",
     "traceback": [
      "\u001b[1;31m---------------------------------------------------------------------------\u001b[0m",
      "\u001b[1;31mTypeError\u001b[0m                                 Traceback (most recent call last)",
      "Cell \u001b[1;32mIn[29], line 1\u001b[0m\n\u001b[1;32m----> 1\u001b[0m \u001b[43msumator\u001b[49m\u001b[43m(\u001b[49m\u001b[38;5;241;43m1\u001b[39;49m\u001b[43m,\u001b[49m\u001b[43m \u001b[49m\u001b[38;5;241;43m2\u001b[39;49m\u001b[43m,\u001b[49m\u001b[43m \u001b[49m\u001b[38;5;28;43;01mTrue\u001b[39;49;00m\u001b[43m)\u001b[49m\n",
      "\u001b[1;31mTypeError\u001b[0m: sumator() takes 2 positional arguments but 3 were given"
     ]
    }
   ],
   "source": [
    "sumator(1, 2, True)"
   ]
  },
  {
   "cell_type": "code",
   "execution_count": 30,
   "id": "2ad244c7-a2ef-4d59-90ae-ea259e95da7a",
   "metadata": {},
   "outputs": [
    {
     "name": "stdout",
     "output_type": "stream",
     "text": [
      "('koszt cena PLN', 'kwota $cena brutto')\n",
      "{'cena': 10}\n"
     ]
    }
   ],
   "source": [
    "def foo(*args, format_prefix=\"$\", **kwargs):\n",
    "    print(args)\n",
    "    print(kwargs)\n",
    "\n",
    "\n",
    "foo('koszt ^cena PLN', 'kwota $cena brutto', format_prefix=\"^\", cena=10,)\n",
    "'koszt 10 PLN\\nkwota $cena brutto'"
   ]
  },
  {
   "cell_type": "code",
   "execution_count": 35,
   "id": "d50efa9c-e9ac-4d93-8de7-8a1a7c1deceb",
   "metadata": {},
   "outputs": [
    {
     "data": {
      "text/plain": [
       "'2 1'"
      ]
     },
     "execution_count": 35,
     "metadata": {},
     "output_type": "execute_result"
    }
   ],
   "source": [
    "\"{b} {a}\".format(a=1, b=2)"
   ]
  },
  {
   "cell_type": "code",
   "execution_count": 38,
   "id": "1e75c538-5ad2-4b9b-b800-e1dcf6742acc",
   "metadata": {},
   "outputs": [
    {
     "data": {
      "text/plain": [
       "'10 PLN'"
      ]
     },
     "execution_count": 38,
     "metadata": {},
     "output_type": "execute_result"
    }
   ],
   "source": [
    "\"$cena PLN\".replace(\"$cena\", str(10))"
   ]
  },
  {
   "cell_type": "code",
   "execution_count": 32,
   "id": "25b4e82b-6786-47a4-b3de-2036aca1f5d5",
   "metadata": {},
   "outputs": [
    {
     "name": "stdout",
     "output_type": "stream",
     "text": [
      "('$a, $A', 'B', '$a')\n",
      "{'a': 14, 'A': 20}\n"
     ]
    }
   ],
   "source": [
    "foo(\"$a, $A\", \"B\", \"$a\", a=14, A=20)"
   ]
  },
  {
   "cell_type": "markdown",
   "id": "9d22c2f6-2de7-4780-882c-d284ed6e0393",
   "metadata": {},
   "source": [
    "W tym przykładzie `c` musi być zawsze wywoływane z użyciem nazwy.\n",
    "\n",
    "Zrozumienie tych aspektów funkcji w Pythonie pozwala na bardziej efektywne i elastyczne projektowanie twojego kodu. Dzięki temu, że możesz kontrolować, jak i które informacje są przekazywane do twoich funkcji, masz możliwość tworzenia bardziej rozbudowanych, ale zarazem czytelnych i łatwych do zarządzania programów."
   ]
  },
  {
   "cell_type": "markdown",
   "id": "8977aaf2-5659-488c-803f-9369355e6cf6",
   "metadata": {},
   "source": [
    "### 📝 Ćwiczenie: *args i **kwargs\n",
    "\n",
    "Zaimplementuj funkcję formatującą podane napisy.\n",
    "\n",
    "Przykład użycia:\n",
    "\n",
    "    >>> formatuj('koszt $cena PLN', 'kwota $cena brutto', cena=10,)\n",
    "    'koszt 10 PLN\\nkwota 10 brutto'\n",
    "\n",
    "    >>> formatuj('koszt cena PLN', 'kwota $cena brutto', cena=10,)\n",
    "    'koszt cena PLN\\nkwota 10 brutto'\n",
    "\n",
    "    >>> formatuj('kwota $cena brutto', cena=10,)\n",
    "    'kwota 10 brutto'\n",
    "\n",
    "    >>> formatuj(\"$a, $A\")\n",
    "    '$a, $A'\n",
    "\n",
    "    >>> formatuj(\"$a, $A\", a=14, A=20)\n",
    "    '14, 20'\n",
    "\n",
    "    \n",
    "    >>> formatuj(\"$a, $A\", \"B\", \"$a\" a=14, A=20)\n",
    "    '14, 20\\nB\\n14'"
   ]
  },
  {
   "cell_type": "markdown",
   "id": "6a19c5df-3731-4614-a055-41db0336b207",
   "metadata": {},
   "source": [
    "## Funkcje w roli parametrów i atrybutów, atrybuty funkcji\n",
    "\n",
    "W dynamicznie typowanym języku, jakim jest Python, funkcje to obiekty pierwszej klasy. Oznacza to, że mogą być one przekazywane do innych funkcji w roli parametrów, mogą być wynikami funkcji, mogą być przechowywane jako zmienne i mają możliwość posiadania własnych atrybutów i metod. W niniejszym artykule skupimy się na dwóch aspektach: funkcji jako parametrze oraz funkcji posiadającej atrybuty.\n",
    "\n",
    "###  Funkcja jako parametr:\n",
    "\n",
    "Podejście to jest często stosowane w programowaniu funkcyjnym i pozwala na znaczne zwiększenie elastyczności kodu. Dzięki temu możliwe jest na przykład tworzenie bardziej ogólnych funkcji, które wykonują logikę zależną od przekazanych funkcji.\n",
    "\n",
    "Przykład:"
   ]
  },
  {
   "cell_type": "code",
   "execution_count": 6,
   "id": "97fe56bc-f03c-4dc3-b842-ba3e526bb8cc",
   "metadata": {},
   "outputs": [
    {
     "name": "stdout",
     "output_type": "stream",
     "text": [
      "9\n"
     ]
    }
   ],
   "source": [
    "def wykonaj_operacje(funkcja, argument):\n",
    "    return funkcja(argument)\n",
    "\n",
    "def kwadrat(x):\n",
    "    return x * x\n",
    "\n",
    "wynik = wykonaj_operacje(kwadrat, 3)\n",
    "print(wynik)  # Wynikiem będzie 9"
   ]
  },
  {
   "cell_type": "markdown",
   "id": "507a7622-585f-44e8-a277-b42befb872ac",
   "metadata": {},
   "source": [
    "W powyższym przykładzie funkcja `wykonaj_operacje` akceptuje inną funkcję jako argument, co pozwala na dynamiczne decydowanie o wykonywanej operacji.\n",
    "\n",
    "### Funkcja z atrybutami:\n",
    "\n",
    "Funkcje w Pythonie są obiektami i, jak każdy obiekt, mogą mieć atrybuty. Te atrybuty mogą przechowywać dodatkowe informacje i mogą być modyfikowane. Jest to przydatne, na przykład, do przechowywania stanu lub informacji między wywołaniami funkcji.\n",
    "\n",
    "Przykład:"
   ]
  },
  {
   "cell_type": "code",
   "execution_count": 7,
   "id": "dcf855d5-2dd4-4a60-bc7c-2df075091f4a",
   "metadata": {},
   "outputs": [
    {
     "name": "stdout",
     "output_type": "stream",
     "text": [
      "To jest wywołanie numer 1\n",
      "To jest wywołanie numer 2\n"
     ]
    }
   ],
   "source": [
    "def moja_funkcja():\n",
    "    if not hasattr(moja_funkcja, \"licznik\"):\n",
    "        moja_funkcja.licznik = 0  # Ustawienie atrybutu\n",
    "    moja_funkcja.licznik += 1\n",
    "    print(f\"To jest wywołanie numer {moja_funkcja.licznik}\")\n",
    "\n",
    "moja_funkcja()\n",
    "moja_funkcja()"
   ]
  },
  {
   "cell_type": "markdown",
   "id": "a5bb54ca-4458-4302-b593-a9e32bcfd498",
   "metadata": {},
   "source": [
    "W tym przypadku `moja_funkcja` przechowuje informację o liczbie swoich wywołań, zachowując ten stan pomiędzy wywołaniami."
   ]
  },
  {
   "cell_type": "markdown",
   "id": "c79ec0d5-d91f-4897-869c-17d1b1c52b9d",
   "metadata": {},
   "source": [
    "### Funkcja jako atrybut\n",
    "\n",
    "Funkcja nie tylko moze posiadać atrybuty ale i może też być atrybutem. Który może być ustawiony zarówno w tej funkcji jak i poza nią"
   ]
  },
  {
   "cell_type": "code",
   "execution_count": 8,
   "id": "29a45a1b-f8e2-430f-8b76-4942d824f37b",
   "metadata": {},
   "outputs": [
    {
     "name": "stdout",
     "output_type": "stream",
     "text": [
      "To jest wywołanie numer 1\n",
      "To jest wywołanie numer 2\n",
      "To jest wywołanie numer 4\n"
     ]
    }
   ],
   "source": [
    "def square_index_system(x):\n",
    "    if x <= 1:\n",
    "        x += 1\n",
    "    else:\n",
    "        x = x ** 2\n",
    "    return x\n",
    "\n",
    "def moja_funkcja():\n",
    "\n",
    "    moja_funkcja.index_function = square_index_system\n",
    "    \n",
    "    if not hasattr(moja_funkcja, \"licznik\"):\n",
    "        moja_funkcja.licznik = 0  # Ustawienie atrybutu\n",
    "    moja_funkcja.licznik = moja_funkcja.index_function(moja_funkcja.licznik)\n",
    "    print(f\"To jest wywołanie numer {moja_funkcja.licznik}\")\n",
    "\n",
    "moja_funkcja()\n",
    "moja_funkcja()\n",
    "moja_funkcja()"
   ]
  },
  {
   "cell_type": "code",
   "execution_count": 9,
   "id": "f384db63-90c7-46eb-b166-f640689c2e9f",
   "metadata": {},
   "outputs": [
    {
     "name": "stdout",
     "output_type": "stream",
     "text": [
      "To jest wywołanie numer 1\n",
      "To jest wywołanie numer 2\n",
      "To jest wywołanie numer 4\n"
     ]
    }
   ],
   "source": [
    "def square_index_system(x):\n",
    "    if x <= 1:\n",
    "        x += 1\n",
    "    else:\n",
    "        x = x ** 2\n",
    "    return x\n",
    "\n",
    "def moja_funkcja():\n",
    "    if not hasattr(moja_funkcja, \"licznik\"):\n",
    "        moja_funkcja.licznik = 0  # Ustawienie atrybutu\n",
    "    moja_funkcja.licznik = moja_funkcja.index_function(moja_funkcja.licznik)\n",
    "    print(f\"To jest wywołanie numer {moja_funkcja.licznik}\")\n",
    "\n",
    "moja_funkcja.index_function = square_index_system\n",
    "\n",
    "moja_funkcja()\n",
    "moja_funkcja()\n",
    "moja_funkcja()"
   ]
  },
  {
   "cell_type": "markdown",
   "id": "0a19676c-741d-4273-bd9f-bb093d1056f8",
   "metadata": {},
   "source": [
    "### funkcja jako `wartość`"
   ]
  },
  {
   "cell_type": "code",
   "execution_count": 10,
   "id": "36f09e81-9fe1-4493-8b15-637b3386e990",
   "metadata": {},
   "outputs": [
    {
     "name": "stdout",
     "output_type": "stream",
     "text": [
      "To jest wywołanie numer 1\n",
      "To jest wywołanie numer 2\n",
      "To jest wywołanie numer 8\n"
     ]
    }
   ],
   "source": [
    "def plus_one(x): return x + 1\n",
    "\n",
    "def square(x): return x ** 2 if x > 1 else 2\n",
    "\n",
    "def cube(x): return x ** 3  if x > 1 else 2\n",
    "\n",
    "def moja_funkcja():    \n",
    "    if not hasattr(moja_funkcja, \"licznik\"):\n",
    "        moja_funkcja.licznik = 0  # Ustawienie atrybutu\n",
    "    moja_funkcja.licznik = moja_funkcja.index_function(moja_funkcja.licznik)\n",
    "    print(f\"To jest wywołanie numer {moja_funkcja.licznik}\")\n",
    "\n",
    "\n",
    "indexers = plus_one, square, cube\n",
    "\n",
    "for indexer in indexers:\n",
    "    \n",
    "    moja_funkcja.index_function = indexer\n",
    "    moja_funkcja()"
   ]
  },
  {
   "cell_type": "markdown",
   "id": "893d6af6-9972-401b-855f-fd9e2b048f91",
   "metadata": {},
   "source": [
    "W powyższym przykładzie funkcja przechowywana jest więc w tupli `indexers` po której następnie iterujemy"
   ]
  },
  {
   "cell_type": "markdown",
   "id": "5e94016f-829e-4eee-8a29-13994677fb27",
   "metadata": {},
   "source": [
    "### Podsumowanie:\n",
    "\n",
    "Wykorzystanie funkcji jako parametrów i dodawanie do nich atrybutów otwiera przed programistami szerokie możliwości w zakresie tworzenia bardziej modularnego, reużywalnego i eleganckiego kodu. Takie techniki są fundamentami w konstrukcji wyrafinowanych abstrakcji oraz w praktykach programowania funkcyjnego, które mogą przyczynić się do zwiększenia klarowności i elastyczności kodu."
   ]
  },
  {
   "cell_type": "markdown",
   "id": "25db6592-12be-4d0f-9045-e13c2517c2ea",
   "metadata": {},
   "source": [
    "### 📝 Ćwiczenie\n",
    "\n",
    "0. Utwórz lub wylosuj jeśli potrafisz listę zawierającą 20 liczb naturalnych z przedziału od 1 do 100\n",
    "1. Napisz funkcję, która zwróci True jeśli liczba jest większa lub równa 5\n",
    "2. Napisz funkcję, która zwróci True jeśli liczba jest większa niż 70\n",
    "3. Napisz funkcję, która przyjmie jako argument listę oraz te dwie funkcje odpowiednio jako wartości start i stop. Wymuś użycie nazwy parametru w wywołaniu. Funkcja ta ma zwrócić wycinek oryginalnej listy powstały poprzez zastosowanie warunków opisanych wyżej\n",
    "4. Funkcja ma działać dla dowolnej listy liczb i funkcji start i stop, które zwrócą True/False w zależności od liczby podanej na wejściu\n",
    "```python\n",
    "    wytnij([1, 5, 10, 90], start=start, stop=stop) == [5, 10]\n",
    "    wytnij([1, 5, 10, 90], start=lambda x: x>=5, stop=lambda x:...)\n",
    "```\n",
    "\n",
    "\n",
    "5. Jeśli nie wiesz co masz zrobić, to pomęcz o to trenera. :)\n",
    "6. spróbuj wykorzystać to rozwiązanie na wybranie fragmentu napisu, który będzie się mieścił między cyframi 3 i 7 (musisz dopisac odpowiednie funkcje start i stop\n",
    "```python\n",
    "    wytnij([\"12312456078\", start=start, stop=stop) == \"31245607\"\n",
    "```\n"
   ]
  },
  {
   "cell_type": "code",
   "execution_count": 56,
   "id": "2ec8ad3e-175d-4ded-94bf-332b3098feec",
   "metadata": {},
   "outputs": [
    {
     "data": {
      "text/plain": [
       "[5, 10]"
      ]
     },
     "execution_count": 56,
     "metadata": {},
     "output_type": "execute_result"
    }
   ],
   "source": [
    "from typing import Callable, Union, List, Any\n",
    "\n",
    "Collection = str | list\n",
    "\n",
    "def append(kolekcja: Collection, wartosc: Any) -> Collection:\n",
    "    if type(kolekcja) is str:\n",
    "        kolekcja += wartosc \n",
    "    elif type(kolekcja) is list:\n",
    "        kolekcja.append(wartosc)\n",
    "    return kolekcja\n",
    "    \n",
    "\n",
    "def wytnij(kolekcja: Collection, start: Callable, stop: Callable) -> Collection: \n",
    "\n",
    "    wyjscie = type(kolekcja)()\n",
    "    \n",
    "    wycinac = False\n",
    "    for el in kolekcja:\n",
    "        if start(el):\n",
    "            wycinac = True\n",
    "        if stop(el):\n",
    "            break\n",
    "        if wycinac:\n",
    "            wyjscie = append(wyjscie, el)\n",
    "\n",
    "    return wyjscie\n",
    "        \n",
    "wytnij([1, 5, 10, 90], start=lambda x: x>=5, stop=lambda x:x>70)\n",
    "\n",
    "# def wytnij(kolekcja: Union[Str, List], start: Callable, stop: Callable)"
   ]
  },
  {
   "cell_type": "code",
   "execution_count": 59,
   "id": "9529111d-ae24-4206-b173-5271c76d7674",
   "metadata": {},
   "outputs": [
    {
     "data": {
      "text/plain": [
       "'31245607'"
      ]
     },
     "execution_count": 59,
     "metadata": {},
     "output_type": "execute_result"
    }
   ],
   "source": [
    "wytnij(\"12312456078\", start=lambda x: x == \"3\", stop=lambda x: x == \"8\")"
   ]
  },
  {
   "cell_type": "code",
   "execution_count": 48,
   "id": "509539cb-e4c3-4860-8152-a13570a435c8",
   "metadata": {},
   "outputs": [],
   "source": [
    "x = type([])"
   ]
  },
  {
   "cell_type": "code",
   "execution_count": 49,
   "id": "af378e7a-a971-4bb9-852c-338d866325a5",
   "metadata": {},
   "outputs": [
    {
     "data": {
      "text/plain": [
       "type"
      ]
     },
     "execution_count": 49,
     "metadata": {},
     "output_type": "execute_result"
    }
   ],
   "source": [
    "type(x)"
   ]
  },
  {
   "cell_type": "code",
   "execution_count": 50,
   "id": "d0058541-c96b-4e22-b4fa-f87aae48c2f0",
   "metadata": {},
   "outputs": [
    {
     "data": {
      "text/plain": [
       "[]"
      ]
     },
     "execution_count": 50,
     "metadata": {},
     "output_type": "execute_result"
    }
   ],
   "source": [
    "x()"
   ]
  },
  {
   "cell_type": "code",
   "execution_count": 52,
   "id": "36867642-a2f4-48c8-8423-b23bb7d6664a",
   "metadata": {},
   "outputs": [
    {
     "data": {
      "text/plain": [
       "([], '')"
      ]
     },
     "execution_count": 52,
     "metadata": {},
     "output_type": "execute_result"
    }
   ],
   "source": [
    "list(), str()"
   ]
  },
  {
   "cell_type": "code",
   "execution_count": 53,
   "id": "34aa5f35-aab9-40bb-b0d4-545a7b6d79d6",
   "metadata": {},
   "outputs": [
    {
     "name": "stdout",
     "output_type": "stream",
     "text": [
      "Help on class list in module builtins:\n",
      "\n",
      "class list(object)\n",
      " |  list(iterable=(), /)\n",
      " |  \n",
      " |  Built-in mutable sequence.\n",
      " |  \n",
      " |  If no argument is given, the constructor creates a new empty list.\n",
      " |  The argument must be an iterable if specified.\n",
      " |  \n",
      " |  Methods defined here:\n",
      " |  \n",
      " |  __add__(self, value, /)\n",
      " |      Return self+value.\n",
      " |  \n",
      " |  __contains__(self, key, /)\n",
      " |      Return key in self.\n",
      " |  \n",
      " |  __delitem__(self, key, /)\n",
      " |      Delete self[key].\n",
      " |  \n",
      " |  __eq__(self, value, /)\n",
      " |      Return self==value.\n",
      " |  \n",
      " |  __ge__(self, value, /)\n",
      " |      Return self>=value.\n",
      " |  \n",
      " |  __getattribute__(self, name, /)\n",
      " |      Return getattr(self, name).\n",
      " |  \n",
      " |  __getitem__(...)\n",
      " |      x.__getitem__(y) <==> x[y]\n",
      " |  \n",
      " |  __gt__(self, value, /)\n",
      " |      Return self>value.\n",
      " |  \n",
      " |  __iadd__(self, value, /)\n",
      " |      Implement self+=value.\n",
      " |  \n",
      " |  __imul__(self, value, /)\n",
      " |      Implement self*=value.\n",
      " |  \n",
      " |  __init__(self, /, *args, **kwargs)\n",
      " |      Initialize self.  See help(type(self)) for accurate signature.\n",
      " |  \n",
      " |  __iter__(self, /)\n",
      " |      Implement iter(self).\n",
      " |  \n",
      " |  __le__(self, value, /)\n",
      " |      Return self<=value.\n",
      " |  \n",
      " |  __len__(self, /)\n",
      " |      Return len(self).\n",
      " |  \n",
      " |  __lt__(self, value, /)\n",
      " |      Return self<value.\n",
      " |  \n",
      " |  __mul__(self, value, /)\n",
      " |      Return self*value.\n",
      " |  \n",
      " |  __ne__(self, value, /)\n",
      " |      Return self!=value.\n",
      " |  \n",
      " |  __repr__(self, /)\n",
      " |      Return repr(self).\n",
      " |  \n",
      " |  __reversed__(self, /)\n",
      " |      Return a reverse iterator over the list.\n",
      " |  \n",
      " |  __rmul__(self, value, /)\n",
      " |      Return value*self.\n",
      " |  \n",
      " |  __setitem__(self, key, value, /)\n",
      " |      Set self[key] to value.\n",
      " |  \n",
      " |  __sizeof__(self, /)\n",
      " |      Return the size of the list in memory, in bytes.\n",
      " |  \n",
      " |  append(self, object, /)\n",
      " |      Append object to the end of the list.\n",
      " |  \n",
      " |  clear(self, /)\n",
      " |      Remove all items from list.\n",
      " |  \n",
      " |  copy(self, /)\n",
      " |      Return a shallow copy of the list.\n",
      " |  \n",
      " |  count(self, value, /)\n",
      " |      Return number of occurrences of value.\n",
      " |  \n",
      " |  extend(self, iterable, /)\n",
      " |      Extend list by appending elements from the iterable.\n",
      " |  \n",
      " |  index(self, value, start=0, stop=9223372036854775807, /)\n",
      " |      Return first index of value.\n",
      " |      \n",
      " |      Raises ValueError if the value is not present.\n",
      " |  \n",
      " |  insert(self, index, object, /)\n",
      " |      Insert object before index.\n",
      " |  \n",
      " |  pop(self, index=-1, /)\n",
      " |      Remove and return item at index (default last).\n",
      " |      \n",
      " |      Raises IndexError if list is empty or index is out of range.\n",
      " |  \n",
      " |  remove(self, value, /)\n",
      " |      Remove first occurrence of value.\n",
      " |      \n",
      " |      Raises ValueError if the value is not present.\n",
      " |  \n",
      " |  reverse(self, /)\n",
      " |      Reverse *IN PLACE*.\n",
      " |  \n",
      " |  sort(self, /, *, key=None, reverse=False)\n",
      " |      Sort the list in ascending order and return None.\n",
      " |      \n",
      " |      The sort is in-place (i.e. the list itself is modified) and stable (i.e. the\n",
      " |      order of two equal elements is maintained).\n",
      " |      \n",
      " |      If a key function is given, apply it once to each list item and sort them,\n",
      " |      ascending or descending, according to their function values.\n",
      " |      \n",
      " |      The reverse flag can be set to sort in descending order.\n",
      " |  \n",
      " |  ----------------------------------------------------------------------\n",
      " |  Class methods defined here:\n",
      " |  \n",
      " |  __class_getitem__(...) from builtins.type\n",
      " |      See PEP 585\n",
      " |  \n",
      " |  ----------------------------------------------------------------------\n",
      " |  Static methods defined here:\n",
      " |  \n",
      " |  __new__(*args, **kwargs) from builtins.type\n",
      " |      Create and return a new object.  See help(type) for accurate signature.\n",
      " |  \n",
      " |  ----------------------------------------------------------------------\n",
      " |  Data and other attributes defined here:\n",
      " |  \n",
      " |  __hash__ = None\n",
      "\n"
     ]
    }
   ],
   "source": [
    "help(list)"
   ]
  },
  {
   "cell_type": "code",
   "execution_count": 62,
   "id": "cd0fecb3-e400-43bf-aae6-5bfff1417fe6",
   "metadata": {},
   "outputs": [
    {
     "data": {
      "text/plain": [
       "8"
      ]
     },
     "execution_count": 62,
     "metadata": {},
     "output_type": "execute_result"
    }
   ],
   "source": [
    "power_lambda = lambda x: lambda y: x ** y\n",
    "\n",
    "power_lambda(2)(3)"
   ]
  },
  {
   "cell_type": "markdown",
   "id": "afd6acfc-cd5b-4677-bc16-db0c9f987fdb",
   "metadata": {},
   "source": [
    "## Funkcje Lambda w Pythonie\n",
    "\n",
    "W świecie Pythona, funkcje lambda, znane również jako anonimowe funkcje, to jeden z najbardziej unikalnych aspektów języka. Pozwalają one na tworzenie funkcji w locie, bez konieczności stosowania standardowej składni definiowania funkcji. W tym artykule zgłębimy różne zastosowania funkcji lambda, począwszy od najprostszych form, a skończywszy na bardziej zaawansowanych przypadkach użycia.\n",
    "\n",
    "### Podstawowe użycie:\n",
    "\n",
    "Na samym początku, funkcje lambda często stosuje się do wykonywania prostych operacji. Na przykład:"
   ]
  },
  {
   "cell_type": "code",
   "execution_count": 2,
   "id": "3d363c7b-2ab0-4847-a12f-e54deece7da1",
   "metadata": {},
   "outputs": [
    {
     "data": {
      "text/plain": [
       "16"
      ]
     },
     "execution_count": 2,
     "metadata": {},
     "output_type": "execute_result"
    }
   ],
   "source": [
    "(lambda x: x * x)(4)"
   ]
  },
  {
   "cell_type": "code",
   "execution_count": 4,
   "id": "8208aad1-dcc2-4f25-8238-3ec36db40aaf",
   "metadata": {},
   "outputs": [
    {
     "data": {
      "text/plain": [
       "'kwadrat'"
      ]
     },
     "execution_count": 4,
     "metadata": {},
     "output_type": "execute_result"
    }
   ],
   "source": [
    "def kwadrat(x):\n",
    "    return x * x\n",
    "\n",
    "kwadrat.__name__"
   ]
  },
  {
   "cell_type": "code",
   "execution_count": 5,
   "id": "2bc1586e-f848-4cc5-a5fe-74568c5089d7",
   "metadata": {},
   "outputs": [
    {
     "name": "stdout",
     "output_type": "stream",
     "text": [
      "16\n"
     ]
    }
   ],
   "source": [
    "podnies_do_kwadratu = lambda x: x * x\n",
    "print(podnies_do_kwadratu(4))  # Wynik: 16"
   ]
  },
  {
   "cell_type": "code",
   "execution_count": 6,
   "id": "718381f2-73b3-49b1-9def-671fdf9b4e04",
   "metadata": {},
   "outputs": [
    {
     "data": {
      "text/plain": [
       "'<lambda>'"
      ]
     },
     "execution_count": 6,
     "metadata": {},
     "output_type": "execute_result"
    }
   ],
   "source": [
    "podnies_do_kwadratu.__name__"
   ]
  },
  {
   "cell_type": "markdown",
   "id": "c2f9c069-0275-41cd-9eb3-414486df4969",
   "metadata": {},
   "source": [
    "W powyższym kodzie tworzymy funkcję, która podnosi liczbę do kwadratu, a następnie używamy jej do obliczenia kwadratu liczby 4.\n",
    "\n",
    "### Lambdy w funkcjach wyższego rzędu:\n",
    "\n",
    "Funkcje lambda są często używane w połączeniu z funkcjami wyższego rzędu (takimi jak `map`, `filter`, i `sorted`), które przyjmują inną funkcję jako argument."
   ]
  },
  {
   "cell_type": "code",
   "execution_count": 14,
   "id": "ddff582c-18a0-4703-8424-36b5870f6db7",
   "metadata": {},
   "outputs": [
    {
     "data": {
      "text/plain": [
       "['a20', 'b10', 'c1', 'c2', 'd2']"
      ]
     },
     "execution_count": 14,
     "metadata": {},
     "output_type": "execute_result"
    }
   ],
   "source": [
    "lista = [\"c1\", \"b10\", \"a20\", \"d2\", \"c2\"]\n",
    "sorted(lista)"
   ]
  },
  {
   "cell_type": "code",
   "execution_count": 15,
   "id": "9c21c434-e4a4-4818-9532-727af96083d5",
   "metadata": {},
   "outputs": [
    {
     "data": {
      "text/plain": [
       "'20'"
      ]
     },
     "execution_count": 15,
     "metadata": {},
     "output_type": "execute_result"
    }
   ],
   "source": [
    "x = 'a20'\n",
    "x[1:]"
   ]
  },
  {
   "cell_type": "code",
   "execution_count": 16,
   "id": "a3a464f5-638b-4bc0-9ded-3d3c6d01d811",
   "metadata": {},
   "outputs": [
    {
     "data": {
      "text/plain": [
       "['c1', 'd2', 'c2', 'b10', 'a20']"
      ]
     },
     "execution_count": 16,
     "metadata": {},
     "output_type": "execute_result"
    }
   ],
   "source": [
    "sorted(lista, key=lambda x: int(x[1:]))"
   ]
  },
  {
   "cell_type": "code",
   "execution_count": 18,
   "id": "35871884-9303-4d61-8f8c-c860371a45f4",
   "metadata": {},
   "outputs": [],
   "source": [
    "liczby = [1, 2, 3, 4, 5]"
   ]
  },
  {
   "cell_type": "code",
   "execution_count": 20,
   "id": "38a398c8-542f-4f8e-b9f7-9e9248a59b96",
   "metadata": {},
   "outputs": [
    {
     "data": {
      "text/plain": [
       "[2, 4, 6, 8, 10]"
      ]
     },
     "execution_count": 20,
     "metadata": {},
     "output_type": "execute_result"
    }
   ],
   "source": [
    "list(map(lambda x: x * 2, liczby))"
   ]
  },
  {
   "cell_type": "code",
   "execution_count": 22,
   "id": "9087825f-f76a-464b-b69d-e6dc91743a41",
   "metadata": {},
   "outputs": [
    {
     "data": {
      "text/plain": [
       "[1.0, 2.0, 3.0, 4.0, 5.0]"
      ]
     },
     "execution_count": 22,
     "metadata": {},
     "output_type": "execute_result"
    }
   ],
   "source": [
    "list(map(float, liczby))"
   ]
  },
  {
   "cell_type": "code",
   "execution_count": 23,
   "id": "20e04407-d6ed-49ef-906f-dbfb3d7369e8",
   "metadata": {},
   "outputs": [
    {
     "data": {
      "text/plain": [
       "[1.0, 2.0, 3.0, 4.0, 5.0]"
      ]
     },
     "execution_count": 23,
     "metadata": {},
     "output_type": "execute_result"
    }
   ],
   "source": [
    "[float(i) for i in liczby]"
   ]
  },
  {
   "cell_type": "code",
   "execution_count": null,
   "id": "bbbcd67d-0b2f-487d-9107-65b84dcbf2e1",
   "metadata": {},
   "outputs": [],
   "source": [
    "wynik = list(map(lambda x: x * 2, liczby))\n",
    "print(wynik)  # Wynik: [2, 4, 6, 8, 10]"
   ]
  },
  {
   "cell_type": "code",
   "execution_count": null,
   "id": "f0ab16a9-36f6-4950-a821-53bd3898966a",
   "metadata": {},
   "outputs": [],
   "source": []
  },
  {
   "cell_type": "code",
   "execution_count": 24,
   "id": "0a5d853a-c7e6-455a-a739-c9585aca936c",
   "metadata": {},
   "outputs": [],
   "source": [
    "dluga_lista = [x for x in range(1000000)]"
   ]
  },
  {
   "cell_type": "code",
   "execution_count": 26,
   "id": "542f1a01-510f-483b-8341-c60c83f0fbc5",
   "metadata": {},
   "outputs": [
    {
     "data": {
      "application/json": {
       "cell": {
        "!": "OSMagics",
        "HTML": "Other",
        "SVG": "Other",
        "bash": "Other",
        "capture": "ExecutionMagics",
        "cmd": "Other",
        "code_wrap": "ExecutionMagics",
        "debug": "ExecutionMagics",
        "file": "Other",
        "html": "DisplayMagics",
        "javascript": "DisplayMagics",
        "js": "DisplayMagics",
        "latex": "DisplayMagics",
        "markdown": "DisplayMagics",
        "perl": "Other",
        "prun": "ExecutionMagics",
        "pypy": "Other",
        "python": "Other",
        "python2": "Other",
        "python3": "Other",
        "ruby": "Other",
        "script": "ScriptMagics",
        "sh": "Other",
        "svg": "DisplayMagics",
        "sx": "OSMagics",
        "system": "OSMagics",
        "time": "ExecutionMagics",
        "timeit": "ExecutionMagics",
        "writefile": "OSMagics"
       },
       "line": {
        "alias": "OSMagics",
        "alias_magic": "BasicMagics",
        "autoawait": "AsyncMagics",
        "autocall": "AutoMagics",
        "automagic": "AutoMagics",
        "autosave": "KernelMagics",
        "bookmark": "OSMagics",
        "cd": "OSMagics",
        "clear": "KernelMagics",
        "cls": "KernelMagics",
        "code_wrap": "ExecutionMagics",
        "colors": "BasicMagics",
        "conda": "PackagingMagics",
        "config": "ConfigMagics",
        "connect_info": "KernelMagics",
        "copy": "Other",
        "ddir": "Other",
        "debug": "ExecutionMagics",
        "dhist": "OSMagics",
        "dirs": "OSMagics",
        "doctest_mode": "BasicMagics",
        "echo": "Other",
        "ed": "Other",
        "edit": "KernelMagics",
        "env": "OSMagics",
        "gui": "BasicMagics",
        "hist": "Other",
        "history": "HistoryMagics",
        "killbgscripts": "ScriptMagics",
        "ldir": "Other",
        "less": "KernelMagics",
        "load": "CodeMagics",
        "load_ext": "ExtensionMagics",
        "loadpy": "CodeMagics",
        "logoff": "LoggingMagics",
        "logon": "LoggingMagics",
        "logstart": "LoggingMagics",
        "logstate": "LoggingMagics",
        "logstop": "LoggingMagics",
        "ls": "Other",
        "lsmagic": "BasicMagics",
        "macro": "ExecutionMagics",
        "magic": "BasicMagics",
        "matplotlib": "PylabMagics",
        "mkdir": "Other",
        "more": "KernelMagics",
        "notebook": "BasicMagics",
        "page": "BasicMagics",
        "pastebin": "CodeMagics",
        "pdb": "ExecutionMagics",
        "pdef": "NamespaceMagics",
        "pdoc": "NamespaceMagics",
        "pfile": "NamespaceMagics",
        "pinfo": "NamespaceMagics",
        "pinfo2": "NamespaceMagics",
        "pip": "PackagingMagics",
        "popd": "OSMagics",
        "pprint": "BasicMagics",
        "precision": "BasicMagics",
        "prun": "ExecutionMagics",
        "psearch": "NamespaceMagics",
        "psource": "NamespaceMagics",
        "pushd": "OSMagics",
        "pwd": "OSMagics",
        "pycat": "OSMagics",
        "pylab": "PylabMagics",
        "qtconsole": "KernelMagics",
        "quickref": "BasicMagics",
        "recall": "HistoryMagics",
        "rehashx": "OSMagics",
        "reload_ext": "ExtensionMagics",
        "ren": "Other",
        "rep": "Other",
        "rerun": "HistoryMagics",
        "reset": "NamespaceMagics",
        "reset_selective": "NamespaceMagics",
        "rmdir": "Other",
        "run": "ExecutionMagics",
        "save": "CodeMagics",
        "sc": "OSMagics",
        "set_env": "OSMagics",
        "store": "StoreMagics",
        "sx": "OSMagics",
        "system": "OSMagics",
        "tb": "ExecutionMagics",
        "time": "ExecutionMagics",
        "timeit": "ExecutionMagics",
        "unalias": "OSMagics",
        "unload_ext": "ExtensionMagics",
        "who": "NamespaceMagics",
        "who_ls": "NamespaceMagics",
        "whos": "NamespaceMagics",
        "xdel": "NamespaceMagics",
        "xmode": "BasicMagics"
       }
      },
      "text/plain": [
       "Available line magics:\n",
       "%alias  %alias_magic  %autoawait  %autocall  %automagic  %autosave  %bookmark  %cd  %clear  %cls  %code_wrap  %colors  %conda  %config  %connect_info  %copy  %ddir  %debug  %dhist  %dirs  %doctest_mode  %echo  %ed  %edit  %env  %gui  %hist  %history  %killbgscripts  %ldir  %less  %load  %load_ext  %loadpy  %logoff  %logon  %logstart  %logstate  %logstop  %ls  %lsmagic  %macro  %magic  %matplotlib  %mkdir  %more  %notebook  %page  %pastebin  %pdb  %pdef  %pdoc  %pfile  %pinfo  %pinfo2  %pip  %popd  %pprint  %precision  %prun  %psearch  %psource  %pushd  %pwd  %pycat  %pylab  %qtconsole  %quickref  %recall  %rehashx  %reload_ext  %ren  %rep  %rerun  %reset  %reset_selective  %rmdir  %run  %save  %sc  %set_env  %store  %sx  %system  %tb  %time  %timeit  %unalias  %unload_ext  %who  %who_ls  %whos  %xdel  %xmode\n",
       "\n",
       "Available cell magics:\n",
       "%%!  %%HTML  %%SVG  %%bash  %%capture  %%cmd  %%code_wrap  %%debug  %%file  %%html  %%javascript  %%js  %%latex  %%markdown  %%perl  %%prun  %%pypy  %%python  %%python2  %%python3  %%ruby  %%script  %%sh  %%svg  %%sx  %%system  %%time  %%timeit  %%writefile\n",
       "\n",
       "Automagic is ON, % prefix IS NOT needed for line magics."
      ]
     },
     "execution_count": 26,
     "metadata": {},
     "output_type": "execute_result"
    }
   ],
   "source": [
    "%lsmagic"
   ]
  },
  {
   "cell_type": "code",
   "execution_count": 30,
   "id": "4540b9b7-407a-4cd7-89a8-1738b73d5113",
   "metadata": {},
   "outputs": [
    {
     "name": "stdout",
     "output_type": "stream",
     "text": [
      "270 ms ± 6.86 ms per loop (mean ± std. dev. of 7 runs, 1 loop each)\n"
     ]
    }
   ],
   "source": [
    "%timeit l2 = [str(i) for i in dluga_lista]"
   ]
  },
  {
   "cell_type": "code",
   "execution_count": 31,
   "id": "c84d24bd-a8ee-4b08-aada-455d1b825ed5",
   "metadata": {},
   "outputs": [
    {
     "name": "stdout",
     "output_type": "stream",
     "text": [
      "310 ms ± 13 ms per loop (mean ± std. dev. of 7 runs, 1 loop each)\n"
     ]
    }
   ],
   "source": [
    "%timeit l3 = list(map(str, dluga_lista))"
   ]
  },
  {
   "cell_type": "code",
   "execution_count": 35,
   "id": "ec6d5eeb-da47-40ae-a5bc-fb7ae8198eaa",
   "metadata": {},
   "outputs": [],
   "source": [
    "l4 = map(str, dluga_lista)"
   ]
  },
  {
   "cell_type": "code",
   "execution_count": 38,
   "id": "159f55b5-b8ed-443f-b54a-2e29b9535952",
   "metadata": {},
   "outputs": [
    {
     "data": {
      "text/plain": [
       "'2'"
      ]
     },
     "execution_count": 38,
     "metadata": {},
     "output_type": "execute_result"
    }
   ],
   "source": [
    "next(iter(l4))"
   ]
  },
  {
   "cell_type": "code",
   "execution_count": 39,
   "id": "b1966869-0304-4f82-8882-87a5100a823f",
   "metadata": {},
   "outputs": [],
   "source": [
    "def cube(x): return x ** 3"
   ]
  },
  {
   "cell_type": "code",
   "execution_count": 42,
   "id": "574d84f3-1b74-4ab7-9b9a-bc6e0b3cc454",
   "metadata": {},
   "outputs": [
    {
     "name": "stdout",
     "output_type": "stream",
     "text": [
      "416 ms ± 8.53 ms per loop (mean ± std. dev. of 7 runs, 1 loop each)\n"
     ]
    }
   ],
   "source": [
    "%timeit l5 = [cube(i) for i in dluga_lista]"
   ]
  },
  {
   "cell_type": "code",
   "execution_count": 43,
   "id": "0ba28e90-a509-4b2d-a5c5-2e4ce48d6a4b",
   "metadata": {},
   "outputs": [
    {
     "name": "stdout",
     "output_type": "stream",
     "text": [
      "189 ms ± 8.36 ms per loop (mean ± std. dev. of 7 runs, 1 loop each)\n"
     ]
    }
   ],
   "source": [
    "%timeit l5 = [lambda x: x ** 3 for i in dluga_lista]"
   ]
  },
  {
   "cell_type": "code",
   "execution_count": 44,
   "id": "8e68526a-508e-4701-ad23-81e10e62cfb7",
   "metadata": {},
   "outputs": [],
   "source": [
    "import dis"
   ]
  },
  {
   "cell_type": "code",
   "execution_count": 45,
   "id": "2e6195a1-8ae3-4ebd-ab42-5e654785fd7d",
   "metadata": {},
   "outputs": [
    {
     "name": "stdout",
     "output_type": "stream",
     "text": [
      "  1           0 RESUME                   0\n",
      "              2 LOAD_FAST                0 (x)\n",
      "              4 LOAD_CONST               1 (3)\n",
      "              6 BINARY_OP                8 (**)\n",
      "             10 RETURN_VALUE\n"
     ]
    }
   ],
   "source": [
    "dis.dis(cube)"
   ]
  },
  {
   "cell_type": "code",
   "execution_count": 46,
   "id": "8bdc040a-e064-49e6-b707-dd83c827a018",
   "metadata": {},
   "outputs": [
    {
     "name": "stdout",
     "output_type": "stream",
     "text": [
      "  1           0 RESUME                   0\n",
      "              2 LOAD_FAST                0 (x)\n",
      "              4 LOAD_CONST               1 (3)\n",
      "              6 BINARY_OP                8 (**)\n",
      "             10 RETURN_VALUE\n"
     ]
    }
   ],
   "source": [
    "dis.dis(lambda x: x**3)"
   ]
  },
  {
   "cell_type": "markdown",
   "id": "0c14ebe0-f900-4511-a746-09db01126015",
   "metadata": {},
   "source": [
    "W tym przypadku używamy `map` do podwojenia każdego elementu w liście."
   ]
  },
  {
   "cell_type": "markdown",
   "id": "f501f3ce-133e-45ec-b648-aaf9a93bf03c",
   "metadata": {},
   "source": [
    "### Lambdy wieloargumentowe:\n",
    "\n",
    "Funkcje lambda nie są ograniczone do jednego argumentu. Mogą przyjmować wiele argumentów, podobnie jak standardowe funkcje"
   ]
  },
  {
   "cell_type": "code",
   "execution_count": 12,
   "id": "4d414b39-c830-4a0b-8ebe-99017d4f5a1b",
   "metadata": {},
   "outputs": [
    {
     "name": "stdout",
     "output_type": "stream",
     "text": [
      "5\n"
     ]
    }
   ],
   "source": [
    "dodaj = lambda x, y: x + y\n",
    "print(dodaj(2, 3))  # Wynik: 5\n"
   ]
  },
  {
   "cell_type": "markdown",
   "id": "2fdc1f64-4f99-4e49-8d02-06498786eed9",
   "metadata": {},
   "source": [
    "### Lambdy z wyrażeniami warunkowymi:\n",
    "\n",
    "Funkcje lambda mogą również zawierać wyrażenia warunkowe, co pozwala na bardziej skomplikowane operacje."
   ]
  },
  {
   "cell_type": "code",
   "execution_count": 13,
   "id": "8db26a23-9475-42da-8dd1-4cc8d65eecdd",
   "metadata": {},
   "outputs": [
    {
     "name": "stdout",
     "output_type": "stream",
     "text": [
      "nie\n"
     ]
    }
   ],
   "source": [
    "warunkowe = lambda x: 'tak' if x % 2 == 0 else 'nie'\n",
    "print(warunkowe(3))  # Wynik: 'nie'"
   ]
  },
  {
   "cell_type": "markdown",
   "id": "7d1086b3-0748-4248-931a-d00746f37046",
   "metadata": {},
   "source": [
    "W powyższym przykładzie funkcja lambda sprawdza, czy liczba jest parzysta."
   ]
  },
  {
   "cell_type": "markdown",
   "id": "4ac23622-8c80-4531-b358-d1ff3575684a",
   "metadata": {},
   "source": [
    "### Podsumowanie:\n",
    "\n",
    "Funkcje lambda w Pythonie oferują wygodny sposób na pisanie czystego i skondensowanego kodu, który jest zarazem wydajny i czytelny. Chociaż ich użycie powinno być ograniczone do prostych operacji (ze względu na ograniczenia, takie jak brak wielu wyrażeń i nazwanych argumentów), w wielu przypadkach są one niezastąpionym narzędziem, które ułatwia szybkie i eleganckie rozwiązywanie problemów programistycznych."
   ]
  },
  {
   "cell_type": "markdown",
   "id": "90b25dc5-6d67-4c24-86de-68b45c8bb470",
   "metadata": {},
   "source": [
    "### 📝 Ćwiczenie\n",
    "\n",
    "Użyj funkcji lambda w poprzednim ćwiczeniu. Chodzi o zdefiniowane funkcji w miejscu uzycia - czuli tam gdzie wywołujemy nasza funkcję wytnij"
   ]
  },
  {
   "cell_type": "markdown",
   "id": "da202e7e-a056-4567-9fdc-e0e8d06bbc88",
   "metadata": {},
   "source": [
    "## Domknięcia (clojures)\n",
    "\n",
    "W programowaniu funkcjonalnym, koncepcja domknięć (ang. closures) odgrywa kluczową rolę. Domknięcia to nic innego jak funkcje, które dynamicznie generują inne funkcje, zapamiętując i zachowując informacje ze swojej włąsnej przestrzeni nazw, nawet po zakończeniu wykonania. W Pythonie domknięcia oferują potężne możliwości. \n",
    "\n",
    "### Czym są domknięcia?\n",
    "\n",
    "Pierwszym krokiem w zrozumieniu domknięć jest zrozumienie zasięgu leksykalnego. Zasięg leksykalny to region kodu, z którego zmienne są dostępne.\n",
    "\n",
    "Przykład:"
   ]
  },
  {
   "cell_type": "code",
   "execution_count": 63,
   "id": "587d7c64-b539-4be3-afe3-b363f2128fc7",
   "metadata": {},
   "outputs": [
    {
     "name": "stdout",
     "output_type": "stream",
     "text": [
      "15\n"
     ]
    }
   ],
   "source": [
    "def zewnetrzna(x):\n",
    "    def wewnetrzna(y):\n",
    "        return x + y\n",
    "    return wewnetrzna\n",
    "\n",
    "moja_funkcja = zewnetrzna(10)\n",
    "\n",
    "print(moja_funkcja(5))  # wynik: 15"
   ]
  },
  {
   "cell_type": "code",
   "execution_count": 78,
   "id": "7391b6f3-a087-4507-b3fa-fe313e9ddd72",
   "metadata": {},
   "outputs": [],
   "source": [
    "def add_15a(y):\n",
    "    \"\"\"Add 15 to y\"\"\"\n",
    "    return 15 + y\n",
    "def add_10a(y):\n",
    "    return 10 + y\n",
    "\n",
    "def add_factory(x):\n",
    "    \n",
    "    def func(y):\n",
    "        return x + y\n",
    "    # func.__name__ = f\"add_{x}\"\n",
    "    # func.__doc__ = f\"Add {x} to y\"\n",
    "    return func\n",
    "\n",
    "add_15 = add_factory(15)\n",
    "add_10 = add_factory(10)"
   ]
  },
  {
   "cell_type": "code",
   "execution_count": 66,
   "id": "ac70da4a-e6a1-4acd-898b-802b73eb0364",
   "metadata": {},
   "outputs": [
    {
     "data": {
      "text/plain": [
       "25"
      ]
     },
     "execution_count": 66,
     "metadata": {},
     "output_type": "execute_result"
    }
   ],
   "source": [
    "add_15a(10)"
   ]
  },
  {
   "cell_type": "code",
   "execution_count": 74,
   "id": "8a35b868-e36c-44f9-a1a9-d38cb4e1bdd0",
   "metadata": {},
   "outputs": [
    {
     "name": "stdout",
     "output_type": "stream",
     "text": [
      "Help on function add_15a in module __main__:\n",
      "\n",
      "add_15a(y)\n",
      "    Add 15 to y\n",
      "\n"
     ]
    }
   ],
   "source": [
    "help(add_15a)"
   ]
  },
  {
   "cell_type": "code",
   "execution_count": 67,
   "id": "d53cf0fc-a426-4888-88e0-3b2aaf0002ca",
   "metadata": {},
   "outputs": [
    {
     "data": {
      "text/plain": [
       "25"
      ]
     },
     "execution_count": 67,
     "metadata": {},
     "output_type": "execute_result"
    }
   ],
   "source": [
    "add_15(10)"
   ]
  },
  {
   "cell_type": "code",
   "execution_count": 71,
   "id": "ddfa91de-977a-49d7-bfb0-46ea6b7afabd",
   "metadata": {},
   "outputs": [
    {
     "data": {
      "text/plain": [
       "'add_15a'"
      ]
     },
     "execution_count": 71,
     "metadata": {},
     "output_type": "execute_result"
    }
   ],
   "source": [
    "add_15a.__name__"
   ]
  },
  {
   "cell_type": "code",
   "execution_count": 72,
   "id": "169f43f8-3817-4d33-8f1e-b6d1de01c753",
   "metadata": {},
   "outputs": [
    {
     "data": {
      "text/plain": [
       "'add_15'"
      ]
     },
     "execution_count": 72,
     "metadata": {},
     "output_type": "execute_result"
    }
   ],
   "source": [
    "add_15.__name__"
   ]
  },
  {
   "cell_type": "code",
   "execution_count": 79,
   "id": "f8d49dca-ca7c-4870-b3fc-04b685110337",
   "metadata": {},
   "outputs": [
    {
     "name": "stdout",
     "output_type": "stream",
     "text": [
      "Help on function add_15 in module __main__:\n",
      "\n",
      "add_15(y)\n",
      "    Add 15 to y\n",
      "\n"
     ]
    }
   ],
   "source": [
    "help(add_15)"
   ]
  },
  {
   "cell_type": "code",
   "execution_count": 80,
   "id": "c49638df-55de-4735-876a-73cb0c692d91",
   "metadata": {},
   "outputs": [
    {
     "data": {
      "text/plain": [
       "['c1', 'b10', 'a20', 'd2', 'c2']"
      ]
     },
     "execution_count": 80,
     "metadata": {},
     "output_type": "execute_result"
    }
   ],
   "source": []
  },
  {
   "cell_type": "markdown",
   "id": "90a3f72d-ff86-4ad2-915c-7f994397d600",
   "metadata": {},
   "source": [
    "W powyższym kodzie `wewnetrzna` jest domknięciem, które \"pamięta\" otoczenie, w którym zostało utworzone, tj. wartość `x`.\n",
    "\n",
    "**2. Dlaczego używać domknięć?**\n",
    "\n",
    "Domknięcia są szczególnie przydatne, gdy chcemy ukryć stan wewnątrz funkcji, zamiast używać obiektów opartych na klasach. Są one naturalnym sposobem enkapsulacji informacji i idealnie nadają się do implementacji wzorców projektowych, takich jak dekoratory.\n",
    "\n",
    "**3. Przykłady domknięć**\n",
    "\n",
    "*Logowanie działań w aplikacji:*"
   ]
  },
  {
   "cell_type": "code",
   "execution_count": 84,
   "id": "a7323e13-871b-4577-aa95-78e65c2bd348",
   "metadata": {},
   "outputs": [
    {
     "name": "stdout",
     "output_type": "stream",
     "text": [
      "ZDARZENIE: Użytkownik się zalogował\n",
      "BŁĄD: Zle zdarzenie\n",
      "BŁĄD: Zle inne zdarzenie\n",
      "BŁĄD: Zle zdarzenie\n"
     ]
    }
   ],
   "source": [
    "def stworz_logger(prefix):\n",
    "    def logger(wiadomosc):\n",
    "        print(f\"{prefix}: {wiadomosc}\")\n",
    "    return logger\n",
    "\n",
    "loguj_zdarzenie = stworz_logger(\"ZDARZENIE\")\n",
    "loguj_zdarzenie(\"Użytkownik się zalogował\")  # wynik: \"ZDARZENIE: Użytkownik się zalogował\"\n",
    "\n",
    "loguj_blad = stworz_logger(\"BŁĄD\")\n",
    "loguj_blad(\"Zle zdarzenie\")\n",
    "loguj_blad(\"Zle inne zdarzenie\")\n",
    "loguj_blad(\"Zle zdarzenie\")"
   ]
  },
  {
   "cell_type": "markdown",
   "id": "b027a91c-d02a-4a84-87ab-bcc460d8c5b6",
   "metadata": {},
   "source": [
    "W powyższym przykładzie funkcja `stworz_logger` tworzy funkcję `logger`, która zachowuje stan `prefix`.\n",
    "\n",
    "**4. Funkcje partial**\n",
    "\n",
    "Funkcje partial to kolejny sposób na przechowywanie stanu. Moduł `functools` w Pythonie oferuje funkcję `partial`, która pozwala na częściowe stosowanie argumentów funkcji.\n",
    "\n",
    "Przykład użycia funkcji partial:"
   ]
  },
  {
   "cell_type": "code",
   "execution_count": 85,
   "id": "0dcc061e-7bd6-4846-9b51-a2d4bc5ca914",
   "metadata": {},
   "outputs": [
    {
     "name": "stdout",
     "output_type": "stream",
     "text": [
      "x:2, y:4\n",
      "8\n"
     ]
    }
   ],
   "source": [
    "from functools import partial\n",
    "\n",
    "def mnozenie(x, y):\n",
    "    print(f\"x:{x}, y:{y}\")\n",
    "    return x * y\n",
    "\n",
    "podwojenie = partial(mnozenie, 2)\n",
    "print(podwojenie(4))  # wynik: 8"
   ]
  },
  {
   "cell_type": "markdown",
   "id": "508424fc-aa67-4743-924e-8c6863986242",
   "metadata": {},
   "source": [
    "W tym kodzie funkcja `partial` tworzy nową funkcję, która \"pamięta\" niektóre z argumentów funkcji, której używamy."
   ]
  },
  {
   "cell_type": "markdown",
   "id": "e4bccc79-0580-4d2f-a8d6-98d689fd5903",
   "metadata": {},
   "source": [
    "**Podsumowanie:**\n",
    "\n",
    "Domknięcia i funkcje partial są potężnymi narzędziami w Pythonie, które pozwalają programistom na zachowanie stanu i enkapsulację informacji w sposób, który jest naturalny dla funkcjonalnego stylu programowania. Te techniki mogą przyczynić się do pisania czystszego, bardziej modularnego kodu, który jest łatwiejszy do czytania i utrzymania."
   ]
  },
  {
   "cell_type": "code",
   "execution_count": 86,
   "id": "acf9ee11-7815-4f27-ac79-f9e55c49550a",
   "metadata": {},
   "outputs": [
    {
     "data": {
      "text/plain": [
       "1"
      ]
     },
     "execution_count": 86,
     "metadata": {},
     "output_type": "execute_result"
    }
   ],
   "source": [
    "def gen():\n",
    "    yield 1\n",
    "    yield 2\n",
    "\n",
    "mygen = gen()\n",
    "next(mygen)"
   ]
  },
  {
   "cell_type": "code",
   "execution_count": 88,
   "id": "0758491d-1dd9-4264-8682-25c4d9fac5a9",
   "metadata": {},
   "outputs": [
    {
     "ename": "StopIteration",
     "evalue": "",
     "output_type": "error",
     "traceback": [
      "\u001b[1;31m---------------------------------------------------------------------------\u001b[0m",
      "\u001b[1;31mStopIteration\u001b[0m                             Traceback (most recent call last)",
      "Cell \u001b[1;32mIn[88], line 1\u001b[0m\n\u001b[1;32m----> 1\u001b[0m \u001b[38;5;28;43mnext\u001b[39;49m\u001b[43m(\u001b[49m\u001b[43mmygen\u001b[49m\u001b[43m)\u001b[49m\n",
      "\u001b[1;31mStopIteration\u001b[0m: "
     ]
    }
   ],
   "source": [
    "next(mygen)"
   ]
  },
  {
   "cell_type": "code",
   "execution_count": 93,
   "id": "c4037174-b545-484e-98b5-fdff9d2deecf",
   "metadata": {},
   "outputs": [],
   "source": [
    "def gen():\n",
    "    i = 0\n",
    "    while i < 10:\n",
    "        yield i\n",
    "        i += 1\n",
    "\n",
    "mygen = gen()"
   ]
  },
  {
   "cell_type": "code",
   "execution_count": 96,
   "id": "9f3cd966-e11b-43d4-a53f-09530cf23dda",
   "metadata": {},
   "outputs": [
    {
     "data": {
      "text/plain": [
       "2"
      ]
     },
     "execution_count": 96,
     "metadata": {},
     "output_type": "execute_result"
    }
   ],
   "source": [
    "next(mygen)"
   ]
  },
  {
   "cell_type": "code",
   "execution_count": 97,
   "id": "d503c25f-938f-4fd3-accd-a06782e5a363",
   "metadata": {},
   "outputs": [
    {
     "name": "stdout",
     "output_type": "stream",
     "text": [
      "3\n",
      "4\n",
      "5\n",
      "6\n",
      "7\n",
      "8\n",
      "9\n"
     ]
    }
   ],
   "source": [
    "for i in mygen:\n",
    "    print(i)"
   ]
  },
  {
   "cell_type": "code",
   "execution_count": null,
   "id": "edca453d-42aa-4b71-bc84-fa72e5dfe003",
   "metadata": {},
   "outputs": [],
   "source": []
  },
  {
   "cell_type": "markdown",
   "id": "b875c22c-4769-46dc-acc3-ef25c2e3b8f3",
   "metadata": {},
   "source": [
    "### 📝 Ćwiczenie \n",
    "\n",
    "\n",
    "**Cel:**\n",
    "\n",
    "Celem tego zadania jest zrozumienie, jak można dynamicznie tworzyć i modyfikować funkcje w Pythonie za pomocą koncepcji, takich jak domknięcia, generatory i funkcje lambda. Uczestnicy będą musieli napisać kod, który generuje sekwencje funkcji, każda z różnym działaniem, i zastosować je w praktyce.\n",
    "\n",
    "**Opis zadania:**\n",
    "\n",
    "Napisz funkcję o nazwie `power_factory`, która działa jako generator, tworząc ciąg anonimowych funkcji (lambd), gdzie każda kolejna funkcja z sekwencji wykonuje operację potęgowania z kolejno rosnącym wykładnikiem.\n",
    "\n",
    "**Wymagania:**\n",
    "\n",
    "1. Twoja funkcja `power_factory` powinna zaczynać od domyślnego wykładnika równego 1, chyba że podano inny początkowy wykładnik.\n",
    "2. Funkcja ta powinna używać konstrukcji `yield` do generowania kolejnych funkcji potęgujących.\n",
    "3. Każda wygenerowana funkcja powinna przyjmować jeden argument i podnosić go do aktualnej wartości wykładnika, który rośnie z każdym kolejnym wywołaniem `yield`.\n",
    "4. Napisz pętlę, która użyje tego generatora do pobrania i zastosowania trzech kolejnych funkcji potęgujących do pewnej początkowej wartości.\n",
    "\n",
    "**Przykład działania:**\n",
    "Po zaimplementowaniu funkcji, następujący kod powinien działać poprawnie:"
   ]
  },
  {
   "cell_type": "markdown",
   "id": "d84d90a9-8f0e-4861-882b-668ffb7704af",
   "metadata": {},
   "source": [
    "```python\n",
    "f = power_factory()\n",
    "\n",
    "z = 2\n",
    "for i in range(3):\n",
    "    z = next(f)(z)\n",
    "    print(\"z=\", z)\n",
    "```\n",
    "\n",
    "    \n",
    "    z= 2  (2 ** 1)\n",
    "    z= 4  (2 ** 2)\n",
    "    z= 64 (4 ** 3)\n",
    "\n",
    "```\n",
    "for i in range(3):\n",
    "    z = next(f)(2)\n",
    "    print(\"z=\", z)\n",
    "\n",
    "\n",
    "z = 2 (2 ** 1)\n",
    "z = 4 (2 ** 2)\n",
    "z = 8 (2 ** 3)\n",
    "```\n",
    "\n",
    "Oczekiwane wyniki to sekwencja wartości `z`, gdzie każda jest wynikiem działania kolejnej funkcji lambda z rosnącym wykładnikiem.\n",
    "\n",
    "**Podpowiedzi:**\n",
    "\n",
    "- Pamiętaj o wykorzystaniu konstrukcji `lambda` do tworzenia anonimowych funkcji.\n",
    "- Wykorzystaj pętlę `while True` w ciele twojego generatora, aby nieustannie generować nowe funkcje.\n",
    "- Zastosuj konstrukcję `yield` do \"wysyłania\" kolejnych funkcji do zewnętrznego kodu.\n",
    "\n",
    "**Ocenianie:**\n",
    "Rozwiązania będą oceniane na podstawie poprawności działania, zrozumienia koncepcji generatorów i domknięć oraz czytelności i efektywności kodu. Uczestnicy powinni także zadbać o właściwe zarządzanie stanem w swoim generatorze.\n",
    "\n",
    "**Rozszerzenie zadania:**\n",
    "Dla bardziej zaawansowanych uczestników: rozważ dodanie możliwości \"resetowania\" generatora lub umożliwienie użytkownikowi zdefiniowania własnego kroku zwiększania wykładnika. Możesz także eksplorować inne operacje arytmetyczne lub logikę zmiany sekwencji funkcji."
   ]
  },
  {
   "cell_type": "code",
   "execution_count": 99,
   "id": "92769c5d-2c21-4cf3-a2d3-3f0da7abfad2",
   "metadata": {},
   "outputs": [
    {
     "data": {
      "text/plain": [
       "<generator object power_factory at 0x0000019B2ABF6800>"
      ]
     },
     "execution_count": 99,
     "metadata": {},
     "output_type": "execute_result"
    }
   ],
   "source": [
    "def power_factory(n=1):\n",
    "    \n",
    "    while True:\n",
    "        yield lambda x: x ** n\n",
    "        n += 1\n",
    "\n",
    "p = power_factory()\n",
    "p"
   ]
  },
  {
   "cell_type": "code",
   "execution_count": 102,
   "id": "a099a29d-7648-4e48-9c57-92a009ba1cb3",
   "metadata": {},
   "outputs": [
    {
     "data": {
      "text/plain": [
       "8"
      ]
     },
     "execution_count": 102,
     "metadata": {},
     "output_type": "execute_result"
    }
   ],
   "source": [
    "next(p)(2)"
   ]
  },
  {
   "cell_type": "code",
   "execution_count": 104,
   "id": "e3fcdc58-f3a1-4ea5-893a-7497b37634ea",
   "metadata": {},
   "outputs": [],
   "source": [
    "p = power_factory()\n",
    "x = 2\n"
   ]
  },
  {
   "cell_type": "code",
   "execution_count": 109,
   "id": "9e7bdd3c-8301-4f64-ab80-e94cd82257b6",
   "metadata": {},
   "outputs": [
    {
     "data": {
      "text/plain": [
       "1329227995784915872903807060280344576"
      ]
     },
     "execution_count": 109,
     "metadata": {},
     "output_type": "execute_result"
    }
   ],
   "source": [
    "x = next(p)(x)\n",
    "x"
   ]
  },
  {
   "cell_type": "code",
   "execution_count": 116,
   "id": "27e32af1-4f69-4070-9243-57fbc0d47ef7",
   "metadata": {},
   "outputs": [],
   "source": [
    "def power_factory(n=1):\n",
    "    def func(x):\n",
    "        return x ** n\n",
    "\n",
    "    while True:\n",
    "\n",
    "        yield func\n",
    "        n += 1\n",
    "\n",
    "p = power_factory()\n",
    "p\n",
    "x = 2"
   ]
  },
  {
   "cell_type": "code",
   "execution_count": null,
   "id": "3c44caf7-3b0d-4928-a63f-a3a8493a3718",
   "metadata": {},
   "outputs": [],
   "source": []
  },
  {
   "cell_type": "code",
   "execution_count": 121,
   "id": "037bb13e-61b9-4992-a815-7b9e759dfeac",
   "metadata": {},
   "outputs": [
    {
     "data": {
      "text/plain": [
       "1329227995784915872903807060280344576"
      ]
     },
     "execution_count": 121,
     "metadata": {},
     "output_type": "execute_result"
    }
   ],
   "source": [
    "x = next(p)(x)\n",
    "x"
   ]
  },
  {
   "cell_type": "markdown",
   "id": "85c8f900-fee3-4b3f-82c1-97299e186dcf",
   "metadata": {},
   "source": [
    "### Ćwiczenie: Stwórz kalkulator\n",
    "\n",
    "Separacja kodu na funkcje, funkcje jako wartosci w słowniku\n",
    "\n",
    "    podaj operacja (+-/*)\n",
    "    podaj argument a: 1\n",
    "    podaj argument b: 2\n",
    "    wynik: 3\n",
    "\n",
    "Skorzystaj z modulu logging, żeby logować użycie funkcji arytmetycznych - na dwóch poziomach. Zwykłe użycie to będzie poziom info a bład niech będzie poziomem error"
   ]
  },
  {
   "cell_type": "code",
   "execution_count": 6,
   "id": "70fb6e6c-21c6-4129-9472-d957828f5489",
   "metadata": {},
   "outputs": [
    {
     "data": {
      "text/plain": [
       "\u001b[1;31mSignature:\u001b[0m \u001b[0mlogging\u001b[0m\u001b[1;33m.\u001b[0m\u001b[0mbasicConfig\u001b[0m\u001b[1;33m(\u001b[0m\u001b[1;33m**\u001b[0m\u001b[0mkwargs\u001b[0m\u001b[1;33m)\u001b[0m\u001b[1;33m\u001b[0m\u001b[1;33m\u001b[0m\u001b[0m\n",
       "\u001b[1;31mDocstring:\u001b[0m\n",
       "Do basic configuration for the logging system.\n",
       "\n",
       "This function does nothing if the root logger already has handlers\n",
       "configured, unless the keyword argument *force* is set to ``True``.\n",
       "It is a convenience method intended for use by simple scripts\n",
       "to do one-shot configuration of the logging package.\n",
       "\n",
       "The default behaviour is to create a StreamHandler which writes to\n",
       "sys.stderr, set a formatter using the BASIC_FORMAT format string, and\n",
       "add the handler to the root logger.\n",
       "\n",
       "A number of optional keyword arguments may be specified, which can alter\n",
       "the default behaviour.\n",
       "\n",
       "filename  Specifies that a FileHandler be created, using the specified\n",
       "          filename, rather than a StreamHandler.\n",
       "filemode  Specifies the mode to open the file, if filename is specified\n",
       "          (if filemode is unspecified, it defaults to 'a').\n",
       "format    Use the specified format string for the handler.\n",
       "datefmt   Use the specified date/time format.\n",
       "style     If a format string is specified, use this to specify the\n",
       "          type of format string (possible values '%', '{', '$', for\n",
       "          %-formatting, :meth:`str.format` and :class:`string.Template`\n",
       "          - defaults to '%').\n",
       "level     Set the root logger level to the specified level.\n",
       "stream    Use the specified stream to initialize the StreamHandler. Note\n",
       "          that this argument is incompatible with 'filename' - if both\n",
       "          are present, 'stream' is ignored.\n",
       "handlers  If specified, this should be an iterable of already created\n",
       "          handlers, which will be added to the root handler. Any handler\n",
       "          in the list which does not have a formatter assigned will be\n",
       "          assigned the formatter created in this function.\n",
       "force     If this keyword  is specified as true, any existing handlers\n",
       "          attached to the root logger are removed and closed, before\n",
       "          carrying out the configuration as specified by the other\n",
       "          arguments.\n",
       "encoding  If specified together with a filename, this encoding is passed to\n",
       "          the created FileHandler, causing it to be used when the file is\n",
       "          opened.\n",
       "errors    If specified together with a filename, this value is passed to the\n",
       "          created FileHandler, causing it to be used when the file is\n",
       "          opened in text mode. If not specified, the default value is\n",
       "          `backslashreplace`.\n",
       "\n",
       "Note that you could specify a stream created using open(filename, mode)\n",
       "rather than passing the filename and mode in. However, it should be\n",
       "remembered that StreamHandler does not close its stream (since it may be\n",
       "using sys.stdout or sys.stderr), whereas FileHandler closes its stream\n",
       "when the handler is closed.\n",
       "\n",
       ".. versionchanged:: 3.2\n",
       "   Added the ``style`` parameter.\n",
       "\n",
       ".. versionchanged:: 3.3\n",
       "   Added the ``handlers`` parameter. A ``ValueError`` is now thrown for\n",
       "   incompatible arguments (e.g. ``handlers`` specified together with\n",
       "   ``filename``/``filemode``, or ``filename``/``filemode`` specified\n",
       "   together with ``stream``, or ``handlers`` specified together with\n",
       "   ``stream``.\n",
       "\n",
       ".. versionchanged:: 3.8\n",
       "   Added the ``force`` parameter.\n",
       "\n",
       ".. versionchanged:: 3.9\n",
       "   Added the ``encoding`` and ``errors`` parameters.\n",
       "\u001b[1;31mFile:\u001b[0m      c:\\users\\kurs\\appdata\\local\\programs\\python\\python311\\lib\\logging\\__init__.py\n",
       "\u001b[1;31mType:\u001b[0m      function"
      ]
     },
     "metadata": {},
     "output_type": "display_data"
    }
   ],
   "source": [
    "logging.basicConfig?"
   ]
  },
  {
   "cell_type": "code",
   "execution_count": 3,
   "id": "19bb5b2a-8fdb-46d5-a117-c581cce4f0f9",
   "metadata": {},
   "outputs": [
    {
     "name": "stdin",
     "output_type": "stream",
     "text": [
      "Podaj operacje (+-*/): +\n",
      "Podaj arg a:  1\n",
      "Podaj arg b:  2\n"
     ]
    },
    {
     "name": "stdout",
     "output_type": "stream",
     "text": [
      "Wynik: 3\n"
     ]
    }
   ],
   "source": [
    "import logging\n",
    "logging.basicConfig(level=logging.INFO, filename=\"logs.log\", format='%(asctime)s - %(levelname)s - %(message)s')\n",
    "\n",
    "logger = logging.getLogger(__name__)\n",
    "\n",
    "\n",
    "def add(a, b): \n",
    "    logger.info(f\"Wywołuję funkcje add z parametrami a={a}, b={b}\")\n",
    "    return a + b\n",
    "\n",
    "def sub(a, b): \n",
    "    logger.info(f\"Wywołuję funkcje sub z parametrami a={a}, b={b}\")\n",
    "    return a - b\n",
    "\n",
    "def mul(a, b):\n",
    "    logger.info(f\"Wywołuję funkcje mul z parametrami a={a}, b={b}\")\n",
    "    return a * b\n",
    "\n",
    "def div(a, b):\n",
    "    logger.info(f\"Wywołuję funkcje div z parametrami a={a}, b={b}\")\n",
    "    if b == 0:\n",
    "        logger.error(\"Dzielenie przez zero!!!\")\n",
    "        return \n",
    "    return a / b\n",
    "\n",
    "def get_data():\n",
    "    op = input(\"Podaj operacje (+-*/):\")\n",
    "    a = input(\"Podaj arg a: \")\n",
    "    b = input(\"Podaj arg b: \")\n",
    "\n",
    "    return op, int(a), int(b)\n",
    "\n",
    "operations = {\n",
    "    \"+\": add,\n",
    "    \"-\": sub,\n",
    "    \"*\": mul,\n",
    "    \"/\": div\n",
    "}\n",
    "\n",
    "def main():\n",
    "    try:\n",
    "        op, a, b = get_data()\n",
    "        result = operations[op](a, b)\n",
    "        print(f\"Wynik: {result}\")\n",
    "    except Exception as e:\n",
    "        logger.error(\"Wystąpił błąd\", exc_info=True)\n",
    "        print(\"Zakończono z błędem\")\n",
    "\n",
    "if __name__ == \"__main__\":\n",
    "    main()\n"
   ]
  },
  {
   "cell_type": "code",
   "execution_count": 4,
   "id": "d71e52e6-95d0-4e6c-b280-b4e68fbeceff",
   "metadata": {},
   "outputs": [
    {
     "name": "stdout",
     "output_type": "stream",
     "text": [
      "INFO:__main__:Wywołuję funkcje add z parametrami a=1, b=2\n",
      "ERROR:__main__:Wystąpił błąd\n",
      "Traceback (most recent call last):\n",
      "  File \"C:\\Users\\kurs\\AppData\\Local\\Temp\\ipykernel_1152\\3855848797.py\", line 43, in main\n",
      "    result = operations[op](a, b)\n",
      "             ~~~~~~~~~~^^^^\n",
      "KeyError: '1'\n",
      "INFO:__main__:Wywołuję funkcje div z parametrami a=1, b=0\n",
      "ERROR:__main__:Dzielenie przez zero!!!\n",
      "2023-10-29 11:29:01,608 - ERROR - Wystąpił błąd\n",
      "Traceback (most recent call last):\n",
      "  File \"C:\\Users\\kurs\\AppData\\Local\\Temp\\ipykernel_2764\\204360287.py\", line 43, in main\n",
      "    result = operations[op](a, b)\n",
      "             ~~~~~~~~~~^^^^\n",
      "KeyError: '1'\n",
      "2023-10-29 11:29:25,198 - INFO - Wywołuję funkcje add z parametrami a=1, b=2\n"
     ]
    }
   ],
   "source": [
    "!type logs.log"
   ]
  },
  {
   "cell_type": "code",
   "execution_count": 1,
   "id": "f54edfa9-f1c7-4646-92db-1d24b0e56632",
   "metadata": {},
   "outputs": [
    {
     "name": "stderr",
     "output_type": "stream",
     "text": [
      "INFO:root:cos tam\n",
      "ERROR:root:dzielenie przez zero\n"
     ]
    }
   ],
   "source": [
    "import logging\n",
    "logging.basicConfig(level=logging.DEBUG)\n",
    "logging.info(\"cos tam\")\n",
    "logging.error(\"dzielenie przez zero\")"
   ]
  },
  {
   "cell_type": "code",
   "execution_count": 128,
   "id": "a4d5ca1e-d733-410a-b644-f708983330f6",
   "metadata": {},
   "outputs": [
    {
     "data": {
      "text/plain": [
       "\u001b[1;31mSignature:\u001b[0m \u001b[0mlogging\u001b[0m\u001b[1;33m.\u001b[0m\u001b[0mbasicConfig\u001b[0m\u001b[1;33m(\u001b[0m\u001b[1;33m**\u001b[0m\u001b[0mkwargs\u001b[0m\u001b[1;33m)\u001b[0m\u001b[1;33m\u001b[0m\u001b[1;33m\u001b[0m\u001b[0m\n",
       "\u001b[1;31mSource:\u001b[0m   \n",
       "\u001b[1;32mdef\u001b[0m \u001b[0mbasicConfig\u001b[0m\u001b[1;33m(\u001b[0m\u001b[1;33m**\u001b[0m\u001b[0mkwargs\u001b[0m\u001b[1;33m)\u001b[0m\u001b[1;33m:\u001b[0m\u001b[1;33m\n",
       "\u001b[0m    \u001b[1;34m\"\"\"\n",
       "    Do basic configuration for the logging system.\n",
       "\n",
       "    This function does nothing if the root logger already has handlers\n",
       "    configured, unless the keyword argument *force* is set to ``True``.\n",
       "    It is a convenience method intended for use by simple scripts\n",
       "    to do one-shot configuration of the logging package.\n",
       "\n",
       "    The default behaviour is to create a StreamHandler which writes to\n",
       "    sys.stderr, set a formatter using the BASIC_FORMAT format string, and\n",
       "    add the handler to the root logger.\n",
       "\n",
       "    A number of optional keyword arguments may be specified, which can alter\n",
       "    the default behaviour.\n",
       "\n",
       "    filename  Specifies that a FileHandler be created, using the specified\n",
       "              filename, rather than a StreamHandler.\n",
       "    filemode  Specifies the mode to open the file, if filename is specified\n",
       "              (if filemode is unspecified, it defaults to 'a').\n",
       "    format    Use the specified format string for the handler.\n",
       "    datefmt   Use the specified date/time format.\n",
       "    style     If a format string is specified, use this to specify the\n",
       "              type of format string (possible values '%', '{', '$', for\n",
       "              %-formatting, :meth:`str.format` and :class:`string.Template`\n",
       "              - defaults to '%').\n",
       "    level     Set the root logger level to the specified level.\n",
       "    stream    Use the specified stream to initialize the StreamHandler. Note\n",
       "              that this argument is incompatible with 'filename' - if both\n",
       "              are present, 'stream' is ignored.\n",
       "    handlers  If specified, this should be an iterable of already created\n",
       "              handlers, which will be added to the root handler. Any handler\n",
       "              in the list which does not have a formatter assigned will be\n",
       "              assigned the formatter created in this function.\n",
       "    force     If this keyword  is specified as true, any existing handlers\n",
       "              attached to the root logger are removed and closed, before\n",
       "              carrying out the configuration as specified by the other\n",
       "              arguments.\n",
       "    encoding  If specified together with a filename, this encoding is passed to\n",
       "              the created FileHandler, causing it to be used when the file is\n",
       "              opened.\n",
       "    errors    If specified together with a filename, this value is passed to the\n",
       "              created FileHandler, causing it to be used when the file is\n",
       "              opened in text mode. If not specified, the default value is\n",
       "              `backslashreplace`.\n",
       "\n",
       "    Note that you could specify a stream created using open(filename, mode)\n",
       "    rather than passing the filename and mode in. However, it should be\n",
       "    remembered that StreamHandler does not close its stream (since it may be\n",
       "    using sys.stdout or sys.stderr), whereas FileHandler closes its stream\n",
       "    when the handler is closed.\n",
       "\n",
       "    .. versionchanged:: 3.2\n",
       "       Added the ``style`` parameter.\n",
       "\n",
       "    .. versionchanged:: 3.3\n",
       "       Added the ``handlers`` parameter. A ``ValueError`` is now thrown for\n",
       "       incompatible arguments (e.g. ``handlers`` specified together with\n",
       "       ``filename``/``filemode``, or ``filename``/``filemode`` specified\n",
       "       together with ``stream``, or ``handlers`` specified together with\n",
       "       ``stream``.\n",
       "\n",
       "    .. versionchanged:: 3.8\n",
       "       Added the ``force`` parameter.\n",
       "\n",
       "    .. versionchanged:: 3.9\n",
       "       Added the ``encoding`` and ``errors`` parameters.\n",
       "    \"\"\"\u001b[0m\u001b[1;33m\n",
       "\u001b[0m    \u001b[1;31m# Add thread safety in case someone mistakenly calls\u001b[0m\u001b[1;33m\n",
       "\u001b[0m    \u001b[1;31m# basicConfig() from multiple threads\u001b[0m\u001b[1;33m\n",
       "\u001b[0m    \u001b[0m_acquireLock\u001b[0m\u001b[1;33m(\u001b[0m\u001b[1;33m)\u001b[0m\u001b[1;33m\n",
       "\u001b[0m    \u001b[1;32mtry\u001b[0m\u001b[1;33m:\u001b[0m\u001b[1;33m\n",
       "\u001b[0m        \u001b[0mforce\u001b[0m \u001b[1;33m=\u001b[0m \u001b[0mkwargs\u001b[0m\u001b[1;33m.\u001b[0m\u001b[0mpop\u001b[0m\u001b[1;33m(\u001b[0m\u001b[1;34m'force'\u001b[0m\u001b[1;33m,\u001b[0m \u001b[1;32mFalse\u001b[0m\u001b[1;33m)\u001b[0m\u001b[1;33m\n",
       "\u001b[0m        \u001b[0mencoding\u001b[0m \u001b[1;33m=\u001b[0m \u001b[0mkwargs\u001b[0m\u001b[1;33m.\u001b[0m\u001b[0mpop\u001b[0m\u001b[1;33m(\u001b[0m\u001b[1;34m'encoding'\u001b[0m\u001b[1;33m,\u001b[0m \u001b[1;32mNone\u001b[0m\u001b[1;33m)\u001b[0m\u001b[1;33m\n",
       "\u001b[0m        \u001b[0merrors\u001b[0m \u001b[1;33m=\u001b[0m \u001b[0mkwargs\u001b[0m\u001b[1;33m.\u001b[0m\u001b[0mpop\u001b[0m\u001b[1;33m(\u001b[0m\u001b[1;34m'errors'\u001b[0m\u001b[1;33m,\u001b[0m \u001b[1;34m'backslashreplace'\u001b[0m\u001b[1;33m)\u001b[0m\u001b[1;33m\n",
       "\u001b[0m        \u001b[1;32mif\u001b[0m \u001b[0mforce\u001b[0m\u001b[1;33m:\u001b[0m\u001b[1;33m\n",
       "\u001b[0m            \u001b[1;32mfor\u001b[0m \u001b[0mh\u001b[0m \u001b[1;32min\u001b[0m \u001b[0mroot\u001b[0m\u001b[1;33m.\u001b[0m\u001b[0mhandlers\u001b[0m\u001b[1;33m[\u001b[0m\u001b[1;33m:\u001b[0m\u001b[1;33m]\u001b[0m\u001b[1;33m:\u001b[0m\u001b[1;33m\n",
       "\u001b[0m                \u001b[0mroot\u001b[0m\u001b[1;33m.\u001b[0m\u001b[0mremoveHandler\u001b[0m\u001b[1;33m(\u001b[0m\u001b[0mh\u001b[0m\u001b[1;33m)\u001b[0m\u001b[1;33m\n",
       "\u001b[0m                \u001b[0mh\u001b[0m\u001b[1;33m.\u001b[0m\u001b[0mclose\u001b[0m\u001b[1;33m(\u001b[0m\u001b[1;33m)\u001b[0m\u001b[1;33m\n",
       "\u001b[0m        \u001b[1;32mif\u001b[0m \u001b[0mlen\u001b[0m\u001b[1;33m(\u001b[0m\u001b[0mroot\u001b[0m\u001b[1;33m.\u001b[0m\u001b[0mhandlers\u001b[0m\u001b[1;33m)\u001b[0m \u001b[1;33m==\u001b[0m \u001b[1;36m0\u001b[0m\u001b[1;33m:\u001b[0m\u001b[1;33m\n",
       "\u001b[0m            \u001b[0mhandlers\u001b[0m \u001b[1;33m=\u001b[0m \u001b[0mkwargs\u001b[0m\u001b[1;33m.\u001b[0m\u001b[0mpop\u001b[0m\u001b[1;33m(\u001b[0m\u001b[1;34m\"handlers\"\u001b[0m\u001b[1;33m,\u001b[0m \u001b[1;32mNone\u001b[0m\u001b[1;33m)\u001b[0m\u001b[1;33m\n",
       "\u001b[0m            \u001b[1;32mif\u001b[0m \u001b[0mhandlers\u001b[0m \u001b[1;32mis\u001b[0m \u001b[1;32mNone\u001b[0m\u001b[1;33m:\u001b[0m\u001b[1;33m\n",
       "\u001b[0m                \u001b[1;32mif\u001b[0m \u001b[1;34m\"stream\"\u001b[0m \u001b[1;32min\u001b[0m \u001b[0mkwargs\u001b[0m \u001b[1;32mand\u001b[0m \u001b[1;34m\"filename\"\u001b[0m \u001b[1;32min\u001b[0m \u001b[0mkwargs\u001b[0m\u001b[1;33m:\u001b[0m\u001b[1;33m\n",
       "\u001b[0m                    \u001b[1;32mraise\u001b[0m \u001b[0mValueError\u001b[0m\u001b[1;33m(\u001b[0m\u001b[1;34m\"'stream' and 'filename' should not be \"\u001b[0m\u001b[1;33m\n",
       "\u001b[0m                                     \u001b[1;34m\"specified together\"\u001b[0m\u001b[1;33m)\u001b[0m\u001b[1;33m\n",
       "\u001b[0m            \u001b[1;32melse\u001b[0m\u001b[1;33m:\u001b[0m\u001b[1;33m\n",
       "\u001b[0m                \u001b[1;32mif\u001b[0m \u001b[1;34m\"stream\"\u001b[0m \u001b[1;32min\u001b[0m \u001b[0mkwargs\u001b[0m \u001b[1;32mor\u001b[0m \u001b[1;34m\"filename\"\u001b[0m \u001b[1;32min\u001b[0m \u001b[0mkwargs\u001b[0m\u001b[1;33m:\u001b[0m\u001b[1;33m\n",
       "\u001b[0m                    \u001b[1;32mraise\u001b[0m \u001b[0mValueError\u001b[0m\u001b[1;33m(\u001b[0m\u001b[1;34m\"'stream' or 'filename' should not be \"\u001b[0m\u001b[1;33m\n",
       "\u001b[0m                                     \u001b[1;34m\"specified together with 'handlers'\"\u001b[0m\u001b[1;33m)\u001b[0m\u001b[1;33m\n",
       "\u001b[0m            \u001b[1;32mif\u001b[0m \u001b[0mhandlers\u001b[0m \u001b[1;32mis\u001b[0m \u001b[1;32mNone\u001b[0m\u001b[1;33m:\u001b[0m\u001b[1;33m\n",
       "\u001b[0m                \u001b[0mfilename\u001b[0m \u001b[1;33m=\u001b[0m \u001b[0mkwargs\u001b[0m\u001b[1;33m.\u001b[0m\u001b[0mpop\u001b[0m\u001b[1;33m(\u001b[0m\u001b[1;34m\"filename\"\u001b[0m\u001b[1;33m,\u001b[0m \u001b[1;32mNone\u001b[0m\u001b[1;33m)\u001b[0m\u001b[1;33m\n",
       "\u001b[0m                \u001b[0mmode\u001b[0m \u001b[1;33m=\u001b[0m \u001b[0mkwargs\u001b[0m\u001b[1;33m.\u001b[0m\u001b[0mpop\u001b[0m\u001b[1;33m(\u001b[0m\u001b[1;34m\"filemode\"\u001b[0m\u001b[1;33m,\u001b[0m \u001b[1;34m'a'\u001b[0m\u001b[1;33m)\u001b[0m\u001b[1;33m\n",
       "\u001b[0m                \u001b[1;32mif\u001b[0m \u001b[0mfilename\u001b[0m\u001b[1;33m:\u001b[0m\u001b[1;33m\n",
       "\u001b[0m                    \u001b[1;32mif\u001b[0m \u001b[1;34m'b'\u001b[0m \u001b[1;32min\u001b[0m \u001b[0mmode\u001b[0m\u001b[1;33m:\u001b[0m\u001b[1;33m\n",
       "\u001b[0m                        \u001b[0merrors\u001b[0m \u001b[1;33m=\u001b[0m \u001b[1;32mNone\u001b[0m\u001b[1;33m\n",
       "\u001b[0m                    \u001b[1;32melse\u001b[0m\u001b[1;33m:\u001b[0m\u001b[1;33m\n",
       "\u001b[0m                        \u001b[0mencoding\u001b[0m \u001b[1;33m=\u001b[0m \u001b[0mio\u001b[0m\u001b[1;33m.\u001b[0m\u001b[0mtext_encoding\u001b[0m\u001b[1;33m(\u001b[0m\u001b[0mencoding\u001b[0m\u001b[1;33m)\u001b[0m\u001b[1;33m\n",
       "\u001b[0m                    \u001b[0mh\u001b[0m \u001b[1;33m=\u001b[0m \u001b[0mFileHandler\u001b[0m\u001b[1;33m(\u001b[0m\u001b[0mfilename\u001b[0m\u001b[1;33m,\u001b[0m \u001b[0mmode\u001b[0m\u001b[1;33m,\u001b[0m\u001b[1;33m\n",
       "\u001b[0m                                    \u001b[0mencoding\u001b[0m\u001b[1;33m=\u001b[0m\u001b[0mencoding\u001b[0m\u001b[1;33m,\u001b[0m \u001b[0merrors\u001b[0m\u001b[1;33m=\u001b[0m\u001b[0merrors\u001b[0m\u001b[1;33m)\u001b[0m\u001b[1;33m\n",
       "\u001b[0m                \u001b[1;32melse\u001b[0m\u001b[1;33m:\u001b[0m\u001b[1;33m\n",
       "\u001b[0m                    \u001b[0mstream\u001b[0m \u001b[1;33m=\u001b[0m \u001b[0mkwargs\u001b[0m\u001b[1;33m.\u001b[0m\u001b[0mpop\u001b[0m\u001b[1;33m(\u001b[0m\u001b[1;34m\"stream\"\u001b[0m\u001b[1;33m,\u001b[0m \u001b[1;32mNone\u001b[0m\u001b[1;33m)\u001b[0m\u001b[1;33m\n",
       "\u001b[0m                    \u001b[0mh\u001b[0m \u001b[1;33m=\u001b[0m \u001b[0mStreamHandler\u001b[0m\u001b[1;33m(\u001b[0m\u001b[0mstream\u001b[0m\u001b[1;33m)\u001b[0m\u001b[1;33m\n",
       "\u001b[0m                \u001b[0mhandlers\u001b[0m \u001b[1;33m=\u001b[0m \u001b[1;33m[\u001b[0m\u001b[0mh\u001b[0m\u001b[1;33m]\u001b[0m\u001b[1;33m\n",
       "\u001b[0m            \u001b[0mdfs\u001b[0m \u001b[1;33m=\u001b[0m \u001b[0mkwargs\u001b[0m\u001b[1;33m.\u001b[0m\u001b[0mpop\u001b[0m\u001b[1;33m(\u001b[0m\u001b[1;34m\"datefmt\"\u001b[0m\u001b[1;33m,\u001b[0m \u001b[1;32mNone\u001b[0m\u001b[1;33m)\u001b[0m\u001b[1;33m\n",
       "\u001b[0m            \u001b[0mstyle\u001b[0m \u001b[1;33m=\u001b[0m \u001b[0mkwargs\u001b[0m\u001b[1;33m.\u001b[0m\u001b[0mpop\u001b[0m\u001b[1;33m(\u001b[0m\u001b[1;34m\"style\"\u001b[0m\u001b[1;33m,\u001b[0m \u001b[1;34m'%'\u001b[0m\u001b[1;33m)\u001b[0m\u001b[1;33m\n",
       "\u001b[0m            \u001b[1;32mif\u001b[0m \u001b[0mstyle\u001b[0m \u001b[1;32mnot\u001b[0m \u001b[1;32min\u001b[0m \u001b[0m_STYLES\u001b[0m\u001b[1;33m:\u001b[0m\u001b[1;33m\n",
       "\u001b[0m                \u001b[1;32mraise\u001b[0m \u001b[0mValueError\u001b[0m\u001b[1;33m(\u001b[0m\u001b[1;34m'Style must be one of: %s'\u001b[0m \u001b[1;33m%\u001b[0m \u001b[1;34m','\u001b[0m\u001b[1;33m.\u001b[0m\u001b[0mjoin\u001b[0m\u001b[1;33m(\u001b[0m\u001b[1;33m\n",
       "\u001b[0m                                 \u001b[0m_STYLES\u001b[0m\u001b[1;33m.\u001b[0m\u001b[0mkeys\u001b[0m\u001b[1;33m(\u001b[0m\u001b[1;33m)\u001b[0m\u001b[1;33m)\u001b[0m\u001b[1;33m)\u001b[0m\u001b[1;33m\n",
       "\u001b[0m            \u001b[0mfs\u001b[0m \u001b[1;33m=\u001b[0m \u001b[0mkwargs\u001b[0m\u001b[1;33m.\u001b[0m\u001b[0mpop\u001b[0m\u001b[1;33m(\u001b[0m\u001b[1;34m\"format\"\u001b[0m\u001b[1;33m,\u001b[0m \u001b[0m_STYLES\u001b[0m\u001b[1;33m[\u001b[0m\u001b[0mstyle\u001b[0m\u001b[1;33m]\u001b[0m\u001b[1;33m[\u001b[0m\u001b[1;36m1\u001b[0m\u001b[1;33m]\u001b[0m\u001b[1;33m)\u001b[0m\u001b[1;33m\n",
       "\u001b[0m            \u001b[0mfmt\u001b[0m \u001b[1;33m=\u001b[0m \u001b[0mFormatter\u001b[0m\u001b[1;33m(\u001b[0m\u001b[0mfs\u001b[0m\u001b[1;33m,\u001b[0m \u001b[0mdfs\u001b[0m\u001b[1;33m,\u001b[0m \u001b[0mstyle\u001b[0m\u001b[1;33m)\u001b[0m\u001b[1;33m\n",
       "\u001b[0m            \u001b[1;32mfor\u001b[0m \u001b[0mh\u001b[0m \u001b[1;32min\u001b[0m \u001b[0mhandlers\u001b[0m\u001b[1;33m:\u001b[0m\u001b[1;33m\n",
       "\u001b[0m                \u001b[1;32mif\u001b[0m \u001b[0mh\u001b[0m\u001b[1;33m.\u001b[0m\u001b[0mformatter\u001b[0m \u001b[1;32mis\u001b[0m \u001b[1;32mNone\u001b[0m\u001b[1;33m:\u001b[0m\u001b[1;33m\n",
       "\u001b[0m                    \u001b[0mh\u001b[0m\u001b[1;33m.\u001b[0m\u001b[0msetFormatter\u001b[0m\u001b[1;33m(\u001b[0m\u001b[0mfmt\u001b[0m\u001b[1;33m)\u001b[0m\u001b[1;33m\n",
       "\u001b[0m                \u001b[0mroot\u001b[0m\u001b[1;33m.\u001b[0m\u001b[0maddHandler\u001b[0m\u001b[1;33m(\u001b[0m\u001b[0mh\u001b[0m\u001b[1;33m)\u001b[0m\u001b[1;33m\n",
       "\u001b[0m            \u001b[0mlevel\u001b[0m \u001b[1;33m=\u001b[0m \u001b[0mkwargs\u001b[0m\u001b[1;33m.\u001b[0m\u001b[0mpop\u001b[0m\u001b[1;33m(\u001b[0m\u001b[1;34m\"level\"\u001b[0m\u001b[1;33m,\u001b[0m \u001b[1;32mNone\u001b[0m\u001b[1;33m)\u001b[0m\u001b[1;33m\n",
       "\u001b[0m            \u001b[1;32mif\u001b[0m \u001b[0mlevel\u001b[0m \u001b[1;32mis\u001b[0m \u001b[1;32mnot\u001b[0m \u001b[1;32mNone\u001b[0m\u001b[1;33m:\u001b[0m\u001b[1;33m\n",
       "\u001b[0m                \u001b[0mroot\u001b[0m\u001b[1;33m.\u001b[0m\u001b[0msetLevel\u001b[0m\u001b[1;33m(\u001b[0m\u001b[0mlevel\u001b[0m\u001b[1;33m)\u001b[0m\u001b[1;33m\n",
       "\u001b[0m            \u001b[1;32mif\u001b[0m \u001b[0mkwargs\u001b[0m\u001b[1;33m:\u001b[0m\u001b[1;33m\n",
       "\u001b[0m                \u001b[0mkeys\u001b[0m \u001b[1;33m=\u001b[0m \u001b[1;34m', '\u001b[0m\u001b[1;33m.\u001b[0m\u001b[0mjoin\u001b[0m\u001b[1;33m(\u001b[0m\u001b[0mkwargs\u001b[0m\u001b[1;33m.\u001b[0m\u001b[0mkeys\u001b[0m\u001b[1;33m(\u001b[0m\u001b[1;33m)\u001b[0m\u001b[1;33m)\u001b[0m\u001b[1;33m\n",
       "\u001b[0m                \u001b[1;32mraise\u001b[0m \u001b[0mValueError\u001b[0m\u001b[1;33m(\u001b[0m\u001b[1;34m'Unrecognised argument(s): %s'\u001b[0m \u001b[1;33m%\u001b[0m \u001b[0mkeys\u001b[0m\u001b[1;33m)\u001b[0m\u001b[1;33m\n",
       "\u001b[0m    \u001b[1;32mfinally\u001b[0m\u001b[1;33m:\u001b[0m\u001b[1;33m\n",
       "\u001b[0m        \u001b[0m_releaseLock\u001b[0m\u001b[1;33m(\u001b[0m\u001b[1;33m)\u001b[0m\u001b[1;33m\u001b[0m\u001b[1;33m\u001b[0m\u001b[0m\n",
       "\u001b[1;31mFile:\u001b[0m      c:\\users\\kurs\\appdata\\local\\programs\\python\\python311\\lib\\logging\\__init__.py\n",
       "\u001b[1;31mType:\u001b[0m      function"
      ]
     },
     "metadata": {},
     "output_type": "display_data"
    }
   ],
   "source": [
    "logging.basicConfig??"
   ]
  },
  {
   "cell_type": "markdown",
   "id": "8ca628b8-0582-4b62-a06a-ef86bca07180",
   "metadata": {},
   "source": [
    "## Dekoratory\n",
    "\n",
    "\n",
    "W świecie Pythona dekoratory to potężne narzędzie, które umożliwia programistom modyfikowanie lub rozszerzanie zachowania funkcji lub metod bez ingerencji w ich kod. Ten artykuł wprowadzi Cię w świat dekoratorów, zaczynając od podstaw i stopniowo przechodząc do bardziej złożonych koncepcji.\n",
    "\n",
    "### Co to jest dekorator?\n",
    "\n",
    "Dekorator to, w najprostszych słowach, funkcja, która zmienia zachowanie innej funkcji. Robi to, \"opakowując\" oryginalną funkcję w dodatkową logikę przed lub po jej wykonaniu, bez zmiany jej samej."
   ]
  },
  {
   "cell_type": "markdown",
   "id": "78aae1db-8ed3-4963-9907-08d03a814795",
   "metadata": {},
   "source": [
    "```"
   ]
  },
  {
   "cell_type": "code",
   "execution_count": 48,
   "id": "7bf4c732-7d01-4e60-aedc-00d0f3822a82",
   "metadata": {},
   "outputs": [],
   "source": [
    "from functools import wraps\n",
    "\n",
    "def simple_decorator(function):\n",
    "\n",
    "    @wraps(function)\n",
    "    def wrapper(*args, **kwargs):\n",
    "        print(\"Coś się dzieje przed wywołaniem funkcji.\")\n",
    "        r = function(*args, **kwargs)\n",
    "        print(\"Coś się dzieje po wywołaniu funkcji.\")\n",
    "        return r\n",
    "\n",
    "    return wrapper\n",
    "\n",
    "@simple_decorator\n",
    "def foo():\n",
    "    print(\"To jest foo\")\n",
    "\n",
    "def bar():\n",
    "    \"\"\"dokumentacja funkcji bar\"\"\"\n",
    "    print(\"to jest bar\")\n",
    "\n",
    "@simple_decorator\n",
    "def add(a: int, b: int) -> int:\n",
    "    \"\"\"dodanie\"\"\"\n",
    "    return a + b\n",
    "    "
   ]
  },
  {
   "cell_type": "code",
   "execution_count": 49,
   "id": "b369d726-16a5-4c67-b2df-8fcc7dc9423c",
   "metadata": {},
   "outputs": [
    {
     "name": "stdout",
     "output_type": "stream",
     "text": [
      "Coś się dzieje przed wywołaniem funkcji.\n",
      "Coś się dzieje po wywołaniu funkcji.\n"
     ]
    },
    {
     "data": {
      "text/plain": [
       "3"
      ]
     },
     "execution_count": 49,
     "metadata": {},
     "output_type": "execute_result"
    }
   ],
   "source": [
    "add(1, 2)"
   ]
  },
  {
   "cell_type": "code",
   "execution_count": 51,
   "id": "5c6f5a4f-906f-40a7-8411-0fc412134f7b",
   "metadata": {},
   "outputs": [
    {
     "data": {
      "text/plain": [
       "{'a': int, 'b': int, 'return': int}"
      ]
     },
     "execution_count": 51,
     "metadata": {},
     "output_type": "execute_result"
    }
   ],
   "source": [
    "add.__annotations__"
   ]
  },
  {
   "cell_type": "code",
   "execution_count": 50,
   "id": "6cc658ff-6bf2-4f07-b079-2518012b7dcc",
   "metadata": {},
   "outputs": [
    {
     "name": "stdout",
     "output_type": "stream",
     "text": [
      "Coś się dzieje przed wywołaniem funkcji.\n",
      "To jest foo\n",
      "Coś się dzieje po wywołaniu funkcji.\n"
     ]
    }
   ],
   "source": [
    "foo()"
   ]
  },
  {
   "cell_type": "code",
   "execution_count": null,
   "id": "d05fa5af-3d91-4b23-9218-545fb6de1821",
   "metadata": {},
   "outputs": [],
   "source": []
  },
  {
   "cell_type": "code",
   "execution_count": null,
   "id": "c7d872bf-0b88-40cf-8a79-39bcb80ee4ef",
   "metadata": {},
   "outputs": [],
   "source": []
  },
  {
   "cell_type": "code",
   "execution_count": null,
   "id": "8e92c4ec-a8cb-48df-b8b3-cc00f2a67e81",
   "metadata": {},
   "outputs": [],
   "source": []
  },
  {
   "cell_type": "code",
   "execution_count": 37,
   "id": "25c1a3a8-4658-48fe-be4d-b1e5f544fcdb",
   "metadata": {},
   "outputs": [
    {
     "name": "stdout",
     "output_type": "stream",
     "text": [
      "Help on function bar in module __main__:\n",
      "\n",
      "bar()\n",
      "    dokumentacja funkcji bar\n",
      "\n"
     ]
    }
   ],
   "source": [
    "help(bar)"
   ]
  },
  {
   "cell_type": "code",
   "execution_count": 38,
   "id": "f9ee9e31-f721-45f2-a1e1-247b1b3d69f3",
   "metadata": {},
   "outputs": [],
   "source": [
    "bar = simple_decorator(bar)"
   ]
  },
  {
   "cell_type": "code",
   "execution_count": 39,
   "id": "f0da54c4-b0a2-4243-a951-25297b36757d",
   "metadata": {},
   "outputs": [
    {
     "name": "stdout",
     "output_type": "stream",
     "text": [
      "Help on function bar in module __main__:\n",
      "\n",
      "bar()\n",
      "    dokumentacja funkcji bar\n",
      "\n"
     ]
    }
   ],
   "source": [
    "help(bar)"
   ]
  },
  {
   "cell_type": "code",
   "execution_count": 21,
   "id": "06e83e2b-5483-4ad6-a011-556a6623bf72",
   "metadata": {},
   "outputs": [
    {
     "name": "stdout",
     "output_type": "stream",
     "text": [
      "to jest bar\n"
     ]
    }
   ],
   "source": [
    "bar()"
   ]
  },
  {
   "cell_type": "code",
   "execution_count": 23,
   "id": "1cd0094f-077b-4f2a-aac8-1a50315f6742",
   "metadata": {},
   "outputs": [
    {
     "name": "stdout",
     "output_type": "stream",
     "text": [
      "Coś się dzieje przed wywołaniem funkcji.\n",
      "to jest bar\n",
      "Coś się dzieje po wywołaniu funkcji.\n"
     ]
    }
   ],
   "source": [
    "bar_decorated()"
   ]
  },
  {
   "cell_type": "code",
   "execution_count": 13,
   "id": "6b8b9d0e-616e-4c9d-8ce1-f781fa0536b7",
   "metadata": {},
   "outputs": [
    {
     "name": "stdout",
     "output_type": "stream",
     "text": [
      "Coś się dzieje przed wywołaniem funkcji.\n",
      "To jest foo\n",
      "Coś się dzieje po wywołaniu funkcji.\n"
     ]
    }
   ],
   "source": [
    "foo()"
   ]
  },
  {
   "cell_type": "markdown",
   "id": "3eb768b2-e6e3-40ac-b2e2-933d2c24451a",
   "metadata": {},
   "source": [
    "```\n",
    "Aby użyć dekoratora, stosuje się składnię `@`, umieszczając ją przed definicją funkcji:"
   ]
  },
  {
   "cell_type": "code",
   "execution_count": null,
   "id": "e6cff8e9-9bb3-4cf5-ad77-3a07c9d9d052",
   "metadata": {},
   "outputs": [],
   "source": [
    "@simple_decorator\n",
    "def hello():\n",
    "    print(\"Hello, World!\")"
   ]
  },
  {
   "cell_type": "markdown",
   "id": "9de18f94-632f-46aa-8499-0fca8203f2fe",
   "metadata": {},
   "source": [
    "### Dekoratory z parametrami\n",
    "Dekoratory mogą także przyjmować parametry, co czyni je jeszcze bardziej elastycznymi. Dekorator przyjmujący argumenty jest w rzeczywistości funkcją zwracającą dekorator."
   ]
  },
  {
   "cell_type": "code",
   "execution_count": 52,
   "id": "e59bce1b-22e0-4f5e-bd69-1d034819ae04",
   "metadata": {},
   "outputs": [],
   "source": [
    "def repeat(num_times):\n",
    "    def decorator_repeat(function):\n",
    "        def wrapper(*args, **kwargs):\n",
    "            for _ in range(num_times):\n",
    "                result = function(*args, **kwargs)\n",
    "            return result\n",
    "        return wrapper\n",
    "    return decorator_repeat"
   ]
  },
  {
   "cell_type": "markdown",
   "id": "deeb2f0f-8803-40a8-a5d7-f758b258bfc2",
   "metadata": {},
   "source": [
    "Użycie dekoratora z parametrami wymaga dodatkowych nawiasów:"
   ]
  },
  {
   "cell_type": "code",
   "execution_count": 55,
   "id": "e37f76e0-8eb6-43fb-bc39-f1b66cb4987e",
   "metadata": {},
   "outputs": [],
   "source": [
    "@repeat(num_times=2)\n",
    "def greet(name):\n",
    "    print(f\"Hello {name}\")"
   ]
  },
  {
   "cell_type": "code",
   "execution_count": 56,
   "id": "ef7f853b-9fce-436a-aefa-c0e5006aa681",
   "metadata": {},
   "outputs": [
    {
     "name": "stdout",
     "output_type": "stream",
     "text": [
      "Hello ALX\n",
      "Hello ALX\n"
     ]
    }
   ],
   "source": [
    "greet(\"ALX\")"
   ]
  },
  {
   "cell_type": "markdown",
   "id": "af2e185d-c939-4859-aa1b-0d24e83a9b02",
   "metadata": {},
   "source": [
    "### Zastosowania dekoratorów\n",
    "Istnieje wiele praktycznych zastosowań dekoratorów w rzeczywistych projektach programistycznych. Oto kilka przykładów:\n",
    "\n",
    "    - Logowanie i audyt: Dekoratory mogą automatycznie rejestrować szczegóły wywołania funkcji i jej wyniki.\n",
    "    - Kontrola dostępu i autoryzacja: Mogą być używane do sprawdzania uprawnień użytkownika przed wykonaniem określonych funkcji.\n",
    "    - Caching i memoization: Dekoratory mogą przechowywać wyniki kosztownych obliczeń i zapobiegać ich niepotrzebnemu powtarzaniu.\n",
    "    - Monitoring i telemetria: Ułatwiają zbieranie danych o wydajności różnych części kodu."
   ]
  },
  {
   "cell_type": "markdown",
   "id": "7b546733-21e3-451a-806f-35dcce511c2a",
   "metadata": {},
   "source": [
    "### Zachowanie informacji o funkcji: functools.wraps\n",
    "Podczas korzystania z dekoratorów ważne jest, aby zachować metadane oryginalnej funkcji, takie jak jej nazwa czy dokumentacja. Moduł `functools` w Pythonie dostarcza dekorator `wraps`, który pomaga w tej kwestii."
   ]
  },
  {
   "cell_type": "code",
   "execution_count": 46,
   "id": "63024efa-1ac2-4021-8e07-879de25ab6b5",
   "metadata": {},
   "outputs": [],
   "source": [
    "from functools import wraps\n",
    "\n",
    "def my_decorator(f):\n",
    "    @wraps(f)\n",
    "    def wrapper(*args, **kwargs):\n",
    "        # ... (logika dekoratora)\n",
    "        return f(*args, **kwargs)\n",
    "    return wrapper"
   ]
  },
  {
   "cell_type": "code",
   "execution_count": 49,
   "id": "2f0def79-30aa-41b7-9427-cbf1699b1d69",
   "metadata": {},
   "outputs": [],
   "source": [
    "# to mniej więcej robi to:\n",
    "\n",
    "def my_decorator(f):\n",
    "\n",
    "    def wrapper(*args, **kwargs):\n",
    "        # ... (logika dekoratora)\n",
    "        return f(*args, **kwargs)\n",
    "\n",
    "    wrapper.__module__ = '__module__'\n",
    "    wrapper.__name__ = '__name__'\n",
    "    wrapper.__qualname__ = '__qualname__'\n",
    "    wrapper.__doc__ = '__doc__'\n",
    "    wrapper.__annotations__ = '__annotations__'\n",
    "    \n",
    "    return wrapper"
   ]
  },
  {
   "cell_type": "code",
   "execution_count": 50,
   "id": "da84e714-d316-4175-a62c-aaa6c651dcbe",
   "metadata": {},
   "outputs": [
    {
     "data": {
      "text/plain": [
       "\u001b[0;31mSignature:\u001b[0m\n",
       "\u001b[0mwraps\u001b[0m\u001b[0;34m(\u001b[0m\u001b[0;34m\u001b[0m\n",
       "\u001b[0;34m\u001b[0m    \u001b[0mwrapped\u001b[0m\u001b[0;34m,\u001b[0m\u001b[0;34m\u001b[0m\n",
       "\u001b[0;34m\u001b[0m    \u001b[0massigned\u001b[0m\u001b[0;34m=\u001b[0m\u001b[0;34m(\u001b[0m\u001b[0;34m'__module__'\u001b[0m\u001b[0;34m,\u001b[0m \u001b[0;34m'__name__'\u001b[0m\u001b[0;34m,\u001b[0m \u001b[0;34m'__qualname__'\u001b[0m\u001b[0;34m,\u001b[0m \u001b[0;34m'__doc__'\u001b[0m\u001b[0;34m,\u001b[0m \u001b[0;34m'__annotations__'\u001b[0m\u001b[0;34m)\u001b[0m\u001b[0;34m,\u001b[0m\u001b[0;34m\u001b[0m\n",
       "\u001b[0;34m\u001b[0m    \u001b[0mupdated\u001b[0m\u001b[0;34m=\u001b[0m\u001b[0;34m(\u001b[0m\u001b[0;34m'__dict__'\u001b[0m\u001b[0;34m,\u001b[0m\u001b[0;34m)\u001b[0m\u001b[0;34m,\u001b[0m\u001b[0;34m\u001b[0m\n",
       "\u001b[0;34m\u001b[0m\u001b[0;34m)\u001b[0m\u001b[0;34m\u001b[0m\u001b[0;34m\u001b[0m\u001b[0m\n",
       "\u001b[0;31mSource:\u001b[0m   \n",
       "\u001b[0;32mdef\u001b[0m \u001b[0mwraps\u001b[0m\u001b[0;34m(\u001b[0m\u001b[0mwrapped\u001b[0m\u001b[0;34m,\u001b[0m\u001b[0;34m\u001b[0m\n",
       "\u001b[0;34m\u001b[0m          \u001b[0massigned\u001b[0m \u001b[0;34m=\u001b[0m \u001b[0mWRAPPER_ASSIGNMENTS\u001b[0m\u001b[0;34m,\u001b[0m\u001b[0;34m\u001b[0m\n",
       "\u001b[0;34m\u001b[0m          \u001b[0mupdated\u001b[0m \u001b[0;34m=\u001b[0m \u001b[0mWRAPPER_UPDATES\u001b[0m\u001b[0;34m)\u001b[0m\u001b[0;34m:\u001b[0m\u001b[0;34m\u001b[0m\n",
       "\u001b[0;34m\u001b[0m    \u001b[0;34m\"\"\"Decorator factory to apply update_wrapper() to a wrapper function\u001b[0m\n",
       "\u001b[0;34m\u001b[0m\n",
       "\u001b[0;34m       Returns a decorator that invokes update_wrapper() with the decorated\u001b[0m\n",
       "\u001b[0;34m       function as the wrapper argument and the arguments to wraps() as the\u001b[0m\n",
       "\u001b[0;34m       remaining arguments. Default arguments are as for update_wrapper().\u001b[0m\n",
       "\u001b[0;34m       This is a convenience function to simplify applying partial() to\u001b[0m\n",
       "\u001b[0;34m       update_wrapper().\u001b[0m\n",
       "\u001b[0;34m    \"\"\"\u001b[0m\u001b[0;34m\u001b[0m\n",
       "\u001b[0;34m\u001b[0m    \u001b[0;32mreturn\u001b[0m \u001b[0mpartial\u001b[0m\u001b[0;34m(\u001b[0m\u001b[0mupdate_wrapper\u001b[0m\u001b[0;34m,\u001b[0m \u001b[0mwrapped\u001b[0m\u001b[0;34m=\u001b[0m\u001b[0mwrapped\u001b[0m\u001b[0;34m,\u001b[0m\u001b[0;34m\u001b[0m\n",
       "\u001b[0;34m\u001b[0m                   \u001b[0massigned\u001b[0m\u001b[0;34m=\u001b[0m\u001b[0massigned\u001b[0m\u001b[0;34m,\u001b[0m \u001b[0mupdated\u001b[0m\u001b[0;34m=\u001b[0m\u001b[0mupdated\u001b[0m\u001b[0;34m)\u001b[0m\u001b[0;34m\u001b[0m\u001b[0;34m\u001b[0m\u001b[0m\n",
       "\u001b[0;31mFile:\u001b[0m      /Library/Frameworks/Python.framework/Versions/3.10/lib/python3.10/functools.py\n",
       "\u001b[0;31mType:\u001b[0m      function"
      ]
     },
     "metadata": {},
     "output_type": "display_data"
    }
   ],
   "source": [
    "wraps??"
   ]
  },
  {
   "cell_type": "markdown",
   "id": "6a952cdd-8373-48fd-b8c9-eb463d04e288",
   "metadata": {},
   "source": [
    "### Podsumowanie:\n",
    "Dekoratory oferują elegancki i potężny sposób na dynamiczne modyfikowanie zachowania funkcji w Pythonie. Od prostych ulepszeń po skomplikowane logiki, dekoratory są nieocenione w tworzeniu czystego, DRY (Don't Repeat Yourself) i wydajnego kodu. Ważne jest jednak, aby używać ich świadomie, ponieważ nadmierne ich stosowanie może prowadzić do kodu, który jest trudny do zrozumienia i debugowania."
   ]
  },
  {
   "cell_type": "markdown",
   "id": "fe08f475-98f7-47c8-bf54-d095fa5df215",
   "metadata": {},
   "source": [
    "### Bonus - dekorator jako klasa:\n",
    "\n",
    "Tworzenie dekoratorów przy użyciu klas w Pythonie polega na zdefiniowaniu klasy z metodą `__call__`, co pozwala jej instancjom zachowywać się jak funkcje. Poniżej znajduje się przykład, jak można przekształcić dekorator \"repeat\" w dekorator oparty na klasie:"
   ]
  },
  {
   "cell_type": "code",
   "execution_count": 62,
   "id": "79606d6d-1371-4888-9e2f-09ea8c58f51c",
   "metadata": {},
   "outputs": [],
   "source": [
    "class Repeat:\n",
    "    def __init__(self, num_times):\n",
    "        self.num_times = num_times\n",
    "\n",
    "    def __call__(self, function):\n",
    "        # Ta funkcja zostanie wywołana, gdy użyjemy instancji klasy jako dekoratora.\n",
    "        # Zwraca funkcję 'wrapper', która opakowuje oryginalną funkcję.\n",
    "        def wrapper(*args, **kwargs):\n",
    "            for _ in range(self.num_times):\n",
    "                result = function(*args, **kwargs)\n",
    "            return result\n",
    "        return wrapper\n",
    "\n",
    "# Użycie dekoratora opartego na klasie:\n",
    "# @Repeat(num_times=3)\n",
    "def say_hello(name):\n",
    "    print(f\"Hello, {name}!\")\n"
   ]
  },
  {
   "cell_type": "code",
   "execution_count": 63,
   "id": "9032dd85-dcfe-4e57-8482-9149d7bc09e3",
   "metadata": {},
   "outputs": [
    {
     "name": "stdout",
     "output_type": "stream",
     "text": [
      "Hello, World!\n",
      "Hello, World!\n",
      "Hello, World!\n"
     ]
    }
   ],
   "source": [
    "# r = Repeat(num_times=3)\n",
    "say_hello = Repeat(num_times=3)(say_hello)\n",
    "\n",
    "say_hello(\"World\")"
   ]
  },
  {
   "cell_type": "markdown",
   "id": "664f5c5f-0cb1-4c9d-bf97-cd389a3bf35f",
   "metadata": {},
   "source": []
  },
  {
   "cell_type": "markdown",
   "id": "19ce7a7e-7f12-4505-9b8b-dbb0cd0d9524",
   "metadata": {},
   "source": [
    "Gdy dekorator `@Repeat` jest stosowany do funkcji, konstruktor klasy `Repeat` (`__init__`) jest wywoływany, a następnie metoda `__call__` klasy jest używana jako właściwy dekorator dla funkcji `say_hello`. Metoda `__call__` opakowuje oryginalną funkcję w funkcję `wrapper`, zachowując standardowe zachowanie dekoratorów.\n",
    "\n",
    "Dekoratory oparte na klasach mogą być szczególnie użyteczne, gdy jest potrzeba przechowywania stanu między wywołaniami dekorowanej funkcji lub gdy dekorator musi mieć swoje metody oprócz `__call__`. Powyższy przykład ilustruje, jak dekorator oparty na klasie może łatwo przechowywać stan (w tym przypadku liczbę powtórzeń) między wywołaniami."
   ]
  },
  {
   "cell_type": "markdown",
   "id": "c541a558-f99e-4502-8b27-a3bd72724732",
   "metadata": {},
   "source": [
    "## Ćwiczenie\n",
    "\n",
    "zaimplementuj dekoratory `bold` i `italic`, które tekst zwracany przez inne funkcje będą otaczać znacznikami - odpowiednio `<b>Oryginalny tekst</b>` i `<i>Oryginalny tekst</i>`\n",
    "\n",
    "    \n",
    "    @bold\n",
    "    def zlacz_teksty(*args, sep=\"\\n\"):\n",
    "        return \"\\n\".join(args)\n",
    "    \n",
    "    zlacz_teksty(\"A\", \"B\") == \"<b>A\\nB</b>\"\n",
    "\n",
    "\n",
    "    @italic\n",
    "    def zlacz_teksty(*args, sep=\"\\n\"):\n",
    "        return \"\\n\".join(args)\n",
    "    \n",
    "    zlacz_teksty(\"A\", \"B\") == \"<i>A\\nB</i>\"\n",
    "\n",
    "    @bold\n",
    "    @italic\n",
    "    def zlacz_teksty(*args, sep=\"\\n\"):\n",
    "        return \"\\n\".join(args)\n",
    "\n",
    "    zlacz_teksty(\"A\", \"B\") == \"<b><i>A\\nB</i></b>\"\n",
    "    "
   ]
  },
  {
   "cell_type": "code",
   "execution_count": 73,
   "id": "93782a17-a3e9-4c8d-bad3-ccbc09d192c8",
   "metadata": {},
   "outputs": [
    {
     "data": {
      "text/plain": [
       "'<b>A\\nB</b>'"
      ]
     },
     "execution_count": 73,
     "metadata": {},
     "output_type": "execute_result"
    }
   ],
   "source": [
    "from functools import wraps\n",
    "def bold(func):\n",
    "\n",
    "    @wraps(func)\n",
    "    def wrapper(*args, **kwargs):\n",
    "        r = func(*args, **kwargs)\n",
    "        r = f\"<b>{r}</b>\"\n",
    "        return r\n",
    "\n",
    "    return wrapper\n",
    "\n",
    "\n",
    "@bold\n",
    "def zlacz_teksty(*args, sep=\"\\n\"):\n",
    "    return \"\\n\".join(args)\n",
    "\n",
    "\n",
    "r = zlacz_teksty(\"A\", \"B\")\n",
    "r"
   ]
  },
  {
   "cell_type": "code",
   "execution_count": 74,
   "id": "6272d352-8069-4610-b7da-7c2423f38099",
   "metadata": {},
   "outputs": [
    {
     "name": "stdout",
     "output_type": "stream",
     "text": [
      "Wywoluje funkcję milion_squares\n",
      "Wykonanie zajęlo 0.29932093620300293 s\n",
      "Wywoluje funkcję zlacz_teksty\n",
      "Wykonanie zajęlo 0.0 s\n"
     ]
    },
    {
     "data": {
      "text/plain": [
       "'<b>A\\nB</b>'"
      ]
     },
     "execution_count": 74,
     "metadata": {},
     "output_type": "execute_result"
    }
   ],
   "source": [
    "import time\n",
    "\n",
    "def timeit(func):\n",
    "\n",
    "    def wrapper(*args, **kwargs):\n",
    "        print(f\"Wywoluje funkcję {func.__name__}\")\n",
    "        t = time.time()\n",
    "        r = func(*args, **kwargs)\n",
    "        print(f\"Wykonanie zajęlo {time.time() - t} s\")\n",
    "        return r\n",
    "    \n",
    "    return wrapper\n",
    "\n",
    "@timeit\n",
    "def milion_squares():\n",
    "    return [x ** 2 for x in range(1_000_000)]\n",
    "\n",
    "x = milion_squares()\n",
    "\n",
    "@timeit\n",
    "@bold\n",
    "def zlacz_teksty(*args, sep=\"\\n\"):\n",
    "    return \"\\n\".join(args)\n",
    "\n",
    "zlacz_teksty(\"A\", \"B\")"
   ]
  },
  {
   "cell_type": "code",
   "execution_count": null,
   "id": "78d3160a-4331-4c64-ab02-9d4f6fb0c0d4",
   "metadata": {},
   "outputs": [],
   "source": []
  }
 ],
 "metadata": {
  "kernelspec": {
   "display_name": "Python 3 (ipykernel)",
   "language": "python",
   "name": "python3"
  },
  "language_info": {
   "codemirror_mode": {
    "name": "ipython",
    "version": 3
   },
   "file_extension": ".py",
   "mimetype": "text/x-python",
   "name": "python",
   "nbconvert_exporter": "python",
   "pygments_lexer": "ipython3",
   "version": "3.11.6"
  }
 },
 "nbformat": 4,
 "nbformat_minor": 5
}
