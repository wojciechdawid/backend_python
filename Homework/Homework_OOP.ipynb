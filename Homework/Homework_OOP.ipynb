{
 "cells": [
  {
   "cell_type": "markdown",
   "id": "fe92447e-88a6-4dd5-ac81-825601651275",
   "metadata": {},
   "source": [
    "#### Działanie obiektów z modułu figures.py"
   ]
  },
  {
   "cell_type": "code",
   "execution_count": null,
   "id": "74454ae4-43b2-42ff-8148-4cb946150a11",
   "metadata": {},
   "outputs": [],
   "source": []
  }
 ],
 "metadata": {
  "kernelspec": {
   "display_name": "Python 3 (ipykernel)",
   "language": "python",
   "name": "python3"
  },
  "language_info": {
   "codemirror_mode": {
    "name": "ipython",
    "version": 3
   },
   "file_extension": ".py",
   "mimetype": "text/x-python",
   "name": "python",
   "nbconvert_exporter": "python",
   "pygments_lexer": "ipython3",
   "version": "3.11.6"
  }
 },
 "nbformat": 4,
 "nbformat_minor": 5
}
