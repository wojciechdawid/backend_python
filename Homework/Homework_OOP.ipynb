{
 "cells": [
  {
   "cell_type": "markdown",
   "id": "fe92447e-88a6-4dd5-ac81-825601651275",
   "metadata": {},
   "source": [
    "#### Działanie obiektów z modułu figures.py"
   ]
  },
  {
   "cell_type": "code",
   "execution_count": 1,
   "id": "74454ae4-43b2-42ff-8148-4cb946150a11",
   "metadata": {},
   "outputs": [],
   "source": [
    "from figures import Circle, Square"
   ]
  },
  {
   "cell_type": "code",
   "execution_count": 2,
   "id": "f62b302b-1dc0-4c85-b422-60b36ce93aa0",
   "metadata": {},
   "outputs": [],
   "source": [
    "c1 = Circle(5)"
   ]
  },
  {
   "cell_type": "code",
   "execution_count": 3,
   "id": "1461f0ff-5a3e-433e-a965-a5ad45e15672",
   "metadata": {},
   "outputs": [
    {
     "data": {
      "text/plain": [
       "78.54"
      ]
     },
     "execution_count": 3,
     "metadata": {},
     "output_type": "execute_result"
    }
   ],
   "source": [
    "c1.area"
   ]
  },
  {
   "cell_type": "code",
   "execution_count": 4,
   "id": "51e19bd9-b36a-42ba-b965-e2a0d16068a7",
   "metadata": {},
   "outputs": [
    {
     "data": {
      "text/plain": [
       "10"
      ]
     },
     "execution_count": 4,
     "metadata": {},
     "output_type": "execute_result"
    }
   ],
   "source": [
    "c1.diameter"
   ]
  },
  {
   "cell_type": "code",
   "execution_count": 5,
   "id": "3dcf76d3-d477-49c0-a9e8-438ac3f63507",
   "metadata": {},
   "outputs": [],
   "source": [
    "c = Circle()"
   ]
  },
  {
   "cell_type": "code",
   "execution_count": 6,
   "id": "19ce8d46-95f3-4431-8a72-fa253d64a6e5",
   "metadata": {},
   "outputs": [
    {
     "data": {
      "text/plain": [
       "3.14"
      ]
     },
     "execution_count": 6,
     "metadata": {},
     "output_type": "execute_result"
    }
   ],
   "source": [
    "c.area"
   ]
  },
  {
   "cell_type": "code",
   "execution_count": 7,
   "id": "76aad58a-2137-4ae7-8799-7a611f3d2454",
   "metadata": {},
   "outputs": [],
   "source": [
    "c.radius = 10"
   ]
  },
  {
   "cell_type": "code",
   "execution_count": 8,
   "id": "a29048f1-6076-4c9b-b869-e083d8a4e59f",
   "metadata": {},
   "outputs": [],
   "source": [
    "c.diameter = 50"
   ]
  },
  {
   "cell_type": "code",
   "execution_count": 9,
   "id": "8ed51fdb-dd52-43c8-b234-d37d945173de",
   "metadata": {},
   "outputs": [
    {
     "data": {
      "text/plain": [
       "25.0"
      ]
     },
     "execution_count": 9,
     "metadata": {},
     "output_type": "execute_result"
    }
   ],
   "source": [
    "c.radius"
   ]
  },
  {
   "cell_type": "code",
   "execution_count": 10,
   "id": "f9b32756-5d00-4fb4-8e19-b22591258c1d",
   "metadata": {},
   "outputs": [],
   "source": [
    "c.area = 500"
   ]
  },
  {
   "cell_type": "code",
   "execution_count": 11,
   "id": "a21f9e5f-d7c7-417c-98c3-c85e25bdbf7d",
   "metadata": {},
   "outputs": [
    {
     "data": {
      "text/plain": [
       "25.23"
      ]
     },
     "execution_count": 11,
     "metadata": {},
     "output_type": "execute_result"
    }
   ],
   "source": [
    "c.diameter"
   ]
  },
  {
   "cell_type": "code",
   "execution_count": 12,
   "id": "d4aeed74-0e31-4da8-9f9d-b46b150cf405",
   "metadata": {},
   "outputs": [
    {
     "ename": "ValueError",
     "evalue": "Radius must be a positive numerical value!",
     "output_type": "error",
     "traceback": [
      "\u001b[1;31m---------------------------------------------------------------------------\u001b[0m",
      "\u001b[1;31mValueError\u001b[0m                                Traceback (most recent call last)",
      "Cell \u001b[1;32mIn[12], line 1\u001b[0m\n\u001b[1;32m----> 1\u001b[0m \u001b[43mc\u001b[49m\u001b[38;5;241;43m.\u001b[39;49m\u001b[43mradius\u001b[49m \u001b[38;5;241m=\u001b[39m \u001b[38;5;124m'\u001b[39m\u001b[38;5;124mb\u001b[39m\u001b[38;5;124m'\u001b[39m\n",
      "File \u001b[1;32m~\\OneDrive - Wojskowa Akademia Techniczna\\Programowanie_all\\Python\\Python_ALX_backend\\Homework\\figures.py:103\u001b[0m, in \u001b[0;36mCircle.radius\u001b[1;34m(self, value)\u001b[0m\n\u001b[0;32m    101\u001b[0m     \u001b[38;5;28mself\u001b[39m\u001b[38;5;241m.\u001b[39m__area \u001b[38;5;241m=\u001b[39m math\u001b[38;5;241m.\u001b[39mpi \u001b[38;5;241m*\u001b[39m value \u001b[38;5;241m*\u001b[39m\u001b[38;5;241m*\u001b[39m \u001b[38;5;241m2\u001b[39m\n\u001b[0;32m    102\u001b[0m \u001b[38;5;28;01melse\u001b[39;00m:\n\u001b[1;32m--> 103\u001b[0m     \u001b[38;5;28;01mraise\u001b[39;00m \u001b[38;5;167;01mValueError\u001b[39;00m(\u001b[38;5;124m'\u001b[39m\u001b[38;5;124mRadius must be a positive numerical value!\u001b[39m\u001b[38;5;124m'\u001b[39m)\n",
      "\u001b[1;31mValueError\u001b[0m: Radius must be a positive numerical value!"
     ]
    }
   ],
   "source": [
    "c.radius = 'b'"
   ]
  },
  {
   "cell_type": "code",
   "execution_count": 13,
   "id": "564d75d2-5f5a-4919-8e88-330183bb4628",
   "metadata": {},
   "outputs": [
    {
     "data": {
      "text/plain": [
       "12.62"
      ]
     },
     "execution_count": 13,
     "metadata": {},
     "output_type": "execute_result"
    }
   ],
   "source": [
    "c.radius"
   ]
  },
  {
   "cell_type": "code",
   "execution_count": 14,
   "id": "844a9339-3198-4b11-a2a8-c5a33ca9bb45",
   "metadata": {},
   "outputs": [
    {
     "ename": "ValueError",
     "evalue": "Radius must be a positive numerical value!",
     "output_type": "error",
     "traceback": [
      "\u001b[1;31m---------------------------------------------------------------------------\u001b[0m",
      "\u001b[1;31mValueError\u001b[0m                                Traceback (most recent call last)",
      "Cell \u001b[1;32mIn[14], line 1\u001b[0m\n\u001b[1;32m----> 1\u001b[0m \u001b[43mc\u001b[49m\u001b[38;5;241;43m.\u001b[39;49m\u001b[43mradius\u001b[49m \u001b[38;5;241m=\u001b[39m \u001b[38;5;241m-\u001b[39m\u001b[38;5;241m3\u001b[39m\n",
      "File \u001b[1;32m~\\OneDrive - Wojskowa Akademia Techniczna\\Programowanie_all\\Python\\Python_ALX_backend\\Homework\\figures.py:103\u001b[0m, in \u001b[0;36mCircle.radius\u001b[1;34m(self, value)\u001b[0m\n\u001b[0;32m    101\u001b[0m     \u001b[38;5;28mself\u001b[39m\u001b[38;5;241m.\u001b[39m__area \u001b[38;5;241m=\u001b[39m math\u001b[38;5;241m.\u001b[39mpi \u001b[38;5;241m*\u001b[39m value \u001b[38;5;241m*\u001b[39m\u001b[38;5;241m*\u001b[39m \u001b[38;5;241m2\u001b[39m\n\u001b[0;32m    102\u001b[0m \u001b[38;5;28;01melse\u001b[39;00m:\n\u001b[1;32m--> 103\u001b[0m     \u001b[38;5;28;01mraise\u001b[39;00m \u001b[38;5;167;01mValueError\u001b[39;00m(\u001b[38;5;124m'\u001b[39m\u001b[38;5;124mRadius must be a positive numerical value!\u001b[39m\u001b[38;5;124m'\u001b[39m)\n",
      "\u001b[1;31mValueError\u001b[0m: Radius must be a positive numerical value!"
     ]
    }
   ],
   "source": [
    "c.radius = -3"
   ]
  },
  {
   "cell_type": "code",
   "execution_count": 15,
   "id": "9aa4e243-dc5a-434e-ac7a-3db9a89b7bf2",
   "metadata": {},
   "outputs": [
    {
     "name": "stdout",
     "output_type": "stream",
     "text": [
      "Okrąg o średnicy 12.62.\n"
     ]
    }
   ],
   "source": [
    "print(c)"
   ]
  },
  {
   "cell_type": "code",
   "execution_count": 16,
   "id": "e4de1c89-2af0-4179-9b5e-884b0915fd3c",
   "metadata": {},
   "outputs": [],
   "source": [
    "c_1 = Circle(10)\n",
    "c_2 = Circle(12)"
   ]
  },
  {
   "cell_type": "code",
   "execution_count": 17,
   "id": "a4690a71-c9ae-4a06-ab3a-c56c0a2b9a8b",
   "metadata": {},
   "outputs": [
    {
     "data": {
      "text/plain": [
       "False"
      ]
     },
     "execution_count": 17,
     "metadata": {},
     "output_type": "execute_result"
    }
   ],
   "source": [
    "c_1 == c_2"
   ]
  },
  {
   "cell_type": "code",
   "execution_count": 20,
   "id": "89e06d21-fd17-4e0a-90fc-a056bd5155ce",
   "metadata": {},
   "outputs": [
    {
     "data": {
      "text/plain": [
       "True"
      ]
     },
     "execution_count": 20,
     "metadata": {},
     "output_type": "execute_result"
    }
   ],
   "source": [
    "c_1 = Circle(10)\n",
    "c_2 = Circle(12)\n",
    "c_1 <= c_2"
   ]
  },
  {
   "cell_type": "code",
   "execution_count": 21,
   "id": "e081a121-5783-4c05-9363-32dd1d1564cb",
   "metadata": {},
   "outputs": [
    {
     "ename": "TypeError",
     "evalue": "Objects must be instances of Figure class!",
     "output_type": "error",
     "traceback": [
      "\u001b[1;31m---------------------------------------------------------------------------\u001b[0m",
      "\u001b[1;31mTypeError\u001b[0m                                 Traceback (most recent call last)",
      "Cell \u001b[1;32mIn[21], line 1\u001b[0m\n\u001b[1;32m----> 1\u001b[0m c3 \u001b[38;5;241m=\u001b[39m \u001b[43mc_1\u001b[49m\u001b[43m \u001b[49m\u001b[38;5;241;43m+\u001b[39;49m\u001b[43m \u001b[49m\u001b[38;5;241;43m23\u001b[39;49m\n\u001b[0;32m      2\u001b[0m c3\n",
      "File \u001b[1;32m~\\OneDrive - Wojskowa Akademia Techniczna\\Programowanie_all\\Python\\Python_ALX_backend\\Homework\\figures.py:78\u001b[0m, in \u001b[0;36mFigure.__add__\u001b[1;34m(self, other)\u001b[0m\n\u001b[0;32m     76\u001b[0m     \u001b[38;5;28;01mreturn\u001b[39;00m \u001b[38;5;28mself\u001b[39m\u001b[38;5;241m.\u001b[39m\u001b[38;5;18m__class__\u001b[39m(\u001b[38;5;28mself\u001b[39m\u001b[38;5;241m.\u001b[39mbase_dim(\u001b[38;5;28mself\u001b[39m\u001b[38;5;241m.\u001b[39marea \u001b[38;5;241m+\u001b[39m other\u001b[38;5;241m.\u001b[39marea))\n\u001b[0;32m     77\u001b[0m \u001b[38;5;28;01melse\u001b[39;00m:\n\u001b[1;32m---> 78\u001b[0m     \u001b[38;5;28;01mraise\u001b[39;00m \u001b[38;5;167;01mTypeError\u001b[39;00m(\u001b[38;5;124m\"\u001b[39m\u001b[38;5;124mObjects must be instances of Figure class!\u001b[39m\u001b[38;5;124m\"\u001b[39m)\n",
      "\u001b[1;31mTypeError\u001b[0m: Objects must be instances of Figure class!"
     ]
    }
   ],
   "source": [
    "c3 = c_1 + 23\n",
    "c3"
   ]
  },
  {
   "cell_type": "code",
   "execution_count": 22,
   "id": "1ae6d2cc-f42d-4b0a-9c2b-7049fa7de884",
   "metadata": {},
   "outputs": [
    {
     "data": {
      "text/plain": [
       "2.24"
      ]
     },
     "execution_count": 22,
     "metadata": {},
     "output_type": "execute_result"
    }
   ],
   "source": [
    "c1 = Circle()\n",
    "c2 = Circle(2)\n",
    "c3 = c1 + c2\n",
    "c3.radius"
   ]
  },
  {
   "cell_type": "code",
   "execution_count": 23,
   "id": "e24840bb-d919-4167-ac83-eb8c9aab88a6",
   "metadata": {},
   "outputs": [],
   "source": [
    "s1 = Square(10)"
   ]
  },
  {
   "cell_type": "code",
   "execution_count": 24,
   "id": "8c9390d8-9b70-4289-ba44-2bfc4d8b345b",
   "metadata": {},
   "outputs": [
    {
     "data": {
      "text/plain": [
       "5.73"
      ]
     },
     "execution_count": 24,
     "metadata": {},
     "output_type": "execute_result"
    }
   ],
   "source": [
    "cs_1 = c1 + s1\n",
    "cs_1.radius"
   ]
  },
  {
   "cell_type": "code",
   "execution_count": 25,
   "id": "a6ce4631-a25c-45aa-ba8a-0c19ba87ab1a",
   "metadata": {},
   "outputs": [
    {
     "data": {
      "text/plain": [
       "10.16"
      ]
     },
     "execution_count": 25,
     "metadata": {},
     "output_type": "execute_result"
    }
   ],
   "source": [
    "sc_1 = s1 + c1\n",
    "sc_1.side"
   ]
  },
  {
   "cell_type": "code",
   "execution_count": 26,
   "id": "d6801e51-8ad5-49b7-b5c1-463b9cf3fd95",
   "metadata": {},
   "outputs": [
    {
     "data": {
      "text/plain": [
       "36.83"
      ]
     },
     "execution_count": 26,
     "metadata": {},
     "output_type": "execute_result"
    }
   ],
   "source": [
    "c2 = Circle(20)\n",
    "s1 = Square(10)\n",
    "sc1 = s1 + c2\n",
    "sc1.side"
   ]
  },
  {
   "cell_type": "code",
   "execution_count": 27,
   "id": "d84d4477-fc2a-4bf1-9b9d-5c6cc255153e",
   "metadata": {},
   "outputs": [
    {
     "data": {
      "text/plain": [
       "13.0"
      ]
     },
     "execution_count": 27,
     "metadata": {},
     "output_type": "execute_result"
    }
   ],
   "source": [
    "s1 = Square(2)\n",
    "s2 = Square(3)\n",
    "s3 = s1 + s2\n",
    "s3.area"
   ]
  },
  {
   "cell_type": "code",
   "execution_count": 28,
   "id": "28f882e1-b9fc-4405-99c2-4e178187eee6",
   "metadata": {},
   "outputs": [
    {
     "data": {
      "text/plain": [
       "True"
      ]
     },
     "execution_count": 28,
     "metadata": {},
     "output_type": "execute_result"
    }
   ],
   "source": [
    "s1 != c1"
   ]
  },
  {
   "cell_type": "code",
   "execution_count": 30,
   "id": "0aa16275-c839-43cf-9218-66a2bc60c39b",
   "metadata": {},
   "outputs": [
    {
     "data": {
      "text/plain": [
       "False"
      ]
     },
     "execution_count": 30,
     "metadata": {},
     "output_type": "execute_result"
    }
   ],
   "source": [
    "s1 <= c1"
   ]
  },
  {
   "cell_type": "code",
   "execution_count": 32,
   "id": "b92be468-0b8c-4016-bc5f-c41d6223c2f4",
   "metadata": {},
   "outputs": [],
   "source": [
    "c1 = Circle(5)\n",
    "s1 = Square(10)\n",
    "c2 = c1 + s1"
   ]
  },
  {
   "cell_type": "code",
   "execution_count": 39,
   "id": "504cb3de-f02a-4a61-8ac7-41496e12db4d",
   "metadata": {},
   "outputs": [
    {
     "data": {
      "text/plain": [
       "7.54"
      ]
     },
     "execution_count": 39,
     "metadata": {},
     "output_type": "execute_result"
    }
   ],
   "source": [
    "c2.radius"
   ]
  },
  {
   "cell_type": "code",
   "execution_count": null,
   "id": "97352f9e-45d2-4bdb-a68b-b73c97ebb7aa",
   "metadata": {},
   "outputs": [],
   "source": []
  }
 ],
 "metadata": {
  "kernelspec": {
   "display_name": "Python 3 (ipykernel)",
   "language": "python",
   "name": "python3"
  },
  "language_info": {
   "codemirror_mode": {
    "name": "ipython",
    "version": 3
   },
   "file_extension": ".py",
   "mimetype": "text/x-python",
   "name": "python",
   "nbconvert_exporter": "python",
   "pygments_lexer": "ipython3",
   "version": "3.11.6"
  }
 },
 "nbformat": 4,
 "nbformat_minor": 5
}
