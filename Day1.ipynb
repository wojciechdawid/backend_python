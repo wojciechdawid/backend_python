{
 "cells": [
  {
   "cell_type": "markdown",
   "id": "9c7b5238",
   "metadata": {},
   "source": [
    "## Powtórka materiału z Pythona"
   ]
  },
  {
   "cell_type": "code",
   "execution_count": 1,
   "id": "a74d151e",
   "metadata": {
    "scrolled": true
   },
   "outputs": [],
   "source": [
    "import os"
   ]
  },
  {
   "cell_type": "code",
   "execution_count": 2,
   "id": "81dae6f2",
   "metadata": {},
   "outputs": [
    {
     "data": {
      "text/plain": [
       "['DirEntry',\n",
       " 'EX_OK',\n",
       " 'F_OK',\n",
       " 'GenericAlias',\n",
       " 'Mapping',\n",
       " 'MutableMapping',\n",
       " 'O_APPEND',\n",
       " 'O_BINARY',\n",
       " 'O_CREAT',\n",
       " 'O_EXCL',\n",
       " 'O_NOINHERIT',\n",
       " 'O_RANDOM',\n",
       " 'O_RDONLY',\n",
       " 'O_RDWR',\n",
       " 'O_SEQUENTIAL',\n",
       " 'O_SHORT_LIVED',\n",
       " 'O_TEMPORARY',\n",
       " 'O_TEXT',\n",
       " 'O_TRUNC',\n",
       " 'O_WRONLY',\n",
       " 'P_DETACH',\n",
       " 'P_NOWAIT',\n",
       " 'P_NOWAITO',\n",
       " 'P_OVERLAY',\n",
       " 'P_WAIT',\n",
       " 'PathLike',\n",
       " 'R_OK',\n",
       " 'SEEK_CUR',\n",
       " 'SEEK_END',\n",
       " 'SEEK_SET',\n",
       " 'TMP_MAX',\n",
       " 'W_OK',\n",
       " 'X_OK',\n",
       " '_AddedDllDirectory',\n",
       " '_Environ',\n",
       " '__all__',\n",
       " '__builtins__',\n",
       " '__doc__',\n",
       " '__file__',\n",
       " '__loader__',\n",
       " '__name__',\n",
       " '__package__',\n",
       " '__spec__',\n",
       " '_check_methods',\n",
       " '_execvpe',\n",
       " '_exists',\n",
       " '_exit',\n",
       " '_fspath',\n",
       " '_get_exports_list',\n",
       " '_walk',\n",
       " '_wrap_close',\n",
       " 'abc',\n",
       " 'abort',\n",
       " 'access',\n",
       " 'add_dll_directory',\n",
       " 'altsep',\n",
       " 'chdir',\n",
       " 'chmod',\n",
       " 'close',\n",
       " 'closerange',\n",
       " 'cpu_count',\n",
       " 'curdir',\n",
       " 'defpath',\n",
       " 'device_encoding',\n",
       " 'devnull',\n",
       " 'dup',\n",
       " 'dup2',\n",
       " 'environ',\n",
       " 'error',\n",
       " 'execl',\n",
       " 'execle',\n",
       " 'execlp',\n",
       " 'execlpe',\n",
       " 'execv',\n",
       " 'execve',\n",
       " 'execvp',\n",
       " 'execvpe',\n",
       " 'extsep',\n",
       " 'fdopen',\n",
       " 'fsdecode',\n",
       " 'fsencode',\n",
       " 'fspath',\n",
       " 'fstat',\n",
       " 'fsync',\n",
       " 'ftruncate',\n",
       " 'get_exec_path',\n",
       " 'get_handle_inheritable',\n",
       " 'get_inheritable',\n",
       " 'get_terminal_size',\n",
       " 'getcwd',\n",
       " 'getcwdb',\n",
       " 'getenv',\n",
       " 'getlogin',\n",
       " 'getpid',\n",
       " 'getppid',\n",
       " 'isatty',\n",
       " 'kill',\n",
       " 'linesep',\n",
       " 'link',\n",
       " 'listdir',\n",
       " 'lseek',\n",
       " 'lstat',\n",
       " 'makedirs',\n",
       " 'mkdir',\n",
       " 'name',\n",
       " 'open',\n",
       " 'pardir',\n",
       " 'path',\n",
       " 'pathsep',\n",
       " 'pipe',\n",
       " 'popen',\n",
       " 'putenv',\n",
       " 'read',\n",
       " 'readlink',\n",
       " 'remove',\n",
       " 'removedirs',\n",
       " 'rename',\n",
       " 'renames',\n",
       " 'replace',\n",
       " 'rmdir',\n",
       " 'scandir',\n",
       " 'sep',\n",
       " 'set_handle_inheritable',\n",
       " 'set_inheritable',\n",
       " 'spawnl',\n",
       " 'spawnle',\n",
       " 'spawnv',\n",
       " 'spawnve',\n",
       " 'st',\n",
       " 'startfile',\n",
       " 'stat',\n",
       " 'stat_result',\n",
       " 'statvfs_result',\n",
       " 'strerror',\n",
       " 'supports_bytes_environ',\n",
       " 'supports_dir_fd',\n",
       " 'supports_effective_ids',\n",
       " 'supports_fd',\n",
       " 'supports_follow_symlinks',\n",
       " 'symlink',\n",
       " 'sys',\n",
       " 'system',\n",
       " 'terminal_size',\n",
       " 'times',\n",
       " 'times_result',\n",
       " 'truncate',\n",
       " 'umask',\n",
       " 'uname_result',\n",
       " 'unlink',\n",
       " 'unsetenv',\n",
       " 'urandom',\n",
       " 'utime',\n",
       " 'waitpid',\n",
       " 'waitstatus_to_exitcode',\n",
       " 'walk',\n",
       " 'write']"
      ]
     },
     "execution_count": 2,
     "metadata": {},
     "output_type": "execute_result"
    }
   ],
   "source": [
    "dir(os)"
   ]
  },
  {
   "cell_type": "code",
   "execution_count": 3,
   "id": "dd9282a8",
   "metadata": {},
   "outputs": [
    {
     "name": "stdout",
     "output_type": "stream",
     "text": [
      "Help on built-in function fspath in module nt:\n",
      "\n",
      "fspath(path)\n",
      "    Return the file system path representation of the object.\n",
      "    \n",
      "    If the object is str or bytes, then allow it to pass through as-is. If the\n",
      "    object defines __fspath__(), then return the result of that method. All other\n",
      "    types raise a TypeError.\n",
      "\n"
     ]
    }
   ],
   "source": [
    "help(os.fspath)"
   ]
  },
  {
   "cell_type": "code",
   "execution_count": 4,
   "id": "a0fe1583",
   "metadata": {},
   "outputs": [
    {
     "name": "stdout",
     "output_type": "stream",
     "text": [
      "Help on built-in function execve in module nt:\n",
      "\n",
      "execve(path, argv, env)\n",
      "    Execute an executable path with arguments, replacing current process.\n",
      "    \n",
      "    path\n",
      "      Path of executable file.\n",
      "    argv\n",
      "      Tuple or list of strings.\n",
      "    env\n",
      "      Dictionary of strings mapping to strings.\n",
      "\n"
     ]
    }
   ],
   "source": [
    "help(os.execve)"
   ]
  },
  {
   "cell_type": "code",
   "execution_count": 5,
   "id": "fb5f5b7c",
   "metadata": {},
   "outputs": [
    {
     "name": "stdout",
     "output_type": "stream",
     "text": [
      "Help on built-in function get_handle_inheritable in module nt:\n",
      "\n",
      "get_handle_inheritable(handle, /)\n",
      "    Get the close-on-exe flag of the specified file descriptor.\n",
      "\n"
     ]
    }
   ],
   "source": [
    "help(os.get_handle_inheritable)"
   ]
  },
  {
   "cell_type": "markdown",
   "id": "55000e75",
   "metadata": {},
   "source": [
    "## 2"
   ]
  },
  {
   "cell_type": "code",
   "execution_count": 6,
   "id": "3f2d6446",
   "metadata": {},
   "outputs": [],
   "source": [
    "lista = [1, 2, 3, 4]"
   ]
  },
  {
   "cell_type": "code",
   "execution_count": 7,
   "id": "42d96d1d",
   "metadata": {},
   "outputs": [
    {
     "data": {
      "text/plain": [
       "['__add__',\n",
       " '__class__',\n",
       " '__class_getitem__',\n",
       " '__contains__',\n",
       " '__delattr__',\n",
       " '__delitem__',\n",
       " '__dir__',\n",
       " '__doc__',\n",
       " '__eq__',\n",
       " '__format__',\n",
       " '__ge__',\n",
       " '__getattribute__',\n",
       " '__getitem__',\n",
       " '__getstate__',\n",
       " '__gt__',\n",
       " '__hash__',\n",
       " '__iadd__',\n",
       " '__imul__',\n",
       " '__init__',\n",
       " '__init_subclass__',\n",
       " '__iter__',\n",
       " '__le__',\n",
       " '__len__',\n",
       " '__lt__',\n",
       " '__mul__',\n",
       " '__ne__',\n",
       " '__new__',\n",
       " '__reduce__',\n",
       " '__reduce_ex__',\n",
       " '__repr__',\n",
       " '__reversed__',\n",
       " '__rmul__',\n",
       " '__setattr__',\n",
       " '__setitem__',\n",
       " '__sizeof__',\n",
       " '__str__',\n",
       " '__subclasshook__',\n",
       " 'append',\n",
       " 'clear',\n",
       " 'copy',\n",
       " 'count',\n",
       " 'extend',\n",
       " 'index',\n",
       " 'insert',\n",
       " 'pop',\n",
       " 'remove',\n",
       " 'reverse',\n",
       " 'sort']"
      ]
     },
     "execution_count": 7,
     "metadata": {},
     "output_type": "execute_result"
    }
   ],
   "source": [
    "dir(lista)"
   ]
  },
  {
   "cell_type": "code",
   "execution_count": 8,
   "id": "73a45a74",
   "metadata": {},
   "outputs": [
    {
     "name": "stdout",
     "output_type": "stream",
     "text": [
      "Help on built-in function reverse:\n",
      "\n",
      "reverse() method of builtins.list instance\n",
      "    Reverse *IN PLACE*.\n",
      "\n"
     ]
    }
   ],
   "source": [
    "help(lista.reverse)"
   ]
  },
  {
   "cell_type": "code",
   "execution_count": 9,
   "id": "f70bfe0b",
   "metadata": {},
   "outputs": [
    {
     "name": "stdout",
     "output_type": "stream",
     "text": [
      "Help on built-in function sort:\n",
      "\n",
      "sort(*, key=None, reverse=False) method of builtins.list instance\n",
      "    Sort the list in ascending order and return None.\n",
      "    \n",
      "    The sort is in-place (i.e. the list itself is modified) and stable (i.e. the\n",
      "    order of two equal elements is maintained).\n",
      "    \n",
      "    If a key function is given, apply it once to each list item and sort them,\n",
      "    ascending or descending, according to their function values.\n",
      "    \n",
      "    The reverse flag can be set to sort in descending order.\n",
      "\n"
     ]
    }
   ],
   "source": [
    "help(lista.sort)"
   ]
  },
  {
   "cell_type": "code",
   "execution_count": 10,
   "id": "cd027671",
   "metadata": {},
   "outputs": [
    {
     "name": "stdout",
     "output_type": "stream",
     "text": [
      "Help on built-in function extend:\n",
      "\n",
      "extend(iterable, /) method of builtins.list instance\n",
      "    Extend list by appending elements from the iterable.\n",
      "\n"
     ]
    }
   ],
   "source": [
    "help(lista.extend)"
   ]
  },
  {
   "cell_type": "markdown",
   "id": "b097a690",
   "metadata": {},
   "source": [
    "## 3"
   ]
  },
  {
   "cell_type": "code",
   "execution_count": 11,
   "id": "cb6d26a4",
   "metadata": {},
   "outputs": [],
   "source": [
    "class Samochod:\n",
    "    def __init__(self, marka, model):\n",
    "        self.marka = marka\n",
    "        self.model = model\n",
    "\n",
    "    @property\n",
    "    def pokaz_info(self):\n",
    "        '''Zwraca stringa ze sformatowanymi danymi'''\n",
    "        return f\"Auto: {self.marka}, model: {self.model}\""
   ]
  },
  {
   "cell_type": "code",
   "execution_count": 12,
   "id": "ad19c181",
   "metadata": {},
   "outputs": [
    {
     "data": {
      "text/plain": [
       "['__class__',\n",
       " '__delattr__',\n",
       " '__dict__',\n",
       " '__dir__',\n",
       " '__doc__',\n",
       " '__eq__',\n",
       " '__format__',\n",
       " '__ge__',\n",
       " '__getattribute__',\n",
       " '__getstate__',\n",
       " '__gt__',\n",
       " '__hash__',\n",
       " '__init__',\n",
       " '__init_subclass__',\n",
       " '__le__',\n",
       " '__lt__',\n",
       " '__module__',\n",
       " '__ne__',\n",
       " '__new__',\n",
       " '__reduce__',\n",
       " '__reduce_ex__',\n",
       " '__repr__',\n",
       " '__setattr__',\n",
       " '__sizeof__',\n",
       " '__str__',\n",
       " '__subclasshook__',\n",
       " '__weakref__',\n",
       " 'pokaz_info']"
      ]
     },
     "execution_count": 12,
     "metadata": {},
     "output_type": "execute_result"
    }
   ],
   "source": [
    "dir(Samochod)"
   ]
  },
  {
   "cell_type": "code",
   "execution_count": 13,
   "id": "0fbd8d10",
   "metadata": {},
   "outputs": [
    {
     "name": "stdout",
     "output_type": "stream",
     "text": [
      "Help on property:\n",
      "\n",
      "    Zwraca stringa ze sformatowanymi danymi\n",
      "\n"
     ]
    }
   ],
   "source": [
    "help(Samochod.pokaz_info)"
   ]
  },
  {
   "cell_type": "code",
   "execution_count": 14,
   "id": "a2227fe6",
   "metadata": {},
   "outputs": [
    {
     "data": {
      "text/plain": [
       "['In',\n",
       " 'Out',\n",
       " 'Samochod',\n",
       " '_',\n",
       " '_12',\n",
       " '_2',\n",
       " '_7',\n",
       " '__',\n",
       " '___',\n",
       " '__builtin__',\n",
       " '__builtins__',\n",
       " '__doc__',\n",
       " '__loader__',\n",
       " '__name__',\n",
       " '__package__',\n",
       " '__session__',\n",
       " '__spec__',\n",
       " '_dh',\n",
       " '_i',\n",
       " '_i1',\n",
       " '_i10',\n",
       " '_i11',\n",
       " '_i12',\n",
       " '_i13',\n",
       " '_i14',\n",
       " '_i2',\n",
       " '_i3',\n",
       " '_i4',\n",
       " '_i5',\n",
       " '_i6',\n",
       " '_i7',\n",
       " '_i8',\n",
       " '_i9',\n",
       " '_ih',\n",
       " '_ii',\n",
       " '_iii',\n",
       " '_oh',\n",
       " 'exit',\n",
       " 'get_ipython',\n",
       " 'lista',\n",
       " 'open',\n",
       " 'os',\n",
       " 'quit']"
      ]
     },
     "execution_count": 14,
     "metadata": {},
     "output_type": "execute_result"
    }
   ],
   "source": [
    "dir()"
   ]
  },
  {
   "cell_type": "code",
   "execution_count": 15,
   "id": "69c7cb0b",
   "metadata": {},
   "outputs": [
    {
     "data": {
      "text/plain": [
       "\u001b[1;31mType:\u001b[0m        property\n",
       "\u001b[1;31mString form:\u001b[0m <property object at 0x000001C02C9D4360>\n",
       "\u001b[1;31mSource:\u001b[0m     \n",
       "\u001b[1;31m# Samochod.pokaz_info.fget\u001b[0m\u001b[1;33m\n",
       "\u001b[0m\u001b[1;33m@\u001b[0m\u001b[0mproperty\u001b[0m\u001b[1;33m\n",
       "\u001b[0m\u001b[1;32mdef\u001b[0m \u001b[0mpokaz_info\u001b[0m\u001b[1;33m(\u001b[0m\u001b[0mself\u001b[0m\u001b[1;33m)\u001b[0m\u001b[1;33m:\u001b[0m\u001b[1;33m\n",
       "\u001b[0m    \u001b[1;34m'''Zwraca stringa ze sformatowanymi danymi'''\u001b[0m\u001b[1;33m\n",
       "\u001b[0m    \u001b[1;32mreturn\u001b[0m \u001b[1;34mf\"Auto: {self.marka}, model: {self.model}\"\u001b[0m\u001b[1;33m\u001b[0m\u001b[1;33m\u001b[0m\u001b[0m"
      ]
     },
     "metadata": {},
     "output_type": "display_data"
    }
   ],
   "source": [
    "Samochod.pokaz_info??"
   ]
  },
  {
   "cell_type": "code",
   "execution_count": 16,
   "id": "d292e270",
   "metadata": {},
   "outputs": [],
   "source": [
    "auto1 = Samochod(\"BMW\", \"XC90\")"
   ]
  },
  {
   "cell_type": "code",
   "execution_count": 17,
   "id": "98b8b97d",
   "metadata": {},
   "outputs": [
    {
     "data": {
      "text/plain": [
       "'Auto: BMW, model: XC90'"
      ]
     },
     "execution_count": 17,
     "metadata": {},
     "output_type": "execute_result"
    }
   ],
   "source": [
    "auto1.pokaz_info"
   ]
  },
  {
   "cell_type": "markdown",
   "id": "7a04bdf3",
   "metadata": {},
   "source": [
    "### ćw 1.3.11"
   ]
  },
  {
   "cell_type": "code",
   "execution_count": 18,
   "id": "c89eea74",
   "metadata": {},
   "outputs": [
    {
     "ename": "SyntaxError",
     "evalue": "Missing parentheses in call to 'print'. Did you mean print(...)? (1636068069.py, line 1)",
     "output_type": "error",
     "traceback": [
      "\u001b[1;36m  Cell \u001b[1;32mIn[18], line 1\u001b[1;36m\u001b[0m\n\u001b[1;33m    print \"pies\"\u001b[0m\n\u001b[1;37m    ^\u001b[0m\n\u001b[1;31mSyntaxError\u001b[0m\u001b[1;31m:\u001b[0m Missing parentheses in call to 'print'. Did you mean print(...)?\n"
     ]
    }
   ],
   "source": [
    "print \"pies\""
   ]
  },
  {
   "cell_type": "code",
   "execution_count": 19,
   "id": "176b265f",
   "metadata": {},
   "outputs": [],
   "source": [
    "print = 5"
   ]
  },
  {
   "cell_type": "code",
   "execution_count": 20,
   "id": "e58d251b",
   "metadata": {},
   "outputs": [
    {
     "data": {
      "text/plain": [
       "5"
      ]
     },
     "execution_count": 20,
     "metadata": {},
     "output_type": "execute_result"
    }
   ],
   "source": [
    "print"
   ]
  },
  {
   "cell_type": "code",
   "execution_count": 21,
   "id": "ef0c21a6",
   "metadata": {},
   "outputs": [],
   "source": [
    "print = __builtins__.print"
   ]
  },
  {
   "cell_type": "code",
   "execution_count": 22,
   "id": "753db303",
   "metadata": {},
   "outputs": [
    {
     "name": "stdout",
     "output_type": "stream",
     "text": [
      "5\n"
     ]
    }
   ],
   "source": [
    "print(5)"
   ]
  },
  {
   "cell_type": "code",
   "execution_count": 23,
   "id": "3318a85a",
   "metadata": {},
   "outputs": [
    {
     "ename": "SyntaxError",
     "evalue": "Missing parentheses in call to 'print'. Did you mean print(...)? (1206750932.py, line 1)",
     "output_type": "error",
     "traceback": [
      "\u001b[1;36m  Cell \u001b[1;32mIn[23], line 1\u001b[1;36m\u001b[0m\n\u001b[1;33m    print 5\u001b[0m\n\u001b[1;37m    ^\u001b[0m\n\u001b[1;31mSyntaxError\u001b[0m\u001b[1;31m:\u001b[0m Missing parentheses in call to 'print'. Did you mean print(...)?\n"
     ]
    }
   ],
   "source": [
    "print 5"
   ]
  },
  {
   "cell_type": "code",
   "execution_count": 24,
   "id": "cda35395",
   "metadata": {},
   "outputs": [
    {
     "data": {
      "text/plain": [
       "'print'"
      ]
     },
     "execution_count": 24,
     "metadata": {},
     "output_type": "execute_result"
    }
   ],
   "source": [
    "print.__name__"
   ]
  },
  {
   "cell_type": "markdown",
   "id": "ea6bab37",
   "metadata": {},
   "source": [
    "## __add__ i __radd__"
   ]
  },
  {
   "cell_type": "code",
   "execution_count": 25,
   "id": "3a3e251a",
   "metadata": {},
   "outputs": [],
   "source": [
    "class Moja_liczba:\n",
    "    def __init__(self, value):\n",
    "        self.value = value\n",
    "\n",
    "    def __add__(self, other):\n",
    "        return self.value + other\n",
    "\n",
    "    def __radd__(self, other):\n",
    "        return self.__add__(other)"
   ]
  },
  {
   "cell_type": "code",
   "execution_count": 26,
   "id": "11869f17",
   "metadata": {},
   "outputs": [],
   "source": [
    "a = Moja_liczba(10)"
   ]
  },
  {
   "cell_type": "code",
   "execution_count": 27,
   "id": "1c21b766",
   "metadata": {},
   "outputs": [
    {
     "data": {
      "text/plain": [
       "13"
      ]
     },
     "execution_count": 27,
     "metadata": {},
     "output_type": "execute_result"
    }
   ],
   "source": [
    "a + 3"
   ]
  },
  {
   "cell_type": "code",
   "execution_count": 28,
   "id": "c86afe05",
   "metadata": {},
   "outputs": [
    {
     "data": {
      "text/plain": [
       "13"
      ]
     },
     "execution_count": 28,
     "metadata": {},
     "output_type": "execute_result"
    }
   ],
   "source": [
    "3 + a"
   ]
  },
  {
   "cell_type": "markdown",
   "id": "4f06a958",
   "metadata": {},
   "source": [
    "### Operator Walrus :="
   ]
  },
  {
   "cell_type": "code",
   "execution_count": 29,
   "id": "c09cefd9",
   "metadata": {},
   "outputs": [
    {
     "name": "stdout",
     "output_type": "stream",
     "text": [
      "Pierwsza liczba większa od 10 to 18, znajdująca się na pozycji 2.\n"
     ]
    }
   ],
   "source": [
    "liczby = [7, 3, 18, 5, 13, 8, 9]\n",
    "index = 0\n",
    "\n",
    "while index < len(liczby) and (liczba := liczby[index]) <= 10:\n",
    "    index += 1\n",
    "\n",
    "if index < len(liczby):\n",
    "   print(f\"Pierwsza liczba większa od 10 to {liczba}, znajdująca się na pozycji {index}.\")\n",
    "else:\n",
    "   print(\"Nie znaleziono liczby większej od 10 w liście.\")"
   ]
  },
  {
   "cell_type": "markdown",
   "id": "dd5c0308",
   "metadata": {},
   "source": [
    "## Ćw. 2.1.5"
   ]
  },
  {
   "cell_type": "code",
   "execution_count": 30,
   "id": "9fe24140",
   "metadata": {},
   "outputs": [],
   "source": [
    "def czysc_text(text):\n",
    "    return [i.upper() for i in text if i.isalnum()]\n",
    "\n",
    "def palindrom(text: str) -> bool:\n",
    "    text = czysc_text(text)\n",
    "    return text == text[::-1]"
   ]
  },
  {
   "cell_type": "code",
   "execution_count": 31,
   "id": "3e8806ea",
   "metadata": {},
   "outputs": [],
   "source": [
    "assert palindrom(\"A\") is True\n",
    "assert palindrom(\"AB\") is False\n",
    "assert palindrom(\"abA\") is True\n",
    "assert palindrom(\"kobyła ma mały bok\") is True\n",
    "assert palindrom(\"kobyła!? ma - mały, bok$\") is True"
   ]
  },
  {
   "cell_type": "markdown",
   "id": "8b40104a",
   "metadata": {},
   "source": [
    "### Ćw 2.1.5.5"
   ]
  },
  {
   "cell_type": "code",
   "execution_count": 32,
   "id": "a1a3ab6b",
   "metadata": {},
   "outputs": [],
   "source": [
    "class Product:\n",
    "    def __init__(self, nazwa, kcal, bialko, tluszcz, weglowodany, cena_kg, waga):\n",
    "        self.nazwa = nazwa\n",
    "        self.kcal = kcal\n",
    "        self.bialko = bialko\n",
    "        self.tluszcz = tluszcz\n",
    "        self.weglowodany = weglowodany\n",
    "        self.cena_kg = cena_kg\n",
    "        self.waga = waga\n",
    "    \n",
    "    @property\n",
    "    def koszt(self):\n",
    "        return self.waga * self.cena_kg / 1000\n",
    "    \n",
    "    def quantity(self, item):\n",
    "        return self.waga * item / 100\n",
    "    \n",
    "    def __str__(self):\n",
    "        return f\"{self.nazwa:15}, kalorie: {self.quantity(self.kcal):>6.2f}, b: {self.quantity(self.bialko):>6.2f}, t: {self.quantity(self.tluszcz):>6.2f}, w: {self.quantity(self.weglowodany):>6.2f}, waga: {self.waga:>6.2f} g, koszt: {self.koszt:>6.2f} PLN\\n\""
   ]
  },
  {
   "cell_type": "code",
   "execution_count": 33,
   "id": "08a227f3",
   "metadata": {},
   "outputs": [],
   "source": [
    "lista_produktow = []"
   ]
  },
  {
   "cell_type": "code",
   "execution_count": 34,
   "id": "bd4d7932",
   "metadata": {},
   "outputs": [],
   "source": [
    "pomidor = Product(\"pomidor\", 19, 1, 0, 4, 5.7, 350)\n",
    "ser = Product(\"ser mozarella\", 248, 18, 19, 2, 38.32, 325)\n",
    "salata = Product(\"sałata\", 13, 1, 0, 2, 3.15, 350)"
   ]
  },
  {
   "cell_type": "code",
   "execution_count": 35,
   "id": "4f194a1a",
   "metadata": {},
   "outputs": [],
   "source": [
    "lista_produktow.append(pomidor)\n",
    "lista_produktow.append(ser)\n",
    "lista_produktow.append(salata)"
   ]
  },
  {
   "cell_type": "code",
   "execution_count": 36,
   "id": "66038fc8",
   "metadata": {},
   "outputs": [],
   "source": [
    "suma_kcal = sum([x.quantity(x.kcal) for x in lista_produktow])\n",
    "suma_b = sum([x.quantity(x.bialko) for x in lista_produktow])\n",
    "suma_tluszcz = sum([x.quantity(x.tluszcz) for x in lista_produktow])\n",
    "suma_weglowodany = sum([x.quantity(x.weglowodany) for x in lista_produktow])\n",
    "suma_waga = sum([x.waga for x in lista_produktow])\n",
    "suma_koszt = sum([x.koszt for x in lista_produktow])"
   ]
  },
  {
   "cell_type": "code",
   "execution_count": 37,
   "id": "e7b7832a",
   "metadata": {},
   "outputs": [],
   "source": [
    "raport_suma = f\"{'SUMA':<15}, kalorie: {suma_kcal:>6.2f}, b: {suma_b:>6.2f}, t: {suma_tluszcz:>6.2f}, w: {suma_weglowodany:>6.2f}, waga: {suma_waga:>6.2f} g, koszt: {suma_koszt:>6.2f} PLN\""
   ]
  },
  {
   "cell_type": "code",
   "execution_count": 38,
   "id": "484a58d1",
   "metadata": {},
   "outputs": [],
   "source": [
    "def raport(lista_produktow):\n",
    "    raport = \"\"\n",
    "    for i in lista_produktow:\n",
    "        print(i)\n",
    "    raport += \"=\" * 100 + \"\\n\"\n",
    "    raport += raport_suma\n",
    "    print(raport)"
   ]
  },
  {
   "cell_type": "code",
   "execution_count": 39,
   "id": "ce692634",
   "metadata": {
    "scrolled": true
   },
   "outputs": [
    {
     "name": "stdout",
     "output_type": "stream",
     "text": [
      "pomidor        , kalorie:  66.50, b:   3.50, t:   0.00, w:  14.00, waga: 350.00 g, koszt:   2.00 PLN\n",
      "\n",
      "ser mozarella  , kalorie: 806.00, b:  58.50, t:  61.75, w:   6.50, waga: 325.00 g, koszt:  12.45 PLN\n",
      "\n",
      "sałata         , kalorie:  45.50, b:   3.50, t:   0.00, w:   7.00, waga: 350.00 g, koszt:   1.10 PLN\n",
      "\n",
      "====================================================================================================\n",
      "SUMA           , kalorie: 918.00, b:  65.50, t:  61.75, w:  27.50, waga: 1025.00 g, koszt:  15.55 PLN\n"
     ]
    }
   ],
   "source": [
    "raport(lista_produktow)"
   ]
  },
  {
   "cell_type": "markdown",
   "id": "0bb8c3f9",
   "metadata": {},
   "source": [
    "### Ćw. 2.1.6.7"
   ]
  },
  {
   "cell_type": "code",
   "execution_count": 40,
   "id": "18ade795",
   "metadata": {},
   "outputs": [],
   "source": [
    "def czy_dodatnia(n):\n",
    "    if isinstance(n, (int, float)):\n",
    "        return n > 0\n",
    "    else:\n",
    "        return False"
   ]
  },
  {
   "cell_type": "code",
   "execution_count": 41,
   "id": "03801c89",
   "metadata": {},
   "outputs": [
    {
     "data": {
      "text/plain": [
       "False"
      ]
     },
     "execution_count": 41,
     "metadata": {},
     "output_type": "execute_result"
    }
   ],
   "source": [
    "czy_dodatnia(\"a\")"
   ]
  },
  {
   "cell_type": "code",
   "execution_count": 42,
   "id": "af4a72b7",
   "metadata": {},
   "outputs": [
    {
     "name": "stdout",
     "output_type": "stream",
     "text": [
      "Help on built-in function isinstance in module builtins:\n",
      "\n",
      "isinstance(obj, class_or_tuple, /)\n",
      "    Return whether an object is an instance of a class or of a subclass thereof.\n",
      "    \n",
      "    A tuple, as in ``isinstance(x, (A, B, ...))``, may be given as the target to\n",
      "    check against. This is equivalent to ``isinstance(x, A) or isinstance(x, B)\n",
      "    or ...`` etc.\n",
      "\n"
     ]
    }
   ],
   "source": [
    "help(isinstance)"
   ]
  },
  {
   "cell_type": "code",
   "execution_count": null,
   "id": "c17f3307",
   "metadata": {},
   "outputs": [],
   "source": []
  },
  {
   "cell_type": "code",
   "execution_count": null,
   "id": "58f16365-8c48-495d-a115-ffb4ef5feb55",
   "metadata": {},
   "outputs": [],
   "source": []
  }
 ],
 "metadata": {
  "kernelspec": {
   "display_name": "Python 3 (ipykernel)",
   "language": "python",
   "name": "python3"
  },
  "language_info": {
   "codemirror_mode": {
    "name": "ipython",
    "version": 3
   },
   "file_extension": ".py",
   "mimetype": "text/x-python",
   "name": "python",
   "nbconvert_exporter": "python",
   "pygments_lexer": "ipython3",
   "version": "3.11.6"
  }
 },
 "nbformat": 4,
 "nbformat_minor": 5
}
