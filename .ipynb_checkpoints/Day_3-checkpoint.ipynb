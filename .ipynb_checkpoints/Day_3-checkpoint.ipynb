{
 "cells": [
  {
   "cell_type": "markdown",
   "id": "ac28a27d",
   "metadata": {},
   "source": [
    "ALX Room 4  do  Wszyscy 9:26\n",
    " Ćwiczenie - bezpieczne dzielenie\u000b",
    "\u000b",
    "\n",
    " Celem tego ćwiczenia jest napisanie funkcji, która bezpiecznie podzieli dwie wartości wprowadzone przez użytkownika. Użytkownik powinien mieć możliwość wprowadzenia wartości, a program powinien obsłużyć potencjalne błędy, które mogą wystąpić podczas dzielenia.\u000b",
    "\u000b",
    "    \n",
    " Napisz skrypt który w pętli przyjmuje dwa argumenty (liczby) od użytkownika (funkcja input).\u000b",
    "    \n",
    " Funkcja powinna próbować podzielić pierwszą liczbę przez drugą i zwrócić wynik.\u000b",
    "    \n",
    " Użyj bloku try/except, aby złapać błędy, które mogą wystąpić (na przykład dzielenie przez zero).\u000b",
    "    \n",
    " Jeśli druga liczba jest zerem, skrypt powinien wypisać stosowny komunikat o błędzie\u000b",
    "    \n",
    " Jeśli którykolwiek z wprowadzonych argumentów nie jest liczbą, skrypt powinien obsłużyć błąd, wyświetlić stosowny komunikat i poprosić użytkownika o ponowne wprowadzenie wartości.\u000b",
    "    \n",
    " (Opcjonalnie) Dodaj obsługę wyjątków dla innych niespodziewanych błędów, wyświetlając ogólny komunikat o błędzie.\u000b",
    "    \n",
    " Po zakończeniu, przetestuj skrypy, wprowadzając różne wartości, w tym błędne dane, aby upewnić się, że wszystkie scenariusze są prawidłowo obsługiwane.\u000b",
    "    \n",
    " Dodaj możliwość zakończenia skryptu\u000b"
   ]
  },
  {
   "cell_type": "code",
   "execution_count": 1,
   "id": "6ed2f7a2",
   "metadata": {},
   "outputs": [
    {
     "name": "stdout",
     "output_type": "stream",
     "text": [
      "Podaj liczbę:2\n",
      "Podaj liczbę:5\n"
     ]
    }
   ],
   "source": [
    "liczby = [input('Podaj liczbę:') for _ in range(2)]"
   ]
  },
  {
   "cell_type": "code",
   "execution_count": 3,
   "id": "56cec715",
   "metadata": {},
   "outputs": [],
   "source": [
    "a, b = liczby"
   ]
  },
  {
   "cell_type": "code",
   "execution_count": 2,
   "id": "776afdd6",
   "metadata": {},
   "outputs": [],
   "source": [
    "def divide_numbers() -> float:\n",
    "    while True:\n",
    "        liczby = [input('Podaj liczbę:') for _ in range(2)]\n",
    "        a, b = liczby\n",
    "        if a == 'q' or b == 'q':\n",
    "            break\n",
    "        try:\n",
    "            wynik = round(float(a) / float(b), 2)\n",
    "            return wynik\n",
    "        except ZeroDivisionError:\n",
    "            print('Nie dziel przez 0!')\n",
    "        except ValueError:\n",
    "            print('Podane wartości nie są liczbami!')\n",
    "            continue\n",
    "        except Exception as e:\n",
    "            print(f'Wystąpił inny błąd: {e}')\n",
    "        break"
   ]
  },
  {
   "cell_type": "code",
   "execution_count": 31,
   "id": "ac9b7d45",
   "metadata": {},
   "outputs": [
    {
     "name": "stdout",
     "output_type": "stream",
     "text": [
      "Podaj liczbę:4\n",
      "Podaj liczbę:t\n",
      "Podane wartości nie są liczbami!\n",
      "Podaj liczbę:4\n",
      "Podaj liczbę:8\n"
     ]
    },
    {
     "data": {
      "text/plain": [
       "0.5"
      ]
     },
     "execution_count": 31,
     "metadata": {},
     "output_type": "execute_result"
    }
   ],
   "source": [
    "divide_numbers()"
   ]
  },
  {
   "cell_type": "markdown",
   "id": "e3b7aa5a",
   "metadata": {},
   "source": [
    "#### Ćwiczenie: Kalkulator ocen"
   ]
  },
  {
   "cell_type": "code",
   "execution_count": 9,
   "id": "1f5441d2-a95e-4b4f-8dc3-2e095b0c2590",
   "metadata": {},
   "outputs": [
    {
     "name": "stdin",
     "output_type": "stream",
     "text": [
      "Podaj ocenę:  g\n"
     ]
    },
    {
     "name": "stdout",
     "output_type": "stream",
     "text": [
      "Podana wartość nie jest liczbą!\n"
     ]
    },
    {
     "name": "stdin",
     "output_type": "stream",
     "text": [
      "Podaj ocenę:  110\n"
     ]
    },
    {
     "name": "stdout",
     "output_type": "stream",
     "text": [
      "Podana wartość nie mieści się w zakresie 0 - 100\n"
     ]
    },
    {
     "name": "stdin",
     "output_type": "stream",
     "text": [
      "Podaj ocenę:  84\n"
     ]
    },
    {
     "name": "stdout",
     "output_type": "stream",
     "text": [
      "B\n"
     ]
    }
   ],
   "source": [
    "while True:\n",
    "    a = input(\"Podaj ocenę: \")\n",
    "    try:\n",
    "        a = float(a)\n",
    "        if 0 <= a <= 100:\n",
    "            if a < 60:\n",
    "                print(\"F\")\n",
    "            elif a < 70:\n",
    "                print(\"D\")\n",
    "            elif a < 80:\n",
    "                print(\"C\")\n",
    "            elif a < 90:\n",
    "                print(\"B\")\n",
    "            else:\n",
    "                print(\"A\")\n",
    "            break\n",
    "        else:\n",
    "            print(\"Podana wartość nie mieści się w zakresie 0 - 100\")\n",
    "            continue\n",
    "    except ValueError:\n",
    "        print(\"Podana wartość nie jest liczbą!\")\n",
    "        continue"
   ]
  },
  {
   "cell_type": "markdown",
   "id": "267be0c0-3ad6-4c83-a21b-9f709c55090f",
   "metadata": {},
   "source": [
    "#### Ćwiczenie Pozycja na planszy"
   ]
  },
  {
   "cell_type": "markdown",
   "id": "25b27b01-a327-4761-ab8f-897c6cb7b53a",
   "metadata": {},
   "source": [
    "Napisz program, który na podstawie pozycji gracza (x, y) na planszy w przedziale od 0 do 100 wyświetli jego przybliżone położenie (centrum, prawy górny róg, górna krawędź, . . . ) lub informację o pozycji poza planszą. Przyjmij wartość 10 jako margines krawędzi.\r\n",
    "\r\n",
    "Przykładowy komunikat programu:\r\n",
    "\r\n",
    "Podaj pozycję gracza X: 95\r\n",
    "Podaj pozycję gracza Y: 95\r\n",
    "Gracz znajduje się w prawym górnym rogu."
   ]
  },
  {
   "cell_type": "code",
   "execution_count": 18,
   "id": "4534a079-e172-414a-bd16-6e912e9ecc58",
   "metadata": {},
   "outputs": [
    {
     "name": "stdin",
     "output_type": "stream",
     "text": [
      "Podaj współrzędną gracza X lub wciśnij q, żeby wyjść: 2\n",
      "Podaj współrzędną gracza Y lub wciśnij q, żeby wyjść: 2\n"
     ]
    },
    {
     "name": "stdout",
     "output_type": "stream",
     "text": [
      "LDR\n"
     ]
    }
   ],
   "source": [
    "while True:\n",
    "    x = input('Podaj współrzędną gracza X lub wciśnij q, żeby wyjść:')\n",
    "    if x == 'q':\n",
    "        break\n",
    "    y = input('Podaj współrzędną gracza Y lub wciśnij q, żeby wyjść:')\n",
    "    if y == 'q':\n",
    "        break\n",
    "    try:\n",
    "        x = float(x)\n",
    "        y = float(y)\n",
    "        if 0 <= x <= 100 and 0 <= y <= 100:\n",
    "            if x <= 10:\n",
    "                if y <= 10:\n",
    "                    print('LDR')\n",
    "                elif y <= 90:\n",
    "                    print('LK')\n",
    "                else:\n",
    "                    print('LGR')\n",
    "            elif x <= 90:\n",
    "                if y <= 10:\n",
    "                    print('DK')\n",
    "                elif y <= 90:\n",
    "                    print('C')\n",
    "                else:\n",
    "                    print('GK')\n",
    "            elif x <= 100:\n",
    "                if y <= 10:\n",
    "                    print('PDR')\n",
    "                elif y <= 90:\n",
    "                    print('PK')\n",
    "                else:\n",
    "                    print('PGR')\n",
    "            break\n",
    "        else:\n",
    "            print(\"Podane współrzedne nie są w zakresie od 0 - 100.\")\n",
    "            continue\n",
    "    except ValueError:\n",
    "        print(\"Podana współrzędna nie jest liczbą.\")\n",
    "        continue"
   ]
  },
  {
   "cell_type": "markdown",
   "id": "55c46296-958b-4e40-82fb-d05219b9dd6a",
   "metadata": {},
   "source": [
    "#### Ćwiczenie match/case"
   ]
  },
  {
   "cell_type": "code",
   "execution_count": 19,
   "id": "2d6fc408-e8bc-42f7-94c3-297c96ef7fc8",
   "metadata": {},
   "outputs": [],
   "source": [
    "pojazdy = [\n",
    "    {\"typ\": \"samochód\", \"marka\": \"Toyota\", \"model\": \"Corolla\", \"rok_produkcji\": 2005},\n",
    "    {\"typ\": \"motocykl\", \"marka\": \"Yamaha\", \"model\": \"YZF-R3\"},\n",
    "    {\"typ\": \"samochód\", \"marka\": \"Tesla\", \"model\": \"Model X\", \"rok_produkcji\": 2020},\n",
    "    {\"typ\": \"rower\"},\n",
    "    {\"marka\": \"Kawasaki\"},\n",
    "]"
   ]
  },
  {
   "cell_type": "code",
   "execution_count": 23,
   "id": "33f8282e-fd6c-401c-86b8-2a10fcacf177",
   "metadata": {},
   "outputs": [
    {
     "name": "stdout",
     "output_type": "stream",
     "text": [
      "samochód, marka: Toyota, model: Corolla, rok: 2005\n",
      "motocykl, marka: Yamaha, model: YZF-R3\n",
      "samochód, marka: Tesla, model: Model X, rok: 2020\n",
      "rower - brak dodatkowych informacji.\n",
      "Pojazd marki Kawasaki bez wystarczających informacji o typie i modelu.\n"
     ]
    },
    {
     "data": {
      "text/plain": [
       "['samochód', 'motocykl', 'rower']"
      ]
     },
     "execution_count": 23,
     "metadata": {},
     "output_type": "execute_result"
    }
   ],
   "source": [
    "typy = []\n",
    "for pojazd in pojazdy:\n",
    "    match pojazd:\n",
    "        case {'typ': typ, 'marka': marka, 'model': model, 'rok_produkcji': rok}:\n",
    "            print(f\"{typ}, marka: {marka}, model: {model}, rok: {rok}\")\n",
    "            if typ not in typy:\n",
    "                typy.append(typ)\n",
    "        case {'typ': typ, 'marka': marka, 'model': model}:\n",
    "            print(f\"{typ}, marka: {marka}, model: {model}\")\n",
    "            if typ not in typy:\n",
    "                typy.append(typ)\n",
    "        case {'typ': typ}:\n",
    "            print(f'{typ} - brak dodatkowych informacji.')\n",
    "            if typ not in typy:\n",
    "                typy.append(typ)\n",
    "        case {'marka': marka}:\n",
    "            print(f'Pojazd marki {marka} bez wystarczających informacji o typie i modelu.')\n",
    "        case {'model': model}:\n",
    "            print(f'Pojazd o modelu {model} bez wystarczających informacji o typie i marce.')\n",
    "        case {'rok_produkcji': rok_produkcji}:\n",
    "            print(f'Pojazd o roku produkcji {rok_produkcji} bez wystarczających informacji o typie, marce i modelu.')\n",
    "        case _:\n",
    "            print(\"Nieprawidłowe dane\")\n",
    "typy"
   ]
  },
  {
   "cell_type": "code",
   "execution_count": 63,
   "id": "8ba6c381-11f9-4159-ac89-d84905cc2e5c",
   "metadata": {},
   "outputs": [],
   "source": [
    "from faker import Faker\n",
    "from faker_vehicle import VehicleProvider\n",
    "fake = Faker('pl-PL')\n",
    "fake.add_provider(VehicleProvider)"
   ]
  },
  {
   "cell_type": "code",
   "execution_count": 87,
   "id": "c7656e69-d2fb-47e9-948e-fd7186da0b50",
   "metadata": {},
   "outputs": [
    {
     "name": "stdout",
     "output_type": "stream",
     "text": [
      "1994 Dodge Caravan Passenger (Van/Minivan)\n",
      "2008 GMC Sierra 3500 HD Crew Cab (Pickup)\n",
      "2002 Volvo S80 (Sedan)\n",
      "1993 Chevrolet Corvette (Hatchback, Convertible)\n",
      "1994 Ford Econoline E150 Cargo (Van/Minivan)\n",
      "1996 Chrysler New Yorker (Sedan)\n"
     ]
    },
    {
     "data": {
      "text/plain": [
       "[{'typ': 'Van/Minivan',\n",
       "  'marka': 'Dodge',\n",
       "  'model': 'Caravan Passenger',\n",
       "  'year': '1994'},\n",
       " {'typ': 'Pickup',\n",
       "  'marka': 'GMC',\n",
       "  'model': 'Sierra 3500 HD Crew Cab',\n",
       "  'year': '2008'},\n",
       " {'typ': 'Sedan', 'marka': 'Volvo', 'model': 'S80', 'year': '2002'},\n",
       " {'typ': 'Hatchback, Convertible',\n",
       "  'marka': 'Chevrolet',\n",
       "  'model': 'Corvette',\n",
       "  'year': '1993'},\n",
       " {'typ': 'Van/Minivan',\n",
       "  'marka': 'Ford',\n",
       "  'model': 'Econoline E150 Cargo',\n",
       "  'year': '1994'},\n",
       " {'typ': 'Sedan', 'marka': 'Chrysler', 'model': 'New Yorker', 'year': '1996'}]"
      ]
     },
     "execution_count": 87,
     "metadata": {},
     "output_type": "execute_result"
    }
   ],
   "source": [
    "ile_danych = 6\n",
    "pojazdy = []\n",
    "\n",
    "for i in range(ile_danych):\n",
    "    auto = fake.vehicle_year_make_model_cat()\n",
    "    print(auto)\n",
    "    typ = auto.split('(')[-1].strip(')')\n",
    "    marka = auto.split()[1]\n",
    "    model = auto.split(' (')[0].split()[2:]\n",
    "    model = ' '.join(model)\n",
    "    year = auto.split()[0]\n",
    "    pojazdy.append({'typ':typ, 'marka': marka, 'model':model, 'year':year})\n",
    "pojazdy"
   ]
  },
  {
   "cell_type": "markdown",
   "id": "37dd5ee8-b937-47d1-be3d-83f3f9299ef7",
   "metadata": {},
   "source": [
    "#### Ćwiczenie prosta gra"
   ]
  },
  {
   "cell_type": "code",
   "execution_count": 97,
   "id": "0b7fe058-9a45-499b-9449-f46962ef6e6f",
   "metadata": {},
   "outputs": [],
   "source": [
    "import random\n",
    "import math"
   ]
  },
  {
   "cell_type": "code",
   "execution_count": 127,
   "id": "dc650d22-f3da-4bc4-9191-3057ccc5137e",
   "metadata": {},
   "outputs": [],
   "source": [
    "def odleglosc(a: list, b:list) -> float:\n",
    "    return math.sqrt((a[0] - b[0]) ** 2 + (a[1] - b[1]) ** 2)"
   ]
  },
  {
   "cell_type": "code",
   "execution_count": 128,
   "id": "c93c9c59-2585-443b-85b9-34b5e53b8de7",
   "metadata": {},
   "outputs": [],
   "source": [
    "def min_path(a: list, b:list) -> int:\n",
    "    d_x = abs(a[0] - b[0])\n",
    "    d_y = abs(a[1] - b[1])\n",
    "    return d_x + d_y"
   ]
  },
  {
   "cell_type": "code",
   "execution_count": 164,
   "id": "e28c3722-a5ec-493d-99dc-ba5267301f38",
   "metadata": {},
   "outputs": [
    {
     "name": "stdout",
     "output_type": "stream",
     "text": [
      "Twoja pozycja: [3, 5]\n",
      "Skarb pozycja: [1, 8]\n"
     ]
    },
    {
     "name": "stdin",
     "output_type": "stream",
     "text": [
      "Podaj kierunek (w, a, s, d) lub q, aby wyjść:  a\n"
     ]
    },
    {
     "name": "stdout",
     "output_type": "stream",
     "text": [
      "Twoja pozycja: [2, 5]\n"
     ]
    },
    {
     "name": "stdin",
     "output_type": "stream",
     "text": [
      "Podaj kierunek (w, a, s, d) lub q, aby wyjść:  a\n"
     ]
    },
    {
     "name": "stdout",
     "output_type": "stream",
     "text": [
      "Twoja pozycja: [1, 5]\n"
     ]
    },
    {
     "name": "stdin",
     "output_type": "stream",
     "text": [
      "Podaj kierunek (w, a, s, d) lub q, aby wyjść:  a\n"
     ]
    },
    {
     "name": "stdout",
     "output_type": "stream",
     "text": [
      "Zimno\n",
      "Twoja pozycja: [0, 5]\n"
     ]
    },
    {
     "name": "stdin",
     "output_type": "stream",
     "text": [
      "Podaj kierunek (w, a, s, d) lub q, aby wyjść:  a\n"
     ]
    },
    {
     "name": "stdout",
     "output_type": "stream",
     "text": [
      "Koniec gry, gracz poza polem.\n"
     ]
    }
   ],
   "source": [
    "while True:\n",
    "    skarb = random.sample(range(1, 11), 2)\n",
    "    loc = random.sample(range(1, 11), 2)\n",
    "    kroki = 0\n",
    "    if skarb != loc:\n",
    "        print(f'Twoja pozycja: {loc}')\n",
    "        # print(f'Skarb pozycja: {skarb}')\n",
    "        d = odleglosc(skarb, loc)\n",
    "        min_d = min_path(skarb, loc)\n",
    "        while True:\n",
    "            kier = input('Podaj kierunek (w, a, s, d) lub q, aby wyjść: ')\n",
    "            if kier == 'q':\n",
    "                break\n",
    "            if kier == 'w':\n",
    "                loc[1] += 1\n",
    "            elif kier == 'a':\n",
    "                loc[0] -= 1\n",
    "            elif kier == 's':\n",
    "                loc[1] -= 1\n",
    "            elif kier == 'd':\n",
    "                loc[0] += 1\n",
    "            else:\n",
    "                print('Niewłaściwy kierunek')\n",
    "                continue\n",
    "\n",
    "            if any(\n",
    "                [loc[0] > 10,\n",
    "                 loc[1] > 10,\n",
    "                 loc[0] < 0,\n",
    "                 loc[1] < 0]):\n",
    "                print('Koniec gry, gracz poza polem.')\n",
    "                break\n",
    "            \n",
    "            new_d = odleglosc(skarb, loc)\n",
    "            if skarb == loc:\n",
    "                print(f'Gratulacje! Znalazłeś skarb w {kroki} krokach')\n",
    "                break\n",
    "            elif new_d < d:\n",
    "                if 1 != random.randint(1, 5):\n",
    "                    print('Ciepło')\n",
    "                d = new_d\n",
    "                kroki += 1\n",
    "                print(f'Twoja pozycja: {loc}')\n",
    "                continue\n",
    "            else:\n",
    "                if 1 != random.randint(1, 5):\n",
    "                    print('Zimno')\n",
    "                d = new_d\n",
    "                kroki += 1\n",
    "                print(f'Twoja pozycja: {loc}')\n",
    "                continue\n",
    "\n",
    "            if kroki > min_d * 2:\n",
    "                skarb = random.sample(range(1, 11), 2)\n",
    "                d = odleglosc(skarb, loc)\n",
    "                min_d = min_path(skarb, loc)\n",
    "            \n",
    "            break\n",
    "        break\n",
    "    else:\n",
    "        continue"
   ]
  },
  {
   "cell_type": "markdown",
   "id": "6edd8af7-440e-460f-a31f-5ad0996da510",
   "metadata": {},
   "source": [
    "#### Ćwiczenie macierze"
   ]
  },
  {
   "cell_type": "code",
   "execution_count": 181,
   "id": "43fbb2cd-0c03-4c77-ad42-5e64e7829622",
   "metadata": {},
   "outputs": [],
   "source": [
    "m1 = [[1, 2], [3, 4]]\n",
    "m2 = [[5, 2], [3, 4]]\n",
    "m3 = [1, 2]\n",
    "m4 = [5, 2]"
   ]
  },
  {
   "cell_type": "code",
   "execution_count": 182,
   "id": "0d1cfe85-1993-4af9-9a75-0e8908b1cea9",
   "metadata": {},
   "outputs": [],
   "source": [
    "nrow = len(m1)\n",
    "ncol = len(m1[0])"
   ]
  },
  {
   "cell_type": "code",
   "execution_count": 197,
   "id": "46fb8626-e7ad-432f-b662-6b2d943af412",
   "metadata": {},
   "outputs": [],
   "source": [
    "def suma_m(m1, m2):\n",
    "    nrow1 = len(m1)\n",
    "    try:\n",
    "        ncol1 = len(m1[0])\n",
    "    except:\n",
    "        ncol1 = 0\n",
    "    nrow2 = len(m2)\n",
    "    try:\n",
    "        ncol2 = len(m2[0])\n",
    "    except:\n",
    "        ncol2 = 0\n",
    "    matrix = []\n",
    "    if nrow1 == nrow2 and ncol1 == ncol2:\n",
    "        if ncol1 != 0:\n",
    "            for i in range(nrow1):\n",
    "                inner = []\n",
    "                for j in range(ncol1):\n",
    "                    inner.append(0)\n",
    "                matrix.append(inner)\n",
    "        else:\n",
    "            for i in range(nrow1):\n",
    "                matrix.append(0)\n",
    "\n",
    "    if ncol1 != 0:\n",
    "        for i in range(nrow1):\n",
    "            for j in range(ncol1):\n",
    "                matrix[i][j] = m1[i][j] + m2[i][j]\n",
    "    else:\n",
    "        for i in range(nrow1):\n",
    "            matrix[i] = m1[i] + m2[i]\n",
    "    return matrix"
   ]
  },
  {
   "cell_type": "code",
   "execution_count": 210,
   "id": "b3d5991a-d40c-4a9e-be03-6dfac0818827",
   "metadata": {},
   "outputs": [],
   "source": [
    "def suma_m2(m1, m2):\n",
    "    final = []\n",
    "    for row1, row2 in zip(m1, m2):\n",
    "        wiersz = []\n",
    "        if not isinstance(m1[0], list):\n",
    "            final.append(row1 + row2)\n",
    "        else:\n",
    "            for i, j in zip(row1, row2):\n",
    "                wiersz.append(i + j)            \n",
    "            final.append(wiersz)\n",
    "    return final"
   ]
  },
  {
   "cell_type": "code",
   "execution_count": 211,
   "id": "d32bdebc-304c-4bfd-977b-92f6dbcf2518",
   "metadata": {},
   "outputs": [
    {
     "data": {
      "text/plain": [
       "[6, 4]"
      ]
     },
     "execution_count": 211,
     "metadata": {},
     "output_type": "execute_result"
    }
   ],
   "source": [
    "suma_m2(m3, m4)"
   ]
  },
  {
   "cell_type": "markdown",
   "id": "6bf04cee-1392-4066-99ce-a45580cdf8de",
   "metadata": {},
   "source": [
    "#### Ćwiczenie args kwargs"
   ]
  },
  {
   "cell_type": "code",
   "execution_count": 238,
   "id": "8df69acb-4670-4e51-b649-eb807034a5c8",
   "metadata": {},
   "outputs": [],
   "source": [
    "def formatuj(*args, **kwargs):\n",
    "    napis = '\\n'.join(args)\n",
    "    for k, v in kwargs.items():\n",
    "        napis = napis.replace(f'${k}', str(v))\n",
    "    return napis"
   ]
  },
  {
   "cell_type": "code",
   "execution_count": 239,
   "id": "4b08397f-7f81-4fef-9044-4b7e0ed2a158",
   "metadata": {},
   "outputs": [
    {
     "name": "stdout",
     "output_type": "stream",
     "text": [
      "koszt 10 PLN\n",
      "kwota 10 brutto\n"
     ]
    }
   ],
   "source": [
    "print(formatuj('koszt $cena PLN', 'kwota $cena brutto', cena=10))"
   ]
  },
  {
   "cell_type": "code",
   "execution_count": 235,
   "id": "75129d82-7be6-491e-8ebb-213e6da95974",
   "metadata": {},
   "outputs": [
    {
     "data": {
      "text/plain": [
       "'14\\n20\\nB\\n14'"
      ]
     },
     "execution_count": 235,
     "metadata": {},
     "output_type": "execute_result"
    }
   ],
   "source": [
    "formatuj(\"$a\", \"$A\", \"B\", \"$a\", a=14, A=20)"
   ]
  },
  {
   "cell_type": "markdown",
   "id": "d038168a-04e1-477d-9337-a4d93a609d9c",
   "metadata": {},
   "source": [
    "#### Ćwiczenie funkcje\n",
    "Utwórz lub wylosuj jeśli potrafisz listę zawierającą 20 liczb naturalnych z przedziału od 1 do 100\r\n",
    "\r\n",
    "Napisz funkcję, która zwróci True jeśli liczba jest większa lub równa 5\r\n",
    "\r\n",
    "Napisz funkcję, która zwróci True jeśli liczba jest większa niż 70\r\n",
    "\r\n",
    "Napisz funkcję, która przyjmie jako argument listę oraz te dwie funkcje odpowiednio jako wartości start i stop. Wymuś użycie nazwy parametru w wywołaniu. Funkcja ta ma zwrócić wycinek oryginalnej listy powstały poprzez zastosowanie warunków opisanych wyżej\r\n",
    "\r\n",
    "Funkcja ma działać dla dowolnej listy liczb i funkcji start i stop, które zwrócą True/False w zależności od liczby podanej na wejściu\r\n",
    "\r\n",
    "wytnij([1, 5, 10, 90], start=start, stop=stop) == [5, 10]\r\n",
    "\r\n",
    "Jeśli nie wiesz co masz zrobić, to pomęcz o to trenera. :)\r\n",
    "\r\n",
    "spróbuj wykorzystać to rozwiązanie na wybranie fragmentu napisu, który będzie się mieścił między cyframi 3 i 7 (musisz dopisac odpowiednie funkcje start i stop\r\n",
    "\r\n",
    "wytnij([\"12312456078\", start=start, stop=stop) == \"31245607\""
   ]
  },
  {
   "cell_type": "code",
   "execution_count": 254,
   "id": "074cb04e-be50-436a-8dbd-a93d28e8b451",
   "metadata": {},
   "outputs": [],
   "source": [
    "lista = random.sample(range(1, 100), 20)\n",
    "l = '1857549532'"
   ]
  },
  {
   "cell_type": "code",
   "execution_count": 274,
   "id": "bd867150-77e3-4912-ae37-b7b3e32e3afa",
   "metadata": {},
   "outputs": [],
   "source": [
    "def start(a):\n",
    "    return a >= 5\n",
    "\n",
    "def stop(a):\n",
    "    return a >= 8\n",
    "\n",
    "def wytnij(lista, *, start, stop):\n",
    "    if isinstance(lista, str):\n",
    "        l = list(lista)\n",
    "    s1 = False\n",
    "    for i, v in enumerate(l):\n",
    "        if isinstance(s1, bool):\n",
    "            if start(int(v)):\n",
    "                s1 = i\n",
    "        else:\n",
    "            if stop(int(v)):\n",
    "                s2 = i\n",
    "                break\n",
    "    if isinstance(lista, str):\n",
    "        return ''.join(l[s1:s2])\n",
    "    else:\n",
    "        return l[s1:s2]\n",
    "            "
   ]
  },
  {
   "cell_type": "code",
   "execution_count": 275,
   "id": "acc0325e-edad-4e3a-bd74-58b49a0164ac",
   "metadata": {},
   "outputs": [
    {
     "data": {
      "text/plain": [
       "'85754'"
      ]
     },
     "execution_count": 275,
     "metadata": {},
     "output_type": "execute_result"
    }
   ],
   "source": [
    "wytnij(l, start = start, stop = stop)"
   ]
  },
  {
   "cell_type": "code",
   "execution_count": null,
   "id": "235d7d9e-32eb-4115-99d6-c0c646f17d67",
   "metadata": {},
   "outputs": [],
   "source": []
  }
 ],
 "metadata": {
  "kernelspec": {
   "display_name": "Python 3 (ipykernel)",
   "language": "python",
   "name": "python3"
  },
  "language_info": {
   "codemirror_mode": {
    "name": "ipython",
    "version": 3
   },
   "file_extension": ".py",
   "mimetype": "text/x-python",
   "name": "python",
   "nbconvert_exporter": "python",
   "pygments_lexer": "ipython3",
   "version": "3.11.6"
  }
 },
 "nbformat": 4,
 "nbformat_minor": 5
}
