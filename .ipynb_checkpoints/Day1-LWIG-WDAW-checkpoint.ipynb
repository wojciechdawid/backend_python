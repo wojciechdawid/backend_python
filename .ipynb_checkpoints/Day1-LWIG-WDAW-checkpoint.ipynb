{
 "cells": [
  {
   "cell_type": "markdown",
   "id": "6c5d7081-cb2c-4202-b22a-1b2f99758eb4",
   "metadata": {},
   "source": [
    "## Powtórka materiału z Pythona"
   ]
  },
  {
   "cell_type": "code",
   "execution_count": 1,
   "id": "7f21c486-711e-49e3-b3e5-b36f51300e31",
   "metadata": {
    "scrolled": true
   },
   "outputs": [],
   "source": [
    "import os"
   ]
  },
  {
   "cell_type": "code",
   "execution_count": 2,
   "id": "916fa21d-fdce-423d-b539-19029a65b88e",
   "metadata": {},
   "outputs": [
    {
     "data": {
      "text/plain": [
       "['DirEntry',\n",
       " 'EX_OK',\n",
       " 'F_OK',\n",
       " 'GenericAlias',\n",
       " 'Mapping',\n",
       " 'MutableMapping',\n",
       " 'O_APPEND',\n",
       " 'O_BINARY',\n",
       " 'O_CREAT',\n",
       " 'O_EXCL',\n",
       " 'O_NOINHERIT',\n",
       " 'O_RANDOM',\n",
       " 'O_RDONLY',\n",
       " 'O_RDWR',\n",
       " 'O_SEQUENTIAL',\n",
       " 'O_SHORT_LIVED',\n",
       " 'O_TEMPORARY',\n",
       " 'O_TEXT',\n",
       " 'O_TRUNC',\n",
       " 'O_WRONLY',\n",
       " 'P_DETACH',\n",
       " 'P_NOWAIT',\n",
       " 'P_NOWAITO',\n",
       " 'P_OVERLAY',\n",
       " 'P_WAIT',\n",
       " 'PathLike',\n",
       " 'R_OK',\n",
       " 'SEEK_CUR',\n",
       " 'SEEK_END',\n",
       " 'SEEK_SET',\n",
       " 'TMP_MAX',\n",
       " 'W_OK',\n",
       " 'X_OK',\n",
       " '_AddedDllDirectory',\n",
       " '_Environ',\n",
       " '__all__',\n",
       " '__builtins__',\n",
       " '__doc__',\n",
       " '__file__',\n",
       " '__loader__',\n",
       " '__name__',\n",
       " '__package__',\n",
       " '__spec__',\n",
       " '_check_methods',\n",
       " '_execvpe',\n",
       " '_exists',\n",
       " '_exit',\n",
       " '_fspath',\n",
       " '_get_exports_list',\n",
       " '_walk',\n",
       " '_wrap_close',\n",
       " 'abc',\n",
       " 'abort',\n",
       " 'access',\n",
       " 'add_dll_directory',\n",
       " 'altsep',\n",
       " 'chdir',\n",
       " 'chmod',\n",
       " 'close',\n",
       " 'closerange',\n",
       " 'cpu_count',\n",
       " 'curdir',\n",
       " 'defpath',\n",
       " 'device_encoding',\n",
       " 'devnull',\n",
       " 'dup',\n",
       " 'dup2',\n",
       " 'environ',\n",
       " 'error',\n",
       " 'execl',\n",
       " 'execle',\n",
       " 'execlp',\n",
       " 'execlpe',\n",
       " 'execv',\n",
       " 'execve',\n",
       " 'execvp',\n",
       " 'execvpe',\n",
       " 'extsep',\n",
       " 'fdopen',\n",
       " 'fsdecode',\n",
       " 'fsencode',\n",
       " 'fspath',\n",
       " 'fstat',\n",
       " 'fsync',\n",
       " 'ftruncate',\n",
       " 'get_exec_path',\n",
       " 'get_handle_inheritable',\n",
       " 'get_inheritable',\n",
       " 'get_terminal_size',\n",
       " 'getcwd',\n",
       " 'getcwdb',\n",
       " 'getenv',\n",
       " 'getlogin',\n",
       " 'getpid',\n",
       " 'getppid',\n",
       " 'isatty',\n",
       " 'kill',\n",
       " 'linesep',\n",
       " 'link',\n",
       " 'listdir',\n",
       " 'lseek',\n",
       " 'lstat',\n",
       " 'makedirs',\n",
       " 'mkdir',\n",
       " 'name',\n",
       " 'open',\n",
       " 'pardir',\n",
       " 'path',\n",
       " 'pathsep',\n",
       " 'pipe',\n",
       " 'popen',\n",
       " 'putenv',\n",
       " 'read',\n",
       " 'readlink',\n",
       " 'remove',\n",
       " 'removedirs',\n",
       " 'rename',\n",
       " 'renames',\n",
       " 'replace',\n",
       " 'rmdir',\n",
       " 'scandir',\n",
       " 'sep',\n",
       " 'set_handle_inheritable',\n",
       " 'set_inheritable',\n",
       " 'spawnl',\n",
       " 'spawnle',\n",
       " 'spawnv',\n",
       " 'spawnve',\n",
       " 'st',\n",
       " 'startfile',\n",
       " 'stat',\n",
       " 'stat_result',\n",
       " 'statvfs_result',\n",
       " 'strerror',\n",
       " 'supports_bytes_environ',\n",
       " 'supports_dir_fd',\n",
       " 'supports_effective_ids',\n",
       " 'supports_fd',\n",
       " 'supports_follow_symlinks',\n",
       " 'symlink',\n",
       " 'sys',\n",
       " 'system',\n",
       " 'terminal_size',\n",
       " 'times',\n",
       " 'times_result',\n",
       " 'truncate',\n",
       " 'umask',\n",
       " 'uname_result',\n",
       " 'unlink',\n",
       " 'unsetenv',\n",
       " 'urandom',\n",
       " 'utime',\n",
       " 'waitpid',\n",
       " 'waitstatus_to_exitcode',\n",
       " 'walk',\n",
       " 'write']"
      ]
     },
     "execution_count": 2,
     "metadata": {},
     "output_type": "execute_result"
    }
   ],
   "source": [
    "dir(os)"
   ]
  },
  {
   "cell_type": "code",
   "execution_count": 3,
   "id": "1d731400-9d61-4cb0-bab8-8d3cbb06ea00",
   "metadata": {},
   "outputs": [
    {
     "name": "stdout",
     "output_type": "stream",
     "text": [
      "Help on built-in function fspath in module nt:\n",
      "\n",
      "fspath(path)\n",
      "    Return the file system path representation of the object.\n",
      "    \n",
      "    If the object is str or bytes, then allow it to pass through as-is. If the\n",
      "    object defines __fspath__(), then return the result of that method. All other\n",
      "    types raise a TypeError.\n",
      "\n"
     ]
    }
   ],
   "source": [
    "help(os.fspath)"
   ]
  },
  {
   "cell_type": "code",
   "execution_count": 4,
   "id": "89ed4055-03f3-4a3c-ad78-03630bdb77bf",
   "metadata": {},
   "outputs": [
    {
     "name": "stdout",
     "output_type": "stream",
     "text": [
      "Help on built-in function execve in module nt:\n",
      "\n",
      "execve(path, argv, env)\n",
      "    Execute an executable path with arguments, replacing current process.\n",
      "    \n",
      "    path\n",
      "      Path of executable file.\n",
      "    argv\n",
      "      Tuple or list of strings.\n",
      "    env\n",
      "      Dictionary of strings mapping to strings.\n",
      "\n"
     ]
    }
   ],
   "source": [
    "help(os.execve)"
   ]
  },
  {
   "cell_type": "code",
   "execution_count": 5,
   "id": "cc6ecec9-fa55-4454-b344-adae92740274",
   "metadata": {},
   "outputs": [
    {
     "name": "stdout",
     "output_type": "stream",
     "text": [
      "Help on built-in function get_handle_inheritable in module nt:\n",
      "\n",
      "get_handle_inheritable(handle, /)\n",
      "    Get the close-on-exe flag of the specified file descriptor.\n",
      "\n"
     ]
    }
   ],
   "source": [
    "help(os.get_handle_inheritable)"
   ]
  },
  {
   "cell_type": "markdown",
   "id": "71951329-5040-4e37-9401-b9a6d065de05",
   "metadata": {},
   "source": [
    "## 2"
   ]
  },
  {
   "cell_type": "code",
   "execution_count": 6,
   "id": "03035410-f149-4493-8b67-eacf09d7e7e2",
   "metadata": {},
   "outputs": [],
   "source": [
    "lista = [1, 2, 3, 4]"
   ]
  },
  {
   "cell_type": "code",
   "execution_count": 7,
   "id": "62cbfecb-d017-404b-993d-aa935da54740",
   "metadata": {},
   "outputs": [
    {
     "data": {
      "text/plain": [
       "['__add__',\n",
       " '__class__',\n",
       " '__class_getitem__',\n",
       " '__contains__',\n",
       " '__delattr__',\n",
       " '__delitem__',\n",
       " '__dir__',\n",
       " '__doc__',\n",
       " '__eq__',\n",
       " '__format__',\n",
       " '__ge__',\n",
       " '__getattribute__',\n",
       " '__getitem__',\n",
       " '__getstate__',\n",
       " '__gt__',\n",
       " '__hash__',\n",
       " '__iadd__',\n",
       " '__imul__',\n",
       " '__init__',\n",
       " '__init_subclass__',\n",
       " '__iter__',\n",
       " '__le__',\n",
       " '__len__',\n",
       " '__lt__',\n",
       " '__mul__',\n",
       " '__ne__',\n",
       " '__new__',\n",
       " '__reduce__',\n",
       " '__reduce_ex__',\n",
       " '__repr__',\n",
       " '__reversed__',\n",
       " '__rmul__',\n",
       " '__setattr__',\n",
       " '__setitem__',\n",
       " '__sizeof__',\n",
       " '__str__',\n",
       " '__subclasshook__',\n",
       " 'append',\n",
       " 'clear',\n",
       " 'copy',\n",
       " 'count',\n",
       " 'extend',\n",
       " 'index',\n",
       " 'insert',\n",
       " 'pop',\n",
       " 'remove',\n",
       " 'reverse',\n",
       " 'sort']"
      ]
     },
     "execution_count": 7,
     "metadata": {},
     "output_type": "execute_result"
    }
   ],
   "source": [
    "dir(lista)"
   ]
  },
  {
   "cell_type": "code",
   "execution_count": 8,
   "id": "dc7fc8a2-6669-4d3a-8984-bb988708d210",
   "metadata": {},
   "outputs": [
    {
     "name": "stdout",
     "output_type": "stream",
     "text": [
      "Help on built-in function reverse:\n",
      "\n",
      "reverse() method of builtins.list instance\n",
      "    Reverse *IN PLACE*.\n",
      "\n"
     ]
    }
   ],
   "source": [
    "help(lista.reverse)"
   ]
  },
  {
   "cell_type": "code",
   "execution_count": 9,
   "id": "59620501-51e7-4bcb-b426-b4345a18caaf",
   "metadata": {},
   "outputs": [
    {
     "name": "stdout",
     "output_type": "stream",
     "text": [
      "Help on built-in function sort:\n",
      "\n",
      "sort(*, key=None, reverse=False) method of builtins.list instance\n",
      "    Sort the list in ascending order and return None.\n",
      "    \n",
      "    The sort is in-place (i.e. the list itself is modified) and stable (i.e. the\n",
      "    order of two equal elements is maintained).\n",
      "    \n",
      "    If a key function is given, apply it once to each list item and sort them,\n",
      "    ascending or descending, according to their function values.\n",
      "    \n",
      "    The reverse flag can be set to sort in descending order.\n",
      "\n"
     ]
    }
   ],
   "source": [
    "help(lista.sort)"
   ]
  },
  {
   "cell_type": "code",
   "execution_count": 10,
   "id": "bc7e8fef-db8d-4635-affc-5c51f11119c0",
   "metadata": {},
   "outputs": [
    {
     "name": "stdout",
     "output_type": "stream",
     "text": [
      "Help on built-in function extend:\n",
      "\n",
      "extend(iterable, /) method of builtins.list instance\n",
      "    Extend list by appending elements from the iterable.\n",
      "\n"
     ]
    }
   ],
   "source": [
    "help(lista.extend)"
   ]
  },
  {
   "cell_type": "markdown",
   "id": "66205eff-23e6-4d8e-ba65-82da4754aa38",
   "metadata": {},
   "source": [
    "## 3"
   ]
  },
  {
   "cell_type": "code",
   "execution_count": 31,
   "id": "35adba29-2f3d-40ba-bd22-1fa7944d562a",
   "metadata": {},
   "outputs": [],
   "source": [
    "class Samochod:\n",
    "    def __init__(self, marka, model):\n",
    "        self.marka = marka\n",
    "        self.model = model\n",
    "\n",
    "    @property\n",
    "    def pokaz_info(self):\n",
    "        '''Zwraca stringa ze sformatowanymi danymi'''\n",
    "        return f\"Auto: {self.marka}, model: {self.model}\""
   ]
  },
  {
   "cell_type": "code",
   "execution_count": 23,
   "id": "e1c0b054-ffc7-48b9-8540-dcb28d7735ee",
   "metadata": {},
   "outputs": [
    {
     "data": {
      "text/plain": [
       "['__class__',\n",
       " '__delattr__',\n",
       " '__dict__',\n",
       " '__dir__',\n",
       " '__doc__',\n",
       " '__eq__',\n",
       " '__format__',\n",
       " '__ge__',\n",
       " '__getattribute__',\n",
       " '__getstate__',\n",
       " '__gt__',\n",
       " '__hash__',\n",
       " '__init__',\n",
       " '__init_subclass__',\n",
       " '__le__',\n",
       " '__lt__',\n",
       " '__module__',\n",
       " '__ne__',\n",
       " '__new__',\n",
       " '__reduce__',\n",
       " '__reduce_ex__',\n",
       " '__repr__',\n",
       " '__setattr__',\n",
       " '__sizeof__',\n",
       " '__str__',\n",
       " '__subclasshook__',\n",
       " '__weakref__',\n",
       " 'pokaz_info']"
      ]
     },
     "execution_count": 23,
     "metadata": {},
     "output_type": "execute_result"
    }
   ],
   "source": [
    "dir(Samochod)"
   ]
  },
  {
   "cell_type": "code",
   "execution_count": 24,
   "id": "766ef09e-ad9b-4f45-a62b-3525a55c9238",
   "metadata": {},
   "outputs": [
    {
     "name": "stdout",
     "output_type": "stream",
     "text": [
      "Help on function pokaz_info in module __main__:\n",
      "\n",
      "pokaz_info(self)\n",
      "    Zwraca stringa ze sformatowanymi danymi\n",
      "\n"
     ]
    }
   ],
   "source": [
    "help(Samochod.pokaz_info)"
   ]
  },
  {
   "cell_type": "code",
   "execution_count": 25,
   "id": "7b47de20-ca52-480c-8b26-5e194b26043c",
   "metadata": {},
   "outputs": [
    {
     "data": {
      "text/plain": [
       "['In',\n",
       " 'Out',\n",
       " 'Samochod',\n",
       " '_',\n",
       " '_14',\n",
       " '_17',\n",
       " '_2',\n",
       " '_20',\n",
       " '_23',\n",
       " '_7',\n",
       " '__',\n",
       " '___',\n",
       " '__builtin__',\n",
       " '__builtins__',\n",
       " '__doc__',\n",
       " '__loader__',\n",
       " '__name__',\n",
       " '__package__',\n",
       " '__session__',\n",
       " '__spec__',\n",
       " '_dh',\n",
       " '_i',\n",
       " '_i1',\n",
       " '_i10',\n",
       " '_i11',\n",
       " '_i12',\n",
       " '_i13',\n",
       " '_i14',\n",
       " '_i15',\n",
       " '_i16',\n",
       " '_i17',\n",
       " '_i18',\n",
       " '_i19',\n",
       " '_i2',\n",
       " '_i20',\n",
       " '_i21',\n",
       " '_i22',\n",
       " '_i23',\n",
       " '_i24',\n",
       " '_i25',\n",
       " '_i3',\n",
       " '_i4',\n",
       " '_i5',\n",
       " '_i6',\n",
       " '_i7',\n",
       " '_i8',\n",
       " '_i9',\n",
       " '_ih',\n",
       " '_ii',\n",
       " '_iii',\n",
       " '_oh',\n",
       " 'exit',\n",
       " 'get_ipython',\n",
       " 'lista',\n",
       " 'open',\n",
       " 'os',\n",
       " 'quit']"
      ]
     },
     "execution_count": 25,
     "metadata": {},
     "output_type": "execute_result"
    }
   ],
   "source": [
    "dir()"
   ]
  },
  {
   "cell_type": "code",
   "execution_count": 27,
   "id": "53d6a85c-1389-42b4-bed8-44faca30690d",
   "metadata": {},
   "outputs": [
    {
     "data": {
      "text/plain": [
       "\u001b[1;31mSignature:\u001b[0m \u001b[0mSamochod\u001b[0m\u001b[1;33m.\u001b[0m\u001b[0mpokaz_info\u001b[0m\u001b[1;33m(\u001b[0m\u001b[0mself\u001b[0m\u001b[1;33m)\u001b[0m\u001b[1;33m\u001b[0m\u001b[1;33m\u001b[0m\u001b[0m\n",
       "\u001b[1;31mSource:\u001b[0m   \n",
       "    \u001b[1;32mdef\u001b[0m \u001b[0mpokaz_info\u001b[0m\u001b[1;33m(\u001b[0m\u001b[0mself\u001b[0m\u001b[1;33m)\u001b[0m\u001b[1;33m:\u001b[0m\u001b[1;33m\n",
       "\u001b[0m        \u001b[1;34m'''Zwraca stringa ze sformatowanymi danymi'''\u001b[0m\u001b[1;33m\n",
       "\u001b[0m        \u001b[1;32mreturn\u001b[0m \u001b[1;34mf\"Auto: {self.marka}, model: {self.model}\"\u001b[0m\u001b[1;33m\u001b[0m\u001b[1;33m\u001b[0m\u001b[0m\n",
       "\u001b[1;31mFile:\u001b[0m      c:\\users\\wdawid\\appdata\\local\\temp\\ipykernel_30576\\273003075.py\n",
       "\u001b[1;31mType:\u001b[0m      function"
      ]
     },
     "metadata": {},
     "output_type": "display_data"
    }
   ],
   "source": [
    "Samochod.pokaz_info??"
   ]
  },
  {
   "cell_type": "code",
   "execution_count": 32,
   "id": "25febba2-dda6-4130-8820-5d74498ec4fd",
   "metadata": {},
   "outputs": [],
   "source": [
    "auto1 = Samochod(\"BMW\", \"XC90\")"
   ]
  },
  {
   "cell_type": "code",
   "execution_count": 33,
   "id": "a7abfa7e-d6f7-4788-bc94-b2dccecd7e93",
   "metadata": {},
   "outputs": [
    {
     "data": {
      "text/plain": [
       "'Auto: BMW, model: XC90'"
      ]
     },
     "execution_count": 33,
     "metadata": {},
     "output_type": "execute_result"
    }
   ],
   "source": [
    "auto1.pokaz_info"
   ]
  },
  {
   "cell_type": "markdown",
   "id": "d7d47ca5-60f1-4084-9074-59935dd335af",
   "metadata": {},
   "source": [
    "### ćw 1.3.11"
   ]
  },
  {
   "cell_type": "code",
   "execution_count": 35,
   "id": "219dc790-c24f-42f2-8ed1-8ee9fef63212",
   "metadata": {},
   "outputs": [
    {
     "ename": "SyntaxError",
     "evalue": "Missing parentheses in call to 'print'. Did you mean print(...)? (1636068069.py, line 1)",
     "output_type": "error",
     "traceback": [
      "\u001b[1;36m  Cell \u001b[1;32mIn[35], line 1\u001b[1;36m\u001b[0m\n\u001b[1;33m    print \"pies\"\u001b[0m\n\u001b[1;37m    ^\u001b[0m\n\u001b[1;31mSyntaxError\u001b[0m\u001b[1;31m:\u001b[0m Missing parentheses in call to 'print'. Did you mean print(...)?\n"
     ]
    }
   ],
   "source": [
    "print \"pies\""
   ]
  },
  {
   "cell_type": "code",
   "execution_count": 36,
   "id": "d5def207-59fa-4db1-8431-9b92f24c4b69",
   "metadata": {},
   "outputs": [],
   "source": [
    "print = 5"
   ]
  },
  {
   "cell_type": "code",
   "execution_count": 37,
   "id": "49b491b6-eb88-4bd4-a46a-e91aaad8b2dc",
   "metadata": {},
   "outputs": [
    {
     "data": {
      "text/plain": [
       "5"
      ]
     },
     "execution_count": 37,
     "metadata": {},
     "output_type": "execute_result"
    }
   ],
   "source": [
    "print"
   ]
  },
  {
   "cell_type": "code",
   "execution_count": 38,
   "id": "7b39e241-76d4-48b8-8c44-a03907d4e0af",
   "metadata": {},
   "outputs": [],
   "source": [
    "print = __builtins__.print"
   ]
  },
  {
   "cell_type": "code",
   "execution_count": 39,
   "id": "1ec60edc-a400-4bd7-84d1-9727f24fd6e4",
   "metadata": {},
   "outputs": [
    {
     "name": "stdout",
     "output_type": "stream",
     "text": [
      "5\n"
     ]
    }
   ],
   "source": [
    "print(5)"
   ]
  },
  {
   "cell_type": "code",
   "execution_count": 40,
   "id": "5e4918d4-f1b5-4e79-a0d7-fdd1d4f1f746",
   "metadata": {},
   "outputs": [
    {
     "ename": "SyntaxError",
     "evalue": "Missing parentheses in call to 'print'. Did you mean print(...)? (1206750932.py, line 1)",
     "output_type": "error",
     "traceback": [
      "\u001b[1;36m  Cell \u001b[1;32mIn[40], line 1\u001b[1;36m\u001b[0m\n\u001b[1;33m    print 5\u001b[0m\n\u001b[1;37m    ^\u001b[0m\n\u001b[1;31mSyntaxError\u001b[0m\u001b[1;31m:\u001b[0m Missing parentheses in call to 'print'. Did you mean print(...)?\n"
     ]
    }
   ],
   "source": [
    "print 5"
   ]
  },
  {
   "cell_type": "code",
   "execution_count": 42,
   "id": "7b79a1e2-0c3f-40ff-9524-49b46a6553ae",
   "metadata": {},
   "outputs": [
    {
     "data": {
      "text/plain": [
       "'print'"
      ]
     },
     "execution_count": 42,
     "metadata": {},
     "output_type": "execute_result"
    }
   ],
   "source": [
    "print.__name__"
   ]
  },
  {
   "cell_type": "markdown",
   "id": "fe5ca24d-004d-40b6-be0f-b5a83f6cc7d2",
   "metadata": {},
   "source": [
    "## __add__ i __radd__"
   ]
  },
  {
   "cell_type": "code",
   "execution_count": 45,
   "id": "2500c402-d917-4030-8d61-8ec94d9ec3d2",
   "metadata": {},
   "outputs": [],
   "source": [
    "class Moja_liczba:\n",
    "    def __init__(self, value):\n",
    "        self.value = value\n",
    "\n",
    "    def __add__(self, other):\n",
    "        return self.value + other\n",
    "\n",
    "    def __radd__(self, other):\n",
    "        return self.__add__(other)"
   ]
  },
  {
   "cell_type": "code",
   "execution_count": 46,
   "id": "83308604-dbd7-4f49-9290-729b1ac0ce57",
   "metadata": {},
   "outputs": [],
   "source": [
    "a = Moja_liczba(10)"
   ]
  },
  {
   "cell_type": "code",
   "execution_count": 47,
   "id": "99a66ec8-16c2-4058-893e-ef34160b6117",
   "metadata": {},
   "outputs": [
    {
     "data": {
      "text/plain": [
       "13"
      ]
     },
     "execution_count": 47,
     "metadata": {},
     "output_type": "execute_result"
    }
   ],
   "source": [
    "a + 3"
   ]
  },
  {
   "cell_type": "code",
   "execution_count": 48,
   "id": "8a9264d7-3126-4cd6-92a4-d4ed883c72c4",
   "metadata": {},
   "outputs": [
    {
     "data": {
      "text/plain": [
       "13"
      ]
     },
     "execution_count": 48,
     "metadata": {},
     "output_type": "execute_result"
    }
   ],
   "source": [
    "3 + a"
   ]
  },
  {
   "cell_type": "markdown",
   "id": "4ef7b9aa-021f-4b2f-9a6b-450eeb5efba1",
   "metadata": {},
   "source": [
    "### Operator Walrus :="
   ]
  },
  {
   "cell_type": "code",
   "execution_count": 95,
   "id": "b563f1ac-3df3-483e-9bab-e4213b830657",
   "metadata": {},
   "outputs": [
    {
     "name": "stdout",
     "output_type": "stream",
     "text": [
      "Pierwsza liczba większa od 10 to 18, znajdująca się na pozycji 2.\n"
     ]
    }
   ],
   "source": [
    "liczby = [7, 3, 18, 5, 13, 8, 9]\n",
    "index = 0\n",
    "\n",
    "while index < len(liczby) and (liczba := liczby[index]) <= 10:\n",
    "    index += 1\n",
    "\n",
    "if index < len(liczby):\n",
    "   print(f\"Pierwsza liczba większa od 10 to {liczba}, znajdująca się na pozycji {index}.\")\n",
    "else:\n",
    "   print(\"Nie znaleziono liczby większej od 10 w liście.\")"
   ]
  },
  {
   "cell_type": "markdown",
   "id": "073306e3-7550-4c35-8dc2-ac16478c5885",
   "metadata": {},
   "source": [
    "## Ćw. 2.1.5"
   ]
  },
  {
   "cell_type": "code",
   "execution_count": 150,
   "id": "72339e67-2da1-471b-8afc-f1bc6f3ae579",
   "metadata": {},
   "outputs": [],
   "source": [
    "def czysc_text(text):\n",
    "    return [i.upper() for i in text if i.isalnum()]\n",
    "\n",
    "def palindrom(text: str) -> bool:\n",
    "    text = czysc_text(text)\n",
    "    return text == text[::-1]"
   ]
  },
  {
   "cell_type": "code",
   "execution_count": 151,
   "id": "7a787f04-fa42-4430-8063-5d1e306fb457",
   "metadata": {},
   "outputs": [],
   "source": [
    "assert palindrom(\"A\") is True\n",
    "assert palindrom(\"AB\") is False\n",
    "assert palindrom(\"abA\") is True\n",
    "assert palindrom(\"kobyła ma mały bok\") is True\n",
    "assert palindrom(\"kobyła!? ma - mały, bok$\") is True"
   ]
  },
  {
   "cell_type": "markdown",
   "id": "ba3a6c29-0980-48b5-9899-9c6d557cedad",
   "metadata": {},
   "source": [
    "### Ćw 2.1.5.5"
   ]
  },
  {
   "cell_type": "code",
   "execution_count": 152,
   "id": "01be6a98-180a-40e6-8216-48842b26b722",
   "metadata": {},
   "outputs": [],
   "source": [
    "products = {\n",
    "    \"nazwa\": [\"pomidor\", \"ser mozarella\", \"sałata\"],\n",
    "    \"kCal\": [19, 248, 13],\n",
    "    \"białko\": [1, 18, 1],\n",
    "    \"tłuszcz\": [0, 19, 0],\n",
    "    \"węglowodany\": [4, 2, 2],\n",
    "    \"cena / kg\": [5.7, 38.32, 3.15]\n",
    "}"
   ]
  },
  {
   "cell_type": "code",
   "execution_count": 154,
   "id": "5f74f7ff-fc4a-4367-969b-ed9c35f81eee",
   "metadata": {},
   "outputs": [],
   "source": [
    "import pandas as pd"
   ]
  },
  {
   "cell_type": "code",
   "execution_count": 157,
   "id": "0332a8df-4820-4c3e-8fa1-25f07b97e99c",
   "metadata": {},
   "outputs": [
    {
     "data": {
      "text/html": [
       "<div>\n",
       "<style scoped>\n",
       "    .dataframe tbody tr th:only-of-type {\n",
       "        vertical-align: middle;\n",
       "    }\n",
       "\n",
       "    .dataframe tbody tr th {\n",
       "        vertical-align: top;\n",
       "    }\n",
       "\n",
       "    .dataframe thead th {\n",
       "        text-align: right;\n",
       "    }\n",
       "</style>\n",
       "<table border=\"1\" class=\"dataframe\">\n",
       "  <thead>\n",
       "    <tr style=\"text-align: right;\">\n",
       "      <th></th>\n",
       "      <th>nazwa</th>\n",
       "      <th>kCal</th>\n",
       "      <th>białko</th>\n",
       "      <th>tłuszcz</th>\n",
       "      <th>węglowodany</th>\n",
       "      <th>cena / kg</th>\n",
       "    </tr>\n",
       "  </thead>\n",
       "  <tbody>\n",
       "    <tr>\n",
       "      <th>0</th>\n",
       "      <td>pomidor</td>\n",
       "      <td>19</td>\n",
       "      <td>1</td>\n",
       "      <td>0</td>\n",
       "      <td>4</td>\n",
       "      <td>5.70</td>\n",
       "    </tr>\n",
       "    <tr>\n",
       "      <th>1</th>\n",
       "      <td>ser mozarella</td>\n",
       "      <td>248</td>\n",
       "      <td>18</td>\n",
       "      <td>19</td>\n",
       "      <td>2</td>\n",
       "      <td>38.32</td>\n",
       "    </tr>\n",
       "    <tr>\n",
       "      <th>2</th>\n",
       "      <td>sałata</td>\n",
       "      <td>13</td>\n",
       "      <td>1</td>\n",
       "      <td>0</td>\n",
       "      <td>2</td>\n",
       "      <td>3.15</td>\n",
       "    </tr>\n",
       "  </tbody>\n",
       "</table>\n",
       "</div>"
      ],
      "text/plain": [
       "           nazwa  kCal  białko  tłuszcz  węglowodany  cena / kg\n",
       "0        pomidor    19       1        0            4       5.70\n",
       "1  ser mozarella   248      18       19            2      38.32\n",
       "2         sałata    13       1        0            2       3.15"
      ]
     },
     "execution_count": 157,
     "metadata": {},
     "output_type": "execute_result"
    }
   ],
   "source": [
    "df = pd.DataFrame(products)\n",
    "df"
   ]
  },
  {
   "cell_type": "code",
   "execution_count": 171,
   "id": "ea4b9bd6-832f-4b42-95dd-a46551421fe8",
   "metadata": {},
   "outputs": [
    {
     "data": {
      "text/plain": [
       "2    3.15\n",
       "Name: cena / kg, dtype: float64"
      ]
     },
     "execution_count": 171,
     "metadata": {},
     "output_type": "execute_result"
    }
   ],
   "source": [
    "df[df.nazwa == \"sałata\"][\"cena / kg\"]"
   ]
  },
  {
   "cell_type": "code",
   "execution_count": 177,
   "id": "54778d40-0f38-40c6-86d7-342b8c85f2ef",
   "metadata": {},
   "outputs": [
    {
     "name": "stdout",
     "output_type": "stream",
     "text": [
      "Podaj wagę poszczególnych składników:\n",
      "0\n"
     ]
    },
    {
     "name": "stdin",
     "output_type": "stream",
     "text": [
      "Podaj wagę w gramach składnika pomidor 350\n"
     ]
    },
    {
     "name": "stdout",
     "output_type": "stream",
     "text": [
      "1\n"
     ]
    },
    {
     "name": "stdin",
     "output_type": "stream",
     "text": [
      "Podaj wagę w gramach składnika ser mozarella 325\n"
     ]
    },
    {
     "name": "stdout",
     "output_type": "stream",
     "text": [
      "2\n"
     ]
    },
    {
     "name": "stdin",
     "output_type": "stream",
     "text": [
      "Podaj wagę w gramach składnika sałata 350\n"
     ]
    },
    {
     "name": "stdout",
     "output_type": "stream",
     "text": [
      "[350.0, 325.0, 350.0]\n"
     ]
    }
   ],
   "source": [
    "print(\"Podaj wagę poszczególnych składników:\")\n",
    "wagi = []\n",
    "for i in df.index:\n",
    "    print(i)\n",
    "    name = df.iloc[i].nazwa\n",
    "    waga = float(input(f\"Podaj wagę w gramach składnika {name}\"))\n",
    "    wagi.append(waga)\n",
    "print(wagi)"
   ]
  },
  {
   "cell_type": "code",
   "execution_count": 190,
   "id": "5ac21b34-a281-43e8-a6b3-5f18a4bc8a73",
   "metadata": {},
   "outputs": [
    {
     "name": "stdout",
     "output_type": "stream",
     "text": [
      "pomidor        , kalorie: 0\n",
      "ser mozarella  , kalorie: 1\n",
      "sałata         , kalorie: 2\n"
     ]
    }
   ],
   "source": [
    "for i in df.index:\n",
    "    print(f\"{df.iloc[i].nazwa:15}, kalorie: {i}\")"
   ]
  },
  {
   "cell_type": "code",
   "execution_count": 186,
   "id": "db466726-43c0-4c56-ba3f-555791d11e74",
   "metadata": {},
   "outputs": [
    {
     "data": {
      "text/plain": [
       "19"
      ]
     },
     "execution_count": 186,
     "metadata": {},
     "output_type": "execute_result"
    }
   ],
   "source": [
    "df.iloc[0][\"kCal\"]"
   ]
  },
  {
   "cell_type": "code",
   "execution_count": null,
   "id": "4ca4d889-22f2-4aac-acd1-ca3880d7913c",
   "metadata": {},
   "outputs": [],
   "source": []
  }
 ],
 "metadata": {
  "kernelspec": {
   "display_name": "Python 3 (ipykernel)",
   "language": "python",
   "name": "python3"
  },
  "language_info": {
   "codemirror_mode": {
    "name": "ipython",
    "version": 3
   },
   "file_extension": ".py",
   "mimetype": "text/x-python",
   "name": "python",
   "nbconvert_exporter": "python",
   "pygments_lexer": "ipython3",
   "version": "3.11.6"
  }
 },
 "nbformat": 4,
 "nbformat_minor": 5
}
